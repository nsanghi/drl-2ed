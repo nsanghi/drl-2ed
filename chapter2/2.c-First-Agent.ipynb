{
 "cells": [
  {
   "cell_type": "markdown",
   "metadata": {
    "id": "hyyN-2qyK_T2"
   },
   "source": [
    "# Train your First Agent\n",
    "\n",
    "In this Notebook we will train the 2nd agent. yet another environment, train the agent and then share the result using Huggingface ecosystem. We will be using following libraries:\n",
    "\n",
    "1. `gymnasium` - which we saw in Listing 2.1.  [gymnasium](https://gymnasium.farama.org/) is a standard API for reinforcement learning, and a diverse collection of reference environments.\n",
    "2. While, to gain understanding, we will be writing our own implementation code for lots of algorithms taught in the book, for actual work it makes sense to use standard libraries for all such RL tasks. One such library is [`Stable Baselines3 SB3`](https://stable-baselines3.readthedocs.io/en/master/) which is a set of reliable implementations of reinforcement learning algorithms in PyTorch. Accompanying this there is another library[`RL Baseline Zoo`](https://github.com/DLR-RM/rl-baselines3-zoo) which provides a collection of pre-trained agents, scripts for training, evaluating agents, tuning hyperparameters, plotting results and recording.\n",
    "3. We will also be using Huggingface to host the trained agents and be able to share the results with others. The book walks you through details of what is Huggingface and what all is available under huggingface ecosystem. In this book, we will be using a subset of the capabilities in huggingface. For now we will be using it to upload trained agents and demo videos so that the same can be shared with others. We will be using [`Huggingface sb3`](https://github.com/huggingface/huggingface_sb3) which is a library to load and upload Stable-baselines3.  models from the Hub. Before we can use it, we need a login to be created on [`Huggingface`](https://huggingface.co/join). You can follow the link to create an account."
   ]
  },
  {
   "cell_type": "markdown",
   "metadata": {
    "id": "gpyVcmMPIMJZ"
   },
   "source": [
    "## Running in Colab/Kaggle\n",
    "\n",
    "If you are running this on Colab or Kaggle, please uncomment below cell and run this to install required dependencies."
   ]
  },
  {
   "cell_type": "code",
   "execution_count": null,
   "metadata": {},
   "outputs": [],
   "source": [
    "#uncomment and execute this cell to install all the the dependencies if running in Google Colab or Kaggle\n",
    "\n",
    "# !apt-get update \n",
    "# !apt-get install -y swig cmake ffmpeg freeglut3-dev xvfb"
   ]
  },
  {
   "cell_type": "code",
   "execution_count": null,
   "metadata": {
    "id": "gWskDE2c9WoN"
   },
   "outputs": [],
   "source": [
    "#uncomment and execute this cell to install all the the dependencies if running in Google Colab or Kaggle\n",
    "\n",
    "# !pip install \"box2d-py==2.3.8\"\n",
    "# !pip install \"stable-baselines3[extra]==2.1.0\"\n",
    "# !pip install \"huggingface_sb3>=3.0\"\n",
    "# !pip install \"moviepy==1.0.3\""
   ]
  },
  {
   "cell_type": "markdown",
   "metadata": {
    "id": "FtY8FhliLsGm"
   },
   "source": [
    "## Import policy, RL agent\n",
    "\n",
    "We will using DQN (Deep Q Network) policy to train the agent. For now we will treat this as a black box, diving deeper into it in a subsequent chapter."
   ]
  },
  {
   "cell_type": "code",
   "execution_count": 1,
   "metadata": {
    "colab": {
     "base_uri": "https://localhost:8080/"
    },
    "id": "BIedd7Pz9sOs",
    "outputId": "a0082d96-8669-4b40-d9ce-6cffcc9d3f96"
   },
   "outputs": [
    {
     "name": "stderr",
     "output_type": "stream",
     "text": [
      "2024-03-04 19:18:14.826045: I tensorflow/core/util/port.cc:113] oneDNN custom operations are on. You may see slightly different numerical results due to floating-point round-off errors from different computation orders. To turn them off, set the environment variable `TF_ENABLE_ONEDNN_OPTS=0`.\n",
      "2024-03-04 19:18:14.835375: I external/local_tsl/tsl/cuda/cudart_stub.cc:31] Could not find cuda drivers on your machine, GPU will not be used.\n",
      "2024-03-04 19:18:15.017311: E external/local_xla/xla/stream_executor/cuda/cuda_dnn.cc:9261] Unable to register cuDNN factory: Attempting to register factory for plugin cuDNN when one has already been registered\n",
      "2024-03-04 19:18:15.017435: E external/local_xla/xla/stream_executor/cuda/cuda_fft.cc:607] Unable to register cuFFT factory: Attempting to register factory for plugin cuFFT when one has already been registered\n",
      "2024-03-04 19:18:15.028926: E external/local_xla/xla/stream_executor/cuda/cuda_blas.cc:1515] Unable to register cuBLAS factory: Attempting to register factory for plugin cuBLAS when one has already been registered\n",
      "2024-03-04 19:18:15.072989: I external/local_tsl/tsl/cuda/cudart_stub.cc:31] Could not find cuda drivers on your machine, GPU will not be used.\n",
      "2024-03-04 19:18:15.074058: I tensorflow/core/platform/cpu_feature_guard.cc:182] This TensorFlow binary is optimized to use available CPU instructions in performance-critical operations.\n",
      "To enable the following instructions: AVX2 AVX_VNNI FMA, in other operations, rebuild TensorFlow with the appropriate compiler flags.\n",
      "2024-03-04 19:18:18.173572: W tensorflow/compiler/tf2tensorrt/utils/py_utils.cc:38] TF-TRT Warning: Could not find TensorRT\n"
     ]
    }
   ],
   "source": [
    "import gymnasium as gym\n",
    "\n",
    "from stable_baselines3 import DQN"
   ]
  },
  {
   "cell_type": "markdown",
   "metadata": {
    "id": "RapkYvTXL7Cd"
   },
   "source": [
    "## Create the Gym env and instantiate the agent\n",
    "\n",
    "For this example, we will use Lunar Lander environment.\n",
    "\n",
    "\"Landing outside landing pad is possible. Fuel is infinite, so an agent can learn to fly and then land on its first attempt. Four discrete actions available: do nothing, fire left orientation engine, fire main engine, fire right orientation engine. \"\n",
    "\n",
    "[Lunar Lander environment](https://gymnasium.farama.org/environments/box2d/lunar_lander/)\n",
    "\n",
    "![Lunar Lander](https://gymnasium.farama.org/_images/lunar_lander.gif)\n",
    "\n",
    "\n",
    "We chose the MlpPolicy because input of Lunar Lander is a feature vector, not images. The type of action to use (discrete/continuous) will be automatically deduced from the environment action space\n",
    "\n"
   ]
  },
  {
   "cell_type": "code",
   "execution_count": 2,
   "metadata": {
    "colab": {
     "base_uri": "https://localhost:8080/"
    },
    "id": "pUWGZp3i9wyf",
    "outputId": "af792e1a-17cb-4048-b31d-0fad4426f626"
   },
   "outputs": [
    {
     "name": "stdout",
     "output_type": "stream",
     "text": [
      "Using cpu device\n",
      "Creating environment from the given name 'LunarLander-v2'\n",
      "Wrapping the env with a `Monitor` wrapper\n",
      "Wrapping the env in a DummyVecEnv.\n"
     ]
    }
   ],
   "source": [
    "model = DQN(\n",
    "    \"MlpPolicy\",\n",
    "    \"LunarLander-v2\",\n",
    "    verbose=1,\n",
    "    exploration_final_eps=0.1,\n",
    "    target_update_interval=250,\n",
    ")"
   ]
  },
  {
   "cell_type": "markdown",
   "metadata": {
    "id": "4efFdrQ7MBvl"
   },
   "source": [
    "We load a helper function to evaluate the agent:"
   ]
  },
  {
   "cell_type": "code",
   "execution_count": 3,
   "metadata": {
    "id": "PeaVBGuJwK97"
   },
   "outputs": [],
   "source": [
    "from stable_baselines3.common.evaluation import evaluate_policy"
   ]
  },
  {
   "cell_type": "markdown",
   "metadata": {
    "id": "zjEVOIY8NVeK"
   },
   "source": [
    "Let's evaluate the un-trained agent, this should be a random agent."
   ]
  },
  {
   "cell_type": "code",
   "execution_count": 4,
   "metadata": {
    "colab": {
     "base_uri": "https://localhost:8080/"
    },
    "id": "xDHLMA6NFk95",
    "outputId": "0605d334-37f8-4ea6-dbb8-5179bfeb28dc"
   },
   "outputs": [
    {
     "name": "stderr",
     "output_type": "stream",
     "text": [
      "/opt/conda/lib/python3.11/site-packages/stable_baselines3/common/evaluation.py:67: UserWarning: Evaluation environment is not wrapped with a ``Monitor`` wrapper. This may result in reporting modified episode lengths and rewards, if other wrappers happen to modify these. Consider wrapping environment first with ``Monitor`` wrapper.\n",
      "  warnings.warn(\n"
     ]
    },
    {
     "name": "stdout",
     "output_type": "stream",
     "text": [
      "mean_reward=-280.97 +/- 55.9568993063511\n"
     ]
    }
   ],
   "source": [
    "# Separate env for evaluation\n",
    "eval_env = gym.make(\"LunarLander-v2\")\n",
    "\n",
    "# Random Agent, before training\n",
    "mean_reward, std_reward = evaluate_policy(\n",
    "    model,\n",
    "    eval_env,\n",
    "    n_eval_episodes=10,\n",
    "    deterministic=True,\n",
    ")\n",
    "\n",
    "print(f\"mean_reward={mean_reward:.2f} +/- {std_reward}\")"
   ]
  },
  {
   "cell_type": "markdown",
   "metadata": {
    "id": "r5UoXTZPNdFE"
   },
   "source": [
    "## Train the agent and save it\n",
    "\n",
    "Warning: this may take a while"
   ]
  },
  {
   "cell_type": "code",
   "execution_count": 11,
   "metadata": {
    "colab": {
     "base_uri": "https://localhost:8080/",
     "height": 241,
     "referenced_widgets": [
      "1489b32e36794bb0ad04f8250cba921a",
      "060c33f79563429983f38920ea56501d"
     ]
    },
    "id": "e4cfSXIB-pTF",
    "outputId": "fc800a57-0740-47d2-f63a-6fd43df5c0f6"
   },
   "outputs": [
    {
     "data": {
      "application/vnd.jupyter.widget-view+json": {
       "model_id": "1489b32e36794bb0ad04f8250cba921a",
       "version_major": 2,
       "version_minor": 0
      },
      "text/plain": [
       "Output()"
      ]
     },
     "metadata": {},
     "output_type": "display_data"
    },
    {
     "name": "stdout",
     "output_type": "stream",
     "text": [
      "----------------------------------\n",
      "| rollout/            |          |\n",
      "|    ep_len_mean      | 93.1     |\n",
      "|    ep_rew_mean      | -194     |\n",
      "|    exploration_rate | 0.1      |\n",
      "| time/               |          |\n",
      "|    episodes         | 400      |\n",
      "|    fps              | 3052     |\n",
      "|    time_elapsed     | 12       |\n",
      "|    total_timesteps  | 36948    |\n",
      "----------------------------------\n"
     ]
    },
    {
     "data": {
      "text/html": [
       "<pre style=\"white-space:pre;overflow-x:auto;line-height:normal;font-family:Menlo,'DejaVu Sans Mono',consolas,'Courier New',monospace\"></pre>\n"
      ],
      "text/plain": []
     },
     "metadata": {},
     "output_type": "display_data"
    },
    {
     "data": {
      "text/html": [
       "<pre style=\"white-space:pre;overflow-x:auto;line-height:normal;font-family:Menlo,'DejaVu Sans Mono',consolas,'Courier New',monospace\">\n",
       "</pre>\n"
      ],
      "text/plain": [
       "\n"
      ]
     },
     "metadata": {},
     "output_type": "display_data"
    }
   ],
   "source": [
    "# Train the agent\n",
    "model.learn(total_timesteps=int(1e5), log_interval=400, progress_bar=True)\n",
    "# Save the agent\n",
    "model.save(\"dqn_lunar\")\n",
    "del model  # delete trained model to demonstrate loading"
   ]
  },
  {
   "cell_type": "markdown",
   "metadata": {
    "id": "T31dZJYNrJwF"
   },
   "source": [
    "## Load the trained agent"
   ]
  },
  {
   "cell_type": "code",
   "execution_count": 3,
   "metadata": {
    "id": "K1ExgtyZrIA6"
   },
   "outputs": [],
   "source": [
    "model = DQN.load(\"dqn_lunar\")"
   ]
  },
  {
   "cell_type": "code",
   "execution_count": 5,
   "metadata": {
    "colab": {
     "base_uri": "https://localhost:8080/"
    },
    "id": "ygl_gVmV_QP7",
    "outputId": "a9e4e267-0b20-40c0-83c7-73c7de84856c"
   },
   "outputs": [
    {
     "name": "stdout",
     "output_type": "stream",
     "text": [
      "mean_reward=-382.94 +/- 178.20583071998757\n"
     ]
    }
   ],
   "source": [
    "# Evaluate the trained agent\n",
    "mean_reward, std_reward = evaluate_policy(model, eval_env, n_eval_episodes=10, deterministic=True)\n",
    "\n",
    "print(f\"mean_reward={mean_reward:.2f} +/- {std_reward}\")"
   ]
  },
  {
   "cell_type": "markdown",
   "metadata": {
    "id": "AdlkHUBVIMJf"
   },
   "source": [
    "## Record the video of trained agent"
   ]
  },
  {
   "cell_type": "code",
   "execution_count": 6,
   "metadata": {
    "colab": {
     "base_uri": "https://localhost:8080/"
    },
    "id": "aQDZI5VEGnUq",
    "outputId": "edc264a2-da02-4604-8c3c-984e15865e84"
   },
   "outputs": [
    {
     "name": "stdout",
     "output_type": "stream",
     "text": [
      "Saving video to /workspaces/drl-2ed/chapter2/logs/videos/random-agent-LunarLander-v2-step-0-to-step-1000.mp4\n",
      "Moviepy - Building video /workspaces/drl-2ed/chapter2/logs/videos/random-agent-LunarLander-v2-step-0-to-step-1000.mp4.\n",
      "Moviepy - Writing video /workspaces/drl-2ed/chapter2/logs/videos/random-agent-LunarLander-v2-step-0-to-step-1000.mp4\n",
      "\n"
     ]
    },
    {
     "name": "stderr",
     "output_type": "stream",
     "text": [
      "                                                                "
     ]
    },
    {
     "name": "stdout",
     "output_type": "stream",
     "text": [
      "Moviepy - Done !\n",
      "Moviepy - video ready /workspaces/drl-2ed/chapter2/logs/videos/random-agent-LunarLander-v2-step-0-to-step-1000.mp4\n"
     ]
    },
    {
     "name": "stderr",
     "output_type": "stream",
     "text": [
      "\r"
     ]
    }
   ],
   "source": [
    "import gymnasium as gym\n",
    "from stable_baselines3.common.vec_env import VecVideoRecorder, DummyVecEnv\n",
    "\n",
    "env_id = \"LunarLander-v2\"\n",
    "video_folder = \"logs/videos/\"\n",
    "video_length = 1000\n",
    "\n",
    "vec_env = DummyVecEnv([lambda: gym.make(env_id, render_mode=\"rgb_array\")])\n",
    "\n",
    "obs = vec_env.reset()\n",
    "\n",
    "# Record the video starting at the first step\n",
    "vec_env = VecVideoRecorder(vec_env, video_folder,\n",
    "                       record_video_trigger=lambda x: x == 0, video_length=video_length,\n",
    "                       name_prefix=f\"random-agent-{env_id}\")\n",
    "\n",
    "vec_env.reset()\n",
    "for _ in range(video_length + 1):\n",
    "  action, _state = model.predict(obs)\n",
    "  obs, _, _, _ = vec_env.step(action)\n",
    "# Save the video\n",
    "vec_env.close()"
   ]
  },
  {
   "cell_type": "code",
   "execution_count": 7,
   "metadata": {
    "colab": {
     "base_uri": "https://localhost:8080/",
     "height": 288
    },
    "id": "QdFnRIDYDNzI",
    "outputId": "e68d7e93-7eba-410a-b7d5-8402b7d8bc17"
   },
   "outputs": [
    {
     "data": {
      "text/html": [
       "\n",
       "<video width=400 controls>\n",
       "      <source src=\"data:video/mp4;base64,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\" type=\"video/mp4\">\n",
       "</video>\n"
      ],
      "text/plain": [
       "<IPython.core.display.HTML object>"
      ]
     },
     "execution_count": 7,
     "metadata": {},
     "output_type": "execute_result"
    }
   ],
   "source": [
    "from IPython.display import HTML\n",
    "from base64 import b64encode\n",
    "\n",
    "mp4 = open('./logs/videos/random-agent-LunarLander-v2-step-0-to-step-1000.mp4','rb').read()\n",
    "data_url = \"data:video/mp4;base64,\" + b64encode(mp4).decode()\n",
    "HTML(\"\"\"\n",
    "<video width=400 controls>\n",
    "      <source src=\"%s\" type=\"video/mp4\">\n",
    "</video>\n",
    "\"\"\" % data_url)"
   ]
  },
  {
   "cell_type": "markdown",
   "metadata": {
    "id": "hHWlV9U-EBar",
    "outputId": "d908af0f-abf4-45e4-fddb-661e1e636832"
   },
   "source": [
    "## Upload the Video to Huggingface\n",
    "\n",
    "We will need to login into huggingface using token which will allow this notebook to be able to upload files into your huggingface account. You can create/find huggingface token at https://huggingface.co/settings/tokens. This token will need to be inputed when we run `notebook_login()` below."
   ]
  },
  {
   "cell_type": "code",
   "execution_count": 8,
   "metadata": {
    "colab": {
     "base_uri": "https://localhost:8080/",
     "height": 162,
     "referenced_widgets": [
      "faedbb1b2bda4fdaaae073b2328b6662",
      "baea74c5772849778d1d06bb3edc275e",
      "cbb8e24978294ea0a9ee3e3e637d4c6f",
      "65ac3f1c152b41c18ef1f95f493b227e",
      "7617909aea4e45429c7e03f7cca25fd7",
      "7696f605258941e291fc4b347e796dc3",
      "d37f751babc649bfac92a80d2fef5b87",
      "a0c9daf9dad84703bd57e30b02b6c362",
      "cb7ec37a494344278e5dcede2409fec8",
      "0ebe55af4f694e12997eba593291c69d",
      "fcf67a330d7f4c03815abb9b50664256",
      "7d958616100c462b81ba2441e6c9cd16",
      "bc07f5e200c144f0bfc6be1dd67501f6",
      "fd40b11f0ba942ae97d4e2ce376b1e3b",
      "a965c6a74a4d4a17bef4ab2e036abaff",
      "913b9c9d13394149a5ac2b25714e53ca",
      "2792bfde7dec44b7863fb34dcfd76003",
      "691c9c940faa4d1c8458cd69d4a6314a",
      "dbc54c1695d149c6ae11fbe20f8652df",
      "67c06224c2ab4d299279893dfd9f50c9",
      "4bcce309087643a1982cbf898736e842",
      "4a82c737e0984deb9e3bffe62e94d60b",
      "6d2d1b203e3344d88f5134441ec1b567",
      "1d1efa33832e45c98a2c7bcb5e1164eb",
      "f12dfb7c74124ddb8c5339756ed5d14c",
      "0d65dee0591c421eaade75278e889de4",
      "f19dfe5c1b2848de96a3d3601916cc7c",
      "6dc937b73756450daec9b3c59e8332b1",
      "754e0c2a4ecb4de895df76e10cde16ef",
      "1c408b269a914663bd8c6c00d3b0ed4a",
      "64d2d28c8d294e518d75900b5193cbab",
      "0587c605a85b4502936fd1fec25630a7"
     ]
    },
    "id": "7byeWx0bEGL5",
    "outputId": "b86cc4bb-44c9-4018-8f14-58b9fd598649"
   },
   "outputs": [
    {
     "data": {
      "application/vnd.jupyter.widget-view+json": {
       "model_id": "faedbb1b2bda4fdaaae073b2328b6662",
       "version_major": 2,
       "version_minor": 0
      },
      "text/plain": [
       "VBox(children=(HTML(value='<center> <img\\nsrc=https://huggingface.co/front/assets/huggingface_logo-noborder.sv…"
      ]
     },
     "metadata": {},
     "output_type": "display_data"
    }
   ],
   "source": [
    "from huggingface_sb3 import load_from_hub, package_to_hub, push_to_hub\n",
    "from huggingface_hub import notebook_login # To log to our Hugging Face account to be able to upload models to the Hub.\n",
    "\n",
    "notebook_login()\n",
    "!git config --global credential.helper store"
   ]
  },
  {
   "cell_type": "code",
   "execution_count": 9,
   "metadata": {
    "colab": {
     "base_uri": "https://localhost:8080/",
     "height": 446,
     "referenced_widgets": [
      "8c6d30bc5ada4f6a989ec5cd06a152a3",
      "8cdda61684e34019af451e5e8d0aba5d",
      "67b07c3edb5a41e7adf557a320cd594f",
      "f5dc0ad331fa4d7f80d8b608b60c9e44",
      "f36e66d04b7c48709ae886e78601eaf0",
      "f0e2ae53f45d4f61a28092303f8c2368",
      "ff486779d1754ada97cd7ceb16389967",
      "3eed6282686743aa88d26c7415670198",
      "927c65b5f12340afb35c073a25854efb",
      "18b620a0db8e43db8674d0b7899ea788",
      "ab566bdbbd564393a5355afb61470a2a",
      "391f473a1d3e4e2fbb95a89015e5f7bf",
      "de95f370a2644d79a1b18692393daed9",
      "fd7a614d07bd4c629f419965961730f8",
      "0e4046a1ee004d09a5de6fe25359df9e",
      "8d9c72cd5fba4b359595f609918dd618",
      "c32973a22ccd4f6bb4e54a47a1171065",
      "fca263ee57744f4d8d451715904d9790",
      "7688f0b367484ab8b3e4e7359a5642d5",
      "06ada10b2c264218896da24f6857fecc",
      "4e7672f426674a32adcd749b24d45c6d",
      "065fa85413064f60a8a28894ec3fa759",
      "97a1ba6ceea74b89b6a482d629d8881c",
      "35560bdfb97343759e8b194f343e7377",
      "e253b23702bb498ca25ce8d54a33e795",
      "311ee09963c646f8866fed7251954c10",
      "e0d645e8ccd3452481e7676bf34b06f1",
      "415cbfa6c36d46bc9f269e760c03acb1",
      "3e85b50b62244209af90462431fc32d8",
      "67878ea260a544baa780e44da6616bea",
      "b25775e2ed9142b79e16556dfa8e44b7",
      "2e4be5aa34a84297935fc95f3253b1ff",
      "c0f5db8683a54051ba8e09c18b937735"
     ]
    },
    "id": "vUfaMkSAD4L9",
    "outputId": "49598cd9-b970-46a6-d5f8-e888960a54c4"
   },
   "outputs": [
    {
     "name": "stderr",
     "output_type": "stream",
     "text": [
      "/usr/local/lib/python3.10/dist-packages/ipykernel/ipkernel.py:283: DeprecationWarning: `should_run_async` will not call `transform_cell` automatically in the future. Please pass the result to `transformed_cell` argument and any exception that happen during thetransform in `preprocessing_exc_tuple` in IPython 7.17 and above.\n",
      "  and should_run_async(code)\n",
      "/usr/local/lib/python3.10/dist-packages/stable_baselines3/common/evaluation.py:67: UserWarning: Evaluation environment is not wrapped with a ``Monitor`` wrapper. This may result in reporting modified episode lengths and rewards, if other wrappers happen to modify these. Consider wrapping environment first with ``Monitor`` wrapper.\n",
      "  warnings.warn(\n"
     ]
    },
    {
     "name": "stdout",
     "output_type": "stream",
     "text": [
      "\u001b[38;5;4mℹ This function will save, evaluate, generate a video of your agent,\n",
      "create a model card and push everything to the hub. It might take up to 1min.\n",
      "This is a work in progress: if you encounter a bug, please open an issue.\u001b[0m\n",
      "gymnasium.envs.box2d.lunar_lander:LunarLander\n",
      "Saving video to /tmp/tmpiyajzm0_/-step-0-to-step-1000.mp4\n",
      "Moviepy - Building video /tmp/tmpiyajzm0_/-step-0-to-step-1000.mp4.\n",
      "Moviepy - Writing video /tmp/tmpiyajzm0_/-step-0-to-step-1000.mp4\n",
      "\n"
     ]
    },
    {
     "name": "stderr",
     "output_type": "stream",
     "text": []
    },
    {
     "name": "stdout",
     "output_type": "stream",
     "text": [
      "Moviepy - Done !\n",
      "Moviepy - video ready /tmp/tmpiyajzm0_/-step-0-to-step-1000.mp4\n",
      "\u001b[38;5;4mℹ Pushing repo nsanghi/dqn-LunarLander-v2 to the Hugging Face Hub\u001b[0m\n"
     ]
    },
    {
     "data": {
      "application/vnd.jupyter.widget-view+json": {
       "model_id": "8c6d30bc5ada4f6a989ec5cd06a152a3",
       "version_major": 2,
       "version_minor": 0
      },
      "text/plain": [
       "Upload 2 LFS files:   0%|          | 0/2 [00:00<?, ?it/s]"
      ]
     },
     "metadata": {},
     "output_type": "display_data"
    },
    {
     "data": {
      "application/vnd.jupyter.widget-view+json": {
       "model_id": "391f473a1d3e4e2fbb95a89015e5f7bf",
       "version_major": 2,
       "version_minor": 0
      },
      "text/plain": [
       "dqn-LunarLander-v2.zip:   0%|          | 0.00/105k [00:00<?, ?B/s]"
      ]
     },
     "metadata": {},
     "output_type": "display_data"
    },
    {
     "data": {
      "application/vnd.jupyter.widget-view+json": {
       "model_id": "97a1ba6ceea74b89b6a482d629d8881c",
       "version_major": 2,
       "version_minor": 0
      },
      "text/plain": [
       "replay.mp4:   0%|          | 0.00/146k [00:00<?, ?B/s]"
      ]
     },
     "metadata": {},
     "output_type": "display_data"
    },
    {
     "name": "stdout",
     "output_type": "stream",
     "text": [
      "\u001b[38;5;4mℹ Your model is pushed to the Hub. You can view your model here:\n",
      "https://huggingface.co/nsanghi/dqn-LunarLander-v2/tree/main/\u001b[0m\n"
     ]
    },
    {
     "data": {
      "application/vnd.google.colaboratory.intrinsic+json": {
       "type": "string"
      },
      "text/plain": [
       "'https://huggingface.co/nsanghi/dqn-LunarLander-v2/tree/main/'"
      ]
     },
     "execution_count": 9,
     "metadata": {},
     "output_type": "execute_result"
    }
   ],
   "source": [
    "eval_env = gym.make(\"LunarLander-v2\", render_mode='rgb_array')\n",
    "\n",
    "# method save, evaluate, generate a model card and record a replay video of your agent before pushing the repo to the hub\n",
    "\n",
    "# Please note repo_id is of the form <huggingface_id>/<name of repo>\n",
    "# you will need to change this to \"<your_huggingface_id>/dqn-LunarLander-v2\"\n",
    "\n",
    "package_to_hub(model=model, # Our trained model\n",
    "               model_name=\"dqn-LunarLander-v2\", # The name of our trained model\n",
    "               model_architecture=\"DQN\", # The model architecture we used: in our case PPO\n",
    "               env_id=\"LunarLander-v2\", # Name of the environment\n",
    "               eval_env=eval_env, # Evaluation Environment\n",
    "               repo_id=\"nsanghi/dqn-LunarLander-v2\", # id of the model repository from the Hugging Face Hub (repo_id = {organization}/{repo_name} for instance nsanghi/dqn-LunarLander-v2\n",
    "               commit_message=\"Push to Hub\")"
   ]
  },
  {
   "cell_type": "markdown",
   "metadata": {
    "id": "ShY8CHnLIMJg"
   },
   "source": [
    "## Checking the Results on Huggingface\n",
    "\n",
    "After successful upload, you will see a message at the end of above cell output giving you a link where you can view the model. **It will have a pattern like `https://huggingface.co/<yourusername>/dqn-LunarLander-v2/`**\n",
    "\n",
    "Please click on this link to access the trained agent. You can also share this link with others to show the result of training. Share the url without the ending paths \"tree/main\" so that the link takes them to Model Card tab where they can see the animation. e.g. in my case it will be:<br/>\n",
    "`https://huggingface.co/nsanghi/dqn-LunarLander-v2/`<br/>\n",
    "instead of<br/>\n",
    "`https://huggingface.co/nsanghi/dqn-LunarLander-v2/tree/main/`\n",
    "\n",
    "NOTE: At the time of writing this book, there is a bug in push_to_hub which results in sample video not getting created. You can refer to this bug here - https://github.com/huggingface/huggingface_sb3/issues/33\n"
   ]
  }
 ],
 "metadata": {
  "kernelspec": {
   "display_name": "Python 3 (ipykernel)",
   "language": "python",
   "name": "python3"
  },
  "language_info": {
   "codemirror_mode": {
    "name": "ipython",
    "version": 3
   },
   "file_extension": ".py",
   "mimetype": "text/x-python",
   "name": "python",
   "nbconvert_exporter": "python",
   "pygments_lexer": "ipython3",
   "version": "3.11.5"
  },
  "vscode": {
   "interpreter": {
    "hash": "3201c96db5836b171d01fee72ea1be894646622d4b41771abf25c98b548a611d"
   }
  },
  "widgets": {
   "application/vnd.jupyter.widget-state+json": {
    "0587c605a85b4502936fd1fec25630a7": {
     "model_module": "@jupyter-widgets/controls",
     "model_module_version": "1.5.0",
     "model_name": "DescriptionStyleModel",
     "state": {
      "_model_module": "@jupyter-widgets/controls",
      "_model_module_version": "1.5.0",
      "_model_name": "DescriptionStyleModel",
      "_view_count": null,
      "_view_module": "@jupyter-widgets/base",
      "_view_module_version": "1.2.0",
      "_view_name": "StyleView",
      "description_width": ""
     }
    },
    "060c33f79563429983f38920ea56501d": {
     "model_module": "@jupyter-widgets/base",
     "model_module_version": "1.2.0",
     "model_name": "LayoutModel",
     "state": {
      "_model_module": "@jupyter-widgets/base",
      "_model_module_version": "1.2.0",
      "_model_name": "LayoutModel",
      "_view_count": null,
      "_view_module": "@jupyter-widgets/base",
      "_view_module_version": "1.2.0",
      "_view_name": "LayoutView",
      "align_content": null,
      "align_items": null,
      "align_self": null,
      "border": null,
      "bottom": null,
      "display": null,
      "flex": null,
      "flex_flow": null,
      "grid_area": null,
      "grid_auto_columns": null,
      "grid_auto_flow": null,
      "grid_auto_rows": null,
      "grid_column": null,
      "grid_gap": null,
      "grid_row": null,
      "grid_template_areas": null,
      "grid_template_columns": null,
      "grid_template_rows": null,
      "height": null,
      "justify_content": null,
      "justify_items": null,
      "left": null,
      "margin": null,
      "max_height": null,
      "max_width": null,
      "min_height": null,
      "min_width": null,
      "object_fit": null,
      "object_position": null,
      "order": null,
      "overflow": null,
      "overflow_x": null,
      "overflow_y": null,
      "padding": null,
      "right": null,
      "top": null,
      "visibility": null,
      "width": null
     }
    },
    "065fa85413064f60a8a28894ec3fa759": {
     "model_module": "@jupyter-widgets/controls",
     "model_module_version": "1.5.0",
     "model_name": "DescriptionStyleModel",
     "state": {
      "_model_module": "@jupyter-widgets/controls",
      "_model_module_version": "1.5.0",
      "_model_name": "DescriptionStyleModel",
      "_view_count": null,
      "_view_module": "@jupyter-widgets/base",
      "_view_module_version": "1.2.0",
      "_view_name": "StyleView",
      "description_width": ""
     }
    },
    "06ada10b2c264218896da24f6857fecc": {
     "model_module": "@jupyter-widgets/controls",
     "model_module_version": "1.5.0",
     "model_name": "ProgressStyleModel",
     "state": {
      "_model_module": "@jupyter-widgets/controls",
      "_model_module_version": "1.5.0",
      "_model_name": "ProgressStyleModel",
      "_view_count": null,
      "_view_module": "@jupyter-widgets/base",
      "_view_module_version": "1.2.0",
      "_view_name": "StyleView",
      "bar_color": null,
      "description_width": ""
     }
    },
    "0d65dee0591c421eaade75278e889de4": {
     "model_module": "@jupyter-widgets/controls",
     "model_module_version": "1.5.0",
     "model_name": "DescriptionStyleModel",
     "state": {
      "_model_module": "@jupyter-widgets/controls",
      "_model_module_version": "1.5.0",
      "_model_name": "DescriptionStyleModel",
      "_view_count": null,
      "_view_module": "@jupyter-widgets/base",
      "_view_module_version": "1.2.0",
      "_view_name": "StyleView",
      "description_width": ""
     }
    },
    "0e4046a1ee004d09a5de6fe25359df9e": {
     "model_module": "@jupyter-widgets/controls",
     "model_module_version": "1.5.0",
     "model_name": "HTMLModel",
     "state": {
      "_dom_classes": [],
      "_model_module": "@jupyter-widgets/controls",
      "_model_module_version": "1.5.0",
      "_model_name": "HTMLModel",
      "_view_count": null,
      "_view_module": "@jupyter-widgets/controls",
      "_view_module_version": "1.5.0",
      "_view_name": "HTMLView",
      "description": "",
      "description_tooltip": null,
      "layout": "IPY_MODEL_4e7672f426674a32adcd749b24d45c6d",
      "placeholder": "​",
      "style": "IPY_MODEL_065fa85413064f60a8a28894ec3fa759",
      "value": " 105k/105k [00:00&lt;00:00, 473kB/s]"
     }
    },
    "0ebe55af4f694e12997eba593291c69d": {
     "model_module": "@jupyter-widgets/base",
     "model_module_version": "1.2.0",
     "model_name": "LayoutModel",
     "state": {
      "_model_module": "@jupyter-widgets/base",
      "_model_module_version": "1.2.0",
      "_model_name": "LayoutModel",
      "_view_count": null,
      "_view_module": "@jupyter-widgets/base",
      "_view_module_version": "1.2.0",
      "_view_name": "LayoutView",
      "align_content": null,
      "align_items": null,
      "align_self": null,
      "border": null,
      "bottom": null,
      "display": null,
      "flex": null,
      "flex_flow": null,
      "grid_area": null,
      "grid_auto_columns": null,
      "grid_auto_flow": null,
      "grid_auto_rows": null,
      "grid_column": null,
      "grid_gap": null,
      "grid_row": null,
      "grid_template_areas": null,
      "grid_template_columns": null,
      "grid_template_rows": null,
      "height": null,
      "justify_content": null,
      "justify_items": null,
      "left": null,
      "margin": null,
      "max_height": null,
      "max_width": null,
      "min_height": null,
      "min_width": null,
      "object_fit": null,
      "object_position": null,
      "order": null,
      "overflow": null,
      "overflow_x": null,
      "overflow_y": null,
      "padding": null,
      "right": null,
      "top": null,
      "visibility": null,
      "width": null
     }
    },
    "1489b32e36794bb0ad04f8250cba921a": {
     "model_module": "@jupyter-widgets/output",
     "model_module_version": "1.0.0",
     "model_name": "OutputModel",
     "state": {
      "_dom_classes": [],
      "_model_module": "@jupyter-widgets/output",
      "_model_module_version": "1.0.0",
      "_model_name": "OutputModel",
      "_view_count": null,
      "_view_module": "@jupyter-widgets/output",
      "_view_module_version": "1.0.0",
      "_view_name": "OutputView",
      "layout": "IPY_MODEL_060c33f79563429983f38920ea56501d",
      "msg_id": "",
      "outputs": [
       {
        "data": {
         "text/html": "<pre style=\"white-space:pre;overflow-x:auto;line-height:normal;font-family:Menlo,'DejaVu Sans Mono',consolas,'Courier New',monospace\"><span style=\"color: #800080; text-decoration-color: #800080\"> 100%</span> <span style=\"color: #f92672; text-decoration-color: #f92672\">━━━━━━━━━━━━━━━━━━━━━━━━━━━━━━━━━━━━━━━━━━━━━━━━━━━━━━━━━━━╸</span> <span style=\"color: #008000; text-decoration-color: #008000\">99,970/100,000 </span> [ <span style=\"color: #808000; text-decoration-color: #808000\">0:02:27</span> &lt; <span style=\"color: #008080; text-decoration-color: #008080\">0:00:01</span> , <span style=\"color: #800000; text-decoration-color: #800000\">400 it/s</span> ]\n</pre>\n",
         "text/plain": "\u001b[35m 100%\u001b[0m \u001b[38;2;249;38;114m━━━━━━━━━━━━━━━━━━━━━━━━━━━━━━━━━━━━━━━━━━━━━━━━━━━━━━━━━━━\u001b[0m\u001b[38;2;249;38;114m╸\u001b[0m \u001b[32m99,970/100,000 \u001b[0m [ \u001b[33m0:02:27\u001b[0m < \u001b[36m0:00:01\u001b[0m , \u001b[31m400 it/s\u001b[0m ]\n"
        },
        "metadata": {},
        "output_type": "display_data"
       }
      ]
     }
    },
    "18b620a0db8e43db8674d0b7899ea788": {
     "model_module": "@jupyter-widgets/base",
     "model_module_version": "1.2.0",
     "model_name": "LayoutModel",
     "state": {
      "_model_module": "@jupyter-widgets/base",
      "_model_module_version": "1.2.0",
      "_model_name": "LayoutModel",
      "_view_count": null,
      "_view_module": "@jupyter-widgets/base",
      "_view_module_version": "1.2.0",
      "_view_name": "LayoutView",
      "align_content": null,
      "align_items": null,
      "align_self": null,
      "border": null,
      "bottom": null,
      "display": null,
      "flex": null,
      "flex_flow": null,
      "grid_area": null,
      "grid_auto_columns": null,
      "grid_auto_flow": null,
      "grid_auto_rows": null,
      "grid_column": null,
      "grid_gap": null,
      "grid_row": null,
      "grid_template_areas": null,
      "grid_template_columns": null,
      "grid_template_rows": null,
      "height": null,
      "justify_content": null,
      "justify_items": null,
      "left": null,
      "margin": null,
      "max_height": null,
      "max_width": null,
      "min_height": null,
      "min_width": null,
      "object_fit": null,
      "object_position": null,
      "order": null,
      "overflow": null,
      "overflow_x": null,
      "overflow_y": null,
      "padding": null,
      "right": null,
      "top": null,
      "visibility": null,
      "width": null
     }
    },
    "1c408b269a914663bd8c6c00d3b0ed4a": {
     "model_module": "@jupyter-widgets/controls",
     "model_module_version": "1.5.0",
     "model_name": "DescriptionStyleModel",
     "state": {
      "_model_module": "@jupyter-widgets/controls",
      "_model_module_version": "1.5.0",
      "_model_name": "DescriptionStyleModel",
      "_view_count": null,
      "_view_module": "@jupyter-widgets/base",
      "_view_module_version": "1.2.0",
      "_view_name": "StyleView",
      "description_width": ""
     }
    },
    "1d1efa33832e45c98a2c7bcb5e1164eb": {
     "model_module": "@jupyter-widgets/controls",
     "model_module_version": "1.5.0",
     "model_name": "LabelModel",
     "state": {
      "_dom_classes": [],
      "_model_module": "@jupyter-widgets/controls",
      "_model_module_version": "1.5.0",
      "_model_name": "LabelModel",
      "_view_count": null,
      "_view_module": "@jupyter-widgets/controls",
      "_view_module_version": "1.5.0",
      "_view_name": "LabelView",
      "description": "",
      "description_tooltip": null,
      "layout": "IPY_MODEL_64d2d28c8d294e518d75900b5193cbab",
      "placeholder": "​",
      "style": "IPY_MODEL_0587c605a85b4502936fd1fec25630a7",
      "value": "Login successful"
     }
    },
    "2792bfde7dec44b7863fb34dcfd76003": {
     "model_module": "@jupyter-widgets/controls",
     "model_module_version": "1.5.0",
     "model_name": "DescriptionStyleModel",
     "state": {
      "_model_module": "@jupyter-widgets/controls",
      "_model_module_version": "1.5.0",
      "_model_name": "DescriptionStyleModel",
      "_view_count": null,
      "_view_module": "@jupyter-widgets/base",
      "_view_module_version": "1.2.0",
      "_view_name": "StyleView",
      "description_width": ""
     }
    },
    "2e4be5aa34a84297935fc95f3253b1ff": {
     "model_module": "@jupyter-widgets/base",
     "model_module_version": "1.2.0",
     "model_name": "LayoutModel",
     "state": {
      "_model_module": "@jupyter-widgets/base",
      "_model_module_version": "1.2.0",
      "_model_name": "LayoutModel",
      "_view_count": null,
      "_view_module": "@jupyter-widgets/base",
      "_view_module_version": "1.2.0",
      "_view_name": "LayoutView",
      "align_content": null,
      "align_items": null,
      "align_self": null,
      "border": null,
      "bottom": null,
      "display": null,
      "flex": null,
      "flex_flow": null,
      "grid_area": null,
      "grid_auto_columns": null,
      "grid_auto_flow": null,
      "grid_auto_rows": null,
      "grid_column": null,
      "grid_gap": null,
      "grid_row": null,
      "grid_template_areas": null,
      "grid_template_columns": null,
      "grid_template_rows": null,
      "height": null,
      "justify_content": null,
      "justify_items": null,
      "left": null,
      "margin": null,
      "max_height": null,
      "max_width": null,
      "min_height": null,
      "min_width": null,
      "object_fit": null,
      "object_position": null,
      "order": null,
      "overflow": null,
      "overflow_x": null,
      "overflow_y": null,
      "padding": null,
      "right": null,
      "top": null,
      "visibility": null,
      "width": null
     }
    },
    "311ee09963c646f8866fed7251954c10": {
     "model_module": "@jupyter-widgets/controls",
     "model_module_version": "1.5.0",
     "model_name": "HTMLModel",
     "state": {
      "_dom_classes": [],
      "_model_module": "@jupyter-widgets/controls",
      "_model_module_version": "1.5.0",
      "_model_name": "HTMLModel",
      "_view_count": null,
      "_view_module": "@jupyter-widgets/controls",
      "_view_module_version": "1.5.0",
      "_view_name": "HTMLView",
      "description": "",
      "description_tooltip": null,
      "layout": "IPY_MODEL_2e4be5aa34a84297935fc95f3253b1ff",
      "placeholder": "​",
      "style": "IPY_MODEL_c0f5db8683a54051ba8e09c18b937735",
      "value": " 146k/146k [00:00&lt;00:00, 431kB/s]"
     }
    },
    "35560bdfb97343759e8b194f343e7377": {
     "model_module": "@jupyter-widgets/controls",
     "model_module_version": "1.5.0",
     "model_name": "HTMLModel",
     "state": {
      "_dom_classes": [],
      "_model_module": "@jupyter-widgets/controls",
      "_model_module_version": "1.5.0",
      "_model_name": "HTMLModel",
      "_view_count": null,
      "_view_module": "@jupyter-widgets/controls",
      "_view_module_version": "1.5.0",
      "_view_name": "HTMLView",
      "description": "",
      "description_tooltip": null,
      "layout": "IPY_MODEL_415cbfa6c36d46bc9f269e760c03acb1",
      "placeholder": "​",
      "style": "IPY_MODEL_3e85b50b62244209af90462431fc32d8",
      "value": "replay.mp4: 100%"
     }
    },
    "391f473a1d3e4e2fbb95a89015e5f7bf": {
     "model_module": "@jupyter-widgets/controls",
     "model_module_version": "1.5.0",
     "model_name": "HBoxModel",
     "state": {
      "_dom_classes": [],
      "_model_module": "@jupyter-widgets/controls",
      "_model_module_version": "1.5.0",
      "_model_name": "HBoxModel",
      "_view_count": null,
      "_view_module": "@jupyter-widgets/controls",
      "_view_module_version": "1.5.0",
      "_view_name": "HBoxView",
      "box_style": "",
      "children": [
       "IPY_MODEL_de95f370a2644d79a1b18692393daed9",
       "IPY_MODEL_fd7a614d07bd4c629f419965961730f8",
       "IPY_MODEL_0e4046a1ee004d09a5de6fe25359df9e"
      ],
      "layout": "IPY_MODEL_8d9c72cd5fba4b359595f609918dd618"
     }
    },
    "3e85b50b62244209af90462431fc32d8": {
     "model_module": "@jupyter-widgets/controls",
     "model_module_version": "1.5.0",
     "model_name": "DescriptionStyleModel",
     "state": {
      "_model_module": "@jupyter-widgets/controls",
      "_model_module_version": "1.5.0",
      "_model_name": "DescriptionStyleModel",
      "_view_count": null,
      "_view_module": "@jupyter-widgets/base",
      "_view_module_version": "1.2.0",
      "_view_name": "StyleView",
      "description_width": ""
     }
    },
    "3eed6282686743aa88d26c7415670198": {
     "model_module": "@jupyter-widgets/base",
     "model_module_version": "1.2.0",
     "model_name": "LayoutModel",
     "state": {
      "_model_module": "@jupyter-widgets/base",
      "_model_module_version": "1.2.0",
      "_model_name": "LayoutModel",
      "_view_count": null,
      "_view_module": "@jupyter-widgets/base",
      "_view_module_version": "1.2.0",
      "_view_name": "LayoutView",
      "align_content": null,
      "align_items": null,
      "align_self": null,
      "border": null,
      "bottom": null,
      "display": null,
      "flex": null,
      "flex_flow": null,
      "grid_area": null,
      "grid_auto_columns": null,
      "grid_auto_flow": null,
      "grid_auto_rows": null,
      "grid_column": null,
      "grid_gap": null,
      "grid_row": null,
      "grid_template_areas": null,
      "grid_template_columns": null,
      "grid_template_rows": null,
      "height": null,
      "justify_content": null,
      "justify_items": null,
      "left": null,
      "margin": null,
      "max_height": null,
      "max_width": null,
      "min_height": null,
      "min_width": null,
      "object_fit": null,
      "object_position": null,
      "order": null,
      "overflow": null,
      "overflow_x": null,
      "overflow_y": null,
      "padding": null,
      "right": null,
      "top": null,
      "visibility": null,
      "width": null
     }
    },
    "415cbfa6c36d46bc9f269e760c03acb1": {
     "model_module": "@jupyter-widgets/base",
     "model_module_version": "1.2.0",
     "model_name": "LayoutModel",
     "state": {
      "_model_module": "@jupyter-widgets/base",
      "_model_module_version": "1.2.0",
      "_model_name": "LayoutModel",
      "_view_count": null,
      "_view_module": "@jupyter-widgets/base",
      "_view_module_version": "1.2.0",
      "_view_name": "LayoutView",
      "align_content": null,
      "align_items": null,
      "align_self": null,
      "border": null,
      "bottom": null,
      "display": null,
      "flex": null,
      "flex_flow": null,
      "grid_area": null,
      "grid_auto_columns": null,
      "grid_auto_flow": null,
      "grid_auto_rows": null,
      "grid_column": null,
      "grid_gap": null,
      "grid_row": null,
      "grid_template_areas": null,
      "grid_template_columns": null,
      "grid_template_rows": null,
      "height": null,
      "justify_content": null,
      "justify_items": null,
      "left": null,
      "margin": null,
      "max_height": null,
      "max_width": null,
      "min_height": null,
      "min_width": null,
      "object_fit": null,
      "object_position": null,
      "order": null,
      "overflow": null,
      "overflow_x": null,
      "overflow_y": null,
      "padding": null,
      "right": null,
      "top": null,
      "visibility": null,
      "width": null
     }
    },
    "4a82c737e0984deb9e3bffe62e94d60b": {
     "model_module": "@jupyter-widgets/controls",
     "model_module_version": "1.5.0",
     "model_name": "LabelModel",
     "state": {
      "_dom_classes": [],
      "_model_module": "@jupyter-widgets/controls",
      "_model_module_version": "1.5.0",
      "_model_name": "LabelModel",
      "_view_count": null,
      "_view_module": "@jupyter-widgets/controls",
      "_view_module_version": "1.5.0",
      "_view_name": "LabelView",
      "description": "",
      "description_tooltip": null,
      "layout": "IPY_MODEL_f19dfe5c1b2848de96a3d3601916cc7c",
      "placeholder": "​",
      "style": "IPY_MODEL_6dc937b73756450daec9b3c59e8332b1",
      "value": "Your token has been saved in your configured git credential helpers (store)."
     }
    },
    "4bcce309087643a1982cbf898736e842": {
     "model_module": "@jupyter-widgets/controls",
     "model_module_version": "1.5.0",
     "model_name": "LabelModel",
     "state": {
      "_dom_classes": [],
      "_model_module": "@jupyter-widgets/controls",
      "_model_module_version": "1.5.0",
      "_model_name": "LabelModel",
      "_view_count": null,
      "_view_module": "@jupyter-widgets/controls",
      "_view_module_version": "1.5.0",
      "_view_name": "LabelView",
      "description": "",
      "description_tooltip": null,
      "layout": "IPY_MODEL_f12dfb7c74124ddb8c5339756ed5d14c",
      "placeholder": "​",
      "style": "IPY_MODEL_0d65dee0591c421eaade75278e889de4",
      "value": "Token is valid (permission: write)."
     }
    },
    "4e7672f426674a32adcd749b24d45c6d": {
     "model_module": "@jupyter-widgets/base",
     "model_module_version": "1.2.0",
     "model_name": "LayoutModel",
     "state": {
      "_model_module": "@jupyter-widgets/base",
      "_model_module_version": "1.2.0",
      "_model_name": "LayoutModel",
      "_view_count": null,
      "_view_module": "@jupyter-widgets/base",
      "_view_module_version": "1.2.0",
      "_view_name": "LayoutView",
      "align_content": null,
      "align_items": null,
      "align_self": null,
      "border": null,
      "bottom": null,
      "display": null,
      "flex": null,
      "flex_flow": null,
      "grid_area": null,
      "grid_auto_columns": null,
      "grid_auto_flow": null,
      "grid_auto_rows": null,
      "grid_column": null,
      "grid_gap": null,
      "grid_row": null,
      "grid_template_areas": null,
      "grid_template_columns": null,
      "grid_template_rows": null,
      "height": null,
      "justify_content": null,
      "justify_items": null,
      "left": null,
      "margin": null,
      "max_height": null,
      "max_width": null,
      "min_height": null,
      "min_width": null,
      "object_fit": null,
      "object_position": null,
      "order": null,
      "overflow": null,
      "overflow_x": null,
      "overflow_y": null,
      "padding": null,
      "right": null,
      "top": null,
      "visibility": null,
      "width": null
     }
    },
    "64d2d28c8d294e518d75900b5193cbab": {
     "model_module": "@jupyter-widgets/base",
     "model_module_version": "1.2.0",
     "model_name": "LayoutModel",
     "state": {
      "_model_module": "@jupyter-widgets/base",
      "_model_module_version": "1.2.0",
      "_model_name": "LayoutModel",
      "_view_count": null,
      "_view_module": "@jupyter-widgets/base",
      "_view_module_version": "1.2.0",
      "_view_name": "LayoutView",
      "align_content": null,
      "align_items": null,
      "align_self": null,
      "border": null,
      "bottom": null,
      "display": null,
      "flex": null,
      "flex_flow": null,
      "grid_area": null,
      "grid_auto_columns": null,
      "grid_auto_flow": null,
      "grid_auto_rows": null,
      "grid_column": null,
      "grid_gap": null,
      "grid_row": null,
      "grid_template_areas": null,
      "grid_template_columns": null,
      "grid_template_rows": null,
      "height": null,
      "justify_content": null,
      "justify_items": null,
      "left": null,
      "margin": null,
      "max_height": null,
      "max_width": null,
      "min_height": null,
      "min_width": null,
      "object_fit": null,
      "object_position": null,
      "order": null,
      "overflow": null,
      "overflow_x": null,
      "overflow_y": null,
      "padding": null,
      "right": null,
      "top": null,
      "visibility": null,
      "width": null
     }
    },
    "65ac3f1c152b41c18ef1f95f493b227e": {
     "model_module": "@jupyter-widgets/controls",
     "model_module_version": "1.5.0",
     "model_name": "CheckboxModel",
     "state": {
      "_dom_classes": [],
      "_model_module": "@jupyter-widgets/controls",
      "_model_module_version": "1.5.0",
      "_model_name": "CheckboxModel",
      "_view_count": null,
      "_view_module": "@jupyter-widgets/controls",
      "_view_module_version": "1.5.0",
      "_view_name": "CheckboxView",
      "description": "Add token as git credential?",
      "description_tooltip": null,
      "disabled": false,
      "indent": true,
      "layout": "IPY_MODEL_7d958616100c462b81ba2441e6c9cd16",
      "style": "IPY_MODEL_bc07f5e200c144f0bfc6be1dd67501f6",
      "value": true
     }
    },
    "67878ea260a544baa780e44da6616bea": {
     "model_module": "@jupyter-widgets/base",
     "model_module_version": "1.2.0",
     "model_name": "LayoutModel",
     "state": {
      "_model_module": "@jupyter-widgets/base",
      "_model_module_version": "1.2.0",
      "_model_name": "LayoutModel",
      "_view_count": null,
      "_view_module": "@jupyter-widgets/base",
      "_view_module_version": "1.2.0",
      "_view_name": "LayoutView",
      "align_content": null,
      "align_items": null,
      "align_self": null,
      "border": null,
      "bottom": null,
      "display": null,
      "flex": null,
      "flex_flow": null,
      "grid_area": null,
      "grid_auto_columns": null,
      "grid_auto_flow": null,
      "grid_auto_rows": null,
      "grid_column": null,
      "grid_gap": null,
      "grid_row": null,
      "grid_template_areas": null,
      "grid_template_columns": null,
      "grid_template_rows": null,
      "height": null,
      "justify_content": null,
      "justify_items": null,
      "left": null,
      "margin": null,
      "max_height": null,
      "max_width": null,
      "min_height": null,
      "min_width": null,
      "object_fit": null,
      "object_position": null,
      "order": null,
      "overflow": null,
      "overflow_x": null,
      "overflow_y": null,
      "padding": null,
      "right": null,
      "top": null,
      "visibility": null,
      "width": null
     }
    },
    "67b07c3edb5a41e7adf557a320cd594f": {
     "model_module": "@jupyter-widgets/controls",
     "model_module_version": "1.5.0",
     "model_name": "FloatProgressModel",
     "state": {
      "_dom_classes": [],
      "_model_module": "@jupyter-widgets/controls",
      "_model_module_version": "1.5.0",
      "_model_name": "FloatProgressModel",
      "_view_count": null,
      "_view_module": "@jupyter-widgets/controls",
      "_view_module_version": "1.5.0",
      "_view_name": "ProgressView",
      "bar_style": "success",
      "description": "",
      "description_tooltip": null,
      "layout": "IPY_MODEL_3eed6282686743aa88d26c7415670198",
      "max": 2,
      "min": 0,
      "orientation": "horizontal",
      "style": "IPY_MODEL_927c65b5f12340afb35c073a25854efb",
      "value": 2
     }
    },
    "67c06224c2ab4d299279893dfd9f50c9": {
     "model_module": "@jupyter-widgets/controls",
     "model_module_version": "1.5.0",
     "model_name": "DescriptionStyleModel",
     "state": {
      "_model_module": "@jupyter-widgets/controls",
      "_model_module_version": "1.5.0",
      "_model_name": "DescriptionStyleModel",
      "_view_count": null,
      "_view_module": "@jupyter-widgets/base",
      "_view_module_version": "1.2.0",
      "_view_name": "StyleView",
      "description_width": ""
     }
    },
    "691c9c940faa4d1c8458cd69d4a6314a": {
     "model_module": "@jupyter-widgets/controls",
     "model_module_version": "1.5.0",
     "model_name": "LabelModel",
     "state": {
      "_dom_classes": [],
      "_model_module": "@jupyter-widgets/controls",
      "_model_module_version": "1.5.0",
      "_model_name": "LabelModel",
      "_view_count": null,
      "_view_module": "@jupyter-widgets/controls",
      "_view_module_version": "1.5.0",
      "_view_name": "LabelView",
      "description": "",
      "description_tooltip": null,
      "layout": "IPY_MODEL_dbc54c1695d149c6ae11fbe20f8652df",
      "placeholder": "​",
      "style": "IPY_MODEL_67c06224c2ab4d299279893dfd9f50c9",
      "value": "Connecting..."
     }
    },
    "6d2d1b203e3344d88f5134441ec1b567": {
     "model_module": "@jupyter-widgets/controls",
     "model_module_version": "1.5.0",
     "model_name": "LabelModel",
     "state": {
      "_dom_classes": [],
      "_model_module": "@jupyter-widgets/controls",
      "_model_module_version": "1.5.0",
      "_model_name": "LabelModel",
      "_view_count": null,
      "_view_module": "@jupyter-widgets/controls",
      "_view_module_version": "1.5.0",
      "_view_name": "LabelView",
      "description": "",
      "description_tooltip": null,
      "layout": "IPY_MODEL_754e0c2a4ecb4de895df76e10cde16ef",
      "placeholder": "​",
      "style": "IPY_MODEL_1c408b269a914663bd8c6c00d3b0ed4a",
      "value": "Your token has been saved to /root/.cache/huggingface/token"
     }
    },
    "6dc937b73756450daec9b3c59e8332b1": {
     "model_module": "@jupyter-widgets/controls",
     "model_module_version": "1.5.0",
     "model_name": "DescriptionStyleModel",
     "state": {
      "_model_module": "@jupyter-widgets/controls",
      "_model_module_version": "1.5.0",
      "_model_name": "DescriptionStyleModel",
      "_view_count": null,
      "_view_module": "@jupyter-widgets/base",
      "_view_module_version": "1.2.0",
      "_view_name": "StyleView",
      "description_width": ""
     }
    },
    "754e0c2a4ecb4de895df76e10cde16ef": {
     "model_module": "@jupyter-widgets/base",
     "model_module_version": "1.2.0",
     "model_name": "LayoutModel",
     "state": {
      "_model_module": "@jupyter-widgets/base",
      "_model_module_version": "1.2.0",
      "_model_name": "LayoutModel",
      "_view_count": null,
      "_view_module": "@jupyter-widgets/base",
      "_view_module_version": "1.2.0",
      "_view_name": "LayoutView",
      "align_content": null,
      "align_items": null,
      "align_self": null,
      "border": null,
      "bottom": null,
      "display": null,
      "flex": null,
      "flex_flow": null,
      "grid_area": null,
      "grid_auto_columns": null,
      "grid_auto_flow": null,
      "grid_auto_rows": null,
      "grid_column": null,
      "grid_gap": null,
      "grid_row": null,
      "grid_template_areas": null,
      "grid_template_columns": null,
      "grid_template_rows": null,
      "height": null,
      "justify_content": null,
      "justify_items": null,
      "left": null,
      "margin": null,
      "max_height": null,
      "max_width": null,
      "min_height": null,
      "min_width": null,
      "object_fit": null,
      "object_position": null,
      "order": null,
      "overflow": null,
      "overflow_x": null,
      "overflow_y": null,
      "padding": null,
      "right": null,
      "top": null,
      "visibility": null,
      "width": null
     }
    },
    "7617909aea4e45429c7e03f7cca25fd7": {
     "model_module": "@jupyter-widgets/controls",
     "model_module_version": "1.5.0",
     "model_name": "ButtonModel",
     "state": {
      "_dom_classes": [],
      "_model_module": "@jupyter-widgets/controls",
      "_model_module_version": "1.5.0",
      "_model_name": "ButtonModel",
      "_view_count": null,
      "_view_module": "@jupyter-widgets/controls",
      "_view_module_version": "1.5.0",
      "_view_name": "ButtonView",
      "button_style": "",
      "description": "Login",
      "disabled": false,
      "icon": "",
      "layout": "IPY_MODEL_fd40b11f0ba942ae97d4e2ce376b1e3b",
      "style": "IPY_MODEL_a965c6a74a4d4a17bef4ab2e036abaff",
      "tooltip": ""
     }
    },
    "7688f0b367484ab8b3e4e7359a5642d5": {
     "model_module": "@jupyter-widgets/base",
     "model_module_version": "1.2.0",
     "model_name": "LayoutModel",
     "state": {
      "_model_module": "@jupyter-widgets/base",
      "_model_module_version": "1.2.0",
      "_model_name": "LayoutModel",
      "_view_count": null,
      "_view_module": "@jupyter-widgets/base",
      "_view_module_version": "1.2.0",
      "_view_name": "LayoutView",
      "align_content": null,
      "align_items": null,
      "align_self": null,
      "border": null,
      "bottom": null,
      "display": null,
      "flex": null,
      "flex_flow": null,
      "grid_area": null,
      "grid_auto_columns": null,
      "grid_auto_flow": null,
      "grid_auto_rows": null,
      "grid_column": null,
      "grid_gap": null,
      "grid_row": null,
      "grid_template_areas": null,
      "grid_template_columns": null,
      "grid_template_rows": null,
      "height": null,
      "justify_content": null,
      "justify_items": null,
      "left": null,
      "margin": null,
      "max_height": null,
      "max_width": null,
      "min_height": null,
      "min_width": null,
      "object_fit": null,
      "object_position": null,
      "order": null,
      "overflow": null,
      "overflow_x": null,
      "overflow_y": null,
      "padding": null,
      "right": null,
      "top": null,
      "visibility": null,
      "width": null
     }
    },
    "7696f605258941e291fc4b347e796dc3": {
     "model_module": "@jupyter-widgets/controls",
     "model_module_version": "1.5.0",
     "model_name": "HTMLModel",
     "state": {
      "_dom_classes": [],
      "_model_module": "@jupyter-widgets/controls",
      "_model_module_version": "1.5.0",
      "_model_name": "HTMLModel",
      "_view_count": null,
      "_view_module": "@jupyter-widgets/controls",
      "_view_module_version": "1.5.0",
      "_view_name": "HTMLView",
      "description": "",
      "description_tooltip": null,
      "layout": "IPY_MODEL_913b9c9d13394149a5ac2b25714e53ca",
      "placeholder": "​",
      "style": "IPY_MODEL_2792bfde7dec44b7863fb34dcfd76003",
      "value": "\n<b>Pro Tip:</b> If you don't already have one, you can create a dedicated\n'notebooks' token with 'write' access, that you can then easily reuse for all\nnotebooks. </center>"
     }
    },
    "7d958616100c462b81ba2441e6c9cd16": {
     "model_module": "@jupyter-widgets/base",
     "model_module_version": "1.2.0",
     "model_name": "LayoutModel",
     "state": {
      "_model_module": "@jupyter-widgets/base",
      "_model_module_version": "1.2.0",
      "_model_name": "LayoutModel",
      "_view_count": null,
      "_view_module": "@jupyter-widgets/base",
      "_view_module_version": "1.2.0",
      "_view_name": "LayoutView",
      "align_content": null,
      "align_items": null,
      "align_self": null,
      "border": null,
      "bottom": null,
      "display": null,
      "flex": null,
      "flex_flow": null,
      "grid_area": null,
      "grid_auto_columns": null,
      "grid_auto_flow": null,
      "grid_auto_rows": null,
      "grid_column": null,
      "grid_gap": null,
      "grid_row": null,
      "grid_template_areas": null,
      "grid_template_columns": null,
      "grid_template_rows": null,
      "height": null,
      "justify_content": null,
      "justify_items": null,
      "left": null,
      "margin": null,
      "max_height": null,
      "max_width": null,
      "min_height": null,
      "min_width": null,
      "object_fit": null,
      "object_position": null,
      "order": null,
      "overflow": null,
      "overflow_x": null,
      "overflow_y": null,
      "padding": null,
      "right": null,
      "top": null,
      "visibility": null,
      "width": null
     }
    },
    "8c6d30bc5ada4f6a989ec5cd06a152a3": {
     "model_module": "@jupyter-widgets/controls",
     "model_module_version": "1.5.0",
     "model_name": "HBoxModel",
     "state": {
      "_dom_classes": [],
      "_model_module": "@jupyter-widgets/controls",
      "_model_module_version": "1.5.0",
      "_model_name": "HBoxModel",
      "_view_count": null,
      "_view_module": "@jupyter-widgets/controls",
      "_view_module_version": "1.5.0",
      "_view_name": "HBoxView",
      "box_style": "",
      "children": [
       "IPY_MODEL_8cdda61684e34019af451e5e8d0aba5d",
       "IPY_MODEL_67b07c3edb5a41e7adf557a320cd594f",
       "IPY_MODEL_f5dc0ad331fa4d7f80d8b608b60c9e44"
      ],
      "layout": "IPY_MODEL_f36e66d04b7c48709ae886e78601eaf0"
     }
    },
    "8cdda61684e34019af451e5e8d0aba5d": {
     "model_module": "@jupyter-widgets/controls",
     "model_module_version": "1.5.0",
     "model_name": "HTMLModel",
     "state": {
      "_dom_classes": [],
      "_model_module": "@jupyter-widgets/controls",
      "_model_module_version": "1.5.0",
      "_model_name": "HTMLModel",
      "_view_count": null,
      "_view_module": "@jupyter-widgets/controls",
      "_view_module_version": "1.5.0",
      "_view_name": "HTMLView",
      "description": "",
      "description_tooltip": null,
      "layout": "IPY_MODEL_f0e2ae53f45d4f61a28092303f8c2368",
      "placeholder": "​",
      "style": "IPY_MODEL_ff486779d1754ada97cd7ceb16389967",
      "value": "Upload 2 LFS files: 100%"
     }
    },
    "8d9c72cd5fba4b359595f609918dd618": {
     "model_module": "@jupyter-widgets/base",
     "model_module_version": "1.2.0",
     "model_name": "LayoutModel",
     "state": {
      "_model_module": "@jupyter-widgets/base",
      "_model_module_version": "1.2.0",
      "_model_name": "LayoutModel",
      "_view_count": null,
      "_view_module": "@jupyter-widgets/base",
      "_view_module_version": "1.2.0",
      "_view_name": "LayoutView",
      "align_content": null,
      "align_items": null,
      "align_self": null,
      "border": null,
      "bottom": null,
      "display": null,
      "flex": null,
      "flex_flow": null,
      "grid_area": null,
      "grid_auto_columns": null,
      "grid_auto_flow": null,
      "grid_auto_rows": null,
      "grid_column": null,
      "grid_gap": null,
      "grid_row": null,
      "grid_template_areas": null,
      "grid_template_columns": null,
      "grid_template_rows": null,
      "height": null,
      "justify_content": null,
      "justify_items": null,
      "left": null,
      "margin": null,
      "max_height": null,
      "max_width": null,
      "min_height": null,
      "min_width": null,
      "object_fit": null,
      "object_position": null,
      "order": null,
      "overflow": null,
      "overflow_x": null,
      "overflow_y": null,
      "padding": null,
      "right": null,
      "top": null,
      "visibility": null,
      "width": null
     }
    },
    "913b9c9d13394149a5ac2b25714e53ca": {
     "model_module": "@jupyter-widgets/base",
     "model_module_version": "1.2.0",
     "model_name": "LayoutModel",
     "state": {
      "_model_module": "@jupyter-widgets/base",
      "_model_module_version": "1.2.0",
      "_model_name": "LayoutModel",
      "_view_count": null,
      "_view_module": "@jupyter-widgets/base",
      "_view_module_version": "1.2.0",
      "_view_name": "LayoutView",
      "align_content": null,
      "align_items": null,
      "align_self": null,
      "border": null,
      "bottom": null,
      "display": null,
      "flex": null,
      "flex_flow": null,
      "grid_area": null,
      "grid_auto_columns": null,
      "grid_auto_flow": null,
      "grid_auto_rows": null,
      "grid_column": null,
      "grid_gap": null,
      "grid_row": null,
      "grid_template_areas": null,
      "grid_template_columns": null,
      "grid_template_rows": null,
      "height": null,
      "justify_content": null,
      "justify_items": null,
      "left": null,
      "margin": null,
      "max_height": null,
      "max_width": null,
      "min_height": null,
      "min_width": null,
      "object_fit": null,
      "object_position": null,
      "order": null,
      "overflow": null,
      "overflow_x": null,
      "overflow_y": null,
      "padding": null,
      "right": null,
      "top": null,
      "visibility": null,
      "width": null
     }
    },
    "927c65b5f12340afb35c073a25854efb": {
     "model_module": "@jupyter-widgets/controls",
     "model_module_version": "1.5.0",
     "model_name": "ProgressStyleModel",
     "state": {
      "_model_module": "@jupyter-widgets/controls",
      "_model_module_version": "1.5.0",
      "_model_name": "ProgressStyleModel",
      "_view_count": null,
      "_view_module": "@jupyter-widgets/base",
      "_view_module_version": "1.2.0",
      "_view_name": "StyleView",
      "bar_color": null,
      "description_width": ""
     }
    },
    "97a1ba6ceea74b89b6a482d629d8881c": {
     "model_module": "@jupyter-widgets/controls",
     "model_module_version": "1.5.0",
     "model_name": "HBoxModel",
     "state": {
      "_dom_classes": [],
      "_model_module": "@jupyter-widgets/controls",
      "_model_module_version": "1.5.0",
      "_model_name": "HBoxModel",
      "_view_count": null,
      "_view_module": "@jupyter-widgets/controls",
      "_view_module_version": "1.5.0",
      "_view_name": "HBoxView",
      "box_style": "",
      "children": [
       "IPY_MODEL_35560bdfb97343759e8b194f343e7377",
       "IPY_MODEL_e253b23702bb498ca25ce8d54a33e795",
       "IPY_MODEL_311ee09963c646f8866fed7251954c10"
      ],
      "layout": "IPY_MODEL_e0d645e8ccd3452481e7676bf34b06f1"
     }
    },
    "a0c9daf9dad84703bd57e30b02b6c362": {
     "model_module": "@jupyter-widgets/base",
     "model_module_version": "1.2.0",
     "model_name": "LayoutModel",
     "state": {
      "_model_module": "@jupyter-widgets/base",
      "_model_module_version": "1.2.0",
      "_model_name": "LayoutModel",
      "_view_count": null,
      "_view_module": "@jupyter-widgets/base",
      "_view_module_version": "1.2.0",
      "_view_name": "LayoutView",
      "align_content": null,
      "align_items": null,
      "align_self": null,
      "border": null,
      "bottom": null,
      "display": null,
      "flex": null,
      "flex_flow": null,
      "grid_area": null,
      "grid_auto_columns": null,
      "grid_auto_flow": null,
      "grid_auto_rows": null,
      "grid_column": null,
      "grid_gap": null,
      "grid_row": null,
      "grid_template_areas": null,
      "grid_template_columns": null,
      "grid_template_rows": null,
      "height": null,
      "justify_content": null,
      "justify_items": null,
      "left": null,
      "margin": null,
      "max_height": null,
      "max_width": null,
      "min_height": null,
      "min_width": null,
      "object_fit": null,
      "object_position": null,
      "order": null,
      "overflow": null,
      "overflow_x": null,
      "overflow_y": null,
      "padding": null,
      "right": null,
      "top": null,
      "visibility": null,
      "width": null
     }
    },
    "a965c6a74a4d4a17bef4ab2e036abaff": {
     "model_module": "@jupyter-widgets/controls",
     "model_module_version": "1.5.0",
     "model_name": "ButtonStyleModel",
     "state": {
      "_model_module": "@jupyter-widgets/controls",
      "_model_module_version": "1.5.0",
      "_model_name": "ButtonStyleModel",
      "_view_count": null,
      "_view_module": "@jupyter-widgets/base",
      "_view_module_version": "1.2.0",
      "_view_name": "StyleView",
      "button_color": null,
      "font_weight": ""
     }
    },
    "ab566bdbbd564393a5355afb61470a2a": {
     "model_module": "@jupyter-widgets/controls",
     "model_module_version": "1.5.0",
     "model_name": "DescriptionStyleModel",
     "state": {
      "_model_module": "@jupyter-widgets/controls",
      "_model_module_version": "1.5.0",
      "_model_name": "DescriptionStyleModel",
      "_view_count": null,
      "_view_module": "@jupyter-widgets/base",
      "_view_module_version": "1.2.0",
      "_view_name": "StyleView",
      "description_width": ""
     }
    },
    "b25775e2ed9142b79e16556dfa8e44b7": {
     "model_module": "@jupyter-widgets/controls",
     "model_module_version": "1.5.0",
     "model_name": "ProgressStyleModel",
     "state": {
      "_model_module": "@jupyter-widgets/controls",
      "_model_module_version": "1.5.0",
      "_model_name": "ProgressStyleModel",
      "_view_count": null,
      "_view_module": "@jupyter-widgets/base",
      "_view_module_version": "1.2.0",
      "_view_name": "StyleView",
      "bar_color": null,
      "description_width": ""
     }
    },
    "baea74c5772849778d1d06bb3edc275e": {
     "model_module": "@jupyter-widgets/controls",
     "model_module_version": "1.5.0",
     "model_name": "HTMLModel",
     "state": {
      "_dom_classes": [],
      "_model_module": "@jupyter-widgets/controls",
      "_model_module_version": "1.5.0",
      "_model_name": "HTMLModel",
      "_view_count": null,
      "_view_module": "@jupyter-widgets/controls",
      "_view_module_version": "1.5.0",
      "_view_name": "HTMLView",
      "description": "",
      "description_tooltip": null,
      "layout": "IPY_MODEL_a0c9daf9dad84703bd57e30b02b6c362",
      "placeholder": "​",
      "style": "IPY_MODEL_cb7ec37a494344278e5dcede2409fec8",
      "value": "<center> <img\nsrc=https://huggingface.co/front/assets/huggingface_logo-noborder.svg\nalt='Hugging Face'> <br> Copy a token from <a\nhref=\"https://huggingface.co/settings/tokens\" target=\"_blank\">your Hugging Face\ntokens page</a> and paste it below. <br> Immediately click login after copying\nyour token or it might be stored in plain text in this notebook file. </center>"
     }
    },
    "bc07f5e200c144f0bfc6be1dd67501f6": {
     "model_module": "@jupyter-widgets/controls",
     "model_module_version": "1.5.0",
     "model_name": "DescriptionStyleModel",
     "state": {
      "_model_module": "@jupyter-widgets/controls",
      "_model_module_version": "1.5.0",
      "_model_name": "DescriptionStyleModel",
      "_view_count": null,
      "_view_module": "@jupyter-widgets/base",
      "_view_module_version": "1.2.0",
      "_view_name": "StyleView",
      "description_width": ""
     }
    },
    "c0f5db8683a54051ba8e09c18b937735": {
     "model_module": "@jupyter-widgets/controls",
     "model_module_version": "1.5.0",
     "model_name": "DescriptionStyleModel",
     "state": {
      "_model_module": "@jupyter-widgets/controls",
      "_model_module_version": "1.5.0",
      "_model_name": "DescriptionStyleModel",
      "_view_count": null,
      "_view_module": "@jupyter-widgets/base",
      "_view_module_version": "1.2.0",
      "_view_name": "StyleView",
      "description_width": ""
     }
    },
    "c32973a22ccd4f6bb4e54a47a1171065": {
     "model_module": "@jupyter-widgets/base",
     "model_module_version": "1.2.0",
     "model_name": "LayoutModel",
     "state": {
      "_model_module": "@jupyter-widgets/base",
      "_model_module_version": "1.2.0",
      "_model_name": "LayoutModel",
      "_view_count": null,
      "_view_module": "@jupyter-widgets/base",
      "_view_module_version": "1.2.0",
      "_view_name": "LayoutView",
      "align_content": null,
      "align_items": null,
      "align_self": null,
      "border": null,
      "bottom": null,
      "display": null,
      "flex": null,
      "flex_flow": null,
      "grid_area": null,
      "grid_auto_columns": null,
      "grid_auto_flow": null,
      "grid_auto_rows": null,
      "grid_column": null,
      "grid_gap": null,
      "grid_row": null,
      "grid_template_areas": null,
      "grid_template_columns": null,
      "grid_template_rows": null,
      "height": null,
      "justify_content": null,
      "justify_items": null,
      "left": null,
      "margin": null,
      "max_height": null,
      "max_width": null,
      "min_height": null,
      "min_width": null,
      "object_fit": null,
      "object_position": null,
      "order": null,
      "overflow": null,
      "overflow_x": null,
      "overflow_y": null,
      "padding": null,
      "right": null,
      "top": null,
      "visibility": null,
      "width": null
     }
    },
    "cb7ec37a494344278e5dcede2409fec8": {
     "model_module": "@jupyter-widgets/controls",
     "model_module_version": "1.5.0",
     "model_name": "DescriptionStyleModel",
     "state": {
      "_model_module": "@jupyter-widgets/controls",
      "_model_module_version": "1.5.0",
      "_model_name": "DescriptionStyleModel",
      "_view_count": null,
      "_view_module": "@jupyter-widgets/base",
      "_view_module_version": "1.2.0",
      "_view_name": "StyleView",
      "description_width": ""
     }
    },
    "cbb8e24978294ea0a9ee3e3e637d4c6f": {
     "model_module": "@jupyter-widgets/controls",
     "model_module_version": "1.5.0",
     "model_name": "PasswordModel",
     "state": {
      "_dom_classes": [],
      "_model_module": "@jupyter-widgets/controls",
      "_model_module_version": "1.5.0",
      "_model_name": "PasswordModel",
      "_view_count": null,
      "_view_module": "@jupyter-widgets/controls",
      "_view_module_version": "1.5.0",
      "_view_name": "PasswordView",
      "continuous_update": true,
      "description": "Token:",
      "description_tooltip": null,
      "disabled": false,
      "layout": "IPY_MODEL_0ebe55af4f694e12997eba593291c69d",
      "placeholder": "​",
      "style": "IPY_MODEL_fcf67a330d7f4c03815abb9b50664256",
      "value": ""
     }
    },
    "d37f751babc649bfac92a80d2fef5b87": {
     "model_module": "@jupyter-widgets/base",
     "model_module_version": "1.2.0",
     "model_name": "LayoutModel",
     "state": {
      "_model_module": "@jupyter-widgets/base",
      "_model_module_version": "1.2.0",
      "_model_name": "LayoutModel",
      "_view_count": null,
      "_view_module": "@jupyter-widgets/base",
      "_view_module_version": "1.2.0",
      "_view_name": "LayoutView",
      "align_content": null,
      "align_items": "center",
      "align_self": null,
      "border": null,
      "bottom": null,
      "display": "flex",
      "flex": null,
      "flex_flow": "column",
      "grid_area": null,
      "grid_auto_columns": null,
      "grid_auto_flow": null,
      "grid_auto_rows": null,
      "grid_column": null,
      "grid_gap": null,
      "grid_row": null,
      "grid_template_areas": null,
      "grid_template_columns": null,
      "grid_template_rows": null,
      "height": null,
      "justify_content": null,
      "justify_items": null,
      "left": null,
      "margin": null,
      "max_height": null,
      "max_width": null,
      "min_height": null,
      "min_width": null,
      "object_fit": null,
      "object_position": null,
      "order": null,
      "overflow": null,
      "overflow_x": null,
      "overflow_y": null,
      "padding": null,
      "right": null,
      "top": null,
      "visibility": null,
      "width": "50%"
     }
    },
    "dbc54c1695d149c6ae11fbe20f8652df": {
     "model_module": "@jupyter-widgets/base",
     "model_module_version": "1.2.0",
     "model_name": "LayoutModel",
     "state": {
      "_model_module": "@jupyter-widgets/base",
      "_model_module_version": "1.2.0",
      "_model_name": "LayoutModel",
      "_view_count": null,
      "_view_module": "@jupyter-widgets/base",
      "_view_module_version": "1.2.0",
      "_view_name": "LayoutView",
      "align_content": null,
      "align_items": null,
      "align_self": null,
      "border": null,
      "bottom": null,
      "display": null,
      "flex": null,
      "flex_flow": null,
      "grid_area": null,
      "grid_auto_columns": null,
      "grid_auto_flow": null,
      "grid_auto_rows": null,
      "grid_column": null,
      "grid_gap": null,
      "grid_row": null,
      "grid_template_areas": null,
      "grid_template_columns": null,
      "grid_template_rows": null,
      "height": null,
      "justify_content": null,
      "justify_items": null,
      "left": null,
      "margin": null,
      "max_height": null,
      "max_width": null,
      "min_height": null,
      "min_width": null,
      "object_fit": null,
      "object_position": null,
      "order": null,
      "overflow": null,
      "overflow_x": null,
      "overflow_y": null,
      "padding": null,
      "right": null,
      "top": null,
      "visibility": null,
      "width": null
     }
    },
    "de95f370a2644d79a1b18692393daed9": {
     "model_module": "@jupyter-widgets/controls",
     "model_module_version": "1.5.0",
     "model_name": "HTMLModel",
     "state": {
      "_dom_classes": [],
      "_model_module": "@jupyter-widgets/controls",
      "_model_module_version": "1.5.0",
      "_model_name": "HTMLModel",
      "_view_count": null,
      "_view_module": "@jupyter-widgets/controls",
      "_view_module_version": "1.5.0",
      "_view_name": "HTMLView",
      "description": "",
      "description_tooltip": null,
      "layout": "IPY_MODEL_c32973a22ccd4f6bb4e54a47a1171065",
      "placeholder": "​",
      "style": "IPY_MODEL_fca263ee57744f4d8d451715904d9790",
      "value": "dqn-LunarLander-v2.zip: 100%"
     }
    },
    "e0d645e8ccd3452481e7676bf34b06f1": {
     "model_module": "@jupyter-widgets/base",
     "model_module_version": "1.2.0",
     "model_name": "LayoutModel",
     "state": {
      "_model_module": "@jupyter-widgets/base",
      "_model_module_version": "1.2.0",
      "_model_name": "LayoutModel",
      "_view_count": null,
      "_view_module": "@jupyter-widgets/base",
      "_view_module_version": "1.2.0",
      "_view_name": "LayoutView",
      "align_content": null,
      "align_items": null,
      "align_self": null,
      "border": null,
      "bottom": null,
      "display": null,
      "flex": null,
      "flex_flow": null,
      "grid_area": null,
      "grid_auto_columns": null,
      "grid_auto_flow": null,
      "grid_auto_rows": null,
      "grid_column": null,
      "grid_gap": null,
      "grid_row": null,
      "grid_template_areas": null,
      "grid_template_columns": null,
      "grid_template_rows": null,
      "height": null,
      "justify_content": null,
      "justify_items": null,
      "left": null,
      "margin": null,
      "max_height": null,
      "max_width": null,
      "min_height": null,
      "min_width": null,
      "object_fit": null,
      "object_position": null,
      "order": null,
      "overflow": null,
      "overflow_x": null,
      "overflow_y": null,
      "padding": null,
      "right": null,
      "top": null,
      "visibility": null,
      "width": null
     }
    },
    "e253b23702bb498ca25ce8d54a33e795": {
     "model_module": "@jupyter-widgets/controls",
     "model_module_version": "1.5.0",
     "model_name": "FloatProgressModel",
     "state": {
      "_dom_classes": [],
      "_model_module": "@jupyter-widgets/controls",
      "_model_module_version": "1.5.0",
      "_model_name": "FloatProgressModel",
      "_view_count": null,
      "_view_module": "@jupyter-widgets/controls",
      "_view_module_version": "1.5.0",
      "_view_name": "ProgressView",
      "bar_style": "success",
      "description": "",
      "description_tooltip": null,
      "layout": "IPY_MODEL_67878ea260a544baa780e44da6616bea",
      "max": 146324,
      "min": 0,
      "orientation": "horizontal",
      "style": "IPY_MODEL_b25775e2ed9142b79e16556dfa8e44b7",
      "value": 146324
     }
    },
    "f0e2ae53f45d4f61a28092303f8c2368": {
     "model_module": "@jupyter-widgets/base",
     "model_module_version": "1.2.0",
     "model_name": "LayoutModel",
     "state": {
      "_model_module": "@jupyter-widgets/base",
      "_model_module_version": "1.2.0",
      "_model_name": "LayoutModel",
      "_view_count": null,
      "_view_module": "@jupyter-widgets/base",
      "_view_module_version": "1.2.0",
      "_view_name": "LayoutView",
      "align_content": null,
      "align_items": null,
      "align_self": null,
      "border": null,
      "bottom": null,
      "display": null,
      "flex": null,
      "flex_flow": null,
      "grid_area": null,
      "grid_auto_columns": null,
      "grid_auto_flow": null,
      "grid_auto_rows": null,
      "grid_column": null,
      "grid_gap": null,
      "grid_row": null,
      "grid_template_areas": null,
      "grid_template_columns": null,
      "grid_template_rows": null,
      "height": null,
      "justify_content": null,
      "justify_items": null,
      "left": null,
      "margin": null,
      "max_height": null,
      "max_width": null,
      "min_height": null,
      "min_width": null,
      "object_fit": null,
      "object_position": null,
      "order": null,
      "overflow": null,
      "overflow_x": null,
      "overflow_y": null,
      "padding": null,
      "right": null,
      "top": null,
      "visibility": null,
      "width": null
     }
    },
    "f12dfb7c74124ddb8c5339756ed5d14c": {
     "model_module": "@jupyter-widgets/base",
     "model_module_version": "1.2.0",
     "model_name": "LayoutModel",
     "state": {
      "_model_module": "@jupyter-widgets/base",
      "_model_module_version": "1.2.0",
      "_model_name": "LayoutModel",
      "_view_count": null,
      "_view_module": "@jupyter-widgets/base",
      "_view_module_version": "1.2.0",
      "_view_name": "LayoutView",
      "align_content": null,
      "align_items": null,
      "align_self": null,
      "border": null,
      "bottom": null,
      "display": null,
      "flex": null,
      "flex_flow": null,
      "grid_area": null,
      "grid_auto_columns": null,
      "grid_auto_flow": null,
      "grid_auto_rows": null,
      "grid_column": null,
      "grid_gap": null,
      "grid_row": null,
      "grid_template_areas": null,
      "grid_template_columns": null,
      "grid_template_rows": null,
      "height": null,
      "justify_content": null,
      "justify_items": null,
      "left": null,
      "margin": null,
      "max_height": null,
      "max_width": null,
      "min_height": null,
      "min_width": null,
      "object_fit": null,
      "object_position": null,
      "order": null,
      "overflow": null,
      "overflow_x": null,
      "overflow_y": null,
      "padding": null,
      "right": null,
      "top": null,
      "visibility": null,
      "width": null
     }
    },
    "f19dfe5c1b2848de96a3d3601916cc7c": {
     "model_module": "@jupyter-widgets/base",
     "model_module_version": "1.2.0",
     "model_name": "LayoutModel",
     "state": {
      "_model_module": "@jupyter-widgets/base",
      "_model_module_version": "1.2.0",
      "_model_name": "LayoutModel",
      "_view_count": null,
      "_view_module": "@jupyter-widgets/base",
      "_view_module_version": "1.2.0",
      "_view_name": "LayoutView",
      "align_content": null,
      "align_items": null,
      "align_self": null,
      "border": null,
      "bottom": null,
      "display": null,
      "flex": null,
      "flex_flow": null,
      "grid_area": null,
      "grid_auto_columns": null,
      "grid_auto_flow": null,
      "grid_auto_rows": null,
      "grid_column": null,
      "grid_gap": null,
      "grid_row": null,
      "grid_template_areas": null,
      "grid_template_columns": null,
      "grid_template_rows": null,
      "height": null,
      "justify_content": null,
      "justify_items": null,
      "left": null,
      "margin": null,
      "max_height": null,
      "max_width": null,
      "min_height": null,
      "min_width": null,
      "object_fit": null,
      "object_position": null,
      "order": null,
      "overflow": null,
      "overflow_x": null,
      "overflow_y": null,
      "padding": null,
      "right": null,
      "top": null,
      "visibility": null,
      "width": null
     }
    },
    "f36e66d04b7c48709ae886e78601eaf0": {
     "model_module": "@jupyter-widgets/base",
     "model_module_version": "1.2.0",
     "model_name": "LayoutModel",
     "state": {
      "_model_module": "@jupyter-widgets/base",
      "_model_module_version": "1.2.0",
      "_model_name": "LayoutModel",
      "_view_count": null,
      "_view_module": "@jupyter-widgets/base",
      "_view_module_version": "1.2.0",
      "_view_name": "LayoutView",
      "align_content": null,
      "align_items": null,
      "align_self": null,
      "border": null,
      "bottom": null,
      "display": null,
      "flex": null,
      "flex_flow": null,
      "grid_area": null,
      "grid_auto_columns": null,
      "grid_auto_flow": null,
      "grid_auto_rows": null,
      "grid_column": null,
      "grid_gap": null,
      "grid_row": null,
      "grid_template_areas": null,
      "grid_template_columns": null,
      "grid_template_rows": null,
      "height": null,
      "justify_content": null,
      "justify_items": null,
      "left": null,
      "margin": null,
      "max_height": null,
      "max_width": null,
      "min_height": null,
      "min_width": null,
      "object_fit": null,
      "object_position": null,
      "order": null,
      "overflow": null,
      "overflow_x": null,
      "overflow_y": null,
      "padding": null,
      "right": null,
      "top": null,
      "visibility": null,
      "width": null
     }
    },
    "f5dc0ad331fa4d7f80d8b608b60c9e44": {
     "model_module": "@jupyter-widgets/controls",
     "model_module_version": "1.5.0",
     "model_name": "HTMLModel",
     "state": {
      "_dom_classes": [],
      "_model_module": "@jupyter-widgets/controls",
      "_model_module_version": "1.5.0",
      "_model_name": "HTMLModel",
      "_view_count": null,
      "_view_module": "@jupyter-widgets/controls",
      "_view_module_version": "1.5.0",
      "_view_name": "HTMLView",
      "description": "",
      "description_tooltip": null,
      "layout": "IPY_MODEL_18b620a0db8e43db8674d0b7899ea788",
      "placeholder": "​",
      "style": "IPY_MODEL_ab566bdbbd564393a5355afb61470a2a",
      "value": " 2/2 [00:00&lt;00:00,  2.41it/s]"
     }
    },
    "faedbb1b2bda4fdaaae073b2328b6662": {
     "model_module": "@jupyter-widgets/controls",
     "model_module_version": "1.5.0",
     "model_name": "VBoxModel",
     "state": {
      "_dom_classes": [],
      "_model_module": "@jupyter-widgets/controls",
      "_model_module_version": "1.5.0",
      "_model_name": "VBoxModel",
      "_view_count": null,
      "_view_module": "@jupyter-widgets/controls",
      "_view_module_version": "1.5.0",
      "_view_name": "VBoxView",
      "box_style": "",
      "children": [
       "IPY_MODEL_4bcce309087643a1982cbf898736e842",
       "IPY_MODEL_4a82c737e0984deb9e3bffe62e94d60b",
       "IPY_MODEL_6d2d1b203e3344d88f5134441ec1b567",
       "IPY_MODEL_1d1efa33832e45c98a2c7bcb5e1164eb"
      ],
      "layout": "IPY_MODEL_d37f751babc649bfac92a80d2fef5b87"
     }
    },
    "fca263ee57744f4d8d451715904d9790": {
     "model_module": "@jupyter-widgets/controls",
     "model_module_version": "1.5.0",
     "model_name": "DescriptionStyleModel",
     "state": {
      "_model_module": "@jupyter-widgets/controls",
      "_model_module_version": "1.5.0",
      "_model_name": "DescriptionStyleModel",
      "_view_count": null,
      "_view_module": "@jupyter-widgets/base",
      "_view_module_version": "1.2.0",
      "_view_name": "StyleView",
      "description_width": ""
     }
    },
    "fcf67a330d7f4c03815abb9b50664256": {
     "model_module": "@jupyter-widgets/controls",
     "model_module_version": "1.5.0",
     "model_name": "DescriptionStyleModel",
     "state": {
      "_model_module": "@jupyter-widgets/controls",
      "_model_module_version": "1.5.0",
      "_model_name": "DescriptionStyleModel",
      "_view_count": null,
      "_view_module": "@jupyter-widgets/base",
      "_view_module_version": "1.2.0",
      "_view_name": "StyleView",
      "description_width": ""
     }
    },
    "fd40b11f0ba942ae97d4e2ce376b1e3b": {
     "model_module": "@jupyter-widgets/base",
     "model_module_version": "1.2.0",
     "model_name": "LayoutModel",
     "state": {
      "_model_module": "@jupyter-widgets/base",
      "_model_module_version": "1.2.0",
      "_model_name": "LayoutModel",
      "_view_count": null,
      "_view_module": "@jupyter-widgets/base",
      "_view_module_version": "1.2.0",
      "_view_name": "LayoutView",
      "align_content": null,
      "align_items": null,
      "align_self": null,
      "border": null,
      "bottom": null,
      "display": null,
      "flex": null,
      "flex_flow": null,
      "grid_area": null,
      "grid_auto_columns": null,
      "grid_auto_flow": null,
      "grid_auto_rows": null,
      "grid_column": null,
      "grid_gap": null,
      "grid_row": null,
      "grid_template_areas": null,
      "grid_template_columns": null,
      "grid_template_rows": null,
      "height": null,
      "justify_content": null,
      "justify_items": null,
      "left": null,
      "margin": null,
      "max_height": null,
      "max_width": null,
      "min_height": null,
      "min_width": null,
      "object_fit": null,
      "object_position": null,
      "order": null,
      "overflow": null,
      "overflow_x": null,
      "overflow_y": null,
      "padding": null,
      "right": null,
      "top": null,
      "visibility": null,
      "width": null
     }
    },
    "fd7a614d07bd4c629f419965961730f8": {
     "model_module": "@jupyter-widgets/controls",
     "model_module_version": "1.5.0",
     "model_name": "FloatProgressModel",
     "state": {
      "_dom_classes": [],
      "_model_module": "@jupyter-widgets/controls",
      "_model_module_version": "1.5.0",
      "_model_name": "FloatProgressModel",
      "_view_count": null,
      "_view_module": "@jupyter-widgets/controls",
      "_view_module_version": "1.5.0",
      "_view_name": "ProgressView",
      "bar_style": "success",
      "description": "",
      "description_tooltip": null,
      "layout": "IPY_MODEL_7688f0b367484ab8b3e4e7359a5642d5",
      "max": 105421,
      "min": 0,
      "orientation": "horizontal",
      "style": "IPY_MODEL_06ada10b2c264218896da24f6857fecc",
      "value": 105421
     }
    },
    "ff486779d1754ada97cd7ceb16389967": {
     "model_module": "@jupyter-widgets/controls",
     "model_module_version": "1.5.0",
     "model_name": "DescriptionStyleModel",
     "state": {
      "_model_module": "@jupyter-widgets/controls",
      "_model_module_version": "1.5.0",
      "_model_name": "DescriptionStyleModel",
      "_view_count": null,
      "_view_module": "@jupyter-widgets/base",
      "_view_module_version": "1.2.0",
      "_view_name": "StyleView",
      "description_width": ""
     }
    }
   }
  }
 },
 "nbformat": 4,
 "nbformat_minor": 4
}
