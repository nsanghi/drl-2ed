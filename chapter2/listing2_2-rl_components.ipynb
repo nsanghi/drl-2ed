{
  "cells": [
    {
      "cell_type": "markdown",
      "metadata": {
        "id": "C9LspitiAK83"
      },
      "source": [
        "## Markov Processes\n",
        "\n",
        "### Markov Chain - Continuing\n",
        "\n",
        "These are the chains which have no terminations.\n",
        "\n",
        "![Markov Chain](./images/mcchain_continuing.png \"Markov Chain\")"
      ]
    },
    {
      "cell_type": "code",
      "execution_count": 1,
      "metadata": {
        "id": "mJGPHIKfAK86"
      },
      "outputs": [],
      "source": [
        "import numpy as np"
      ]
    },
    {
      "cell_type": "code",
      "execution_count": 2,
      "metadata": {
        "id": "5AuEi_hGAK88",
        "outputId": "56c7bd1a-7a03-4e2c-e330-72c5a5c7a63a",
        "colab": {
          "base_uri": "https://localhost:8080/"
        }
      },
      "outputs": [
        {
          "output_type": "stream",
          "name": "stdout",
          "text": [
            "Transition Matrix:\n",
            " [[0.3 0.7]\n",
            " [0.2 0.8]]\n",
            "\n",
            "Iter 0. Probability vector S = [0.25 0.75]\n",
            "\n",
            "Iter 1. Probability vector S = [0.225 0.775]\n",
            "\n",
            "Iter 2. Probability vector S = [0.2225 0.7775]\n",
            "\n",
            "Iter 3. Probability vector S = [0.22225 0.77775]\n",
            "\n",
            "Iter 4. Probability vector S = [0.222225 0.777775]\n",
            "\n",
            "Iter 5. Probability vector S = [0.2222225 0.7777775]\n",
            "\n",
            "Iter 6. Probability vector S = [0.22222225 0.77777775]\n",
            "\n",
            "Iter 7. Probability vector S = [0.22222223 0.77777778]\n",
            "\n",
            "Iter 8. Probability vector S = [0.22222222 0.77777778]\n",
            "\n",
            "Iter 9. Probability vector S = [0.22222222 0.77777778]\n",
            "\n",
            "Final Vector S=[0.22222222 0.77777778]\n"
          ]
        }
      ],
      "source": [
        "# MC with no end\n",
        "\n",
        "# import numpy library to do vector algebra\n",
        "import numpy as np\n",
        "\n",
        "# define transition matrix\n",
        "P = np.array([[0.3, 0.7], [0.2, 0.8]])\n",
        "print(\"Transition Matrix:\\n\", P)\n",
        "\n",
        "# define any starting solution to state probabilities\n",
        "# Here we assume equal probabilities for all the states\n",
        "S = np.array([0.5, 0.5])\n",
        "\n",
        "# run through 10 iterations to calculate steady state\n",
        "# transition probabilities\n",
        "for i in range(10):\n",
        "    S = np.dot(S, P)\n",
        "    print(\"\\nIter {0}. Probability vector S = {1}\".format(i, S))\n",
        "\n",
        "\n",
        "print(\"\\nFinal Vector S={0}\".format(S))"
      ]
    },
    {
      "cell_type": "markdown",
      "metadata": {
        "id": "Kz4UtBbdAK89"
      },
      "source": [
        "### Markov Chain - Episodic\n",
        "\n",
        "\n",
        "![Markov Chain Episodic](./images/mc_episodic.png \"Markov Chain Episodic\")"
      ]
    },
    {
      "cell_type": "code",
      "execution_count": 3,
      "metadata": {
        "id": "jKWlO0R5AK8-",
        "outputId": "fd0bc6be-a2c4-433f-ad0b-949e211edacc",
        "colab": {
          "base_uri": "https://localhost:8080/"
        }
      },
      "outputs": [
        {
          "output_type": "stream",
          "name": "stdout",
          "text": [
            "Transition Matrix:\n",
            " [[0.3 0.5 0.2 0. ]\n",
            " [0.1 0.9 0.  0. ]\n",
            " [0.4 0.  0.  0.6]\n",
            " [0.  0.  0.  1. ]]\n",
            "\n",
            "Final Vector S=[4.73405766e-09 2.84857504e-08 9.63092427e-10 9.99999966e-01]\n"
          ]
        }
      ],
      "source": [
        "# MC Episodic\n",
        "\n",
        "# import numpy library to do vector algebra\n",
        "import numpy as np\n",
        "\n",
        "# define transition matrix\n",
        "P = np.array([\n",
        "    [0.3, 0.5, 0.2, 0.0],\n",
        "    [0.1, 0.9, 0.0, 0.0],\n",
        "    [0.4, 0, 0, 0.6],\n",
        "    [0, 0, 0, 1]\n",
        "])\n",
        "\n",
        "print(\"Transition Matrix:\\n\", P)\n",
        "\n",
        "# define any starting solution to state probabilities\n",
        "# Here we assume equal probabilities for all the states\n",
        "S = np.array([1, 0, 0, 0])\n",
        "\n",
        "# run through 10 iterations to calculate steady state\n",
        "# transition probabilities which should give prob ~ 1 for terminal state\n",
        "for i in range(1000):\n",
        "    S = np.dot(S, P)\n",
        "    # print(\"\\nIter {0}. Probability vector S = {1}\".format(i, S))\n",
        "\n",
        "\n",
        "print(\"\\nFinal Vector S={0}\".format(S))"
      ]
    },
    {
      "cell_type": "markdown",
      "metadata": {
        "id": "LtONXG4JAK8_"
      },
      "source": [
        "### Markov Reward Process - Continuing\n",
        "\n",
        "Now the process has a reward for each transition in addition to the transition probabilities.\n",
        "\n",
        "![Markov Reward Process](./images/mrp_continuing.png \"Markov Reward Process\")"
      ]
    }
  ],
  "metadata": {
    "kernelspec": {
      "display_name": "Python 3 (ipykernel)",
      "language": "python",
      "name": "python3"
    },
    "language_info": {
      "codemirror_mode": {
        "name": "ipython",
        "version": 3
      },
      "file_extension": ".py",
      "mimetype": "text/x-python",
      "name": "python",
      "nbconvert_exporter": "python",
      "pygments_lexer": "ipython3",
      "version": "3.10.12"
    },
    "colab": {
      "provenance": []
    }
  },
  "nbformat": 4,
  "nbformat_minor": 0
}