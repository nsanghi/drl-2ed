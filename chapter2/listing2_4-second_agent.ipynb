{
  "cells": [
    {
      "cell_type": "markdown",
      "metadata": {
        "id": "view-in-github",
        "colab_type": "text"
      },
      "source": [
        "<a href=\"https://colab.research.google.com/github/nsanghi/drl-2ed/blob/main/chapter2/listing2_4-second_agent.ipynb\" target=\"_parent\"><img src=\"https://colab.research.google.com/assets/colab-badge.svg\" alt=\"Open In Colab\"/></a>"
      ]
    },
    {
      "cell_type": "markdown",
      "metadata": {
        "id": "hyyN-2qyK_T2"
      },
      "source": [
        "# Train your Second Agent\n",
        "\n",
        "In this Notebook we will explore yet another environment, train the agent and then share the result using Huggingface ecosystem.\n"
      ]
    },
    {
      "cell_type": "markdown",
      "metadata": {
        "id": "Qqvt5EqiOqmS"
      },
      "source": [
        "## Running in Colab\n",
        "\n",
        "If you are running this on Colab, please uncomment below cell and run this to install required dependencies.\n",
        "\n"
      ]
    },
    {
      "cell_type": "code",
      "execution_count": null,
      "metadata": {
        "id": "gWskDE2c9WoN"
      },
      "outputs": [],
      "source": [
        "#uncomment and execute this cell to install all the the dependencies if running in Google Colab\n",
        "\n",
        "# !apt-get update && apt-get install swig cmake ffmpeg freeglut3-dev xvfb\n",
        "# !pip install box2d-py\n",
        "# !pip install \"stable-baselines3[extra]>=2.0.0a4\"\n",
        "# !pip install git+https://github.com/huggingface/huggingface_sb3@gymnasium"
      ]
    },
    {
      "cell_type": "markdown",
      "metadata": {
        "id": "FtY8FhliLsGm"
      },
      "source": [
        "## Imports"
      ]
    },
    {
      "cell_type": "code",
      "execution_count": 1,
      "metadata": {
        "colab": {
          "base_uri": "https://localhost:8080/"
        },
        "id": "BIedd7Pz9sOs",
        "outputId": "12035c23-efde-4690-d41f-592c568db6c6"
      },
      "outputs": [
        {
          "output_type": "stream",
          "name": "stderr",
          "text": [
            "/usr/local/lib/python3.10/dist-packages/torch/utils/tensorboard/__init__.py:4: DeprecationWarning: distutils Version classes are deprecated. Use packaging.version instead.\n",
            "  if not hasattr(tensorboard, \"__version__\") or LooseVersion(\n"
          ]
        }
      ],
      "source": [
        "import gymnasium as gym\n",
        "\n",
        "from stable_baselines3.common.env_util import make_atari_env\n",
        "from stable_baselines3.common.vec_env import VecFrameStack\n",
        "from stable_baselines3 import A2C"
      ]
    },
    {
      "cell_type": "markdown",
      "metadata": {
        "id": "RapkYvTXL7Cd"
      },
      "source": [
        "## Create the Gym env and instantiate the agent\n",
        "\n",
        "For this example, we will use an environment from Atari Simulator. Atari environments are simulated via the Arcade Learning Environment (ALE) [1] through the [Stella](https://github.com/stella-emu/stella) and the [Arcade Learning Environment](https://github.com/mgbellemare/Arcade-Learning-Environment).\n",
        "\n",
        "![Pong](https://gymnasium.farama.org/_images/pong.gif)\n",
        "\n",
        "\n",
        "We will use [Pong](https://gymnasium.farama.org/environments/atari/pong/) from the Atari game simulator. We will be using a specific variant  `PongNoFrameskip-v4`. For now we will not delve into the details except telling you that in this case the state is the image of the game and actions are the game controller actions. As we will be using images as state, we will use a different variation of policy network called `CnnPolicy` which is based on CNNs (Convolutional Neural Networks).\n",
        "\n",
        "Last notebook we used DQN as the algorithm to train the agent. In this notebook we will be used [A2C algorithm](https://stable-baselines3.readthedocs.io/en/master/modules/a2c.html). A2C is a synchronous, deterministic variant of Asynchronous Advantage Actor Critic ([A3C](https://arxiv.org/abs/1602.01783))."
      ]
    },
    {
      "cell_type": "code",
      "execution_count": 3,
      "metadata": {
        "colab": {
          "base_uri": "https://localhost:8080/"
        },
        "id": "pUWGZp3i9wyf",
        "outputId": "4e895fb2-f814-4ba6-84b4-e6b81db5fa81"
      },
      "outputs": [
        {
          "output_type": "stream",
          "name": "stdout",
          "text": [
            "Using cuda device\n",
            "Wrapping the env in a VecTransposeImage.\n"
          ]
        }
      ],
      "source": [
        "# There already exists an environment generator\n",
        "# that will make and wrap atari environments correctly.\n",
        "# Here we are also multi-worker training (n_envs=4 => 4 environments)\n",
        "env_id = \"PongNoFrameskip-v4\"\n",
        "\n",
        "vec_env = make_atari_env(env_id, n_envs=4, seed=0)\n",
        "# Frame-stacking with 4 frames\n",
        "vec_env = VecFrameStack(vec_env, n_stack=4)\n",
        "\n",
        "model = A2C(\"CnnPolicy\", vec_env, verbose=1)\n"
      ]
    },
    {
      "cell_type": "markdown",
      "metadata": {
        "id": "UQOeDMf7OqmY"
      },
      "source": [
        "## Train the Agent\n",
        "\n",
        "It is advisable to run this on an envirnment with GPU as otherwise it may take long to run this"
      ]
    },
    {
      "cell_type": "code",
      "execution_count": 4,
      "metadata": {
        "id": "Gtkged9XOqmZ",
        "outputId": "dea1135d-5fc9-42a7-e5b1-e859e96e6369",
        "colab": {
          "base_uri": "https://localhost:8080/",
          "height": 1000,
          "referenced_widgets": [
            "cd65023dd686459da54e33bdcc0416a5",
            "98595e0c7ab74aada35ef1b34a4304ea"
          ]
        }
      },
      "outputs": [
        {
          "output_type": "display_data",
          "data": {
            "text/plain": [
              "Output()"
            ],
            "application/vnd.jupyter.widget-view+json": {
              "version_major": 2,
              "version_minor": 0,
              "model_id": "cd65023dd686459da54e33bdcc0416a5"
            }
          },
          "metadata": {}
        },
        {
          "output_type": "stream",
          "name": "stdout",
          "text": [
            "------------------------------------\n",
            "| rollout/              |          |\n",
            "|    ep_len_mean        | 3.66e+03 |\n",
            "|    ep_rew_mean        | -20.4    |\n",
            "| time/                 |          |\n",
            "|    fps                | 321      |\n",
            "|    iterations         | 500      |\n",
            "|    time_elapsed       | 31       |\n",
            "|    total_timesteps    | 10000    |\n",
            "| train/                |          |\n",
            "|    entropy_loss       | -1.66    |\n",
            "|    explained_variance | -0.00417 |\n",
            "|    learning_rate      | 0.0007   |\n",
            "|    n_updates          | 499      |\n",
            "|    policy_loss        | -0.25    |\n",
            "|    value_loss         | 0.183    |\n",
            "------------------------------------\n",
            "------------------------------------\n",
            "| rollout/              |          |\n",
            "|    ep_len_mean        | 3.61e+03 |\n",
            "|    ep_rew_mean        | -20.5    |\n",
            "| time/                 |          |\n",
            "|    fps                | 357      |\n",
            "|    iterations         | 1000     |\n",
            "|    time_elapsed       | 55       |\n",
            "|    total_timesteps    | 20000    |\n",
            "| train/                |          |\n",
            "|    entropy_loss       | -1.02    |\n",
            "|    explained_variance | 0.76     |\n",
            "|    learning_rate      | 0.0007   |\n",
            "|    n_updates          | 999      |\n",
            "|    policy_loss        | -0.107   |\n",
            "|    value_loss         | 0.0641   |\n",
            "------------------------------------\n",
            "------------------------------------\n",
            "| rollout/              |          |\n",
            "|    ep_len_mean        | 3.55e+03 |\n",
            "|    ep_rew_mean        | -20.4    |\n",
            "| time/                 |          |\n",
            "|    fps                | 368      |\n",
            "|    iterations         | 1500     |\n",
            "|    time_elapsed       | 81       |\n",
            "|    total_timesteps    | 30000    |\n",
            "| train/                |          |\n",
            "|    entropy_loss       | -1.52    |\n",
            "|    explained_variance | 0.588    |\n",
            "|    learning_rate      | 0.0007   |\n",
            "|    n_updates          | 1499     |\n",
            "|    policy_loss        | -0.0242  |\n",
            "|    value_loss         | 0.00348  |\n",
            "------------------------------------\n",
            "------------------------------------\n",
            "| rollout/              |          |\n",
            "|    ep_len_mean        | 3.56e+03 |\n",
            "|    ep_rew_mean        | -20.3    |\n",
            "| time/                 |          |\n",
            "|    fps                | 374      |\n",
            "|    iterations         | 2000     |\n",
            "|    time_elapsed       | 106      |\n",
            "|    total_timesteps    | 40000    |\n",
            "| train/                |          |\n",
            "|    entropy_loss       | -1.62    |\n",
            "|    explained_variance | -0.248   |\n",
            "|    learning_rate      | 0.0007   |\n",
            "|    n_updates          | 1999     |\n",
            "|    policy_loss        | 0.0485   |\n",
            "|    value_loss         | 0.00411  |\n",
            "------------------------------------\n",
            "------------------------------------\n",
            "| rollout/              |          |\n",
            "|    ep_len_mean        | 3.52e+03 |\n",
            "|    ep_rew_mean        | -20.4    |\n",
            "| time/                 |          |\n",
            "|    fps                | 378      |\n",
            "|    iterations         | 2500     |\n",
            "|    time_elapsed       | 132      |\n",
            "|    total_timesteps    | 50000    |\n",
            "| train/                |          |\n",
            "|    entropy_loss       | -1.15    |\n",
            "|    explained_variance | 0.867    |\n",
            "|    learning_rate      | 0.0007   |\n",
            "|    n_updates          | 2499     |\n",
            "|    policy_loss        | -0.0434  |\n",
            "|    value_loss         | 0.0143   |\n",
            "------------------------------------\n",
            "------------------------------------\n",
            "| rollout/              |          |\n",
            "|    ep_len_mean        | 3.5e+03  |\n",
            "|    ep_rew_mean        | -20.4    |\n",
            "| time/                 |          |\n",
            "|    fps                | 382      |\n",
            "|    iterations         | 3000     |\n",
            "|    time_elapsed       | 156      |\n",
            "|    total_timesteps    | 60000    |\n",
            "| train/                |          |\n",
            "|    entropy_loss       | -1.39    |\n",
            "|    explained_variance | 0.0896   |\n",
            "|    learning_rate      | 0.0007   |\n",
            "|    n_updates          | 2999     |\n",
            "|    policy_loss        | 0.00155  |\n",
            "|    value_loss         | 0.0418   |\n",
            "------------------------------------\n",
            "------------------------------------\n",
            "| rollout/              |          |\n",
            "|    ep_len_mean        | 3.48e+03 |\n",
            "|    ep_rew_mean        | -20.4    |\n",
            "| time/                 |          |\n",
            "|    fps                | 385      |\n",
            "|    iterations         | 3500     |\n",
            "|    time_elapsed       | 181      |\n",
            "|    total_timesteps    | 70000    |\n",
            "| train/                |          |\n",
            "|    entropy_loss       | -1.39    |\n",
            "|    explained_variance | 0.0842   |\n",
            "|    learning_rate      | 0.0007   |\n",
            "|    n_updates          | 3499     |\n",
            "|    policy_loss        | 0.137    |\n",
            "|    value_loss         | 0.0328   |\n",
            "------------------------------------\n",
            "------------------------------------\n",
            "| rollout/              |          |\n",
            "|    ep_len_mean        | 3.47e+03 |\n",
            "|    ep_rew_mean        | -20.4    |\n",
            "| time/                 |          |\n",
            "|    fps                | 387      |\n",
            "|    iterations         | 4000     |\n",
            "|    time_elapsed       | 206      |\n",
            "|    total_timesteps    | 80000    |\n",
            "| train/                |          |\n",
            "|    entropy_loss       | -1.71    |\n",
            "|    explained_variance | 0.54     |\n",
            "|    learning_rate      | 0.0007   |\n",
            "|    n_updates          | 3999     |\n",
            "|    policy_loss        | -0.0286  |\n",
            "|    value_loss         | 0.00568  |\n",
            "------------------------------------\n",
            "------------------------------------\n",
            "| rollout/              |          |\n",
            "|    ep_len_mean        | 3.45e+03 |\n",
            "|    ep_rew_mean        | -20.5    |\n",
            "| time/                 |          |\n",
            "|    fps                | 387      |\n",
            "|    iterations         | 4500     |\n",
            "|    time_elapsed       | 232      |\n",
            "|    total_timesteps    | 90000    |\n",
            "| train/                |          |\n",
            "|    entropy_loss       | -1.26    |\n",
            "|    explained_variance | 0.891    |\n",
            "|    learning_rate      | 0.0007   |\n",
            "|    n_updates          | 4499     |\n",
            "|    policy_loss        | 0.0621   |\n",
            "|    value_loss         | 0.00847  |\n",
            "------------------------------------\n",
            "------------------------------------\n",
            "| rollout/              |          |\n",
            "|    ep_len_mean        | 3.4e+03  |\n",
            "|    ep_rew_mean        | -20.5    |\n",
            "| time/                 |          |\n",
            "|    fps                | 389      |\n",
            "|    iterations         | 5000     |\n",
            "|    time_elapsed       | 256      |\n",
            "|    total_timesteps    | 100000   |\n",
            "| train/                |          |\n",
            "|    entropy_loss       | -1.39    |\n",
            "|    explained_variance | 0.913    |\n",
            "|    learning_rate      | 0.0007   |\n",
            "|    n_updates          | 4999     |\n",
            "|    policy_loss        | -0.0738  |\n",
            "|    value_loss         | 0.0147   |\n",
            "------------------------------------\n"
          ]
        },
        {
          "output_type": "display_data",
          "data": {
            "text/plain": [],
            "text/html": [
              "<pre style=\"white-space:pre;overflow-x:auto;line-height:normal;font-family:Menlo,'DejaVu Sans Mono',consolas,'Courier New',monospace\"></pre>\n"
            ]
          },
          "metadata": {}
        },
        {
          "output_type": "display_data",
          "data": {
            "text/plain": [
              "\n"
            ],
            "text/html": [
              "<pre style=\"white-space:pre;overflow-x:auto;line-height:normal;font-family:Menlo,'DejaVu Sans Mono',consolas,'Courier New',monospace\">\n",
              "</pre>\n"
            ]
          },
          "metadata": {}
        },
        {
          "output_type": "execute_result",
          "data": {
            "text/plain": [
              "<stable_baselines3.a2c.a2c.A2C at 0x7c1f18fc9c90>"
            ]
          },
          "metadata": {},
          "execution_count": 4
        }
      ],
      "source": [
        "# If you have a GPU, you can increase the `total_timesteps` to something like 1_000_000 i.e. one million\n",
        "# It would take about 45 mins to train\n",
        "# The more you train the better the result will be\n",
        "\n",
        "model.learn(total_timesteps=20_000, log_interval=500, progress_bar=True)"
      ]
    },
    {
      "cell_type": "markdown",
      "metadata": {
        "id": "cdvmEsyMOqmZ"
      },
      "source": [
        "## Generate a Video"
      ]
    },
    {
      "cell_type": "code",
      "execution_count": 5,
      "metadata": {
        "id": "uUuhVC_oOqma",
        "outputId": "dd0830c0-f058-43a4-f153-710c2fd789cd",
        "colab": {
          "base_uri": "https://localhost:8080/"
        }
      },
      "outputs": [
        {
          "output_type": "stream",
          "name": "stderr",
          "text": [
            "/usr/local/lib/python3.10/dist-packages/gymnasium/utils/passive_env_checker.py:364: UserWarning: \u001b[33mWARN: No render fps was declared in the environment (env.metadata['render_fps'] is None or not defined), rendering may occur at inconsistent fps.\u001b[0m\n",
            "  logger.warn(\n"
          ]
        },
        {
          "output_type": "stream",
          "name": "stdout",
          "text": [
            "Saving video to /content/logs/videos/a2c-agent-PongNoFrameskip-v4-step-0-to-step-1000.mp4\n",
            "Moviepy - Building video /content/logs/videos/a2c-agent-PongNoFrameskip-v4-step-0-to-step-1000.mp4.\n",
            "Moviepy - Writing video /content/logs/videos/a2c-agent-PongNoFrameskip-v4-step-0-to-step-1000.mp4\n",
            "\n"
          ]
        },
        {
          "output_type": "stream",
          "name": "stderr",
          "text": [
            "                                                                 "
          ]
        },
        {
          "output_type": "stream",
          "name": "stdout",
          "text": [
            "Moviepy - Done !\n",
            "Moviepy - video ready /content/logs/videos/a2c-agent-PongNoFrameskip-v4-step-0-to-step-1000.mp4\n"
          ]
        },
        {
          "output_type": "stream",
          "name": "stderr",
          "text": [
            "\r"
          ]
        }
      ],
      "source": [
        "from stable_baselines3.common.vec_env import VecVideoRecorder, DummyVecEnv\n",
        "\n",
        "video_length = 1000\n",
        "video_folder = \"logs/videos/\"\n",
        "\n",
        "vec_env = make_atari_env(env_id, n_envs=1, seed=0)\n",
        "# Frame-stacking with 4 frames\n",
        "vec_env = VecFrameStack(vec_env, n_stack=4)\n",
        "\n",
        "obs = vec_env.reset()\n",
        "\n",
        "# Record the video starting at the first step\n",
        "vec_env = VecVideoRecorder(vec_env, video_folder,\n",
        "                       record_video_trigger=lambda x: x == 0, video_length=video_length,\n",
        "                       name_prefix=f\"a2c-agent-{env_id}\")\n",
        "\n",
        "vec_env.reset()\n",
        "for _ in range(video_length + 1):\n",
        "  action, _state = model.predict(obs)\n",
        "  obs, _, _, _ = vec_env.step(action)\n",
        "# Save the video\n",
        "vec_env.close()\n"
      ]
    },
    {
      "cell_type": "markdown",
      "metadata": {
        "id": "dXKNVnP4Oqma"
      },
      "source": [
        "## Watch the Video\n",
        "\n",
        "To get better results and if you have GPU, increase the `total_timesteps` to something like `1_000_000` in `model.learn` call above."
      ]
    },
    {
      "cell_type": "code",
      "execution_count": 6,
      "metadata": {
        "id": "K-ZQy2nQOqma",
        "outputId": "7baa4b02-e97e-4f5b-8386-10201499cb30",
        "colab": {
          "base_uri": "https://localhost:8080/",
          "height": 546
        }
      },
      "outputs": [
        {
          "output_type": "execute_result",
          "data": {
            "text/plain": [
              "<IPython.core.display.HTML object>"
            ],
            "text/html": [
              "\n",
              "<video width=400 controls>\n",
              "      <source src=\"data:video/mp4;base64,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\" type=\"video/mp4\">\n",
              "</video>\n"
            ]
          },
          "metadata": {},
          "execution_count": 6
        }
      ],
      "source": [
        "from IPython.display import HTML\n",
        "from base64 import b64encode\n",
        "mp4 = open('./logs/videos/a2c-agent-PongNoFrameskip-v4-step-0-to-step-1000.mp4','rb').read()\n",
        "data_url = \"data:video/mp4;base64,\" + b64encode(mp4).decode()\n",
        "HTML(\"\"\"\n",
        "<video width=400 controls>\n",
        "      <source src=\"%s\" type=\"video/mp4\">\n",
        "</video>\n",
        "\"\"\" % data_url)"
      ]
    },
    {
      "cell_type": "markdown",
      "metadata": {
        "id": "JfLpw1G9Oqmb"
      },
      "source": [
        "## Share the Video on Huggingface Account\n",
        "\n",
        "### First let us login into our huggingface account"
      ]
    },
    {
      "cell_type": "code",
      "execution_count": 7,
      "metadata": {
        "id": "sUU3FfOXOqmb",
        "outputId": "7e36ac9a-90ca-4d41-930f-b34b752c4249",
        "colab": {
          "base_uri": "https://localhost:8080/",
          "height": 145,
          "referenced_widgets": [
            "78581934075e4c82924441a4e03edf5b",
            "48f4fdfd846e419793461acebb7b90f0",
            "ed53d7ad81d4465dabb88b68a1642186",
            "4764ba541d564ce891df17c671218bde",
            "b428274bf2884dfca960ba50e53577ee",
            "8144fd539e2842cd8456bc53a08b8e17",
            "8b9f1b538724437db5ea03eb88770930",
            "30122117bef34ec2b1d63222299b9fc8",
            "776293693e1c473ba6017d506b904577",
            "57b54825dffa41dca8ba890eb6bde984",
            "7c1dfdadb9e34bdf818ed7a578053198",
            "de93dd13ead0492fb7b8948bf38a78ec",
            "e7c0de10050e431ba7d2d0d50e17c79d",
            "1a503d37a9904280bb943e7da914c087",
            "7908490859464defa1467f151bc54572",
            "8019edcf96d44d6db682e6683e4408a0",
            "379c375eceb6472aa02424dde1787442",
            "d50d473d2e084ae99835d0d442d20635",
            "7a47676f9acf44dd9925639bb02db04d",
            "dcd1f57d57684a37808206949f81847c",
            "5bd83ebaa5634fc2985681ba40c5a6bb",
            "ac3872641bd64cdaaae609b8a920cf33",
            "d56c10d799944b4db41e9a629f5c8495",
            "e58b7b4e2f59421c819bfa9939500161",
            "37ea82f3d8304a508b6719f289b3a52b",
            "ccc446cfb902465bb8c3d77161d60923",
            "9e1bb9367b4940d9a0703a81e7ef5b15",
            "9aaf62a81f0042b39e843ef65f1ecfa6",
            "6a36090ee5fd4dfa9baccbc56f16a7b6",
            "a76e9609f1c147018bcfd2660ea7acdc",
            "34de154977fa453792f0a0c822f459ec",
            "02c9cdc2a5f043cd8fb1c5c91fa35dc3"
          ]
        }
      },
      "outputs": [
        {
          "output_type": "display_data",
          "data": {
            "text/plain": [
              "VBox(children=(HTML(value='<center> <img\\nsrc=https://huggingface.co/front/assets/huggingface_logo-noborder.sv…"
            ],
            "application/vnd.jupyter.widget-view+json": {
              "version_major": 2,
              "version_minor": 0,
              "model_id": "78581934075e4c82924441a4e03edf5b"
            }
          },
          "metadata": {}
        }
      ],
      "source": [
        "from huggingface_sb3 import load_from_hub, package_to_hub, push_to_hub\n",
        "from huggingface_hub import notebook_login # To log to our Hugging Face account to be able to upload models to the Hub.\n",
        "\n",
        "notebook_login()\n",
        "!git config --global credential.helper store"
      ]
    },
    {
      "cell_type": "markdown",
      "metadata": {
        "id": "i84HLr3lOqmb"
      },
      "source": [
        "### Push to HuggingFace\n",
        "\n",
        "You can execute the code below to push the trained agent to huggingface hub. Towards the end of output there will be a link of the hosted model that you can share with your friends and family. Share the url without the ending paths \"tree/main\" so that the url takes them to Model Card tab where they can see the animation. e.g. in my case it will be:<br/>\n",
        "`https://huggingface.co/nsanghi/a2c-Atari-Pong/`<br/>\n",
        "instead of<br/>\n",
        "`https://huggingface.co/nsanghi/a2c-Atari-Pong/tree/main/`\n",
        "\n",
        "NOTE: At the time of writing this book, there is a bug in push_to_hub which results in sample video not getting created. You can refer to this bug here - https://github.com/huggingface/huggingface_sb3/issues/33\n",
        "\n"
      ]
    },
    {
      "cell_type": "code",
      "execution_count": 9,
      "metadata": {
        "id": "WpISOpL5Oqmb",
        "outputId": "d92807a7-25ba-4c71-a209-c50fc260320e",
        "colab": {
          "base_uri": "https://localhost:8080/",
          "height": 657,
          "referenced_widgets": [
            "b43c3d30f6da4653bce546af430da698",
            "305dd3c4b8894e9698dab73c7b7c42ff",
            "4c1b0d01a81a40169805909e9ec8d981",
            "53f92688a731456b831bbb6c679d115e",
            "ba0d21b5b33b44d1ad5f6923f911b1c0",
            "65afb468417949cc9df22b90adb70d17",
            "9a0008439db74b10a7aebd1062c37ff3",
            "f566ae5d5260494a93f74a92648cc338",
            "cdbf06604edd4391af9453bb4d0e141c",
            "1b2560310fc345b4a050f657fc863885",
            "823c3af59bbe4f78ae752714f9e7d41b"
          ]
        }
      },
      "outputs": [
        {
          "output_type": "stream",
          "name": "stdout",
          "text": [
            "Moviepy - Building video /content/logs/videos/a2c-agent-PongNoFrameskip-v4-step-1001-to-step-2001.mp4.\n",
            "Moviepy - Writing video /content/logs/videos/a2c-agent-PongNoFrameskip-v4-step-1001-to-step-2001.mp4\n",
            "\n"
          ]
        },
        {
          "output_type": "stream",
          "name": "stderr",
          "text": [
            "                                                  "
          ]
        },
        {
          "output_type": "stream",
          "name": "stdout",
          "text": [
            "Moviepy - Done !\n",
            "Moviepy - video ready /content/logs/videos/a2c-agent-PongNoFrameskip-v4-step-1001-to-step-2001.mp4\n",
            "\u001b[38;5;4mℹ This function will save, evaluate, generate a video of your agent,\n",
            "create a model card and push everything to the hub. It might take up to 1min.\n",
            "This is a work in progress: if you encounter a bug, please open an issue.\u001b[0m\n"
          ]
        },
        {
          "output_type": "stream",
          "name": "stderr",
          "text": [
            "\r"
          ]
        },
        {
          "output_type": "stream",
          "name": "stdout",
          "text": [
            "shimmy.atari_env:AtariEnv\n",
            "\u001b[38;5;1m✘ VecEnvWrapper.render() got an unexpected keyword argument\n",
            "'render_mode'\u001b[0m\n",
            "\u001b[38;5;1m✘ We are unable to generate a replay of your agent, the package_to_hub\n",
            "process continues\u001b[0m\n",
            "\u001b[38;5;1m✘ Please open an issue at\n",
            "https://github.com/huggingface/huggingface_sb3/issues\u001b[0m\n",
            "Moviepy - Building video /tmp/tmpdk41g9iy/-step-0-to-step-1000.mp4.\n",
            "Moviepy - Writing video /tmp/tmpdk41g9iy/-step-0-to-step-1000.mp4\n",
            "\n"
          ]
        },
        {
          "output_type": "stream",
          "name": "stderr",
          "text": [
            "Exception ignored in: <function VecVideoRecorder.__del__ at 0x7c1f191363b0>\n",
            "Traceback (most recent call last):\n",
            "  File \"/usr/local/lib/python3.10/dist-packages/stable_baselines3/common/vec_env/vec_video_recorder.py\", line 113, in __del__\n",
            "    self.close_video_recorder()\n",
            "  File \"/usr/local/lib/python3.10/dist-packages/stable_baselines3/common/vec_env/vec_video_recorder.py\", line 104, in close_video_recorder\n",
            "    self.video_recorder.close()\n",
            "  File \"/usr/local/lib/python3.10/dist-packages/gymnasium/wrappers/monitoring/video_recorder.py\", line 168, in close\n",
            "    self.write_metadata()\n",
            "  File \"/usr/local/lib/python3.10/dist-packages/gymnasium/wrappers/monitoring/video_recorder.py\", line 175, in write_metadata\n",
            "    with open(self.metadata_path, \"w\") as f:\n",
            "FileNotFoundError: [Errno 2] No such file or directory: '/tmp/tmpdk41g9iy/-step-0-to-step-1000.meta.json'\n"
          ]
        },
        {
          "output_type": "stream",
          "name": "stdout",
          "text": [
            "Moviepy - Done !\n",
            "Moviepy - video ready /tmp/tmpdk41g9iy/-step-0-to-step-1000.mp4\n",
            "\u001b[38;5;4mℹ Pushing repo nsanghi/a2c-Atari-Pong to the Hugging Face Hub\u001b[0m\n"
          ]
        },
        {
          "output_type": "display_data",
          "data": {
            "text/plain": [
              "A2C-Atari-Pong.zip:   0%|          | 0.00/13.8M [00:00<?, ?B/s]"
            ],
            "application/vnd.jupyter.widget-view+json": {
              "version_major": 2,
              "version_minor": 0,
              "model_id": "b43c3d30f6da4653bce546af430da698"
            }
          },
          "metadata": {}
        },
        {
          "output_type": "stream",
          "name": "stdout",
          "text": [
            "\u001b[38;5;4mℹ Your model is pushed to the Hub. You can view your model here:\n",
            "https://huggingface.co/nsanghi/a2c-Atari-Pong/tree/main/\u001b[0m\n"
          ]
        },
        {
          "output_type": "execute_result",
          "data": {
            "text/plain": [
              "'https://huggingface.co/nsanghi/a2c-Atari-Pong/tree/main/'"
            ],
            "application/vnd.google.colaboratory.intrinsic+json": {
              "type": "string"
            }
          },
          "metadata": {},
          "execution_count": 9
        }
      ],
      "source": [
        "eval_env = make_atari_env(env_id, n_envs=1, seed=0)\n",
        "# Frame-stacking with 4 frames\n",
        "eval_env = VecFrameStack(eval_env, n_stack=4)\n",
        "\n",
        "obs = vec_env.reset()\n",
        "\n",
        "# method save, evaluate, generate a model card and record a replay video of your agent before pushing the repo to the hub\n",
        "\n",
        "# Please note repo_id is of the form <huggingface_id>/<name of repo>\n",
        "# you will need to change this to \"<your_huggingface_id>/dqn-LunarLander-v2\"\n",
        "\n",
        "package_to_hub(model=model, # Our trained model\n",
        "               model_name=\"A2C-Atari-Pong\", # The name of our trained model\n",
        "               model_architecture=\"A2C\", # The model architecture we used: in our case PPO\n",
        "               env_id=env_id, # Name of the environment\n",
        "               eval_env=eval_env, # Evaluation Environment\n",
        "               repo_id=\"nsanghi/a2c-Atari-Pong\", # id of the model repository from the Hugging Face Hub (repo_id = {organization}/{repo_name} for instance ThomasSimonini/ppo-LunarLander-v2\n",
        "               commit_message=\"Push to Hub\")\n",
        "\n",
        "# Note: if after running the package_to_hub function and it gives an issue of rebasing, please run the following code\n",
        "# cd <path_to_repo> && git add . && git commit -m \"Add message\" && git pull\n",
        "# And don't forget to do a \"git push\" at the end to push the change to the hub."
      ]
    }
  ],
  "metadata": {
    "accelerator": "GPU",
    "colab": {
      "name": "listing2_4-second_agent.ipynb",
      "provenance": [],
      "include_colab_link": true
    },
    "kernelspec": {
      "display_name": "Python 3 (ipykernel)",
      "language": "python",
      "name": "python3"
    },
    "language_info": {
      "codemirror_mode": {
        "name": "ipython",
        "version": 3
      },
      "file_extension": ".py",
      "mimetype": "text/x-python",
      "name": "python",
      "nbconvert_exporter": "python",
      "pygments_lexer": "ipython3",
      "version": "3.10.12"
    },
    "vscode": {
      "interpreter": {
        "hash": "3201c96db5836b171d01fee72ea1be894646622d4b41771abf25c98b548a611d"
      }
    },
    "widgets": {
      "application/vnd.jupyter.widget-state+json": {
        "cd65023dd686459da54e33bdcc0416a5": {
          "model_module": "@jupyter-widgets/output",
          "model_name": "OutputModel",
          "model_module_version": "1.0.0",
          "state": {
            "_dom_classes": [],
            "_model_module": "@jupyter-widgets/output",
            "_model_module_version": "1.0.0",
            "_model_name": "OutputModel",
            "_view_count": null,
            "_view_module": "@jupyter-widgets/output",
            "_view_module_version": "1.0.0",
            "_view_name": "OutputView",
            "layout": "IPY_MODEL_98595e0c7ab74aada35ef1b34a4304ea",
            "msg_id": "",
            "outputs": [
              {
                "output_type": "display_data",
                "data": {
                  "text/plain": "\u001b[35m 100%\u001b[0m \u001b[38;2;249;38;114m━━━━━━━━━━━━━━━━━━━━━━━━━━━━━━━━━━━━━━━━━━━━━━━━━━━━━━━━━━━\u001b[0m\u001b[38;2;249;38;114m╸\u001b[0m \u001b[32m99,916/100,000 \u001b[0m [ \u001b[33m0:04:15\u001b[0m < \u001b[36m0:00:01\u001b[0m , \u001b[31m408 it/s\u001b[0m ]\n",
                  "text/html": "<pre style=\"white-space:pre;overflow-x:auto;line-height:normal;font-family:Menlo,'DejaVu Sans Mono',consolas,'Courier New',monospace\"><span style=\"color: #800080; text-decoration-color: #800080\"> 100%</span> <span style=\"color: #f92672; text-decoration-color: #f92672\">━━━━━━━━━━━━━━━━━━━━━━━━━━━━━━━━━━━━━━━━━━━━━━━━━━━━━━━━━━━╸</span> <span style=\"color: #008000; text-decoration-color: #008000\">99,916/100,000 </span> [ <span style=\"color: #808000; text-decoration-color: #808000\">0:04:15</span> &lt; <span style=\"color: #008080; text-decoration-color: #008080\">0:00:01</span> , <span style=\"color: #800000; text-decoration-color: #800000\">408 it/s</span> ]\n</pre>\n"
                },
                "metadata": {}
              }
            ]
          }
        },
        "98595e0c7ab74aada35ef1b34a4304ea": {
          "model_module": "@jupyter-widgets/base",
          "model_name": "LayoutModel",
          "model_module_version": "1.2.0",
          "state": {
            "_model_module": "@jupyter-widgets/base",
            "_model_module_version": "1.2.0",
            "_model_name": "LayoutModel",
            "_view_count": null,
            "_view_module": "@jupyter-widgets/base",
            "_view_module_version": "1.2.0",
            "_view_name": "LayoutView",
            "align_content": null,
            "align_items": null,
            "align_self": null,
            "border": null,
            "bottom": null,
            "display": null,
            "flex": null,
            "flex_flow": null,
            "grid_area": null,
            "grid_auto_columns": null,
            "grid_auto_flow": null,
            "grid_auto_rows": null,
            "grid_column": null,
            "grid_gap": null,
            "grid_row": null,
            "grid_template_areas": null,
            "grid_template_columns": null,
            "grid_template_rows": null,
            "height": null,
            "justify_content": null,
            "justify_items": null,
            "left": null,
            "margin": null,
            "max_height": null,
            "max_width": null,
            "min_height": null,
            "min_width": null,
            "object_fit": null,
            "object_position": null,
            "order": null,
            "overflow": null,
            "overflow_x": null,
            "overflow_y": null,
            "padding": null,
            "right": null,
            "top": null,
            "visibility": null,
            "width": null
          }
        },
        "78581934075e4c82924441a4e03edf5b": {
          "model_module": "@jupyter-widgets/controls",
          "model_name": "VBoxModel",
          "model_module_version": "1.5.0",
          "state": {
            "_dom_classes": [],
            "_model_module": "@jupyter-widgets/controls",
            "_model_module_version": "1.5.0",
            "_model_name": "VBoxModel",
            "_view_count": null,
            "_view_module": "@jupyter-widgets/controls",
            "_view_module_version": "1.5.0",
            "_view_name": "VBoxView",
            "box_style": "",
            "children": [
              "IPY_MODEL_5bd83ebaa5634fc2985681ba40c5a6bb",
              "IPY_MODEL_ac3872641bd64cdaaae609b8a920cf33",
              "IPY_MODEL_d56c10d799944b4db41e9a629f5c8495",
              "IPY_MODEL_e58b7b4e2f59421c819bfa9939500161"
            ],
            "layout": "IPY_MODEL_8b9f1b538724437db5ea03eb88770930"
          }
        },
        "48f4fdfd846e419793461acebb7b90f0": {
          "model_module": "@jupyter-widgets/controls",
          "model_name": "HTMLModel",
          "model_module_version": "1.5.0",
          "state": {
            "_dom_classes": [],
            "_model_module": "@jupyter-widgets/controls",
            "_model_module_version": "1.5.0",
            "_model_name": "HTMLModel",
            "_view_count": null,
            "_view_module": "@jupyter-widgets/controls",
            "_view_module_version": "1.5.0",
            "_view_name": "HTMLView",
            "description": "",
            "description_tooltip": null,
            "layout": "IPY_MODEL_30122117bef34ec2b1d63222299b9fc8",
            "placeholder": "​",
            "style": "IPY_MODEL_776293693e1c473ba6017d506b904577",
            "value": "<center> <img\nsrc=https://huggingface.co/front/assets/huggingface_logo-noborder.svg\nalt='Hugging Face'> <br> Copy a token from <a\nhref=\"https://huggingface.co/settings/tokens\" target=\"_blank\">your Hugging Face\ntokens page</a> and paste it below. <br> Immediately click login after copying\nyour token or it might be stored in plain text in this notebook file. </center>"
          }
        },
        "ed53d7ad81d4465dabb88b68a1642186": {
          "model_module": "@jupyter-widgets/controls",
          "model_name": "PasswordModel",
          "model_module_version": "1.5.0",
          "state": {
            "_dom_classes": [],
            "_model_module": "@jupyter-widgets/controls",
            "_model_module_version": "1.5.0",
            "_model_name": "PasswordModel",
            "_view_count": null,
            "_view_module": "@jupyter-widgets/controls",
            "_view_module_version": "1.5.0",
            "_view_name": "PasswordView",
            "continuous_update": true,
            "description": "Token:",
            "description_tooltip": null,
            "disabled": false,
            "layout": "IPY_MODEL_57b54825dffa41dca8ba890eb6bde984",
            "placeholder": "​",
            "style": "IPY_MODEL_7c1dfdadb9e34bdf818ed7a578053198",
            "value": ""
          }
        },
        "4764ba541d564ce891df17c671218bde": {
          "model_module": "@jupyter-widgets/controls",
          "model_name": "CheckboxModel",
          "model_module_version": "1.5.0",
          "state": {
            "_dom_classes": [],
            "_model_module": "@jupyter-widgets/controls",
            "_model_module_version": "1.5.0",
            "_model_name": "CheckboxModel",
            "_view_count": null,
            "_view_module": "@jupyter-widgets/controls",
            "_view_module_version": "1.5.0",
            "_view_name": "CheckboxView",
            "description": "Add token as git credential?",
            "description_tooltip": null,
            "disabled": false,
            "indent": true,
            "layout": "IPY_MODEL_de93dd13ead0492fb7b8948bf38a78ec",
            "style": "IPY_MODEL_e7c0de10050e431ba7d2d0d50e17c79d",
            "value": true
          }
        },
        "b428274bf2884dfca960ba50e53577ee": {
          "model_module": "@jupyter-widgets/controls",
          "model_name": "ButtonModel",
          "model_module_version": "1.5.0",
          "state": {
            "_dom_classes": [],
            "_model_module": "@jupyter-widgets/controls",
            "_model_module_version": "1.5.0",
            "_model_name": "ButtonModel",
            "_view_count": null,
            "_view_module": "@jupyter-widgets/controls",
            "_view_module_version": "1.5.0",
            "_view_name": "ButtonView",
            "button_style": "",
            "description": "Login",
            "disabled": false,
            "icon": "",
            "layout": "IPY_MODEL_1a503d37a9904280bb943e7da914c087",
            "style": "IPY_MODEL_7908490859464defa1467f151bc54572",
            "tooltip": ""
          }
        },
        "8144fd539e2842cd8456bc53a08b8e17": {
          "model_module": "@jupyter-widgets/controls",
          "model_name": "HTMLModel",
          "model_module_version": "1.5.0",
          "state": {
            "_dom_classes": [],
            "_model_module": "@jupyter-widgets/controls",
            "_model_module_version": "1.5.0",
            "_model_name": "HTMLModel",
            "_view_count": null,
            "_view_module": "@jupyter-widgets/controls",
            "_view_module_version": "1.5.0",
            "_view_name": "HTMLView",
            "description": "",
            "description_tooltip": null,
            "layout": "IPY_MODEL_8019edcf96d44d6db682e6683e4408a0",
            "placeholder": "​",
            "style": "IPY_MODEL_379c375eceb6472aa02424dde1787442",
            "value": "\n<b>Pro Tip:</b> If you don't already have one, you can create a dedicated\n'notebooks' token with 'write' access, that you can then easily reuse for all\nnotebooks. </center>"
          }
        },
        "8b9f1b538724437db5ea03eb88770930": {
          "model_module": "@jupyter-widgets/base",
          "model_name": "LayoutModel",
          "model_module_version": "1.2.0",
          "state": {
            "_model_module": "@jupyter-widgets/base",
            "_model_module_version": "1.2.0",
            "_model_name": "LayoutModel",
            "_view_count": null,
            "_view_module": "@jupyter-widgets/base",
            "_view_module_version": "1.2.0",
            "_view_name": "LayoutView",
            "align_content": null,
            "align_items": "center",
            "align_self": null,
            "border": null,
            "bottom": null,
            "display": "flex",
            "flex": null,
            "flex_flow": "column",
            "grid_area": null,
            "grid_auto_columns": null,
            "grid_auto_flow": null,
            "grid_auto_rows": null,
            "grid_column": null,
            "grid_gap": null,
            "grid_row": null,
            "grid_template_areas": null,
            "grid_template_columns": null,
            "grid_template_rows": null,
            "height": null,
            "justify_content": null,
            "justify_items": null,
            "left": null,
            "margin": null,
            "max_height": null,
            "max_width": null,
            "min_height": null,
            "min_width": null,
            "object_fit": null,
            "object_position": null,
            "order": null,
            "overflow": null,
            "overflow_x": null,
            "overflow_y": null,
            "padding": null,
            "right": null,
            "top": null,
            "visibility": null,
            "width": "50%"
          }
        },
        "30122117bef34ec2b1d63222299b9fc8": {
          "model_module": "@jupyter-widgets/base",
          "model_name": "LayoutModel",
          "model_module_version": "1.2.0",
          "state": {
            "_model_module": "@jupyter-widgets/base",
            "_model_module_version": "1.2.0",
            "_model_name": "LayoutModel",
            "_view_count": null,
            "_view_module": "@jupyter-widgets/base",
            "_view_module_version": "1.2.0",
            "_view_name": "LayoutView",
            "align_content": null,
            "align_items": null,
            "align_self": null,
            "border": null,
            "bottom": null,
            "display": null,
            "flex": null,
            "flex_flow": null,
            "grid_area": null,
            "grid_auto_columns": null,
            "grid_auto_flow": null,
            "grid_auto_rows": null,
            "grid_column": null,
            "grid_gap": null,
            "grid_row": null,
            "grid_template_areas": null,
            "grid_template_columns": null,
            "grid_template_rows": null,
            "height": null,
            "justify_content": null,
            "justify_items": null,
            "left": null,
            "margin": null,
            "max_height": null,
            "max_width": null,
            "min_height": null,
            "min_width": null,
            "object_fit": null,
            "object_position": null,
            "order": null,
            "overflow": null,
            "overflow_x": null,
            "overflow_y": null,
            "padding": null,
            "right": null,
            "top": null,
            "visibility": null,
            "width": null
          }
        },
        "776293693e1c473ba6017d506b904577": {
          "model_module": "@jupyter-widgets/controls",
          "model_name": "DescriptionStyleModel",
          "model_module_version": "1.5.0",
          "state": {
            "_model_module": "@jupyter-widgets/controls",
            "_model_module_version": "1.5.0",
            "_model_name": "DescriptionStyleModel",
            "_view_count": null,
            "_view_module": "@jupyter-widgets/base",
            "_view_module_version": "1.2.0",
            "_view_name": "StyleView",
            "description_width": ""
          }
        },
        "57b54825dffa41dca8ba890eb6bde984": {
          "model_module": "@jupyter-widgets/base",
          "model_name": "LayoutModel",
          "model_module_version": "1.2.0",
          "state": {
            "_model_module": "@jupyter-widgets/base",
            "_model_module_version": "1.2.0",
            "_model_name": "LayoutModel",
            "_view_count": null,
            "_view_module": "@jupyter-widgets/base",
            "_view_module_version": "1.2.0",
            "_view_name": "LayoutView",
            "align_content": null,
            "align_items": null,
            "align_self": null,
            "border": null,
            "bottom": null,
            "display": null,
            "flex": null,
            "flex_flow": null,
            "grid_area": null,
            "grid_auto_columns": null,
            "grid_auto_flow": null,
            "grid_auto_rows": null,
            "grid_column": null,
            "grid_gap": null,
            "grid_row": null,
            "grid_template_areas": null,
            "grid_template_columns": null,
            "grid_template_rows": null,
            "height": null,
            "justify_content": null,
            "justify_items": null,
            "left": null,
            "margin": null,
            "max_height": null,
            "max_width": null,
            "min_height": null,
            "min_width": null,
            "object_fit": null,
            "object_position": null,
            "order": null,
            "overflow": null,
            "overflow_x": null,
            "overflow_y": null,
            "padding": null,
            "right": null,
            "top": null,
            "visibility": null,
            "width": null
          }
        },
        "7c1dfdadb9e34bdf818ed7a578053198": {
          "model_module": "@jupyter-widgets/controls",
          "model_name": "DescriptionStyleModel",
          "model_module_version": "1.5.0",
          "state": {
            "_model_module": "@jupyter-widgets/controls",
            "_model_module_version": "1.5.0",
            "_model_name": "DescriptionStyleModel",
            "_view_count": null,
            "_view_module": "@jupyter-widgets/base",
            "_view_module_version": "1.2.0",
            "_view_name": "StyleView",
            "description_width": ""
          }
        },
        "de93dd13ead0492fb7b8948bf38a78ec": {
          "model_module": "@jupyter-widgets/base",
          "model_name": "LayoutModel",
          "model_module_version": "1.2.0",
          "state": {
            "_model_module": "@jupyter-widgets/base",
            "_model_module_version": "1.2.0",
            "_model_name": "LayoutModel",
            "_view_count": null,
            "_view_module": "@jupyter-widgets/base",
            "_view_module_version": "1.2.0",
            "_view_name": "LayoutView",
            "align_content": null,
            "align_items": null,
            "align_self": null,
            "border": null,
            "bottom": null,
            "display": null,
            "flex": null,
            "flex_flow": null,
            "grid_area": null,
            "grid_auto_columns": null,
            "grid_auto_flow": null,
            "grid_auto_rows": null,
            "grid_column": null,
            "grid_gap": null,
            "grid_row": null,
            "grid_template_areas": null,
            "grid_template_columns": null,
            "grid_template_rows": null,
            "height": null,
            "justify_content": null,
            "justify_items": null,
            "left": null,
            "margin": null,
            "max_height": null,
            "max_width": null,
            "min_height": null,
            "min_width": null,
            "object_fit": null,
            "object_position": null,
            "order": null,
            "overflow": null,
            "overflow_x": null,
            "overflow_y": null,
            "padding": null,
            "right": null,
            "top": null,
            "visibility": null,
            "width": null
          }
        },
        "e7c0de10050e431ba7d2d0d50e17c79d": {
          "model_module": "@jupyter-widgets/controls",
          "model_name": "DescriptionStyleModel",
          "model_module_version": "1.5.0",
          "state": {
            "_model_module": "@jupyter-widgets/controls",
            "_model_module_version": "1.5.0",
            "_model_name": "DescriptionStyleModel",
            "_view_count": null,
            "_view_module": "@jupyter-widgets/base",
            "_view_module_version": "1.2.0",
            "_view_name": "StyleView",
            "description_width": ""
          }
        },
        "1a503d37a9904280bb943e7da914c087": {
          "model_module": "@jupyter-widgets/base",
          "model_name": "LayoutModel",
          "model_module_version": "1.2.0",
          "state": {
            "_model_module": "@jupyter-widgets/base",
            "_model_module_version": "1.2.0",
            "_model_name": "LayoutModel",
            "_view_count": null,
            "_view_module": "@jupyter-widgets/base",
            "_view_module_version": "1.2.0",
            "_view_name": "LayoutView",
            "align_content": null,
            "align_items": null,
            "align_self": null,
            "border": null,
            "bottom": null,
            "display": null,
            "flex": null,
            "flex_flow": null,
            "grid_area": null,
            "grid_auto_columns": null,
            "grid_auto_flow": null,
            "grid_auto_rows": null,
            "grid_column": null,
            "grid_gap": null,
            "grid_row": null,
            "grid_template_areas": null,
            "grid_template_columns": null,
            "grid_template_rows": null,
            "height": null,
            "justify_content": null,
            "justify_items": null,
            "left": null,
            "margin": null,
            "max_height": null,
            "max_width": null,
            "min_height": null,
            "min_width": null,
            "object_fit": null,
            "object_position": null,
            "order": null,
            "overflow": null,
            "overflow_x": null,
            "overflow_y": null,
            "padding": null,
            "right": null,
            "top": null,
            "visibility": null,
            "width": null
          }
        },
        "7908490859464defa1467f151bc54572": {
          "model_module": "@jupyter-widgets/controls",
          "model_name": "ButtonStyleModel",
          "model_module_version": "1.5.0",
          "state": {
            "_model_module": "@jupyter-widgets/controls",
            "_model_module_version": "1.5.0",
            "_model_name": "ButtonStyleModel",
            "_view_count": null,
            "_view_module": "@jupyter-widgets/base",
            "_view_module_version": "1.2.0",
            "_view_name": "StyleView",
            "button_color": null,
            "font_weight": ""
          }
        },
        "8019edcf96d44d6db682e6683e4408a0": {
          "model_module": "@jupyter-widgets/base",
          "model_name": "LayoutModel",
          "model_module_version": "1.2.0",
          "state": {
            "_model_module": "@jupyter-widgets/base",
            "_model_module_version": "1.2.0",
            "_model_name": "LayoutModel",
            "_view_count": null,
            "_view_module": "@jupyter-widgets/base",
            "_view_module_version": "1.2.0",
            "_view_name": "LayoutView",
            "align_content": null,
            "align_items": null,
            "align_self": null,
            "border": null,
            "bottom": null,
            "display": null,
            "flex": null,
            "flex_flow": null,
            "grid_area": null,
            "grid_auto_columns": null,
            "grid_auto_flow": null,
            "grid_auto_rows": null,
            "grid_column": null,
            "grid_gap": null,
            "grid_row": null,
            "grid_template_areas": null,
            "grid_template_columns": null,
            "grid_template_rows": null,
            "height": null,
            "justify_content": null,
            "justify_items": null,
            "left": null,
            "margin": null,
            "max_height": null,
            "max_width": null,
            "min_height": null,
            "min_width": null,
            "object_fit": null,
            "object_position": null,
            "order": null,
            "overflow": null,
            "overflow_x": null,
            "overflow_y": null,
            "padding": null,
            "right": null,
            "top": null,
            "visibility": null,
            "width": null
          }
        },
        "379c375eceb6472aa02424dde1787442": {
          "model_module": "@jupyter-widgets/controls",
          "model_name": "DescriptionStyleModel",
          "model_module_version": "1.5.0",
          "state": {
            "_model_module": "@jupyter-widgets/controls",
            "_model_module_version": "1.5.0",
            "_model_name": "DescriptionStyleModel",
            "_view_count": null,
            "_view_module": "@jupyter-widgets/base",
            "_view_module_version": "1.2.0",
            "_view_name": "StyleView",
            "description_width": ""
          }
        },
        "d50d473d2e084ae99835d0d442d20635": {
          "model_module": "@jupyter-widgets/controls",
          "model_name": "LabelModel",
          "model_module_version": "1.5.0",
          "state": {
            "_dom_classes": [],
            "_model_module": "@jupyter-widgets/controls",
            "_model_module_version": "1.5.0",
            "_model_name": "LabelModel",
            "_view_count": null,
            "_view_module": "@jupyter-widgets/controls",
            "_view_module_version": "1.5.0",
            "_view_name": "LabelView",
            "description": "",
            "description_tooltip": null,
            "layout": "IPY_MODEL_7a47676f9acf44dd9925639bb02db04d",
            "placeholder": "​",
            "style": "IPY_MODEL_dcd1f57d57684a37808206949f81847c",
            "value": "Connecting..."
          }
        },
        "7a47676f9acf44dd9925639bb02db04d": {
          "model_module": "@jupyter-widgets/base",
          "model_name": "LayoutModel",
          "model_module_version": "1.2.0",
          "state": {
            "_model_module": "@jupyter-widgets/base",
            "_model_module_version": "1.2.0",
            "_model_name": "LayoutModel",
            "_view_count": null,
            "_view_module": "@jupyter-widgets/base",
            "_view_module_version": "1.2.0",
            "_view_name": "LayoutView",
            "align_content": null,
            "align_items": null,
            "align_self": null,
            "border": null,
            "bottom": null,
            "display": null,
            "flex": null,
            "flex_flow": null,
            "grid_area": null,
            "grid_auto_columns": null,
            "grid_auto_flow": null,
            "grid_auto_rows": null,
            "grid_column": null,
            "grid_gap": null,
            "grid_row": null,
            "grid_template_areas": null,
            "grid_template_columns": null,
            "grid_template_rows": null,
            "height": null,
            "justify_content": null,
            "justify_items": null,
            "left": null,
            "margin": null,
            "max_height": null,
            "max_width": null,
            "min_height": null,
            "min_width": null,
            "object_fit": null,
            "object_position": null,
            "order": null,
            "overflow": null,
            "overflow_x": null,
            "overflow_y": null,
            "padding": null,
            "right": null,
            "top": null,
            "visibility": null,
            "width": null
          }
        },
        "dcd1f57d57684a37808206949f81847c": {
          "model_module": "@jupyter-widgets/controls",
          "model_name": "DescriptionStyleModel",
          "model_module_version": "1.5.0",
          "state": {
            "_model_module": "@jupyter-widgets/controls",
            "_model_module_version": "1.5.0",
            "_model_name": "DescriptionStyleModel",
            "_view_count": null,
            "_view_module": "@jupyter-widgets/base",
            "_view_module_version": "1.2.0",
            "_view_name": "StyleView",
            "description_width": ""
          }
        },
        "5bd83ebaa5634fc2985681ba40c5a6bb": {
          "model_module": "@jupyter-widgets/controls",
          "model_name": "LabelModel",
          "model_module_version": "1.5.0",
          "state": {
            "_dom_classes": [],
            "_model_module": "@jupyter-widgets/controls",
            "_model_module_version": "1.5.0",
            "_model_name": "LabelModel",
            "_view_count": null,
            "_view_module": "@jupyter-widgets/controls",
            "_view_module_version": "1.5.0",
            "_view_name": "LabelView",
            "description": "",
            "description_tooltip": null,
            "layout": "IPY_MODEL_37ea82f3d8304a508b6719f289b3a52b",
            "placeholder": "​",
            "style": "IPY_MODEL_ccc446cfb902465bb8c3d77161d60923",
            "value": "Token is valid (permission: write)."
          }
        },
        "ac3872641bd64cdaaae609b8a920cf33": {
          "model_module": "@jupyter-widgets/controls",
          "model_name": "LabelModel",
          "model_module_version": "1.5.0",
          "state": {
            "_dom_classes": [],
            "_model_module": "@jupyter-widgets/controls",
            "_model_module_version": "1.5.0",
            "_model_name": "LabelModel",
            "_view_count": null,
            "_view_module": "@jupyter-widgets/controls",
            "_view_module_version": "1.5.0",
            "_view_name": "LabelView",
            "description": "",
            "description_tooltip": null,
            "layout": "IPY_MODEL_9e1bb9367b4940d9a0703a81e7ef5b15",
            "placeholder": "​",
            "style": "IPY_MODEL_9aaf62a81f0042b39e843ef65f1ecfa6",
            "value": "Your token has been saved in your configured git credential helpers (store)."
          }
        },
        "d56c10d799944b4db41e9a629f5c8495": {
          "model_module": "@jupyter-widgets/controls",
          "model_name": "LabelModel",
          "model_module_version": "1.5.0",
          "state": {
            "_dom_classes": [],
            "_model_module": "@jupyter-widgets/controls",
            "_model_module_version": "1.5.0",
            "_model_name": "LabelModel",
            "_view_count": null,
            "_view_module": "@jupyter-widgets/controls",
            "_view_module_version": "1.5.0",
            "_view_name": "LabelView",
            "description": "",
            "description_tooltip": null,
            "layout": "IPY_MODEL_6a36090ee5fd4dfa9baccbc56f16a7b6",
            "placeholder": "​",
            "style": "IPY_MODEL_a76e9609f1c147018bcfd2660ea7acdc",
            "value": "Your token has been saved to /root/.cache/huggingface/token"
          }
        },
        "e58b7b4e2f59421c819bfa9939500161": {
          "model_module": "@jupyter-widgets/controls",
          "model_name": "LabelModel",
          "model_module_version": "1.5.0",
          "state": {
            "_dom_classes": [],
            "_model_module": "@jupyter-widgets/controls",
            "_model_module_version": "1.5.0",
            "_model_name": "LabelModel",
            "_view_count": null,
            "_view_module": "@jupyter-widgets/controls",
            "_view_module_version": "1.5.0",
            "_view_name": "LabelView",
            "description": "",
            "description_tooltip": null,
            "layout": "IPY_MODEL_34de154977fa453792f0a0c822f459ec",
            "placeholder": "​",
            "style": "IPY_MODEL_02c9cdc2a5f043cd8fb1c5c91fa35dc3",
            "value": "Login successful"
          }
        },
        "37ea82f3d8304a508b6719f289b3a52b": {
          "model_module": "@jupyter-widgets/base",
          "model_name": "LayoutModel",
          "model_module_version": "1.2.0",
          "state": {
            "_model_module": "@jupyter-widgets/base",
            "_model_module_version": "1.2.0",
            "_model_name": "LayoutModel",
            "_view_count": null,
            "_view_module": "@jupyter-widgets/base",
            "_view_module_version": "1.2.0",
            "_view_name": "LayoutView",
            "align_content": null,
            "align_items": null,
            "align_self": null,
            "border": null,
            "bottom": null,
            "display": null,
            "flex": null,
            "flex_flow": null,
            "grid_area": null,
            "grid_auto_columns": null,
            "grid_auto_flow": null,
            "grid_auto_rows": null,
            "grid_column": null,
            "grid_gap": null,
            "grid_row": null,
            "grid_template_areas": null,
            "grid_template_columns": null,
            "grid_template_rows": null,
            "height": null,
            "justify_content": null,
            "justify_items": null,
            "left": null,
            "margin": null,
            "max_height": null,
            "max_width": null,
            "min_height": null,
            "min_width": null,
            "object_fit": null,
            "object_position": null,
            "order": null,
            "overflow": null,
            "overflow_x": null,
            "overflow_y": null,
            "padding": null,
            "right": null,
            "top": null,
            "visibility": null,
            "width": null
          }
        },
        "ccc446cfb902465bb8c3d77161d60923": {
          "model_module": "@jupyter-widgets/controls",
          "model_name": "DescriptionStyleModel",
          "model_module_version": "1.5.0",
          "state": {
            "_model_module": "@jupyter-widgets/controls",
            "_model_module_version": "1.5.0",
            "_model_name": "DescriptionStyleModel",
            "_view_count": null,
            "_view_module": "@jupyter-widgets/base",
            "_view_module_version": "1.2.0",
            "_view_name": "StyleView",
            "description_width": ""
          }
        },
        "9e1bb9367b4940d9a0703a81e7ef5b15": {
          "model_module": "@jupyter-widgets/base",
          "model_name": "LayoutModel",
          "model_module_version": "1.2.0",
          "state": {
            "_model_module": "@jupyter-widgets/base",
            "_model_module_version": "1.2.0",
            "_model_name": "LayoutModel",
            "_view_count": null,
            "_view_module": "@jupyter-widgets/base",
            "_view_module_version": "1.2.0",
            "_view_name": "LayoutView",
            "align_content": null,
            "align_items": null,
            "align_self": null,
            "border": null,
            "bottom": null,
            "display": null,
            "flex": null,
            "flex_flow": null,
            "grid_area": null,
            "grid_auto_columns": null,
            "grid_auto_flow": null,
            "grid_auto_rows": null,
            "grid_column": null,
            "grid_gap": null,
            "grid_row": null,
            "grid_template_areas": null,
            "grid_template_columns": null,
            "grid_template_rows": null,
            "height": null,
            "justify_content": null,
            "justify_items": null,
            "left": null,
            "margin": null,
            "max_height": null,
            "max_width": null,
            "min_height": null,
            "min_width": null,
            "object_fit": null,
            "object_position": null,
            "order": null,
            "overflow": null,
            "overflow_x": null,
            "overflow_y": null,
            "padding": null,
            "right": null,
            "top": null,
            "visibility": null,
            "width": null
          }
        },
        "9aaf62a81f0042b39e843ef65f1ecfa6": {
          "model_module": "@jupyter-widgets/controls",
          "model_name": "DescriptionStyleModel",
          "model_module_version": "1.5.0",
          "state": {
            "_model_module": "@jupyter-widgets/controls",
            "_model_module_version": "1.5.0",
            "_model_name": "DescriptionStyleModel",
            "_view_count": null,
            "_view_module": "@jupyter-widgets/base",
            "_view_module_version": "1.2.0",
            "_view_name": "StyleView",
            "description_width": ""
          }
        },
        "6a36090ee5fd4dfa9baccbc56f16a7b6": {
          "model_module": "@jupyter-widgets/base",
          "model_name": "LayoutModel",
          "model_module_version": "1.2.0",
          "state": {
            "_model_module": "@jupyter-widgets/base",
            "_model_module_version": "1.2.0",
            "_model_name": "LayoutModel",
            "_view_count": null,
            "_view_module": "@jupyter-widgets/base",
            "_view_module_version": "1.2.0",
            "_view_name": "LayoutView",
            "align_content": null,
            "align_items": null,
            "align_self": null,
            "border": null,
            "bottom": null,
            "display": null,
            "flex": null,
            "flex_flow": null,
            "grid_area": null,
            "grid_auto_columns": null,
            "grid_auto_flow": null,
            "grid_auto_rows": null,
            "grid_column": null,
            "grid_gap": null,
            "grid_row": null,
            "grid_template_areas": null,
            "grid_template_columns": null,
            "grid_template_rows": null,
            "height": null,
            "justify_content": null,
            "justify_items": null,
            "left": null,
            "margin": null,
            "max_height": null,
            "max_width": null,
            "min_height": null,
            "min_width": null,
            "object_fit": null,
            "object_position": null,
            "order": null,
            "overflow": null,
            "overflow_x": null,
            "overflow_y": null,
            "padding": null,
            "right": null,
            "top": null,
            "visibility": null,
            "width": null
          }
        },
        "a76e9609f1c147018bcfd2660ea7acdc": {
          "model_module": "@jupyter-widgets/controls",
          "model_name": "DescriptionStyleModel",
          "model_module_version": "1.5.0",
          "state": {
            "_model_module": "@jupyter-widgets/controls",
            "_model_module_version": "1.5.0",
            "_model_name": "DescriptionStyleModel",
            "_view_count": null,
            "_view_module": "@jupyter-widgets/base",
            "_view_module_version": "1.2.0",
            "_view_name": "StyleView",
            "description_width": ""
          }
        },
        "34de154977fa453792f0a0c822f459ec": {
          "model_module": "@jupyter-widgets/base",
          "model_name": "LayoutModel",
          "model_module_version": "1.2.0",
          "state": {
            "_model_module": "@jupyter-widgets/base",
            "_model_module_version": "1.2.0",
            "_model_name": "LayoutModel",
            "_view_count": null,
            "_view_module": "@jupyter-widgets/base",
            "_view_module_version": "1.2.0",
            "_view_name": "LayoutView",
            "align_content": null,
            "align_items": null,
            "align_self": null,
            "border": null,
            "bottom": null,
            "display": null,
            "flex": null,
            "flex_flow": null,
            "grid_area": null,
            "grid_auto_columns": null,
            "grid_auto_flow": null,
            "grid_auto_rows": null,
            "grid_column": null,
            "grid_gap": null,
            "grid_row": null,
            "grid_template_areas": null,
            "grid_template_columns": null,
            "grid_template_rows": null,
            "height": null,
            "justify_content": null,
            "justify_items": null,
            "left": null,
            "margin": null,
            "max_height": null,
            "max_width": null,
            "min_height": null,
            "min_width": null,
            "object_fit": null,
            "object_position": null,
            "order": null,
            "overflow": null,
            "overflow_x": null,
            "overflow_y": null,
            "padding": null,
            "right": null,
            "top": null,
            "visibility": null,
            "width": null
          }
        },
        "02c9cdc2a5f043cd8fb1c5c91fa35dc3": {
          "model_module": "@jupyter-widgets/controls",
          "model_name": "DescriptionStyleModel",
          "model_module_version": "1.5.0",
          "state": {
            "_model_module": "@jupyter-widgets/controls",
            "_model_module_version": "1.5.0",
            "_model_name": "DescriptionStyleModel",
            "_view_count": null,
            "_view_module": "@jupyter-widgets/base",
            "_view_module_version": "1.2.0",
            "_view_name": "StyleView",
            "description_width": ""
          }
        },
        "b43c3d30f6da4653bce546af430da698": {
          "model_module": "@jupyter-widgets/controls",
          "model_name": "HBoxModel",
          "model_module_version": "1.5.0",
          "state": {
            "_dom_classes": [],
            "_model_module": "@jupyter-widgets/controls",
            "_model_module_version": "1.5.0",
            "_model_name": "HBoxModel",
            "_view_count": null,
            "_view_module": "@jupyter-widgets/controls",
            "_view_module_version": "1.5.0",
            "_view_name": "HBoxView",
            "box_style": "",
            "children": [
              "IPY_MODEL_305dd3c4b8894e9698dab73c7b7c42ff",
              "IPY_MODEL_4c1b0d01a81a40169805909e9ec8d981",
              "IPY_MODEL_53f92688a731456b831bbb6c679d115e"
            ],
            "layout": "IPY_MODEL_ba0d21b5b33b44d1ad5f6923f911b1c0"
          }
        },
        "305dd3c4b8894e9698dab73c7b7c42ff": {
          "model_module": "@jupyter-widgets/controls",
          "model_name": "HTMLModel",
          "model_module_version": "1.5.0",
          "state": {
            "_dom_classes": [],
            "_model_module": "@jupyter-widgets/controls",
            "_model_module_version": "1.5.0",
            "_model_name": "HTMLModel",
            "_view_count": null,
            "_view_module": "@jupyter-widgets/controls",
            "_view_module_version": "1.5.0",
            "_view_name": "HTMLView",
            "description": "",
            "description_tooltip": null,
            "layout": "IPY_MODEL_65afb468417949cc9df22b90adb70d17",
            "placeholder": "​",
            "style": "IPY_MODEL_9a0008439db74b10a7aebd1062c37ff3",
            "value": "A2C-Atari-Pong.zip: 100%"
          }
        },
        "4c1b0d01a81a40169805909e9ec8d981": {
          "model_module": "@jupyter-widgets/controls",
          "model_name": "FloatProgressModel",
          "model_module_version": "1.5.0",
          "state": {
            "_dom_classes": [],
            "_model_module": "@jupyter-widgets/controls",
            "_model_module_version": "1.5.0",
            "_model_name": "FloatProgressModel",
            "_view_count": null,
            "_view_module": "@jupyter-widgets/controls",
            "_view_module_version": "1.5.0",
            "_view_name": "ProgressView",
            "bar_style": "success",
            "description": "",
            "description_tooltip": null,
            "layout": "IPY_MODEL_f566ae5d5260494a93f74a92648cc338",
            "max": 13829660,
            "min": 0,
            "orientation": "horizontal",
            "style": "IPY_MODEL_cdbf06604edd4391af9453bb4d0e141c",
            "value": 13829660
          }
        },
        "53f92688a731456b831bbb6c679d115e": {
          "model_module": "@jupyter-widgets/controls",
          "model_name": "HTMLModel",
          "model_module_version": "1.5.0",
          "state": {
            "_dom_classes": [],
            "_model_module": "@jupyter-widgets/controls",
            "_model_module_version": "1.5.0",
            "_model_name": "HTMLModel",
            "_view_count": null,
            "_view_module": "@jupyter-widgets/controls",
            "_view_module_version": "1.5.0",
            "_view_name": "HTMLView",
            "description": "",
            "description_tooltip": null,
            "layout": "IPY_MODEL_1b2560310fc345b4a050f657fc863885",
            "placeholder": "​",
            "style": "IPY_MODEL_823c3af59bbe4f78ae752714f9e7d41b",
            "value": " 13.8M/13.8M [00:03&lt;00:00, 7.79MB/s]"
          }
        },
        "ba0d21b5b33b44d1ad5f6923f911b1c0": {
          "model_module": "@jupyter-widgets/base",
          "model_name": "LayoutModel",
          "model_module_version": "1.2.0",
          "state": {
            "_model_module": "@jupyter-widgets/base",
            "_model_module_version": "1.2.0",
            "_model_name": "LayoutModel",
            "_view_count": null,
            "_view_module": "@jupyter-widgets/base",
            "_view_module_version": "1.2.0",
            "_view_name": "LayoutView",
            "align_content": null,
            "align_items": null,
            "align_self": null,
            "border": null,
            "bottom": null,
            "display": null,
            "flex": null,
            "flex_flow": null,
            "grid_area": null,
            "grid_auto_columns": null,
            "grid_auto_flow": null,
            "grid_auto_rows": null,
            "grid_column": null,
            "grid_gap": null,
            "grid_row": null,
            "grid_template_areas": null,
            "grid_template_columns": null,
            "grid_template_rows": null,
            "height": null,
            "justify_content": null,
            "justify_items": null,
            "left": null,
            "margin": null,
            "max_height": null,
            "max_width": null,
            "min_height": null,
            "min_width": null,
            "object_fit": null,
            "object_position": null,
            "order": null,
            "overflow": null,
            "overflow_x": null,
            "overflow_y": null,
            "padding": null,
            "right": null,
            "top": null,
            "visibility": null,
            "width": null
          }
        },
        "65afb468417949cc9df22b90adb70d17": {
          "model_module": "@jupyter-widgets/base",
          "model_name": "LayoutModel",
          "model_module_version": "1.2.0",
          "state": {
            "_model_module": "@jupyter-widgets/base",
            "_model_module_version": "1.2.0",
            "_model_name": "LayoutModel",
            "_view_count": null,
            "_view_module": "@jupyter-widgets/base",
            "_view_module_version": "1.2.0",
            "_view_name": "LayoutView",
            "align_content": null,
            "align_items": null,
            "align_self": null,
            "border": null,
            "bottom": null,
            "display": null,
            "flex": null,
            "flex_flow": null,
            "grid_area": null,
            "grid_auto_columns": null,
            "grid_auto_flow": null,
            "grid_auto_rows": null,
            "grid_column": null,
            "grid_gap": null,
            "grid_row": null,
            "grid_template_areas": null,
            "grid_template_columns": null,
            "grid_template_rows": null,
            "height": null,
            "justify_content": null,
            "justify_items": null,
            "left": null,
            "margin": null,
            "max_height": null,
            "max_width": null,
            "min_height": null,
            "min_width": null,
            "object_fit": null,
            "object_position": null,
            "order": null,
            "overflow": null,
            "overflow_x": null,
            "overflow_y": null,
            "padding": null,
            "right": null,
            "top": null,
            "visibility": null,
            "width": null
          }
        },
        "9a0008439db74b10a7aebd1062c37ff3": {
          "model_module": "@jupyter-widgets/controls",
          "model_name": "DescriptionStyleModel",
          "model_module_version": "1.5.0",
          "state": {
            "_model_module": "@jupyter-widgets/controls",
            "_model_module_version": "1.5.0",
            "_model_name": "DescriptionStyleModel",
            "_view_count": null,
            "_view_module": "@jupyter-widgets/base",
            "_view_module_version": "1.2.0",
            "_view_name": "StyleView",
            "description_width": ""
          }
        },
        "f566ae5d5260494a93f74a92648cc338": {
          "model_module": "@jupyter-widgets/base",
          "model_name": "LayoutModel",
          "model_module_version": "1.2.0",
          "state": {
            "_model_module": "@jupyter-widgets/base",
            "_model_module_version": "1.2.0",
            "_model_name": "LayoutModel",
            "_view_count": null,
            "_view_module": "@jupyter-widgets/base",
            "_view_module_version": "1.2.0",
            "_view_name": "LayoutView",
            "align_content": null,
            "align_items": null,
            "align_self": null,
            "border": null,
            "bottom": null,
            "display": null,
            "flex": null,
            "flex_flow": null,
            "grid_area": null,
            "grid_auto_columns": null,
            "grid_auto_flow": null,
            "grid_auto_rows": null,
            "grid_column": null,
            "grid_gap": null,
            "grid_row": null,
            "grid_template_areas": null,
            "grid_template_columns": null,
            "grid_template_rows": null,
            "height": null,
            "justify_content": null,
            "justify_items": null,
            "left": null,
            "margin": null,
            "max_height": null,
            "max_width": null,
            "min_height": null,
            "min_width": null,
            "object_fit": null,
            "object_position": null,
            "order": null,
            "overflow": null,
            "overflow_x": null,
            "overflow_y": null,
            "padding": null,
            "right": null,
            "top": null,
            "visibility": null,
            "width": null
          }
        },
        "cdbf06604edd4391af9453bb4d0e141c": {
          "model_module": "@jupyter-widgets/controls",
          "model_name": "ProgressStyleModel",
          "model_module_version": "1.5.0",
          "state": {
            "_model_module": "@jupyter-widgets/controls",
            "_model_module_version": "1.5.0",
            "_model_name": "ProgressStyleModel",
            "_view_count": null,
            "_view_module": "@jupyter-widgets/base",
            "_view_module_version": "1.2.0",
            "_view_name": "StyleView",
            "bar_color": null,
            "description_width": ""
          }
        },
        "1b2560310fc345b4a050f657fc863885": {
          "model_module": "@jupyter-widgets/base",
          "model_name": "LayoutModel",
          "model_module_version": "1.2.0",
          "state": {
            "_model_module": "@jupyter-widgets/base",
            "_model_module_version": "1.2.0",
            "_model_name": "LayoutModel",
            "_view_count": null,
            "_view_module": "@jupyter-widgets/base",
            "_view_module_version": "1.2.0",
            "_view_name": "LayoutView",
            "align_content": null,
            "align_items": null,
            "align_self": null,
            "border": null,
            "bottom": null,
            "display": null,
            "flex": null,
            "flex_flow": null,
            "grid_area": null,
            "grid_auto_columns": null,
            "grid_auto_flow": null,
            "grid_auto_rows": null,
            "grid_column": null,
            "grid_gap": null,
            "grid_row": null,
            "grid_template_areas": null,
            "grid_template_columns": null,
            "grid_template_rows": null,
            "height": null,
            "justify_content": null,
            "justify_items": null,
            "left": null,
            "margin": null,
            "max_height": null,
            "max_width": null,
            "min_height": null,
            "min_width": null,
            "object_fit": null,
            "object_position": null,
            "order": null,
            "overflow": null,
            "overflow_x": null,
            "overflow_y": null,
            "padding": null,
            "right": null,
            "top": null,
            "visibility": null,
            "width": null
          }
        },
        "823c3af59bbe4f78ae752714f9e7d41b": {
          "model_module": "@jupyter-widgets/controls",
          "model_name": "DescriptionStyleModel",
          "model_module_version": "1.5.0",
          "state": {
            "_model_module": "@jupyter-widgets/controls",
            "_model_module_version": "1.5.0",
            "_model_name": "DescriptionStyleModel",
            "_view_count": null,
            "_view_module": "@jupyter-widgets/base",
            "_view_module_version": "1.2.0",
            "_view_name": "StyleView",
            "description_width": ""
          }
        }
      }
    }
  },
  "nbformat": 4,
  "nbformat_minor": 0
}