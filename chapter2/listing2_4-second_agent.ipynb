{
  "cells": [
    {
      "cell_type": "markdown",
      "metadata": {
        "id": "view-in-github",
        "colab_type": "text"
      },
      "source": [
        "<a href=\"https://colab.research.google.com/github/nsanghi/drl-2ed/blob/main/chapter2/listing2_4-second_agent.ipynb\" target=\"_parent\"><img src=\"https://colab.research.google.com/assets/colab-badge.svg\" alt=\"Open In Colab\"/></a>"
      ]
    },
    {
      "cell_type": "markdown",
      "metadata": {
        "id": "hyyN-2qyK_T2"
      },
      "source": [
        "# Train your Second Agent\n",
        "\n",
        "In this Notebook we will explore yet another environment, train the agent and then share the result using Huggingface ecosystem.\n"
      ]
    },
    {
      "cell_type": "markdown",
      "metadata": {
        "id": "Qqvt5EqiOqmS"
      },
      "source": [
        "## Running in Colab\n",
        "\n",
        "If you are running this on Colab, please uncomment below cell and run this to install required dependencies.\n",
        "\n"
      ]
    },
    {
      "cell_type": "code",
      "execution_count": null,
      "metadata": {
        "id": "gWskDE2c9WoN"
      },
      "outputs": [],
      "source": [
        "#uncomment and execute this cell to install all the the dependencies if running in Google Colab\n",
        "\n",
        "# !apt-get update && apt-get install swig cmake ffmpeg freeglut3-dev xvfb\n",
        "# !pip install box2d-py\n",
        "# !pip install \"stable-baselines3[extra]>=2.0.0a4\"\n",
        "# !pip install git+https://github.com/huggingface/huggingface_sb3@gymnasium"
      ]
    },
    {
      "cell_type": "markdown",
      "metadata": {
        "id": "FtY8FhliLsGm"
      },
      "source": [
        "## Imports"
      ]
    },
    {
      "cell_type": "code",
      "execution_count": 1,
      "metadata": {
        "colab": {
          "base_uri": "https://localhost:8080/"
        },
        "id": "BIedd7Pz9sOs",
        "outputId": "6d080eac-d9ac-4671-8a1c-515fb2ffce2c"
      },
      "outputs": [
        {
          "output_type": "stream",
          "name": "stderr",
          "text": [
            "/usr/local/lib/python3.10/dist-packages/torch/utils/tensorboard/__init__.py:4: DeprecationWarning: distutils Version classes are deprecated. Use packaging.version instead.\n",
            "  if not hasattr(tensorboard, \"__version__\") or LooseVersion(\n"
          ]
        }
      ],
      "source": [
        "import gymnasium as gym\n",
        "\n",
        "from stable_baselines3.common.env_util import make_atari_env\n",
        "from stable_baselines3.common.vec_env import VecFrameStack\n",
        "from stable_baselines3 import A2C"
      ]
    },
    {
      "cell_type": "markdown",
      "metadata": {
        "id": "RapkYvTXL7Cd"
      },
      "source": [
        "## Create the Gym env and instantiate the agent\n",
        "\n",
        "For this example, we will use an environment from Atari Simulator. Atari environments are simulated via the Arcade Learning Environment (ALE) [1] through the [Stella](https://github.com/stella-emu/stella) and the [Arcade Learning Environment](https://github.com/mgbellemare/Arcade-Learning-Environment).\n",
        "\n",
        "![Pong](https://gymnasium.farama.org/_images/pong.gif)\n",
        "\n",
        "\n",
        "We will use [Pong](https://gymnasium.farama.org/environments/atari/pong/) from the Atari game simulator. We will be using a specific variant  `PongNoFrameskip-v4`. For now we will not delve into the details except telling you that in this case the state is the image of the game and actions are the game controller actions. As we will be using images as state, we will use a different variation of policy network called `CnnPolicy` which is based on CNNs (Convolutional Neural Networks).\n",
        "\n",
        "Last notebook we used DQN as the algorithm to train the agent. In this notebook we will be used [A2C algorithm](https://stable-baselines3.readthedocs.io/en/master/modules/a2c.html). A2C is a synchronous, deterministic variant of Asynchronous Advantage Actor Critic ([A3C](https://arxiv.org/abs/1602.01783))."
      ]
    },
    {
      "cell_type": "code",
      "execution_count": 2,
      "metadata": {
        "colab": {
          "base_uri": "https://localhost:8080/"
        },
        "id": "pUWGZp3i9wyf",
        "outputId": "ffbf11c5-fcc4-4b05-840c-ec4f38b52077"
      },
      "outputs": [
        {
          "output_type": "stream",
          "name": "stdout",
          "text": [
            "Using cuda device\n",
            "Wrapping the env in a VecTransposeImage.\n"
          ]
        }
      ],
      "source": [
        "# There already exists an environment generator\n",
        "# that will make and wrap atari environments correctly.\n",
        "# Here we are also multi-worker training (n_envs=4 => 4 environments)\n",
        "env_id = \"PongNoFrameskip-v4\"\n",
        "\n",
        "vec_env = make_atari_env(env_id, n_envs=4, seed=0)\n",
        "# Frame-stacking with 4 frames\n",
        "vec_env = VecFrameStack(vec_env, n_stack=4)\n",
        "\n",
        "model = A2C(\"CnnPolicy\", vec_env, verbose=1)\n"
      ]
    },
    {
      "cell_type": "markdown",
      "metadata": {
        "id": "UQOeDMf7OqmY"
      },
      "source": [
        "## Train the Agent\n",
        "\n",
        "It is advisable to run this on an envirnment with GPU as otherwise it may take long to run this"
      ]
    },
    {
      "cell_type": "code",
      "execution_count": 3,
      "metadata": {
        "colab": {
          "base_uri": "https://localhost:8080/",
          "height": 640,
          "referenced_widgets": [
            "ca44bf7218914ba58a2a2ef60d01273f",
            "9e37b4d30554454d81cdefd49969b13d"
          ]
        },
        "id": "Gtkged9XOqmZ",
        "outputId": "3bc4fc25-7e53-4a6c-ed4c-1fcbf464b42c"
      },
      "outputs": [
        {
          "output_type": "display_data",
          "data": {
            "text/plain": [
              "Output()"
            ],
            "application/vnd.jupyter.widget-view+json": {
              "version_major": 2,
              "version_minor": 0,
              "model_id": "ca44bf7218914ba58a2a2ef60d01273f"
            }
          },
          "metadata": {}
        },
        {
          "output_type": "stream",
          "name": "stdout",
          "text": [
            "------------------------------------\n",
            "| rollout/              |          |\n",
            "|    ep_len_mean        | 3.69e+03 |\n",
            "|    ep_rew_mean        | -20.4    |\n",
            "| time/                 |          |\n",
            "|    fps                | 361      |\n",
            "|    iterations         | 500      |\n",
            "|    time_elapsed       | 27       |\n",
            "|    total_timesteps    | 10000    |\n",
            "| train/                |          |\n",
            "|    entropy_loss       | -1.73    |\n",
            "|    explained_variance | -0.0156  |\n",
            "|    learning_rate      | 0.0007   |\n",
            "|    n_updates          | 499      |\n",
            "|    policy_loss        | 0.0943   |\n",
            "|    value_loss         | 0.00384  |\n",
            "------------------------------------\n",
            "------------------------------------\n",
            "| rollout/              |          |\n",
            "|    ep_len_mean        | 3.57e+03 |\n",
            "|    ep_rew_mean        | -20.4    |\n",
            "| time/                 |          |\n",
            "|    fps                | 379      |\n",
            "|    iterations         | 1000     |\n",
            "|    time_elapsed       | 52       |\n",
            "|    total_timesteps    | 20000    |\n",
            "| train/                |          |\n",
            "|    entropy_loss       | -1.76    |\n",
            "|    explained_variance | 0.00541  |\n",
            "|    learning_rate      | 0.0007   |\n",
            "|    n_updates          | 999      |\n",
            "|    policy_loss        | 0.0583   |\n",
            "|    value_loss         | 0.00134  |\n",
            "------------------------------------\n"
          ]
        },
        {
          "output_type": "display_data",
          "data": {
            "text/plain": [],
            "text/html": [
              "<pre style=\"white-space:pre;overflow-x:auto;line-height:normal;font-family:Menlo,'DejaVu Sans Mono',consolas,'Courier New',monospace\"></pre>\n"
            ]
          },
          "metadata": {}
        },
        {
          "output_type": "display_data",
          "data": {
            "text/plain": [
              "\n"
            ],
            "text/html": [
              "<pre style=\"white-space:pre;overflow-x:auto;line-height:normal;font-family:Menlo,'DejaVu Sans Mono',consolas,'Courier New',monospace\">\n",
              "</pre>\n"
            ]
          },
          "metadata": {}
        },
        {
          "output_type": "execute_result",
          "data": {
            "text/plain": [
              "<stable_baselines3.a2c.a2c.A2C at 0x7be4a1456200>"
            ]
          },
          "metadata": {},
          "execution_count": 3
        }
      ],
      "source": [
        "# If you have a GPU, you can increase the `total_timesteps` to something like 1_000_000 i.e. one million\n",
        "# It would take about 45 mins to train\n",
        "# The more you train the better the result will be\n",
        "\n",
        "model.learn(total_timesteps=20_000, log_interval=500, progress_bar=True)"
      ]
    },
    {
      "cell_type": "markdown",
      "metadata": {
        "id": "cdvmEsyMOqmZ"
      },
      "source": [
        "## Generate a Video"
      ]
    },
    {
      "cell_type": "code",
      "execution_count": 4,
      "metadata": {
        "colab": {
          "base_uri": "https://localhost:8080/"
        },
        "id": "uUuhVC_oOqma",
        "outputId": "9cbc4bd6-2ba2-491f-a31d-eca605129eb5"
      },
      "outputs": [
        {
          "output_type": "stream",
          "name": "stderr",
          "text": [
            "/usr/local/lib/python3.10/dist-packages/gymnasium/utils/passive_env_checker.py:364: UserWarning: \u001b[33mWARN: No render fps was declared in the environment (env.metadata['render_fps'] is None or not defined), rendering may occur at inconsistent fps.\u001b[0m\n",
            "  logger.warn(\n"
          ]
        },
        {
          "output_type": "stream",
          "name": "stdout",
          "text": [
            "Saving video to /content/logs/videos/a2c-agent-PongNoFrameskip-v4-step-0-to-step-1000.mp4\n",
            "Moviepy - Building video /content/logs/videos/a2c-agent-PongNoFrameskip-v4-step-0-to-step-1000.mp4.\n",
            "Moviepy - Writing video /content/logs/videos/a2c-agent-PongNoFrameskip-v4-step-0-to-step-1000.mp4\n",
            "\n"
          ]
        },
        {
          "output_type": "stream",
          "name": "stderr",
          "text": []
        },
        {
          "output_type": "stream",
          "name": "stdout",
          "text": [
            "Moviepy - Done !\n",
            "Moviepy - video ready /content/logs/videos/a2c-agent-PongNoFrameskip-v4-step-0-to-step-1000.mp4\n"
          ]
        }
      ],
      "source": [
        "from stable_baselines3.common.vec_env import VecVideoRecorder, DummyVecEnv\n",
        "\n",
        "video_length = 1000\n",
        "video_folder = \"logs/videos/\"\n",
        "\n",
        "vec_env = make_atari_env(env_id, n_envs=1, seed=0)\n",
        "# Frame-stacking with 4 frames\n",
        "vec_env = VecFrameStack(vec_env, n_stack=4)\n",
        "\n",
        "obs = vec_env.reset()\n",
        "\n",
        "# Record the video starting at the first step\n",
        "vec_env = VecVideoRecorder(vec_env, video_folder,\n",
        "                       record_video_trigger=lambda x: x == 0, video_length=video_length,\n",
        "                       name_prefix=f\"a2c-agent-{env_id}\")\n",
        "\n",
        "vec_env.reset()\n",
        "for _ in range(video_length + 1):\n",
        "  action, _state = model.predict(obs)\n",
        "  obs, _, _, _ = vec_env.step(action)\n",
        "# Save the video\n",
        "vec_env.close()\n"
      ]
    },
    {
      "cell_type": "markdown",
      "metadata": {
        "id": "dXKNVnP4Oqma"
      },
      "source": [
        "## Watch the Video\n",
        "\n",
        "To get better results and if you have GPU, increase the `total_timesteps` to something like `1_000_000` in `model.learn` call above."
      ]
    },
    {
      "cell_type": "code",
      "execution_count": 5,
      "metadata": {
        "colab": {
          "base_uri": "https://localhost:8080/",
          "height": 546
        },
        "id": "K-ZQy2nQOqma",
        "outputId": "56820107-3a9e-4391-92ba-57c20ce14002"
      },
      "outputs": [
        {
          "output_type": "execute_result",
          "data": {
            "text/plain": [
              "<IPython.core.display.HTML object>"
            ],
            "text/html": [
              "\n",
              "<video width=400 controls>\n",
              "      <source src=\"data:video/mp4;base64,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\" type=\"video/mp4\">\n",
              "</video>\n"
            ]
          },
          "metadata": {},
          "execution_count": 5
        }
      ],
      "source": [
        "from IPython.display import HTML\n",
        "from base64 import b64encode\n",
        "mp4 = open('./logs/videos/a2c-agent-PongNoFrameskip-v4-step-0-to-step-1000.mp4','rb').read()\n",
        "data_url = \"data:video/mp4;base64,\" + b64encode(mp4).decode()\n",
        "HTML(\"\"\"\n",
        "<video width=400 controls>\n",
        "      <source src=\"%s\" type=\"video/mp4\">\n",
        "</video>\n",
        "\"\"\" % data_url)"
      ]
    },
    {
      "cell_type": "markdown",
      "metadata": {
        "id": "JfLpw1G9Oqmb"
      },
      "source": [
        "## Share the Video on Huggingface Account\n",
        "\n",
        "### First let us login into our huggingface account"
      ]
    },
    {
      "cell_type": "code",
      "execution_count": 6,
      "metadata": {
        "colab": {
          "base_uri": "https://localhost:8080/",
          "height": 145,
          "referenced_widgets": [
            "9baca00f449c4cbc9aa3191d8b0d619a",
            "72412189f40e48809504332ccb9e2cd8",
            "8fe2b67b410941fcadd5e196f503a8c2",
            "f6739d173b434c17a11f69c21242d2f8",
            "923e2ceb73e441de909349be5599f892",
            "1989d775fe6e4fe8926911f21318ec84",
            "7e247b90e182433b84ee5ce7d209c9b7",
            "d749ca688f144e98871de85ec951ae6c",
            "8cc7aceef2814715b5315f50c54987dd",
            "cc57825b7425411083eaf475725476f0",
            "36582c747a294b9594f66e1d09a1ccd2",
            "2d76f4d10e4e4f2997534fea70d8f21f",
            "59043fffdc984aaa89e377a6a685ce5a",
            "097f1c571f254707801331bdbff7b1f2",
            "4ca564d7a53a471ebb415ca24277ab9d",
            "3d616f8122b643e5b903610a40e93c5b",
            "62df7a429659424c89ab1d75e8d7ea6f",
            "dc5f6de1b5714f8fb8c5d199db345baf",
            "c9146c34bff8416c8c030212ce763aff",
            "389ababb95574d318bf00b90d2a3c4fd",
            "6aaed5c847384ace936493a55044863b",
            "69214bb78261461fba63a21891208026",
            "6b0186d0659745488a1c27f49353df41",
            "90030581155248efb7a52f0967be6b9a",
            "1e6e2c58b1974a3fb60af65cdb430257",
            "7379f8b344a54d6abdd4a2c7c3922bbc",
            "2a903d9f4a704e64b202ffbacf98818d",
            "20bfbd61a95e462d97fca454b9d26164",
            "1de628df6caa4f78bca909f1c1ebb506",
            "dcf4085112d14992bcbd03390c261241",
            "73184ba9020c474b9843ec8feb4e4785",
            "982d0489619242409625f520502d80da"
          ]
        },
        "id": "sUU3FfOXOqmb",
        "outputId": "e71d4c23-0b01-4885-e4b1-4c6a92fde05d"
      },
      "outputs": [
        {
          "output_type": "display_data",
          "data": {
            "text/plain": [
              "VBox(children=(HTML(value='<center> <img\\nsrc=https://huggingface.co/front/assets/huggingface_logo-noborder.sv…"
            ],
            "application/vnd.jupyter.widget-view+json": {
              "version_major": 2,
              "version_minor": 0,
              "model_id": "9baca00f449c4cbc9aa3191d8b0d619a"
            }
          },
          "metadata": {}
        }
      ],
      "source": [
        "from huggingface_sb3 import load_from_hub, package_to_hub, push_to_hub\n",
        "from huggingface_hub import notebook_login # To log to our Hugging Face account to be able to upload models to the Hub.\n",
        "\n",
        "notebook_login()\n",
        "!git config --global credential.helper store"
      ]
    },
    {
      "cell_type": "markdown",
      "metadata": {
        "id": "i84HLr3lOqmb"
      },
      "source": [
        "### Push to HuggingFace\n",
        "\n",
        "You can execute the code below to push the trained agent to huggingface hub. Towards the end of output there will be a link of the hosted model that you can share with your friends and family. Share the url without the ending paths \"tree/main\" so that the url takes them to Model Card tab where they can see the animation. e.g. in my case it will be:<br/>\n",
        "`https://huggingface.co/nsanghi/a2c-Atari-Pong/`<br/>\n",
        "instead of<br/>\n",
        "`https://huggingface.co/nsanghi/a2c-Atari-Pong/tree/main/`\n",
        "\n",
        "NOTE: At the time of writing this book, there is a bug in push_to_hub which results in sample video not getting created. You can refer to this bug here - https://github.com/huggingface/huggingface_sb3/issues/33\n",
        "\n"
      ]
    },
    {
      "cell_type": "code",
      "execution_count": 7,
      "metadata": {
        "colab": {
          "base_uri": "https://localhost:8080/",
          "height": 478,
          "referenced_widgets": [
            "7e79d55dc75640f182a75a76e6befd6c",
            "2f9249cb5e464f4d89511d9ad9c1b0f5",
            "ab65ebd02fc4483d88ddb2922a0cb9e5",
            "0321e2bbec80448780e4814782a207f0",
            "3f56b537952140ab81d08f525ab1afb5",
            "4a77538dec6e4f4283acdda13020857b",
            "341c4a479ca04d9f87d911c7dfa4f832",
            "3f3b3ccf0d874644bdc0665a1cebe29e",
            "fde7482c219947a58c104e1ff98dcee3",
            "5f94ed844d1e44bf8990726091ff99fb",
            "9473dae6db264ac4839259530d224b40",
            "ce03f361dd6845169afeff6651cece9d",
            "1c0ecffe1ba14089a0ce91b35f43e6ef",
            "0a49a3375d2241aba37ae89a91132359",
            "0d2a92263e964fb093edaad9f5f89000",
            "a6bd5bd007154c9a8a5a8f3892786ac4",
            "f8128f9e517348bda033f2119b9c3507",
            "8584a2c322bb423f9807ec997f9d4861",
            "50bb75a30fa148029a094e7eefecb273",
            "7dc4958d5d874447b960f91723545503",
            "ebf92f77cf4744169b32c9ddcfefedc7",
            "61e4617fdfdc433881d35d78291afd84",
            "600a388cba494f4a8470c7dea4b3589b",
            "f51ec766112e4f1597a875e633755570",
            "f7239c1729c7436ab16d85c56468b43b",
            "644d29c7bd1446ab822069bebf04b8fa",
            "62b888e134a74ee7af9c7d81f9d3ca4f",
            "7d12f46db88a475fa092383fd49d94f5",
            "c2292c4b4519412db54b3617f14ad130",
            "328e74d7b38c45018670b820bd7cd74b",
            "f36dc43b5dec418ba22893bf0099ecba",
            "623b07b8ea354cff9370be360f298b7c",
            "66e6bec9e55e4e49847dab6de4a58d5e",
            "2734557abab14a1d9617b4683c2930d9",
            "f800cc9b7e334d7d91f22cab6e5c095d",
            "8f15c6e91cf249e6907dc8175ea0a2f2",
            "3b3ba1f133e44c6296abe4055ca894a1",
            "71653709bfbb41e4b24ae1207269ba24",
            "663368582a7b4e21a4b725cffa1b7aec",
            "545625be6fd74e829dab945a643a9d92",
            "cb21ee693fe84ba39da139cf10285269",
            "ef05f8e14c5d4f7eadb8a2707d1ce75c",
            "0aa30914cad144c2931ca32bd0a5b8ac",
            "9a54fa46ca36496fbe6dc079466d5d44"
          ]
        },
        "id": "WpISOpL5Oqmb",
        "outputId": "a61d8d27-4b41-4fb5-ef63-bf2658afc25e"
      },
      "outputs": [
        {
          "output_type": "stream",
          "name": "stderr",
          "text": [
            "/usr/local/lib/python3.10/dist-packages/ipykernel/ipkernel.py:283: DeprecationWarning: `should_run_async` will not call `transform_cell` automatically in the future. Please pass the result to `transformed_cell` argument and any exception that happen during thetransform in `preprocessing_exc_tuple` in IPython 7.17 and above.\n",
            "  and should_run_async(code)\n"
          ]
        },
        {
          "output_type": "stream",
          "name": "stdout",
          "text": [
            "\u001b[38;5;4mℹ This function will save, evaluate, generate a video of your agent,\n",
            "create a model card and push everything to the hub. It might take up to 1min.\n",
            "This is a work in progress: if you encounter a bug, please open an issue.\u001b[0m\n",
            "shimmy.atari_env:AtariEnv\n"
          ]
        },
        {
          "output_type": "stream",
          "name": "stderr",
          "text": [
            "/usr/local/lib/python3.10/dist-packages/gymnasium/utils/passive_env_checker.py:364: UserWarning: \u001b[33mWARN: No render fps was declared in the environment (env.metadata['render_fps'] is None or not defined), rendering may occur at inconsistent fps.\u001b[0m\n",
            "  logger.warn(\n"
          ]
        },
        {
          "output_type": "stream",
          "name": "stdout",
          "text": [
            "Saving video to /tmp/tmpkp64omeo/-step-0-to-step-1000.mp4\n",
            "Moviepy - Building video /tmp/tmpkp64omeo/-step-0-to-step-1000.mp4.\n",
            "Moviepy - Writing video /tmp/tmpkp64omeo/-step-0-to-step-1000.mp4\n",
            "\n"
          ]
        },
        {
          "output_type": "stream",
          "name": "stderr",
          "text": []
        },
        {
          "output_type": "stream",
          "name": "stdout",
          "text": [
            "Moviepy - Done !\n",
            "Moviepy - video ready /tmp/tmpkp64omeo/-step-0-to-step-1000.mp4\n",
            "\u001b[38;5;4mℹ Pushing repo nsanghi/a2c-Atari-Pong to the Hugging Face Hub\u001b[0m\n"
          ]
        },
        {
          "output_type": "display_data",
          "data": {
            "text/plain": [
              "policy.optimizer.pth:   0%|          | 0.00/6.75M [00:00<?, ?B/s]"
            ],
            "application/vnd.jupyter.widget-view+json": {
              "version_major": 2,
              "version_minor": 0,
              "model_id": "7e79d55dc75640f182a75a76e6befd6c"
            }
          },
          "metadata": {}
        },
        {
          "output_type": "display_data",
          "data": {
            "text/plain": [
              "policy.pth:   0%|          | 0.00/6.76M [00:00<?, ?B/s]"
            ],
            "application/vnd.jupyter.widget-view+json": {
              "version_major": 2,
              "version_minor": 0,
              "model_id": "ce03f361dd6845169afeff6651cece9d"
            }
          },
          "metadata": {}
        },
        {
          "output_type": "display_data",
          "data": {
            "text/plain": [
              "A2C-Atari-Pong.zip:   0%|          | 0.00/13.8M [00:00<?, ?B/s]"
            ],
            "application/vnd.jupyter.widget-view+json": {
              "version_major": 2,
              "version_minor": 0,
              "model_id": "600a388cba494f4a8470c7dea4b3589b"
            }
          },
          "metadata": {}
        },
        {
          "output_type": "display_data",
          "data": {
            "text/plain": [
              "Upload 3 LFS files:   0%|          | 0/3 [00:00<?, ?it/s]"
            ],
            "application/vnd.jupyter.widget-view+json": {
              "version_major": 2,
              "version_minor": 0,
              "model_id": "2734557abab14a1d9617b4683c2930d9"
            }
          },
          "metadata": {}
        },
        {
          "output_type": "stream",
          "name": "stdout",
          "text": [
            "\u001b[38;5;4mℹ Your model is pushed to the Hub. You can view your model here:\n",
            "https://huggingface.co/nsanghi/a2c-Atari-Pong/tree/main/\u001b[0m\n"
          ]
        },
        {
          "output_type": "execute_result",
          "data": {
            "text/plain": [
              "'https://huggingface.co/nsanghi/a2c-Atari-Pong/tree/main/'"
            ],
            "application/vnd.google.colaboratory.intrinsic+json": {
              "type": "string"
            }
          },
          "metadata": {},
          "execution_count": 7
        }
      ],
      "source": [
        "eval_env = make_atari_env(env_id, n_envs=1, seed=0)\n",
        "# Frame-stacking with 4 frames\n",
        "eval_env = VecFrameStack(eval_env, n_stack=4)\n",
        "\n",
        "obs = vec_env.reset()\n",
        "\n",
        "# method save, evaluate, generate a model card and record a replay video of your agent before pushing the repo to the hub\n",
        "\n",
        "# Please note repo_id is of the form <huggingface_id>/<name of repo>\n",
        "# you will need to change this to \"<your_huggingface_id>/dqn-LunarLander-v2\"\n",
        "\n",
        "package_to_hub(model=model, # Our trained model\n",
        "               model_name=\"A2C-Atari-Pong\", # The name of our trained model\n",
        "               model_architecture=\"A2C\", # The model architecture we used: in our case PPO\n",
        "               env_id=env_id, # Name of the environment\n",
        "               eval_env=eval_env, # Evaluation Environment\n",
        "               repo_id=\"nsanghi/a2c-Atari-Pong\", # id of the model repository from the Hugging Face Hub (repo_id = {organization}/{repo_name} for instance ThomasSimonini/ppo-LunarLander-v2\n",
        "               commit_message=\"Push to Hub\")\n",
        "\n",
        "# Note: if after running the package_to_hub function and it gives an issue of rebasing, please run the following code\n",
        "# cd <path_to_repo> && git add . && git commit -m \"Add message\" && git pull\n",
        "# And don't forget to do a \"git push\" at the end to push the change to the hub."
      ]
    }
  ],
  "metadata": {
    "accelerator": "GPU",
    "colab": {
      "name": "listing2_4-second_agent.ipynb",
      "provenance": [],
      "include_colab_link": true
    },
    "kernelspec": {
      "display_name": "Python 3 (ipykernel)",
      "language": "python",
      "name": "python3"
    },
    "language_info": {
      "codemirror_mode": {
        "name": "ipython",
        "version": 3
      },
      "file_extension": ".py",
      "mimetype": "text/x-python",
      "name": "python",
      "nbconvert_exporter": "python",
      "pygments_lexer": "ipython3",
      "version": "3.10.12"
    },
    "vscode": {
      "interpreter": {
        "hash": "3201c96db5836b171d01fee72ea1be894646622d4b41771abf25c98b548a611d"
      }
    },
    "widgets": {
      "application/vnd.jupyter.widget-state+json": {
        "ca44bf7218914ba58a2a2ef60d01273f": {
          "model_module": "@jupyter-widgets/output",
          "model_name": "OutputModel",
          "model_module_version": "1.0.0",
          "state": {
            "_dom_classes": [],
            "_model_module": "@jupyter-widgets/output",
            "_model_module_version": "1.0.0",
            "_model_name": "OutputModel",
            "_view_count": null,
            "_view_module": "@jupyter-widgets/output",
            "_view_module_version": "1.0.0",
            "_view_name": "OutputView",
            "layout": "IPY_MODEL_9e37b4d30554454d81cdefd49969b13d",
            "msg_id": "",
            "outputs": [
              {
                "output_type": "display_data",
                "data": {
                  "text/plain": "\u001b[35m 100%\u001b[0m \u001b[38;2;249;38;114m━━━━━━━━━━━━━━━━━━━━━━━━━━━━━━━━━━━━━━━━━━━━━━━━━━━━━━━━━━━━\u001b[0m\u001b[38;2;249;38;114m╸\u001b[0m \u001b[32m19,952/20,000 \u001b[0m [ \u001b[33m0:00:51\u001b[0m < \u001b[36m0:00:01\u001b[0m , \u001b[31m406 it/s\u001b[0m ]\n",
                  "text/html": "<pre style=\"white-space:pre;overflow-x:auto;line-height:normal;font-family:Menlo,'DejaVu Sans Mono',consolas,'Courier New',monospace\"><span style=\"color: #800080; text-decoration-color: #800080\"> 100%</span> <span style=\"color: #f92672; text-decoration-color: #f92672\">━━━━━━━━━━━━━━━━━━━━━━━━━━━━━━━━━━━━━━━━━━━━━━━━━━━━━━━━━━━━╸</span> <span style=\"color: #008000; text-decoration-color: #008000\">19,952/20,000 </span> [ <span style=\"color: #808000; text-decoration-color: #808000\">0:00:51</span> &lt; <span style=\"color: #008080; text-decoration-color: #008080\">0:00:01</span> , <span style=\"color: #800000; text-decoration-color: #800000\">406 it/s</span> ]\n</pre>\n"
                },
                "metadata": {}
              }
            ]
          }
        },
        "9e37b4d30554454d81cdefd49969b13d": {
          "model_module": "@jupyter-widgets/base",
          "model_name": "LayoutModel",
          "model_module_version": "1.2.0",
          "state": {
            "_model_module": "@jupyter-widgets/base",
            "_model_module_version": "1.2.0",
            "_model_name": "LayoutModel",
            "_view_count": null,
            "_view_module": "@jupyter-widgets/base",
            "_view_module_version": "1.2.0",
            "_view_name": "LayoutView",
            "align_content": null,
            "align_items": null,
            "align_self": null,
            "border": null,
            "bottom": null,
            "display": null,
            "flex": null,
            "flex_flow": null,
            "grid_area": null,
            "grid_auto_columns": null,
            "grid_auto_flow": null,
            "grid_auto_rows": null,
            "grid_column": null,
            "grid_gap": null,
            "grid_row": null,
            "grid_template_areas": null,
            "grid_template_columns": null,
            "grid_template_rows": null,
            "height": null,
            "justify_content": null,
            "justify_items": null,
            "left": null,
            "margin": null,
            "max_height": null,
            "max_width": null,
            "min_height": null,
            "min_width": null,
            "object_fit": null,
            "object_position": null,
            "order": null,
            "overflow": null,
            "overflow_x": null,
            "overflow_y": null,
            "padding": null,
            "right": null,
            "top": null,
            "visibility": null,
            "width": null
          }
        },
        "9baca00f449c4cbc9aa3191d8b0d619a": {
          "model_module": "@jupyter-widgets/controls",
          "model_name": "VBoxModel",
          "model_module_version": "1.5.0",
          "state": {
            "_dom_classes": [],
            "_model_module": "@jupyter-widgets/controls",
            "_model_module_version": "1.5.0",
            "_model_name": "VBoxModel",
            "_view_count": null,
            "_view_module": "@jupyter-widgets/controls",
            "_view_module_version": "1.5.0",
            "_view_name": "VBoxView",
            "box_style": "",
            "children": [
              "IPY_MODEL_6aaed5c847384ace936493a55044863b",
              "IPY_MODEL_69214bb78261461fba63a21891208026",
              "IPY_MODEL_6b0186d0659745488a1c27f49353df41",
              "IPY_MODEL_90030581155248efb7a52f0967be6b9a"
            ],
            "layout": "IPY_MODEL_7e247b90e182433b84ee5ce7d209c9b7"
          }
        },
        "72412189f40e48809504332ccb9e2cd8": {
          "model_module": "@jupyter-widgets/controls",
          "model_name": "HTMLModel",
          "model_module_version": "1.5.0",
          "state": {
            "_dom_classes": [],
            "_model_module": "@jupyter-widgets/controls",
            "_model_module_version": "1.5.0",
            "_model_name": "HTMLModel",
            "_view_count": null,
            "_view_module": "@jupyter-widgets/controls",
            "_view_module_version": "1.5.0",
            "_view_name": "HTMLView",
            "description": "",
            "description_tooltip": null,
            "layout": "IPY_MODEL_d749ca688f144e98871de85ec951ae6c",
            "placeholder": "​",
            "style": "IPY_MODEL_8cc7aceef2814715b5315f50c54987dd",
            "value": "<center> <img\nsrc=https://huggingface.co/front/assets/huggingface_logo-noborder.svg\nalt='Hugging Face'> <br> Copy a token from <a\nhref=\"https://huggingface.co/settings/tokens\" target=\"_blank\">your Hugging Face\ntokens page</a> and paste it below. <br> Immediately click login after copying\nyour token or it might be stored in plain text in this notebook file. </center>"
          }
        },
        "8fe2b67b410941fcadd5e196f503a8c2": {
          "model_module": "@jupyter-widgets/controls",
          "model_name": "PasswordModel",
          "model_module_version": "1.5.0",
          "state": {
            "_dom_classes": [],
            "_model_module": "@jupyter-widgets/controls",
            "_model_module_version": "1.5.0",
            "_model_name": "PasswordModel",
            "_view_count": null,
            "_view_module": "@jupyter-widgets/controls",
            "_view_module_version": "1.5.0",
            "_view_name": "PasswordView",
            "continuous_update": true,
            "description": "Token:",
            "description_tooltip": null,
            "disabled": false,
            "layout": "IPY_MODEL_cc57825b7425411083eaf475725476f0",
            "placeholder": "​",
            "style": "IPY_MODEL_36582c747a294b9594f66e1d09a1ccd2",
            "value": ""
          }
        },
        "f6739d173b434c17a11f69c21242d2f8": {
          "model_module": "@jupyter-widgets/controls",
          "model_name": "CheckboxModel",
          "model_module_version": "1.5.0",
          "state": {
            "_dom_classes": [],
            "_model_module": "@jupyter-widgets/controls",
            "_model_module_version": "1.5.0",
            "_model_name": "CheckboxModel",
            "_view_count": null,
            "_view_module": "@jupyter-widgets/controls",
            "_view_module_version": "1.5.0",
            "_view_name": "CheckboxView",
            "description": "Add token as git credential?",
            "description_tooltip": null,
            "disabled": false,
            "indent": true,
            "layout": "IPY_MODEL_2d76f4d10e4e4f2997534fea70d8f21f",
            "style": "IPY_MODEL_59043fffdc984aaa89e377a6a685ce5a",
            "value": true
          }
        },
        "923e2ceb73e441de909349be5599f892": {
          "model_module": "@jupyter-widgets/controls",
          "model_name": "ButtonModel",
          "model_module_version": "1.5.0",
          "state": {
            "_dom_classes": [],
            "_model_module": "@jupyter-widgets/controls",
            "_model_module_version": "1.5.0",
            "_model_name": "ButtonModel",
            "_view_count": null,
            "_view_module": "@jupyter-widgets/controls",
            "_view_module_version": "1.5.0",
            "_view_name": "ButtonView",
            "button_style": "",
            "description": "Login",
            "disabled": false,
            "icon": "",
            "layout": "IPY_MODEL_097f1c571f254707801331bdbff7b1f2",
            "style": "IPY_MODEL_4ca564d7a53a471ebb415ca24277ab9d",
            "tooltip": ""
          }
        },
        "1989d775fe6e4fe8926911f21318ec84": {
          "model_module": "@jupyter-widgets/controls",
          "model_name": "HTMLModel",
          "model_module_version": "1.5.0",
          "state": {
            "_dom_classes": [],
            "_model_module": "@jupyter-widgets/controls",
            "_model_module_version": "1.5.0",
            "_model_name": "HTMLModel",
            "_view_count": null,
            "_view_module": "@jupyter-widgets/controls",
            "_view_module_version": "1.5.0",
            "_view_name": "HTMLView",
            "description": "",
            "description_tooltip": null,
            "layout": "IPY_MODEL_3d616f8122b643e5b903610a40e93c5b",
            "placeholder": "​",
            "style": "IPY_MODEL_62df7a429659424c89ab1d75e8d7ea6f",
            "value": "\n<b>Pro Tip:</b> If you don't already have one, you can create a dedicated\n'notebooks' token with 'write' access, that you can then easily reuse for all\nnotebooks. </center>"
          }
        },
        "7e247b90e182433b84ee5ce7d209c9b7": {
          "model_module": "@jupyter-widgets/base",
          "model_name": "LayoutModel",
          "model_module_version": "1.2.0",
          "state": {
            "_model_module": "@jupyter-widgets/base",
            "_model_module_version": "1.2.0",
            "_model_name": "LayoutModel",
            "_view_count": null,
            "_view_module": "@jupyter-widgets/base",
            "_view_module_version": "1.2.0",
            "_view_name": "LayoutView",
            "align_content": null,
            "align_items": "center",
            "align_self": null,
            "border": null,
            "bottom": null,
            "display": "flex",
            "flex": null,
            "flex_flow": "column",
            "grid_area": null,
            "grid_auto_columns": null,
            "grid_auto_flow": null,
            "grid_auto_rows": null,
            "grid_column": null,
            "grid_gap": null,
            "grid_row": null,
            "grid_template_areas": null,
            "grid_template_columns": null,
            "grid_template_rows": null,
            "height": null,
            "justify_content": null,
            "justify_items": null,
            "left": null,
            "margin": null,
            "max_height": null,
            "max_width": null,
            "min_height": null,
            "min_width": null,
            "object_fit": null,
            "object_position": null,
            "order": null,
            "overflow": null,
            "overflow_x": null,
            "overflow_y": null,
            "padding": null,
            "right": null,
            "top": null,
            "visibility": null,
            "width": "50%"
          }
        },
        "d749ca688f144e98871de85ec951ae6c": {
          "model_module": "@jupyter-widgets/base",
          "model_name": "LayoutModel",
          "model_module_version": "1.2.0",
          "state": {
            "_model_module": "@jupyter-widgets/base",
            "_model_module_version": "1.2.0",
            "_model_name": "LayoutModel",
            "_view_count": null,
            "_view_module": "@jupyter-widgets/base",
            "_view_module_version": "1.2.0",
            "_view_name": "LayoutView",
            "align_content": null,
            "align_items": null,
            "align_self": null,
            "border": null,
            "bottom": null,
            "display": null,
            "flex": null,
            "flex_flow": null,
            "grid_area": null,
            "grid_auto_columns": null,
            "grid_auto_flow": null,
            "grid_auto_rows": null,
            "grid_column": null,
            "grid_gap": null,
            "grid_row": null,
            "grid_template_areas": null,
            "grid_template_columns": null,
            "grid_template_rows": null,
            "height": null,
            "justify_content": null,
            "justify_items": null,
            "left": null,
            "margin": null,
            "max_height": null,
            "max_width": null,
            "min_height": null,
            "min_width": null,
            "object_fit": null,
            "object_position": null,
            "order": null,
            "overflow": null,
            "overflow_x": null,
            "overflow_y": null,
            "padding": null,
            "right": null,
            "top": null,
            "visibility": null,
            "width": null
          }
        },
        "8cc7aceef2814715b5315f50c54987dd": {
          "model_module": "@jupyter-widgets/controls",
          "model_name": "DescriptionStyleModel",
          "model_module_version": "1.5.0",
          "state": {
            "_model_module": "@jupyter-widgets/controls",
            "_model_module_version": "1.5.0",
            "_model_name": "DescriptionStyleModel",
            "_view_count": null,
            "_view_module": "@jupyter-widgets/base",
            "_view_module_version": "1.2.0",
            "_view_name": "StyleView",
            "description_width": ""
          }
        },
        "cc57825b7425411083eaf475725476f0": {
          "model_module": "@jupyter-widgets/base",
          "model_name": "LayoutModel",
          "model_module_version": "1.2.0",
          "state": {
            "_model_module": "@jupyter-widgets/base",
            "_model_module_version": "1.2.0",
            "_model_name": "LayoutModel",
            "_view_count": null,
            "_view_module": "@jupyter-widgets/base",
            "_view_module_version": "1.2.0",
            "_view_name": "LayoutView",
            "align_content": null,
            "align_items": null,
            "align_self": null,
            "border": null,
            "bottom": null,
            "display": null,
            "flex": null,
            "flex_flow": null,
            "grid_area": null,
            "grid_auto_columns": null,
            "grid_auto_flow": null,
            "grid_auto_rows": null,
            "grid_column": null,
            "grid_gap": null,
            "grid_row": null,
            "grid_template_areas": null,
            "grid_template_columns": null,
            "grid_template_rows": null,
            "height": null,
            "justify_content": null,
            "justify_items": null,
            "left": null,
            "margin": null,
            "max_height": null,
            "max_width": null,
            "min_height": null,
            "min_width": null,
            "object_fit": null,
            "object_position": null,
            "order": null,
            "overflow": null,
            "overflow_x": null,
            "overflow_y": null,
            "padding": null,
            "right": null,
            "top": null,
            "visibility": null,
            "width": null
          }
        },
        "36582c747a294b9594f66e1d09a1ccd2": {
          "model_module": "@jupyter-widgets/controls",
          "model_name": "DescriptionStyleModel",
          "model_module_version": "1.5.0",
          "state": {
            "_model_module": "@jupyter-widgets/controls",
            "_model_module_version": "1.5.0",
            "_model_name": "DescriptionStyleModel",
            "_view_count": null,
            "_view_module": "@jupyter-widgets/base",
            "_view_module_version": "1.2.0",
            "_view_name": "StyleView",
            "description_width": ""
          }
        },
        "2d76f4d10e4e4f2997534fea70d8f21f": {
          "model_module": "@jupyter-widgets/base",
          "model_name": "LayoutModel",
          "model_module_version": "1.2.0",
          "state": {
            "_model_module": "@jupyter-widgets/base",
            "_model_module_version": "1.2.0",
            "_model_name": "LayoutModel",
            "_view_count": null,
            "_view_module": "@jupyter-widgets/base",
            "_view_module_version": "1.2.0",
            "_view_name": "LayoutView",
            "align_content": null,
            "align_items": null,
            "align_self": null,
            "border": null,
            "bottom": null,
            "display": null,
            "flex": null,
            "flex_flow": null,
            "grid_area": null,
            "grid_auto_columns": null,
            "grid_auto_flow": null,
            "grid_auto_rows": null,
            "grid_column": null,
            "grid_gap": null,
            "grid_row": null,
            "grid_template_areas": null,
            "grid_template_columns": null,
            "grid_template_rows": null,
            "height": null,
            "justify_content": null,
            "justify_items": null,
            "left": null,
            "margin": null,
            "max_height": null,
            "max_width": null,
            "min_height": null,
            "min_width": null,
            "object_fit": null,
            "object_position": null,
            "order": null,
            "overflow": null,
            "overflow_x": null,
            "overflow_y": null,
            "padding": null,
            "right": null,
            "top": null,
            "visibility": null,
            "width": null
          }
        },
        "59043fffdc984aaa89e377a6a685ce5a": {
          "model_module": "@jupyter-widgets/controls",
          "model_name": "DescriptionStyleModel",
          "model_module_version": "1.5.0",
          "state": {
            "_model_module": "@jupyter-widgets/controls",
            "_model_module_version": "1.5.0",
            "_model_name": "DescriptionStyleModel",
            "_view_count": null,
            "_view_module": "@jupyter-widgets/base",
            "_view_module_version": "1.2.0",
            "_view_name": "StyleView",
            "description_width": ""
          }
        },
        "097f1c571f254707801331bdbff7b1f2": {
          "model_module": "@jupyter-widgets/base",
          "model_name": "LayoutModel",
          "model_module_version": "1.2.0",
          "state": {
            "_model_module": "@jupyter-widgets/base",
            "_model_module_version": "1.2.0",
            "_model_name": "LayoutModel",
            "_view_count": null,
            "_view_module": "@jupyter-widgets/base",
            "_view_module_version": "1.2.0",
            "_view_name": "LayoutView",
            "align_content": null,
            "align_items": null,
            "align_self": null,
            "border": null,
            "bottom": null,
            "display": null,
            "flex": null,
            "flex_flow": null,
            "grid_area": null,
            "grid_auto_columns": null,
            "grid_auto_flow": null,
            "grid_auto_rows": null,
            "grid_column": null,
            "grid_gap": null,
            "grid_row": null,
            "grid_template_areas": null,
            "grid_template_columns": null,
            "grid_template_rows": null,
            "height": null,
            "justify_content": null,
            "justify_items": null,
            "left": null,
            "margin": null,
            "max_height": null,
            "max_width": null,
            "min_height": null,
            "min_width": null,
            "object_fit": null,
            "object_position": null,
            "order": null,
            "overflow": null,
            "overflow_x": null,
            "overflow_y": null,
            "padding": null,
            "right": null,
            "top": null,
            "visibility": null,
            "width": null
          }
        },
        "4ca564d7a53a471ebb415ca24277ab9d": {
          "model_module": "@jupyter-widgets/controls",
          "model_name": "ButtonStyleModel",
          "model_module_version": "1.5.0",
          "state": {
            "_model_module": "@jupyter-widgets/controls",
            "_model_module_version": "1.5.0",
            "_model_name": "ButtonStyleModel",
            "_view_count": null,
            "_view_module": "@jupyter-widgets/base",
            "_view_module_version": "1.2.0",
            "_view_name": "StyleView",
            "button_color": null,
            "font_weight": ""
          }
        },
        "3d616f8122b643e5b903610a40e93c5b": {
          "model_module": "@jupyter-widgets/base",
          "model_name": "LayoutModel",
          "model_module_version": "1.2.0",
          "state": {
            "_model_module": "@jupyter-widgets/base",
            "_model_module_version": "1.2.0",
            "_model_name": "LayoutModel",
            "_view_count": null,
            "_view_module": "@jupyter-widgets/base",
            "_view_module_version": "1.2.0",
            "_view_name": "LayoutView",
            "align_content": null,
            "align_items": null,
            "align_self": null,
            "border": null,
            "bottom": null,
            "display": null,
            "flex": null,
            "flex_flow": null,
            "grid_area": null,
            "grid_auto_columns": null,
            "grid_auto_flow": null,
            "grid_auto_rows": null,
            "grid_column": null,
            "grid_gap": null,
            "grid_row": null,
            "grid_template_areas": null,
            "grid_template_columns": null,
            "grid_template_rows": null,
            "height": null,
            "justify_content": null,
            "justify_items": null,
            "left": null,
            "margin": null,
            "max_height": null,
            "max_width": null,
            "min_height": null,
            "min_width": null,
            "object_fit": null,
            "object_position": null,
            "order": null,
            "overflow": null,
            "overflow_x": null,
            "overflow_y": null,
            "padding": null,
            "right": null,
            "top": null,
            "visibility": null,
            "width": null
          }
        },
        "62df7a429659424c89ab1d75e8d7ea6f": {
          "model_module": "@jupyter-widgets/controls",
          "model_name": "DescriptionStyleModel",
          "model_module_version": "1.5.0",
          "state": {
            "_model_module": "@jupyter-widgets/controls",
            "_model_module_version": "1.5.0",
            "_model_name": "DescriptionStyleModel",
            "_view_count": null,
            "_view_module": "@jupyter-widgets/base",
            "_view_module_version": "1.2.0",
            "_view_name": "StyleView",
            "description_width": ""
          }
        },
        "dc5f6de1b5714f8fb8c5d199db345baf": {
          "model_module": "@jupyter-widgets/controls",
          "model_name": "LabelModel",
          "model_module_version": "1.5.0",
          "state": {
            "_dom_classes": [],
            "_model_module": "@jupyter-widgets/controls",
            "_model_module_version": "1.5.0",
            "_model_name": "LabelModel",
            "_view_count": null,
            "_view_module": "@jupyter-widgets/controls",
            "_view_module_version": "1.5.0",
            "_view_name": "LabelView",
            "description": "",
            "description_tooltip": null,
            "layout": "IPY_MODEL_c9146c34bff8416c8c030212ce763aff",
            "placeholder": "​",
            "style": "IPY_MODEL_389ababb95574d318bf00b90d2a3c4fd",
            "value": "Connecting..."
          }
        },
        "c9146c34bff8416c8c030212ce763aff": {
          "model_module": "@jupyter-widgets/base",
          "model_name": "LayoutModel",
          "model_module_version": "1.2.0",
          "state": {
            "_model_module": "@jupyter-widgets/base",
            "_model_module_version": "1.2.0",
            "_model_name": "LayoutModel",
            "_view_count": null,
            "_view_module": "@jupyter-widgets/base",
            "_view_module_version": "1.2.0",
            "_view_name": "LayoutView",
            "align_content": null,
            "align_items": null,
            "align_self": null,
            "border": null,
            "bottom": null,
            "display": null,
            "flex": null,
            "flex_flow": null,
            "grid_area": null,
            "grid_auto_columns": null,
            "grid_auto_flow": null,
            "grid_auto_rows": null,
            "grid_column": null,
            "grid_gap": null,
            "grid_row": null,
            "grid_template_areas": null,
            "grid_template_columns": null,
            "grid_template_rows": null,
            "height": null,
            "justify_content": null,
            "justify_items": null,
            "left": null,
            "margin": null,
            "max_height": null,
            "max_width": null,
            "min_height": null,
            "min_width": null,
            "object_fit": null,
            "object_position": null,
            "order": null,
            "overflow": null,
            "overflow_x": null,
            "overflow_y": null,
            "padding": null,
            "right": null,
            "top": null,
            "visibility": null,
            "width": null
          }
        },
        "389ababb95574d318bf00b90d2a3c4fd": {
          "model_module": "@jupyter-widgets/controls",
          "model_name": "DescriptionStyleModel",
          "model_module_version": "1.5.0",
          "state": {
            "_model_module": "@jupyter-widgets/controls",
            "_model_module_version": "1.5.0",
            "_model_name": "DescriptionStyleModel",
            "_view_count": null,
            "_view_module": "@jupyter-widgets/base",
            "_view_module_version": "1.2.0",
            "_view_name": "StyleView",
            "description_width": ""
          }
        },
        "6aaed5c847384ace936493a55044863b": {
          "model_module": "@jupyter-widgets/controls",
          "model_name": "LabelModel",
          "model_module_version": "1.5.0",
          "state": {
            "_dom_classes": [],
            "_model_module": "@jupyter-widgets/controls",
            "_model_module_version": "1.5.0",
            "_model_name": "LabelModel",
            "_view_count": null,
            "_view_module": "@jupyter-widgets/controls",
            "_view_module_version": "1.5.0",
            "_view_name": "LabelView",
            "description": "",
            "description_tooltip": null,
            "layout": "IPY_MODEL_1e6e2c58b1974a3fb60af65cdb430257",
            "placeholder": "​",
            "style": "IPY_MODEL_7379f8b344a54d6abdd4a2c7c3922bbc",
            "value": "Token is valid (permission: write)."
          }
        },
        "69214bb78261461fba63a21891208026": {
          "model_module": "@jupyter-widgets/controls",
          "model_name": "LabelModel",
          "model_module_version": "1.5.0",
          "state": {
            "_dom_classes": [],
            "_model_module": "@jupyter-widgets/controls",
            "_model_module_version": "1.5.0",
            "_model_name": "LabelModel",
            "_view_count": null,
            "_view_module": "@jupyter-widgets/controls",
            "_view_module_version": "1.5.0",
            "_view_name": "LabelView",
            "description": "",
            "description_tooltip": null,
            "layout": "IPY_MODEL_2a903d9f4a704e64b202ffbacf98818d",
            "placeholder": "​",
            "style": "IPY_MODEL_20bfbd61a95e462d97fca454b9d26164",
            "value": "Your token has been saved in your configured git credential helpers (store)."
          }
        },
        "6b0186d0659745488a1c27f49353df41": {
          "model_module": "@jupyter-widgets/controls",
          "model_name": "LabelModel",
          "model_module_version": "1.5.0",
          "state": {
            "_dom_classes": [],
            "_model_module": "@jupyter-widgets/controls",
            "_model_module_version": "1.5.0",
            "_model_name": "LabelModel",
            "_view_count": null,
            "_view_module": "@jupyter-widgets/controls",
            "_view_module_version": "1.5.0",
            "_view_name": "LabelView",
            "description": "",
            "description_tooltip": null,
            "layout": "IPY_MODEL_1de628df6caa4f78bca909f1c1ebb506",
            "placeholder": "​",
            "style": "IPY_MODEL_dcf4085112d14992bcbd03390c261241",
            "value": "Your token has been saved to /root/.cache/huggingface/token"
          }
        },
        "90030581155248efb7a52f0967be6b9a": {
          "model_module": "@jupyter-widgets/controls",
          "model_name": "LabelModel",
          "model_module_version": "1.5.0",
          "state": {
            "_dom_classes": [],
            "_model_module": "@jupyter-widgets/controls",
            "_model_module_version": "1.5.0",
            "_model_name": "LabelModel",
            "_view_count": null,
            "_view_module": "@jupyter-widgets/controls",
            "_view_module_version": "1.5.0",
            "_view_name": "LabelView",
            "description": "",
            "description_tooltip": null,
            "layout": "IPY_MODEL_73184ba9020c474b9843ec8feb4e4785",
            "placeholder": "​",
            "style": "IPY_MODEL_982d0489619242409625f520502d80da",
            "value": "Login successful"
          }
        },
        "1e6e2c58b1974a3fb60af65cdb430257": {
          "model_module": "@jupyter-widgets/base",
          "model_name": "LayoutModel",
          "model_module_version": "1.2.0",
          "state": {
            "_model_module": "@jupyter-widgets/base",
            "_model_module_version": "1.2.0",
            "_model_name": "LayoutModel",
            "_view_count": null,
            "_view_module": "@jupyter-widgets/base",
            "_view_module_version": "1.2.0",
            "_view_name": "LayoutView",
            "align_content": null,
            "align_items": null,
            "align_self": null,
            "border": null,
            "bottom": null,
            "display": null,
            "flex": null,
            "flex_flow": null,
            "grid_area": null,
            "grid_auto_columns": null,
            "grid_auto_flow": null,
            "grid_auto_rows": null,
            "grid_column": null,
            "grid_gap": null,
            "grid_row": null,
            "grid_template_areas": null,
            "grid_template_columns": null,
            "grid_template_rows": null,
            "height": null,
            "justify_content": null,
            "justify_items": null,
            "left": null,
            "margin": null,
            "max_height": null,
            "max_width": null,
            "min_height": null,
            "min_width": null,
            "object_fit": null,
            "object_position": null,
            "order": null,
            "overflow": null,
            "overflow_x": null,
            "overflow_y": null,
            "padding": null,
            "right": null,
            "top": null,
            "visibility": null,
            "width": null
          }
        },
        "7379f8b344a54d6abdd4a2c7c3922bbc": {
          "model_module": "@jupyter-widgets/controls",
          "model_name": "DescriptionStyleModel",
          "model_module_version": "1.5.0",
          "state": {
            "_model_module": "@jupyter-widgets/controls",
            "_model_module_version": "1.5.0",
            "_model_name": "DescriptionStyleModel",
            "_view_count": null,
            "_view_module": "@jupyter-widgets/base",
            "_view_module_version": "1.2.0",
            "_view_name": "StyleView",
            "description_width": ""
          }
        },
        "2a903d9f4a704e64b202ffbacf98818d": {
          "model_module": "@jupyter-widgets/base",
          "model_name": "LayoutModel",
          "model_module_version": "1.2.0",
          "state": {
            "_model_module": "@jupyter-widgets/base",
            "_model_module_version": "1.2.0",
            "_model_name": "LayoutModel",
            "_view_count": null,
            "_view_module": "@jupyter-widgets/base",
            "_view_module_version": "1.2.0",
            "_view_name": "LayoutView",
            "align_content": null,
            "align_items": null,
            "align_self": null,
            "border": null,
            "bottom": null,
            "display": null,
            "flex": null,
            "flex_flow": null,
            "grid_area": null,
            "grid_auto_columns": null,
            "grid_auto_flow": null,
            "grid_auto_rows": null,
            "grid_column": null,
            "grid_gap": null,
            "grid_row": null,
            "grid_template_areas": null,
            "grid_template_columns": null,
            "grid_template_rows": null,
            "height": null,
            "justify_content": null,
            "justify_items": null,
            "left": null,
            "margin": null,
            "max_height": null,
            "max_width": null,
            "min_height": null,
            "min_width": null,
            "object_fit": null,
            "object_position": null,
            "order": null,
            "overflow": null,
            "overflow_x": null,
            "overflow_y": null,
            "padding": null,
            "right": null,
            "top": null,
            "visibility": null,
            "width": null
          }
        },
        "20bfbd61a95e462d97fca454b9d26164": {
          "model_module": "@jupyter-widgets/controls",
          "model_name": "DescriptionStyleModel",
          "model_module_version": "1.5.0",
          "state": {
            "_model_module": "@jupyter-widgets/controls",
            "_model_module_version": "1.5.0",
            "_model_name": "DescriptionStyleModel",
            "_view_count": null,
            "_view_module": "@jupyter-widgets/base",
            "_view_module_version": "1.2.0",
            "_view_name": "StyleView",
            "description_width": ""
          }
        },
        "1de628df6caa4f78bca909f1c1ebb506": {
          "model_module": "@jupyter-widgets/base",
          "model_name": "LayoutModel",
          "model_module_version": "1.2.0",
          "state": {
            "_model_module": "@jupyter-widgets/base",
            "_model_module_version": "1.2.0",
            "_model_name": "LayoutModel",
            "_view_count": null,
            "_view_module": "@jupyter-widgets/base",
            "_view_module_version": "1.2.0",
            "_view_name": "LayoutView",
            "align_content": null,
            "align_items": null,
            "align_self": null,
            "border": null,
            "bottom": null,
            "display": null,
            "flex": null,
            "flex_flow": null,
            "grid_area": null,
            "grid_auto_columns": null,
            "grid_auto_flow": null,
            "grid_auto_rows": null,
            "grid_column": null,
            "grid_gap": null,
            "grid_row": null,
            "grid_template_areas": null,
            "grid_template_columns": null,
            "grid_template_rows": null,
            "height": null,
            "justify_content": null,
            "justify_items": null,
            "left": null,
            "margin": null,
            "max_height": null,
            "max_width": null,
            "min_height": null,
            "min_width": null,
            "object_fit": null,
            "object_position": null,
            "order": null,
            "overflow": null,
            "overflow_x": null,
            "overflow_y": null,
            "padding": null,
            "right": null,
            "top": null,
            "visibility": null,
            "width": null
          }
        },
        "dcf4085112d14992bcbd03390c261241": {
          "model_module": "@jupyter-widgets/controls",
          "model_name": "DescriptionStyleModel",
          "model_module_version": "1.5.0",
          "state": {
            "_model_module": "@jupyter-widgets/controls",
            "_model_module_version": "1.5.0",
            "_model_name": "DescriptionStyleModel",
            "_view_count": null,
            "_view_module": "@jupyter-widgets/base",
            "_view_module_version": "1.2.0",
            "_view_name": "StyleView",
            "description_width": ""
          }
        },
        "73184ba9020c474b9843ec8feb4e4785": {
          "model_module": "@jupyter-widgets/base",
          "model_name": "LayoutModel",
          "model_module_version": "1.2.0",
          "state": {
            "_model_module": "@jupyter-widgets/base",
            "_model_module_version": "1.2.0",
            "_model_name": "LayoutModel",
            "_view_count": null,
            "_view_module": "@jupyter-widgets/base",
            "_view_module_version": "1.2.0",
            "_view_name": "LayoutView",
            "align_content": null,
            "align_items": null,
            "align_self": null,
            "border": null,
            "bottom": null,
            "display": null,
            "flex": null,
            "flex_flow": null,
            "grid_area": null,
            "grid_auto_columns": null,
            "grid_auto_flow": null,
            "grid_auto_rows": null,
            "grid_column": null,
            "grid_gap": null,
            "grid_row": null,
            "grid_template_areas": null,
            "grid_template_columns": null,
            "grid_template_rows": null,
            "height": null,
            "justify_content": null,
            "justify_items": null,
            "left": null,
            "margin": null,
            "max_height": null,
            "max_width": null,
            "min_height": null,
            "min_width": null,
            "object_fit": null,
            "object_position": null,
            "order": null,
            "overflow": null,
            "overflow_x": null,
            "overflow_y": null,
            "padding": null,
            "right": null,
            "top": null,
            "visibility": null,
            "width": null
          }
        },
        "982d0489619242409625f520502d80da": {
          "model_module": "@jupyter-widgets/controls",
          "model_name": "DescriptionStyleModel",
          "model_module_version": "1.5.0",
          "state": {
            "_model_module": "@jupyter-widgets/controls",
            "_model_module_version": "1.5.0",
            "_model_name": "DescriptionStyleModel",
            "_view_count": null,
            "_view_module": "@jupyter-widgets/base",
            "_view_module_version": "1.2.0",
            "_view_name": "StyleView",
            "description_width": ""
          }
        },
        "7e79d55dc75640f182a75a76e6befd6c": {
          "model_module": "@jupyter-widgets/controls",
          "model_name": "HBoxModel",
          "model_module_version": "1.5.0",
          "state": {
            "_dom_classes": [],
            "_model_module": "@jupyter-widgets/controls",
            "_model_module_version": "1.5.0",
            "_model_name": "HBoxModel",
            "_view_count": null,
            "_view_module": "@jupyter-widgets/controls",
            "_view_module_version": "1.5.0",
            "_view_name": "HBoxView",
            "box_style": "",
            "children": [
              "IPY_MODEL_2f9249cb5e464f4d89511d9ad9c1b0f5",
              "IPY_MODEL_ab65ebd02fc4483d88ddb2922a0cb9e5",
              "IPY_MODEL_0321e2bbec80448780e4814782a207f0"
            ],
            "layout": "IPY_MODEL_3f56b537952140ab81d08f525ab1afb5"
          }
        },
        "2f9249cb5e464f4d89511d9ad9c1b0f5": {
          "model_module": "@jupyter-widgets/controls",
          "model_name": "HTMLModel",
          "model_module_version": "1.5.0",
          "state": {
            "_dom_classes": [],
            "_model_module": "@jupyter-widgets/controls",
            "_model_module_version": "1.5.0",
            "_model_name": "HTMLModel",
            "_view_count": null,
            "_view_module": "@jupyter-widgets/controls",
            "_view_module_version": "1.5.0",
            "_view_name": "HTMLView",
            "description": "",
            "description_tooltip": null,
            "layout": "IPY_MODEL_4a77538dec6e4f4283acdda13020857b",
            "placeholder": "​",
            "style": "IPY_MODEL_341c4a479ca04d9f87d911c7dfa4f832",
            "value": "policy.optimizer.pth: 100%"
          }
        },
        "ab65ebd02fc4483d88ddb2922a0cb9e5": {
          "model_module": "@jupyter-widgets/controls",
          "model_name": "FloatProgressModel",
          "model_module_version": "1.5.0",
          "state": {
            "_dom_classes": [],
            "_model_module": "@jupyter-widgets/controls",
            "_model_module_version": "1.5.0",
            "_model_name": "FloatProgressModel",
            "_view_count": null,
            "_view_module": "@jupyter-widgets/controls",
            "_view_module_version": "1.5.0",
            "_view_name": "ProgressView",
            "bar_style": "success",
            "description": "",
            "description_tooltip": null,
            "layout": "IPY_MODEL_3f3b3ccf0d874644bdc0665a1cebe29e",
            "max": 6754305,
            "min": 0,
            "orientation": "horizontal",
            "style": "IPY_MODEL_fde7482c219947a58c104e1ff98dcee3",
            "value": 6754305
          }
        },
        "0321e2bbec80448780e4814782a207f0": {
          "model_module": "@jupyter-widgets/controls",
          "model_name": "HTMLModel",
          "model_module_version": "1.5.0",
          "state": {
            "_dom_classes": [],
            "_model_module": "@jupyter-widgets/controls",
            "_model_module_version": "1.5.0",
            "_model_name": "HTMLModel",
            "_view_count": null,
            "_view_module": "@jupyter-widgets/controls",
            "_view_module_version": "1.5.0",
            "_view_name": "HTMLView",
            "description": "",
            "description_tooltip": null,
            "layout": "IPY_MODEL_5f94ed844d1e44bf8990726091ff99fb",
            "placeholder": "​",
            "style": "IPY_MODEL_9473dae6db264ac4839259530d224b40",
            "value": " 6.75M/6.75M [00:03&lt;00:00, 3.99MB/s]"
          }
        },
        "3f56b537952140ab81d08f525ab1afb5": {
          "model_module": "@jupyter-widgets/base",
          "model_name": "LayoutModel",
          "model_module_version": "1.2.0",
          "state": {
            "_model_module": "@jupyter-widgets/base",
            "_model_module_version": "1.2.0",
            "_model_name": "LayoutModel",
            "_view_count": null,
            "_view_module": "@jupyter-widgets/base",
            "_view_module_version": "1.2.0",
            "_view_name": "LayoutView",
            "align_content": null,
            "align_items": null,
            "align_self": null,
            "border": null,
            "bottom": null,
            "display": null,
            "flex": null,
            "flex_flow": null,
            "grid_area": null,
            "grid_auto_columns": null,
            "grid_auto_flow": null,
            "grid_auto_rows": null,
            "grid_column": null,
            "grid_gap": null,
            "grid_row": null,
            "grid_template_areas": null,
            "grid_template_columns": null,
            "grid_template_rows": null,
            "height": null,
            "justify_content": null,
            "justify_items": null,
            "left": null,
            "margin": null,
            "max_height": null,
            "max_width": null,
            "min_height": null,
            "min_width": null,
            "object_fit": null,
            "object_position": null,
            "order": null,
            "overflow": null,
            "overflow_x": null,
            "overflow_y": null,
            "padding": null,
            "right": null,
            "top": null,
            "visibility": null,
            "width": null
          }
        },
        "4a77538dec6e4f4283acdda13020857b": {
          "model_module": "@jupyter-widgets/base",
          "model_name": "LayoutModel",
          "model_module_version": "1.2.0",
          "state": {
            "_model_module": "@jupyter-widgets/base",
            "_model_module_version": "1.2.0",
            "_model_name": "LayoutModel",
            "_view_count": null,
            "_view_module": "@jupyter-widgets/base",
            "_view_module_version": "1.2.0",
            "_view_name": "LayoutView",
            "align_content": null,
            "align_items": null,
            "align_self": null,
            "border": null,
            "bottom": null,
            "display": null,
            "flex": null,
            "flex_flow": null,
            "grid_area": null,
            "grid_auto_columns": null,
            "grid_auto_flow": null,
            "grid_auto_rows": null,
            "grid_column": null,
            "grid_gap": null,
            "grid_row": null,
            "grid_template_areas": null,
            "grid_template_columns": null,
            "grid_template_rows": null,
            "height": null,
            "justify_content": null,
            "justify_items": null,
            "left": null,
            "margin": null,
            "max_height": null,
            "max_width": null,
            "min_height": null,
            "min_width": null,
            "object_fit": null,
            "object_position": null,
            "order": null,
            "overflow": null,
            "overflow_x": null,
            "overflow_y": null,
            "padding": null,
            "right": null,
            "top": null,
            "visibility": null,
            "width": null
          }
        },
        "341c4a479ca04d9f87d911c7dfa4f832": {
          "model_module": "@jupyter-widgets/controls",
          "model_name": "DescriptionStyleModel",
          "model_module_version": "1.5.0",
          "state": {
            "_model_module": "@jupyter-widgets/controls",
            "_model_module_version": "1.5.0",
            "_model_name": "DescriptionStyleModel",
            "_view_count": null,
            "_view_module": "@jupyter-widgets/base",
            "_view_module_version": "1.2.0",
            "_view_name": "StyleView",
            "description_width": ""
          }
        },
        "3f3b3ccf0d874644bdc0665a1cebe29e": {
          "model_module": "@jupyter-widgets/base",
          "model_name": "LayoutModel",
          "model_module_version": "1.2.0",
          "state": {
            "_model_module": "@jupyter-widgets/base",
            "_model_module_version": "1.2.0",
            "_model_name": "LayoutModel",
            "_view_count": null,
            "_view_module": "@jupyter-widgets/base",
            "_view_module_version": "1.2.0",
            "_view_name": "LayoutView",
            "align_content": null,
            "align_items": null,
            "align_self": null,
            "border": null,
            "bottom": null,
            "display": null,
            "flex": null,
            "flex_flow": null,
            "grid_area": null,
            "grid_auto_columns": null,
            "grid_auto_flow": null,
            "grid_auto_rows": null,
            "grid_column": null,
            "grid_gap": null,
            "grid_row": null,
            "grid_template_areas": null,
            "grid_template_columns": null,
            "grid_template_rows": null,
            "height": null,
            "justify_content": null,
            "justify_items": null,
            "left": null,
            "margin": null,
            "max_height": null,
            "max_width": null,
            "min_height": null,
            "min_width": null,
            "object_fit": null,
            "object_position": null,
            "order": null,
            "overflow": null,
            "overflow_x": null,
            "overflow_y": null,
            "padding": null,
            "right": null,
            "top": null,
            "visibility": null,
            "width": null
          }
        },
        "fde7482c219947a58c104e1ff98dcee3": {
          "model_module": "@jupyter-widgets/controls",
          "model_name": "ProgressStyleModel",
          "model_module_version": "1.5.0",
          "state": {
            "_model_module": "@jupyter-widgets/controls",
            "_model_module_version": "1.5.0",
            "_model_name": "ProgressStyleModel",
            "_view_count": null,
            "_view_module": "@jupyter-widgets/base",
            "_view_module_version": "1.2.0",
            "_view_name": "StyleView",
            "bar_color": null,
            "description_width": ""
          }
        },
        "5f94ed844d1e44bf8990726091ff99fb": {
          "model_module": "@jupyter-widgets/base",
          "model_name": "LayoutModel",
          "model_module_version": "1.2.0",
          "state": {
            "_model_module": "@jupyter-widgets/base",
            "_model_module_version": "1.2.0",
            "_model_name": "LayoutModel",
            "_view_count": null,
            "_view_module": "@jupyter-widgets/base",
            "_view_module_version": "1.2.0",
            "_view_name": "LayoutView",
            "align_content": null,
            "align_items": null,
            "align_self": null,
            "border": null,
            "bottom": null,
            "display": null,
            "flex": null,
            "flex_flow": null,
            "grid_area": null,
            "grid_auto_columns": null,
            "grid_auto_flow": null,
            "grid_auto_rows": null,
            "grid_column": null,
            "grid_gap": null,
            "grid_row": null,
            "grid_template_areas": null,
            "grid_template_columns": null,
            "grid_template_rows": null,
            "height": null,
            "justify_content": null,
            "justify_items": null,
            "left": null,
            "margin": null,
            "max_height": null,
            "max_width": null,
            "min_height": null,
            "min_width": null,
            "object_fit": null,
            "object_position": null,
            "order": null,
            "overflow": null,
            "overflow_x": null,
            "overflow_y": null,
            "padding": null,
            "right": null,
            "top": null,
            "visibility": null,
            "width": null
          }
        },
        "9473dae6db264ac4839259530d224b40": {
          "model_module": "@jupyter-widgets/controls",
          "model_name": "DescriptionStyleModel",
          "model_module_version": "1.5.0",
          "state": {
            "_model_module": "@jupyter-widgets/controls",
            "_model_module_version": "1.5.0",
            "_model_name": "DescriptionStyleModel",
            "_view_count": null,
            "_view_module": "@jupyter-widgets/base",
            "_view_module_version": "1.2.0",
            "_view_name": "StyleView",
            "description_width": ""
          }
        },
        "ce03f361dd6845169afeff6651cece9d": {
          "model_module": "@jupyter-widgets/controls",
          "model_name": "HBoxModel",
          "model_module_version": "1.5.0",
          "state": {
            "_dom_classes": [],
            "_model_module": "@jupyter-widgets/controls",
            "_model_module_version": "1.5.0",
            "_model_name": "HBoxModel",
            "_view_count": null,
            "_view_module": "@jupyter-widgets/controls",
            "_view_module_version": "1.5.0",
            "_view_name": "HBoxView",
            "box_style": "",
            "children": [
              "IPY_MODEL_1c0ecffe1ba14089a0ce91b35f43e6ef",
              "IPY_MODEL_0a49a3375d2241aba37ae89a91132359",
              "IPY_MODEL_0d2a92263e964fb093edaad9f5f89000"
            ],
            "layout": "IPY_MODEL_a6bd5bd007154c9a8a5a8f3892786ac4"
          }
        },
        "1c0ecffe1ba14089a0ce91b35f43e6ef": {
          "model_module": "@jupyter-widgets/controls",
          "model_name": "HTMLModel",
          "model_module_version": "1.5.0",
          "state": {
            "_dom_classes": [],
            "_model_module": "@jupyter-widgets/controls",
            "_model_module_version": "1.5.0",
            "_model_name": "HTMLModel",
            "_view_count": null,
            "_view_module": "@jupyter-widgets/controls",
            "_view_module_version": "1.5.0",
            "_view_name": "HTMLView",
            "description": "",
            "description_tooltip": null,
            "layout": "IPY_MODEL_f8128f9e517348bda033f2119b9c3507",
            "placeholder": "​",
            "style": "IPY_MODEL_8584a2c322bb423f9807ec997f9d4861",
            "value": "policy.pth: 100%"
          }
        },
        "0a49a3375d2241aba37ae89a91132359": {
          "model_module": "@jupyter-widgets/controls",
          "model_name": "FloatProgressModel",
          "model_module_version": "1.5.0",
          "state": {
            "_dom_classes": [],
            "_model_module": "@jupyter-widgets/controls",
            "_model_module_version": "1.5.0",
            "_model_name": "FloatProgressModel",
            "_view_count": null,
            "_view_module": "@jupyter-widgets/controls",
            "_view_module_version": "1.5.0",
            "_view_name": "ProgressView",
            "bar_style": "success",
            "description": "",
            "description_tooltip": null,
            "layout": "IPY_MODEL_50bb75a30fa148029a094e7eefecb273",
            "max": 6757825,
            "min": 0,
            "orientation": "horizontal",
            "style": "IPY_MODEL_7dc4958d5d874447b960f91723545503",
            "value": 6757825
          }
        },
        "0d2a92263e964fb093edaad9f5f89000": {
          "model_module": "@jupyter-widgets/controls",
          "model_name": "HTMLModel",
          "model_module_version": "1.5.0",
          "state": {
            "_dom_classes": [],
            "_model_module": "@jupyter-widgets/controls",
            "_model_module_version": "1.5.0",
            "_model_name": "HTMLModel",
            "_view_count": null,
            "_view_module": "@jupyter-widgets/controls",
            "_view_module_version": "1.5.0",
            "_view_name": "HTMLView",
            "description": "",
            "description_tooltip": null,
            "layout": "IPY_MODEL_ebf92f77cf4744169b32c9ddcfefedc7",
            "placeholder": "​",
            "style": "IPY_MODEL_61e4617fdfdc433881d35d78291afd84",
            "value": " 6.76M/6.76M [00:03&lt;00:00, 4.75MB/s]"
          }
        },
        "a6bd5bd007154c9a8a5a8f3892786ac4": {
          "model_module": "@jupyter-widgets/base",
          "model_name": "LayoutModel",
          "model_module_version": "1.2.0",
          "state": {
            "_model_module": "@jupyter-widgets/base",
            "_model_module_version": "1.2.0",
            "_model_name": "LayoutModel",
            "_view_count": null,
            "_view_module": "@jupyter-widgets/base",
            "_view_module_version": "1.2.0",
            "_view_name": "LayoutView",
            "align_content": null,
            "align_items": null,
            "align_self": null,
            "border": null,
            "bottom": null,
            "display": null,
            "flex": null,
            "flex_flow": null,
            "grid_area": null,
            "grid_auto_columns": null,
            "grid_auto_flow": null,
            "grid_auto_rows": null,
            "grid_column": null,
            "grid_gap": null,
            "grid_row": null,
            "grid_template_areas": null,
            "grid_template_columns": null,
            "grid_template_rows": null,
            "height": null,
            "justify_content": null,
            "justify_items": null,
            "left": null,
            "margin": null,
            "max_height": null,
            "max_width": null,
            "min_height": null,
            "min_width": null,
            "object_fit": null,
            "object_position": null,
            "order": null,
            "overflow": null,
            "overflow_x": null,
            "overflow_y": null,
            "padding": null,
            "right": null,
            "top": null,
            "visibility": null,
            "width": null
          }
        },
        "f8128f9e517348bda033f2119b9c3507": {
          "model_module": "@jupyter-widgets/base",
          "model_name": "LayoutModel",
          "model_module_version": "1.2.0",
          "state": {
            "_model_module": "@jupyter-widgets/base",
            "_model_module_version": "1.2.0",
            "_model_name": "LayoutModel",
            "_view_count": null,
            "_view_module": "@jupyter-widgets/base",
            "_view_module_version": "1.2.0",
            "_view_name": "LayoutView",
            "align_content": null,
            "align_items": null,
            "align_self": null,
            "border": null,
            "bottom": null,
            "display": null,
            "flex": null,
            "flex_flow": null,
            "grid_area": null,
            "grid_auto_columns": null,
            "grid_auto_flow": null,
            "grid_auto_rows": null,
            "grid_column": null,
            "grid_gap": null,
            "grid_row": null,
            "grid_template_areas": null,
            "grid_template_columns": null,
            "grid_template_rows": null,
            "height": null,
            "justify_content": null,
            "justify_items": null,
            "left": null,
            "margin": null,
            "max_height": null,
            "max_width": null,
            "min_height": null,
            "min_width": null,
            "object_fit": null,
            "object_position": null,
            "order": null,
            "overflow": null,
            "overflow_x": null,
            "overflow_y": null,
            "padding": null,
            "right": null,
            "top": null,
            "visibility": null,
            "width": null
          }
        },
        "8584a2c322bb423f9807ec997f9d4861": {
          "model_module": "@jupyter-widgets/controls",
          "model_name": "DescriptionStyleModel",
          "model_module_version": "1.5.0",
          "state": {
            "_model_module": "@jupyter-widgets/controls",
            "_model_module_version": "1.5.0",
            "_model_name": "DescriptionStyleModel",
            "_view_count": null,
            "_view_module": "@jupyter-widgets/base",
            "_view_module_version": "1.2.0",
            "_view_name": "StyleView",
            "description_width": ""
          }
        },
        "50bb75a30fa148029a094e7eefecb273": {
          "model_module": "@jupyter-widgets/base",
          "model_name": "LayoutModel",
          "model_module_version": "1.2.0",
          "state": {
            "_model_module": "@jupyter-widgets/base",
            "_model_module_version": "1.2.0",
            "_model_name": "LayoutModel",
            "_view_count": null,
            "_view_module": "@jupyter-widgets/base",
            "_view_module_version": "1.2.0",
            "_view_name": "LayoutView",
            "align_content": null,
            "align_items": null,
            "align_self": null,
            "border": null,
            "bottom": null,
            "display": null,
            "flex": null,
            "flex_flow": null,
            "grid_area": null,
            "grid_auto_columns": null,
            "grid_auto_flow": null,
            "grid_auto_rows": null,
            "grid_column": null,
            "grid_gap": null,
            "grid_row": null,
            "grid_template_areas": null,
            "grid_template_columns": null,
            "grid_template_rows": null,
            "height": null,
            "justify_content": null,
            "justify_items": null,
            "left": null,
            "margin": null,
            "max_height": null,
            "max_width": null,
            "min_height": null,
            "min_width": null,
            "object_fit": null,
            "object_position": null,
            "order": null,
            "overflow": null,
            "overflow_x": null,
            "overflow_y": null,
            "padding": null,
            "right": null,
            "top": null,
            "visibility": null,
            "width": null
          }
        },
        "7dc4958d5d874447b960f91723545503": {
          "model_module": "@jupyter-widgets/controls",
          "model_name": "ProgressStyleModel",
          "model_module_version": "1.5.0",
          "state": {
            "_model_module": "@jupyter-widgets/controls",
            "_model_module_version": "1.5.0",
            "_model_name": "ProgressStyleModel",
            "_view_count": null,
            "_view_module": "@jupyter-widgets/base",
            "_view_module_version": "1.2.0",
            "_view_name": "StyleView",
            "bar_color": null,
            "description_width": ""
          }
        },
        "ebf92f77cf4744169b32c9ddcfefedc7": {
          "model_module": "@jupyter-widgets/base",
          "model_name": "LayoutModel",
          "model_module_version": "1.2.0",
          "state": {
            "_model_module": "@jupyter-widgets/base",
            "_model_module_version": "1.2.0",
            "_model_name": "LayoutModel",
            "_view_count": null,
            "_view_module": "@jupyter-widgets/base",
            "_view_module_version": "1.2.0",
            "_view_name": "LayoutView",
            "align_content": null,
            "align_items": null,
            "align_self": null,
            "border": null,
            "bottom": null,
            "display": null,
            "flex": null,
            "flex_flow": null,
            "grid_area": null,
            "grid_auto_columns": null,
            "grid_auto_flow": null,
            "grid_auto_rows": null,
            "grid_column": null,
            "grid_gap": null,
            "grid_row": null,
            "grid_template_areas": null,
            "grid_template_columns": null,
            "grid_template_rows": null,
            "height": null,
            "justify_content": null,
            "justify_items": null,
            "left": null,
            "margin": null,
            "max_height": null,
            "max_width": null,
            "min_height": null,
            "min_width": null,
            "object_fit": null,
            "object_position": null,
            "order": null,
            "overflow": null,
            "overflow_x": null,
            "overflow_y": null,
            "padding": null,
            "right": null,
            "top": null,
            "visibility": null,
            "width": null
          }
        },
        "61e4617fdfdc433881d35d78291afd84": {
          "model_module": "@jupyter-widgets/controls",
          "model_name": "DescriptionStyleModel",
          "model_module_version": "1.5.0",
          "state": {
            "_model_module": "@jupyter-widgets/controls",
            "_model_module_version": "1.5.0",
            "_model_name": "DescriptionStyleModel",
            "_view_count": null,
            "_view_module": "@jupyter-widgets/base",
            "_view_module_version": "1.2.0",
            "_view_name": "StyleView",
            "description_width": ""
          }
        },
        "600a388cba494f4a8470c7dea4b3589b": {
          "model_module": "@jupyter-widgets/controls",
          "model_name": "HBoxModel",
          "model_module_version": "1.5.0",
          "state": {
            "_dom_classes": [],
            "_model_module": "@jupyter-widgets/controls",
            "_model_module_version": "1.5.0",
            "_model_name": "HBoxModel",
            "_view_count": null,
            "_view_module": "@jupyter-widgets/controls",
            "_view_module_version": "1.5.0",
            "_view_name": "HBoxView",
            "box_style": "",
            "children": [
              "IPY_MODEL_f51ec766112e4f1597a875e633755570",
              "IPY_MODEL_f7239c1729c7436ab16d85c56468b43b",
              "IPY_MODEL_644d29c7bd1446ab822069bebf04b8fa"
            ],
            "layout": "IPY_MODEL_62b888e134a74ee7af9c7d81f9d3ca4f"
          }
        },
        "f51ec766112e4f1597a875e633755570": {
          "model_module": "@jupyter-widgets/controls",
          "model_name": "HTMLModel",
          "model_module_version": "1.5.0",
          "state": {
            "_dom_classes": [],
            "_model_module": "@jupyter-widgets/controls",
            "_model_module_version": "1.5.0",
            "_model_name": "HTMLModel",
            "_view_count": null,
            "_view_module": "@jupyter-widgets/controls",
            "_view_module_version": "1.5.0",
            "_view_name": "HTMLView",
            "description": "",
            "description_tooltip": null,
            "layout": "IPY_MODEL_7d12f46db88a475fa092383fd49d94f5",
            "placeholder": "​",
            "style": "IPY_MODEL_c2292c4b4519412db54b3617f14ad130",
            "value": "A2C-Atari-Pong.zip: 100%"
          }
        },
        "f7239c1729c7436ab16d85c56468b43b": {
          "model_module": "@jupyter-widgets/controls",
          "model_name": "FloatProgressModel",
          "model_module_version": "1.5.0",
          "state": {
            "_dom_classes": [],
            "_model_module": "@jupyter-widgets/controls",
            "_model_module_version": "1.5.0",
            "_model_name": "FloatProgressModel",
            "_view_count": null,
            "_view_module": "@jupyter-widgets/controls",
            "_view_module_version": "1.5.0",
            "_view_name": "ProgressView",
            "bar_style": "success",
            "description": "",
            "description_tooltip": null,
            "layout": "IPY_MODEL_328e74d7b38c45018670b820bd7cd74b",
            "max": 13826390,
            "min": 0,
            "orientation": "horizontal",
            "style": "IPY_MODEL_f36dc43b5dec418ba22893bf0099ecba",
            "value": 13826390
          }
        },
        "644d29c7bd1446ab822069bebf04b8fa": {
          "model_module": "@jupyter-widgets/controls",
          "model_name": "HTMLModel",
          "model_module_version": "1.5.0",
          "state": {
            "_dom_classes": [],
            "_model_module": "@jupyter-widgets/controls",
            "_model_module_version": "1.5.0",
            "_model_name": "HTMLModel",
            "_view_count": null,
            "_view_module": "@jupyter-widgets/controls",
            "_view_module_version": "1.5.0",
            "_view_name": "HTMLView",
            "description": "",
            "description_tooltip": null,
            "layout": "IPY_MODEL_623b07b8ea354cff9370be360f298b7c",
            "placeholder": "​",
            "style": "IPY_MODEL_66e6bec9e55e4e49847dab6de4a58d5e",
            "value": " 13.8M/13.8M [00:03&lt;00:00, 10.1MB/s]"
          }
        },
        "62b888e134a74ee7af9c7d81f9d3ca4f": {
          "model_module": "@jupyter-widgets/base",
          "model_name": "LayoutModel",
          "model_module_version": "1.2.0",
          "state": {
            "_model_module": "@jupyter-widgets/base",
            "_model_module_version": "1.2.0",
            "_model_name": "LayoutModel",
            "_view_count": null,
            "_view_module": "@jupyter-widgets/base",
            "_view_module_version": "1.2.0",
            "_view_name": "LayoutView",
            "align_content": null,
            "align_items": null,
            "align_self": null,
            "border": null,
            "bottom": null,
            "display": null,
            "flex": null,
            "flex_flow": null,
            "grid_area": null,
            "grid_auto_columns": null,
            "grid_auto_flow": null,
            "grid_auto_rows": null,
            "grid_column": null,
            "grid_gap": null,
            "grid_row": null,
            "grid_template_areas": null,
            "grid_template_columns": null,
            "grid_template_rows": null,
            "height": null,
            "justify_content": null,
            "justify_items": null,
            "left": null,
            "margin": null,
            "max_height": null,
            "max_width": null,
            "min_height": null,
            "min_width": null,
            "object_fit": null,
            "object_position": null,
            "order": null,
            "overflow": null,
            "overflow_x": null,
            "overflow_y": null,
            "padding": null,
            "right": null,
            "top": null,
            "visibility": null,
            "width": null
          }
        },
        "7d12f46db88a475fa092383fd49d94f5": {
          "model_module": "@jupyter-widgets/base",
          "model_name": "LayoutModel",
          "model_module_version": "1.2.0",
          "state": {
            "_model_module": "@jupyter-widgets/base",
            "_model_module_version": "1.2.0",
            "_model_name": "LayoutModel",
            "_view_count": null,
            "_view_module": "@jupyter-widgets/base",
            "_view_module_version": "1.2.0",
            "_view_name": "LayoutView",
            "align_content": null,
            "align_items": null,
            "align_self": null,
            "border": null,
            "bottom": null,
            "display": null,
            "flex": null,
            "flex_flow": null,
            "grid_area": null,
            "grid_auto_columns": null,
            "grid_auto_flow": null,
            "grid_auto_rows": null,
            "grid_column": null,
            "grid_gap": null,
            "grid_row": null,
            "grid_template_areas": null,
            "grid_template_columns": null,
            "grid_template_rows": null,
            "height": null,
            "justify_content": null,
            "justify_items": null,
            "left": null,
            "margin": null,
            "max_height": null,
            "max_width": null,
            "min_height": null,
            "min_width": null,
            "object_fit": null,
            "object_position": null,
            "order": null,
            "overflow": null,
            "overflow_x": null,
            "overflow_y": null,
            "padding": null,
            "right": null,
            "top": null,
            "visibility": null,
            "width": null
          }
        },
        "c2292c4b4519412db54b3617f14ad130": {
          "model_module": "@jupyter-widgets/controls",
          "model_name": "DescriptionStyleModel",
          "model_module_version": "1.5.0",
          "state": {
            "_model_module": "@jupyter-widgets/controls",
            "_model_module_version": "1.5.0",
            "_model_name": "DescriptionStyleModel",
            "_view_count": null,
            "_view_module": "@jupyter-widgets/base",
            "_view_module_version": "1.2.0",
            "_view_name": "StyleView",
            "description_width": ""
          }
        },
        "328e74d7b38c45018670b820bd7cd74b": {
          "model_module": "@jupyter-widgets/base",
          "model_name": "LayoutModel",
          "model_module_version": "1.2.0",
          "state": {
            "_model_module": "@jupyter-widgets/base",
            "_model_module_version": "1.2.0",
            "_model_name": "LayoutModel",
            "_view_count": null,
            "_view_module": "@jupyter-widgets/base",
            "_view_module_version": "1.2.0",
            "_view_name": "LayoutView",
            "align_content": null,
            "align_items": null,
            "align_self": null,
            "border": null,
            "bottom": null,
            "display": null,
            "flex": null,
            "flex_flow": null,
            "grid_area": null,
            "grid_auto_columns": null,
            "grid_auto_flow": null,
            "grid_auto_rows": null,
            "grid_column": null,
            "grid_gap": null,
            "grid_row": null,
            "grid_template_areas": null,
            "grid_template_columns": null,
            "grid_template_rows": null,
            "height": null,
            "justify_content": null,
            "justify_items": null,
            "left": null,
            "margin": null,
            "max_height": null,
            "max_width": null,
            "min_height": null,
            "min_width": null,
            "object_fit": null,
            "object_position": null,
            "order": null,
            "overflow": null,
            "overflow_x": null,
            "overflow_y": null,
            "padding": null,
            "right": null,
            "top": null,
            "visibility": null,
            "width": null
          }
        },
        "f36dc43b5dec418ba22893bf0099ecba": {
          "model_module": "@jupyter-widgets/controls",
          "model_name": "ProgressStyleModel",
          "model_module_version": "1.5.0",
          "state": {
            "_model_module": "@jupyter-widgets/controls",
            "_model_module_version": "1.5.0",
            "_model_name": "ProgressStyleModel",
            "_view_count": null,
            "_view_module": "@jupyter-widgets/base",
            "_view_module_version": "1.2.0",
            "_view_name": "StyleView",
            "bar_color": null,
            "description_width": ""
          }
        },
        "623b07b8ea354cff9370be360f298b7c": {
          "model_module": "@jupyter-widgets/base",
          "model_name": "LayoutModel",
          "model_module_version": "1.2.0",
          "state": {
            "_model_module": "@jupyter-widgets/base",
            "_model_module_version": "1.2.0",
            "_model_name": "LayoutModel",
            "_view_count": null,
            "_view_module": "@jupyter-widgets/base",
            "_view_module_version": "1.2.0",
            "_view_name": "LayoutView",
            "align_content": null,
            "align_items": null,
            "align_self": null,
            "border": null,
            "bottom": null,
            "display": null,
            "flex": null,
            "flex_flow": null,
            "grid_area": null,
            "grid_auto_columns": null,
            "grid_auto_flow": null,
            "grid_auto_rows": null,
            "grid_column": null,
            "grid_gap": null,
            "grid_row": null,
            "grid_template_areas": null,
            "grid_template_columns": null,
            "grid_template_rows": null,
            "height": null,
            "justify_content": null,
            "justify_items": null,
            "left": null,
            "margin": null,
            "max_height": null,
            "max_width": null,
            "min_height": null,
            "min_width": null,
            "object_fit": null,
            "object_position": null,
            "order": null,
            "overflow": null,
            "overflow_x": null,
            "overflow_y": null,
            "padding": null,
            "right": null,
            "top": null,
            "visibility": null,
            "width": null
          }
        },
        "66e6bec9e55e4e49847dab6de4a58d5e": {
          "model_module": "@jupyter-widgets/controls",
          "model_name": "DescriptionStyleModel",
          "model_module_version": "1.5.0",
          "state": {
            "_model_module": "@jupyter-widgets/controls",
            "_model_module_version": "1.5.0",
            "_model_name": "DescriptionStyleModel",
            "_view_count": null,
            "_view_module": "@jupyter-widgets/base",
            "_view_module_version": "1.2.0",
            "_view_name": "StyleView",
            "description_width": ""
          }
        },
        "2734557abab14a1d9617b4683c2930d9": {
          "model_module": "@jupyter-widgets/controls",
          "model_name": "HBoxModel",
          "model_module_version": "1.5.0",
          "state": {
            "_dom_classes": [],
            "_model_module": "@jupyter-widgets/controls",
            "_model_module_version": "1.5.0",
            "_model_name": "HBoxModel",
            "_view_count": null,
            "_view_module": "@jupyter-widgets/controls",
            "_view_module_version": "1.5.0",
            "_view_name": "HBoxView",
            "box_style": "",
            "children": [
              "IPY_MODEL_f800cc9b7e334d7d91f22cab6e5c095d",
              "IPY_MODEL_8f15c6e91cf249e6907dc8175ea0a2f2",
              "IPY_MODEL_3b3ba1f133e44c6296abe4055ca894a1"
            ],
            "layout": "IPY_MODEL_71653709bfbb41e4b24ae1207269ba24"
          }
        },
        "f800cc9b7e334d7d91f22cab6e5c095d": {
          "model_module": "@jupyter-widgets/controls",
          "model_name": "HTMLModel",
          "model_module_version": "1.5.0",
          "state": {
            "_dom_classes": [],
            "_model_module": "@jupyter-widgets/controls",
            "_model_module_version": "1.5.0",
            "_model_name": "HTMLModel",
            "_view_count": null,
            "_view_module": "@jupyter-widgets/controls",
            "_view_module_version": "1.5.0",
            "_view_name": "HTMLView",
            "description": "",
            "description_tooltip": null,
            "layout": "IPY_MODEL_663368582a7b4e21a4b725cffa1b7aec",
            "placeholder": "​",
            "style": "IPY_MODEL_545625be6fd74e829dab945a643a9d92",
            "value": "Upload 3 LFS files: 100%"
          }
        },
        "8f15c6e91cf249e6907dc8175ea0a2f2": {
          "model_module": "@jupyter-widgets/controls",
          "model_name": "FloatProgressModel",
          "model_module_version": "1.5.0",
          "state": {
            "_dom_classes": [],
            "_model_module": "@jupyter-widgets/controls",
            "_model_module_version": "1.5.0",
            "_model_name": "FloatProgressModel",
            "_view_count": null,
            "_view_module": "@jupyter-widgets/controls",
            "_view_module_version": "1.5.0",
            "_view_name": "ProgressView",
            "bar_style": "success",
            "description": "",
            "description_tooltip": null,
            "layout": "IPY_MODEL_cb21ee693fe84ba39da139cf10285269",
            "max": 3,
            "min": 0,
            "orientation": "horizontal",
            "style": "IPY_MODEL_ef05f8e14c5d4f7eadb8a2707d1ce75c",
            "value": 3
          }
        },
        "3b3ba1f133e44c6296abe4055ca894a1": {
          "model_module": "@jupyter-widgets/controls",
          "model_name": "HTMLModel",
          "model_module_version": "1.5.0",
          "state": {
            "_dom_classes": [],
            "_model_module": "@jupyter-widgets/controls",
            "_model_module_version": "1.5.0",
            "_model_name": "HTMLModel",
            "_view_count": null,
            "_view_module": "@jupyter-widgets/controls",
            "_view_module_version": "1.5.0",
            "_view_name": "HTMLView",
            "description": "",
            "description_tooltip": null,
            "layout": "IPY_MODEL_0aa30914cad144c2931ca32bd0a5b8ac",
            "placeholder": "​",
            "style": "IPY_MODEL_9a54fa46ca36496fbe6dc079466d5d44",
            "value": " 3/3 [00:03&lt;00:00,  1.03s/it]"
          }
        },
        "71653709bfbb41e4b24ae1207269ba24": {
          "model_module": "@jupyter-widgets/base",
          "model_name": "LayoutModel",
          "model_module_version": "1.2.0",
          "state": {
            "_model_module": "@jupyter-widgets/base",
            "_model_module_version": "1.2.0",
            "_model_name": "LayoutModel",
            "_view_count": null,
            "_view_module": "@jupyter-widgets/base",
            "_view_module_version": "1.2.0",
            "_view_name": "LayoutView",
            "align_content": null,
            "align_items": null,
            "align_self": null,
            "border": null,
            "bottom": null,
            "display": null,
            "flex": null,
            "flex_flow": null,
            "grid_area": null,
            "grid_auto_columns": null,
            "grid_auto_flow": null,
            "grid_auto_rows": null,
            "grid_column": null,
            "grid_gap": null,
            "grid_row": null,
            "grid_template_areas": null,
            "grid_template_columns": null,
            "grid_template_rows": null,
            "height": null,
            "justify_content": null,
            "justify_items": null,
            "left": null,
            "margin": null,
            "max_height": null,
            "max_width": null,
            "min_height": null,
            "min_width": null,
            "object_fit": null,
            "object_position": null,
            "order": null,
            "overflow": null,
            "overflow_x": null,
            "overflow_y": null,
            "padding": null,
            "right": null,
            "top": null,
            "visibility": null,
            "width": null
          }
        },
        "663368582a7b4e21a4b725cffa1b7aec": {
          "model_module": "@jupyter-widgets/base",
          "model_name": "LayoutModel",
          "model_module_version": "1.2.0",
          "state": {
            "_model_module": "@jupyter-widgets/base",
            "_model_module_version": "1.2.0",
            "_model_name": "LayoutModel",
            "_view_count": null,
            "_view_module": "@jupyter-widgets/base",
            "_view_module_version": "1.2.0",
            "_view_name": "LayoutView",
            "align_content": null,
            "align_items": null,
            "align_self": null,
            "border": null,
            "bottom": null,
            "display": null,
            "flex": null,
            "flex_flow": null,
            "grid_area": null,
            "grid_auto_columns": null,
            "grid_auto_flow": null,
            "grid_auto_rows": null,
            "grid_column": null,
            "grid_gap": null,
            "grid_row": null,
            "grid_template_areas": null,
            "grid_template_columns": null,
            "grid_template_rows": null,
            "height": null,
            "justify_content": null,
            "justify_items": null,
            "left": null,
            "margin": null,
            "max_height": null,
            "max_width": null,
            "min_height": null,
            "min_width": null,
            "object_fit": null,
            "object_position": null,
            "order": null,
            "overflow": null,
            "overflow_x": null,
            "overflow_y": null,
            "padding": null,
            "right": null,
            "top": null,
            "visibility": null,
            "width": null
          }
        },
        "545625be6fd74e829dab945a643a9d92": {
          "model_module": "@jupyter-widgets/controls",
          "model_name": "DescriptionStyleModel",
          "model_module_version": "1.5.0",
          "state": {
            "_model_module": "@jupyter-widgets/controls",
            "_model_module_version": "1.5.0",
            "_model_name": "DescriptionStyleModel",
            "_view_count": null,
            "_view_module": "@jupyter-widgets/base",
            "_view_module_version": "1.2.0",
            "_view_name": "StyleView",
            "description_width": ""
          }
        },
        "cb21ee693fe84ba39da139cf10285269": {
          "model_module": "@jupyter-widgets/base",
          "model_name": "LayoutModel",
          "model_module_version": "1.2.0",
          "state": {
            "_model_module": "@jupyter-widgets/base",
            "_model_module_version": "1.2.0",
            "_model_name": "LayoutModel",
            "_view_count": null,
            "_view_module": "@jupyter-widgets/base",
            "_view_module_version": "1.2.0",
            "_view_name": "LayoutView",
            "align_content": null,
            "align_items": null,
            "align_self": null,
            "border": null,
            "bottom": null,
            "display": null,
            "flex": null,
            "flex_flow": null,
            "grid_area": null,
            "grid_auto_columns": null,
            "grid_auto_flow": null,
            "grid_auto_rows": null,
            "grid_column": null,
            "grid_gap": null,
            "grid_row": null,
            "grid_template_areas": null,
            "grid_template_columns": null,
            "grid_template_rows": null,
            "height": null,
            "justify_content": null,
            "justify_items": null,
            "left": null,
            "margin": null,
            "max_height": null,
            "max_width": null,
            "min_height": null,
            "min_width": null,
            "object_fit": null,
            "object_position": null,
            "order": null,
            "overflow": null,
            "overflow_x": null,
            "overflow_y": null,
            "padding": null,
            "right": null,
            "top": null,
            "visibility": null,
            "width": null
          }
        },
        "ef05f8e14c5d4f7eadb8a2707d1ce75c": {
          "model_module": "@jupyter-widgets/controls",
          "model_name": "ProgressStyleModel",
          "model_module_version": "1.5.0",
          "state": {
            "_model_module": "@jupyter-widgets/controls",
            "_model_module_version": "1.5.0",
            "_model_name": "ProgressStyleModel",
            "_view_count": null,
            "_view_module": "@jupyter-widgets/base",
            "_view_module_version": "1.2.0",
            "_view_name": "StyleView",
            "bar_color": null,
            "description_width": ""
          }
        },
        "0aa30914cad144c2931ca32bd0a5b8ac": {
          "model_module": "@jupyter-widgets/base",
          "model_name": "LayoutModel",
          "model_module_version": "1.2.0",
          "state": {
            "_model_module": "@jupyter-widgets/base",
            "_model_module_version": "1.2.0",
            "_model_name": "LayoutModel",
            "_view_count": null,
            "_view_module": "@jupyter-widgets/base",
            "_view_module_version": "1.2.0",
            "_view_name": "LayoutView",
            "align_content": null,
            "align_items": null,
            "align_self": null,
            "border": null,
            "bottom": null,
            "display": null,
            "flex": null,
            "flex_flow": null,
            "grid_area": null,
            "grid_auto_columns": null,
            "grid_auto_flow": null,
            "grid_auto_rows": null,
            "grid_column": null,
            "grid_gap": null,
            "grid_row": null,
            "grid_template_areas": null,
            "grid_template_columns": null,
            "grid_template_rows": null,
            "height": null,
            "justify_content": null,
            "justify_items": null,
            "left": null,
            "margin": null,
            "max_height": null,
            "max_width": null,
            "min_height": null,
            "min_width": null,
            "object_fit": null,
            "object_position": null,
            "order": null,
            "overflow": null,
            "overflow_x": null,
            "overflow_y": null,
            "padding": null,
            "right": null,
            "top": null,
            "visibility": null,
            "width": null
          }
        },
        "9a54fa46ca36496fbe6dc079466d5d44": {
          "model_module": "@jupyter-widgets/controls",
          "model_name": "DescriptionStyleModel",
          "model_module_version": "1.5.0",
          "state": {
            "_model_module": "@jupyter-widgets/controls",
            "_model_module_version": "1.5.0",
            "_model_name": "DescriptionStyleModel",
            "_view_count": null,
            "_view_module": "@jupyter-widgets/base",
            "_view_module_version": "1.2.0",
            "_view_name": "StyleView",
            "description_width": ""
          }
        }
      }
    }
  },
  "nbformat": 4,
  "nbformat_minor": 0
}