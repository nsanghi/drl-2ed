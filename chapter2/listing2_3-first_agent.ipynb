{
  "cells": [
    {
      "cell_type": "markdown",
      "metadata": {
        "id": "view-in-github",
        "colab_type": "text"
      },
      "source": [
        "<a href=\"https://colab.research.google.com/github/nsanghi/drl-2ed/blob/main/chapter2/listing2_3-first_agent.ipynb\" target=\"_parent\"><img src=\"https://colab.research.google.com/assets/colab-badge.svg\" alt=\"Open In Colab\"/></a>"
      ]
    },
    {
      "cell_type": "markdown",
      "metadata": {
        "id": "hyyN-2qyK_T2"
      },
      "source": [
        "# Train your First Agent\n",
        "\n",
        "In this Notebook we will train the 2nd agent. yet another environment, train the agent and then share the result using Huggingface ecosystem. We will be using following libraries:\n",
        "\n",
        "1. `gymnasium` - which we saw in Listing 2.1.  [gymnasium](https://gymnasium.farama.org/) is a standard API for reinforcement learning, and a diverse collection of reference environments.\n",
        "2. While, to gain understanding, we will be writing our own implementation code for lots of algorithms taught in the book, for actual work it makes sense to use standard libraries for all such RL tasks. One such library is [Stable Baselines3 SB3](https://stable-baselines3.readthedocs.io/en/master/) which is a set of reliable implementations of reinforcement learning algorithms in PyTorch. Accompanying this there is another library[RL Baseline Zoo](https://github.com/DLR-RM/rl-baselines3-zoo) which provides a collection of pre-trained agents, scripts for training, evaluating agents, tuni-ng hyperparameters, plotting results and recording.\n",
        "3. We will also be using Huggingface to host the trained agents and be able to share the results with others. The book walks you through details of what is Huggingface and what all is available under huggingface ecosystem. In this book, we will be using a subset of the capabilities in huggingface. For now we will be using it to upload trained agents and demo videos so that the same can be shared with others. We will be using [Huggingface sb3](https://github.com/huggingface/huggingface_sb3) which is a library to load and upload Stable-baselines3.  models from the Hub. Before we can use it, we need a login to be created on [Huggingface](https://huggingface.co/join). You can follow the link to create an account."
      ]
    },
    {
      "cell_type": "markdown",
      "metadata": {
        "id": "gpyVcmMPIMJZ"
      },
      "source": [
        "## Running in Colab\n",
        "\n",
        "If you are running this on Colab, please uncomment below cell and run this to install required dependencies.\n",
        "\n"
      ]
    },
    {
      "cell_type": "code",
      "execution_count": null,
      "metadata": {
        "id": "gWskDE2c9WoN"
      },
      "outputs": [],
      "source": [
        "#uncomment and execute this cell to install all the the dependencies if running in Google Colab\n",
        "\n",
        "# !apt-get update && apt-get install swig cmake ffmpeg freeglut3-dev xvfb\n",
        "# !pip install box2d-py\n",
        "# !pip install \"stable-baselines3[extra]>=2.0.0a4\"\n",
        "# !pip install git+https://github.com/huggingface/huggingface_sb3@gymnasium"
      ]
    },
    {
      "cell_type": "markdown",
      "metadata": {
        "id": "FtY8FhliLsGm"
      },
      "source": [
        "## Import policy, RL agent\n",
        "\n",
        "We will using DQN (Deep Q Network) policy to train the agent. For now we will treat this as a black box, diving deeper into it in a subsequent chapter."
      ]
    },
    {
      "cell_type": "code",
      "execution_count": 1,
      "metadata": {
        "colab": {
          "base_uri": "https://localhost:8080/"
        },
        "id": "BIedd7Pz9sOs",
        "outputId": "a0082d96-8669-4b40-d9ce-6cffcc9d3f96"
      },
      "outputs": [
        {
          "output_type": "stream",
          "name": "stderr",
          "text": [
            "/usr/local/lib/python3.10/dist-packages/torch/utils/tensorboard/__init__.py:4: DeprecationWarning: distutils Version classes are deprecated. Use packaging.version instead.\n",
            "  if not hasattr(tensorboard, \"__version__\") or LooseVersion(\n"
          ]
        }
      ],
      "source": [
        "import gymnasium as gym\n",
        "\n",
        "from stable_baselines3 import DQN"
      ]
    },
    {
      "cell_type": "markdown",
      "metadata": {
        "id": "RapkYvTXL7Cd"
      },
      "source": [
        "## Create the Gym env and instantiate the agent\n",
        "\n",
        "For this example, we will use Lunar Lander environment.\n",
        "\n",
        "\"Landing outside landing pad is possible. Fuel is infinite, so an agent can learn to fly and then land on its first attempt. Four discrete actions available: do nothing, fire left orientation engine, fire main engine, fire right orientation engine. \"\n",
        "\n",
        "[Lunar Lander environment](https://gymnasium.farama.org/environments/box2d/lunar_lander/)\n",
        "\n",
        "![Lunar Lander](https://gymnasium.farama.org/_images/lunar_lander.gif)\n",
        "\n",
        "\n",
        "We chose the MlpPolicy because input of Lunar Lander is a feature vector, not images. The type of action to use (discrete/continuous) will be automatically deduced from the environment action space\n",
        "\n"
      ]
    },
    {
      "cell_type": "code",
      "execution_count": 8,
      "metadata": {
        "colab": {
          "base_uri": "https://localhost:8080/"
        },
        "id": "pUWGZp3i9wyf",
        "outputId": "af792e1a-17cb-4048-b31d-0fad4426f626"
      },
      "outputs": [
        {
          "output_type": "stream",
          "name": "stdout",
          "text": [
            "Using cuda device\n",
            "Creating environment from the given name 'LunarLander-v2'\n",
            "Wrapping the env with a `Monitor` wrapper\n",
            "Wrapping the env in a DummyVecEnv.\n"
          ]
        }
      ],
      "source": [
        "model = DQN(\n",
        "    \"MlpPolicy\",\n",
        "    \"LunarLander-v2\",\n",
        "    verbose=1,\n",
        "    exploration_final_eps=0.1,\n",
        "    target_update_interval=250,\n",
        ")"
      ]
    },
    {
      "cell_type": "markdown",
      "metadata": {
        "id": "4efFdrQ7MBvl"
      },
      "source": [
        "We load a helper function to evaluate the agent:"
      ]
    },
    {
      "cell_type": "code",
      "execution_count": 2,
      "metadata": {
        "id": "PeaVBGuJwK97"
      },
      "outputs": [],
      "source": [
        "from stable_baselines3.common.evaluation import evaluate_policy"
      ]
    },
    {
      "cell_type": "markdown",
      "metadata": {
        "id": "zjEVOIY8NVeK"
      },
      "source": [
        "Let's evaluate the un-trained agent, this should be a random agent."
      ]
    },
    {
      "cell_type": "code",
      "execution_count": 10,
      "metadata": {
        "colab": {
          "base_uri": "https://localhost:8080/"
        },
        "id": "xDHLMA6NFk95",
        "outputId": "0605d334-37f8-4ea6-dbb8-5179bfeb28dc"
      },
      "outputs": [
        {
          "output_type": "stream",
          "name": "stdout",
          "text": [
            "mean_reward=-588.68 +/- 175.62544191253153\n"
          ]
        }
      ],
      "source": [
        "# Separate env for evaluation\n",
        "eval_env = gym.make(\"LunarLander-v2\")\n",
        "\n",
        "# Random Agent, before training\n",
        "mean_reward, std_reward = evaluate_policy(\n",
        "    model,\n",
        "    eval_env,\n",
        "    n_eval_episodes=10,\n",
        "    deterministic=True,\n",
        ")\n",
        "\n",
        "print(f\"mean_reward={mean_reward:.2f} +/- {std_reward}\")"
      ]
    },
    {
      "cell_type": "markdown",
      "metadata": {
        "id": "r5UoXTZPNdFE"
      },
      "source": [
        "## Train the agent and save it\n",
        "\n",
        "Warning: this may take a while"
      ]
    },
    {
      "cell_type": "code",
      "execution_count": 11,
      "metadata": {
        "id": "e4cfSXIB-pTF",
        "colab": {
          "base_uri": "https://localhost:8080/",
          "height": 241,
          "referenced_widgets": [
            "1489b32e36794bb0ad04f8250cba921a",
            "060c33f79563429983f38920ea56501d"
          ]
        },
        "outputId": "fc800a57-0740-47d2-f63a-6fd43df5c0f6"
      },
      "outputs": [
        {
          "output_type": "display_data",
          "data": {
            "text/plain": [
              "Output()"
            ],
            "application/vnd.jupyter.widget-view+json": {
              "version_major": 2,
              "version_minor": 0,
              "model_id": "1489b32e36794bb0ad04f8250cba921a"
            }
          },
          "metadata": {}
        },
        {
          "output_type": "stream",
          "name": "stdout",
          "text": [
            "----------------------------------\n",
            "| rollout/            |          |\n",
            "|    ep_len_mean      | 93.1     |\n",
            "|    ep_rew_mean      | -194     |\n",
            "|    exploration_rate | 0.1      |\n",
            "| time/               |          |\n",
            "|    episodes         | 400      |\n",
            "|    fps              | 3052     |\n",
            "|    time_elapsed     | 12       |\n",
            "|    total_timesteps  | 36948    |\n",
            "----------------------------------\n"
          ]
        },
        {
          "output_type": "display_data",
          "data": {
            "text/plain": [],
            "text/html": [
              "<pre style=\"white-space:pre;overflow-x:auto;line-height:normal;font-family:Menlo,'DejaVu Sans Mono',consolas,'Courier New',monospace\"></pre>\n"
            ]
          },
          "metadata": {}
        },
        {
          "output_type": "display_data",
          "data": {
            "text/plain": [
              "\n"
            ],
            "text/html": [
              "<pre style=\"white-space:pre;overflow-x:auto;line-height:normal;font-family:Menlo,'DejaVu Sans Mono',consolas,'Courier New',monospace\">\n",
              "</pre>\n"
            ]
          },
          "metadata": {}
        }
      ],
      "source": [
        "# Train the agent\n",
        "model.learn(total_timesteps=int(1e5), log_interval=400, progress_bar=True)\n",
        "# Save the agent\n",
        "model.save(\"dqn_lunar\")\n",
        "del model  # delete trained model to demonstrate loading"
      ]
    },
    {
      "cell_type": "markdown",
      "metadata": {
        "id": "T31dZJYNrJwF"
      },
      "source": [
        "## Load the trained agent"
      ]
    },
    {
      "cell_type": "code",
      "execution_count": 3,
      "metadata": {
        "id": "K1ExgtyZrIA6"
      },
      "outputs": [],
      "source": [
        "model = DQN.load(\"dqn_lunar\")"
      ]
    },
    {
      "cell_type": "code",
      "execution_count": 5,
      "metadata": {
        "colab": {
          "base_uri": "https://localhost:8080/"
        },
        "id": "ygl_gVmV_QP7",
        "outputId": "a9e4e267-0b20-40c0-83c7-73c7de84856c"
      },
      "outputs": [
        {
          "output_type": "stream",
          "name": "stderr",
          "text": [
            "/usr/local/lib/python3.10/dist-packages/stable_baselines3/common/evaluation.py:67: UserWarning: Evaluation environment is not wrapped with a ``Monitor`` wrapper. This may result in reporting modified episode lengths and rewards, if other wrappers happen to modify these. Consider wrapping environment first with ``Monitor`` wrapper.\n",
            "  warnings.warn(\n"
          ]
        },
        {
          "output_type": "stream",
          "name": "stdout",
          "text": [
            "mean_reward=94.54 +/- 87.28950452232776\n"
          ]
        }
      ],
      "source": [
        "# Evaluate the trained agent\n",
        "mean_reward, std_reward = evaluate_policy(model, eval_env, n_eval_episodes=10, deterministic=True)\n",
        "\n",
        "print(f\"mean_reward={mean_reward:.2f} +/- {std_reward}\")"
      ]
    },
    {
      "cell_type": "markdown",
      "metadata": {
        "id": "AdlkHUBVIMJf"
      },
      "source": [
        "## Record the video of trained agent"
      ]
    },
    {
      "cell_type": "code",
      "execution_count": 6,
      "metadata": {
        "colab": {
          "base_uri": "https://localhost:8080/"
        },
        "id": "aQDZI5VEGnUq",
        "outputId": "edc264a2-da02-4604-8c3c-984e15865e84"
      },
      "outputs": [
        {
          "output_type": "stream",
          "name": "stdout",
          "text": [
            "Saving video to /content/logs/videos/random-agent-LunarLander-v2-step-0-to-step-1000.mp4\n",
            "Moviepy - Building video /content/logs/videos/random-agent-LunarLander-v2-step-0-to-step-1000.mp4.\n",
            "Moviepy - Writing video /content/logs/videos/random-agent-LunarLander-v2-step-0-to-step-1000.mp4\n",
            "\n"
          ]
        },
        {
          "output_type": "stream",
          "name": "stderr",
          "text": []
        },
        {
          "output_type": "stream",
          "name": "stdout",
          "text": [
            "Moviepy - Done !\n",
            "Moviepy - video ready /content/logs/videos/random-agent-LunarLander-v2-step-0-to-step-1000.mp4\n"
          ]
        }
      ],
      "source": [
        "import gymnasium as gym\n",
        "from stable_baselines3.common.vec_env import VecVideoRecorder, DummyVecEnv\n",
        "\n",
        "env_id = \"LunarLander-v2\"\n",
        "video_folder = \"logs/videos/\"\n",
        "video_length = 1000\n",
        "\n",
        "vec_env = DummyVecEnv([lambda: gym.make(env_id, render_mode=\"rgb_array\")])\n",
        "\n",
        "obs = vec_env.reset()\n",
        "\n",
        "# Record the video starting at the first step\n",
        "vec_env = VecVideoRecorder(vec_env, video_folder,\n",
        "                       record_video_trigger=lambda x: x == 0, video_length=video_length,\n",
        "                       name_prefix=f\"random-agent-{env_id}\")\n",
        "\n",
        "vec_env.reset()\n",
        "for _ in range(video_length + 1):\n",
        "  action, _state = model.predict(obs)\n",
        "  obs, _, _, _ = vec_env.step(action)\n",
        "# Save the video\n",
        "vec_env.close()"
      ]
    },
    {
      "cell_type": "code",
      "execution_count": 7,
      "metadata": {
        "colab": {
          "base_uri": "https://localhost:8080/",
          "height": 288
        },
        "id": "QdFnRIDYDNzI",
        "outputId": "e68d7e93-7eba-410a-b7d5-8402b7d8bc17"
      },
      "outputs": [
        {
          "output_type": "execute_result",
          "data": {
            "text/plain": [
              "<IPython.core.display.HTML object>"
            ],
            "text/html": [
              "\n",
              "<video width=400 controls>\n",
              "      <source src=\"data:video/mp4;base64,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\" type=\"video/mp4\">\n",
              "</video>\n"
            ]
          },
          "metadata": {},
          "execution_count": 7
        }
      ],
      "source": [
        "from IPython.display import HTML\n",
        "from base64 import b64encode\n",
        "\n",
        "mp4 = open('./logs/videos/random-agent-LunarLander-v2-step-0-to-step-1000.mp4','rb').read()\n",
        "data_url = \"data:video/mp4;base64,\" + b64encode(mp4).decode()\n",
        "HTML(\"\"\"\n",
        "<video width=400 controls>\n",
        "      <source src=\"%s\" type=\"video/mp4\">\n",
        "</video>\n",
        "\"\"\" % data_url)"
      ]
    },
    {
      "cell_type": "markdown",
      "metadata": {
        "id": "hHWlV9U-EBar",
        "outputId": "d908af0f-abf4-45e4-fddb-661e1e636832"
      },
      "source": [
        "## Upload the Video to Huggingface\n",
        "\n",
        "We will need to login into huggingface using token which will allow this notebook to be able to upload files into your huggingface account. You can create/find huggingface token at https://huggingface.co/settings/tokens. This token will need to be inputed when we run `notebook_login()` below."
      ]
    },
    {
      "cell_type": "code",
      "execution_count": 8,
      "metadata": {
        "colab": {
          "base_uri": "https://localhost:8080/",
          "height": 162,
          "referenced_widgets": [
            "faedbb1b2bda4fdaaae073b2328b6662",
            "baea74c5772849778d1d06bb3edc275e",
            "cbb8e24978294ea0a9ee3e3e637d4c6f",
            "65ac3f1c152b41c18ef1f95f493b227e",
            "7617909aea4e45429c7e03f7cca25fd7",
            "7696f605258941e291fc4b347e796dc3",
            "d37f751babc649bfac92a80d2fef5b87",
            "a0c9daf9dad84703bd57e30b02b6c362",
            "cb7ec37a494344278e5dcede2409fec8",
            "0ebe55af4f694e12997eba593291c69d",
            "fcf67a330d7f4c03815abb9b50664256",
            "7d958616100c462b81ba2441e6c9cd16",
            "bc07f5e200c144f0bfc6be1dd67501f6",
            "fd40b11f0ba942ae97d4e2ce376b1e3b",
            "a965c6a74a4d4a17bef4ab2e036abaff",
            "913b9c9d13394149a5ac2b25714e53ca",
            "2792bfde7dec44b7863fb34dcfd76003",
            "691c9c940faa4d1c8458cd69d4a6314a",
            "dbc54c1695d149c6ae11fbe20f8652df",
            "67c06224c2ab4d299279893dfd9f50c9",
            "4bcce309087643a1982cbf898736e842",
            "4a82c737e0984deb9e3bffe62e94d60b",
            "6d2d1b203e3344d88f5134441ec1b567",
            "1d1efa33832e45c98a2c7bcb5e1164eb",
            "f12dfb7c74124ddb8c5339756ed5d14c",
            "0d65dee0591c421eaade75278e889de4",
            "f19dfe5c1b2848de96a3d3601916cc7c",
            "6dc937b73756450daec9b3c59e8332b1",
            "754e0c2a4ecb4de895df76e10cde16ef",
            "1c408b269a914663bd8c6c00d3b0ed4a",
            "64d2d28c8d294e518d75900b5193cbab",
            "0587c605a85b4502936fd1fec25630a7"
          ]
        },
        "id": "7byeWx0bEGL5",
        "outputId": "b86cc4bb-44c9-4018-8f14-58b9fd598649"
      },
      "outputs": [
        {
          "output_type": "display_data",
          "data": {
            "text/plain": [
              "VBox(children=(HTML(value='<center> <img\\nsrc=https://huggingface.co/front/assets/huggingface_logo-noborder.sv…"
            ],
            "application/vnd.jupyter.widget-view+json": {
              "version_major": 2,
              "version_minor": 0,
              "model_id": "faedbb1b2bda4fdaaae073b2328b6662"
            }
          },
          "metadata": {}
        }
      ],
      "source": [
        "from huggingface_sb3 import load_from_hub, package_to_hub, push_to_hub\n",
        "from huggingface_hub import notebook_login # To log to our Hugging Face account to be able to upload models to the Hub.\n",
        "\n",
        "notebook_login()\n",
        "!git config --global credential.helper store"
      ]
    },
    {
      "cell_type": "code",
      "execution_count": 9,
      "metadata": {
        "colab": {
          "base_uri": "https://localhost:8080/",
          "height": 446,
          "referenced_widgets": [
            "8c6d30bc5ada4f6a989ec5cd06a152a3",
            "8cdda61684e34019af451e5e8d0aba5d",
            "67b07c3edb5a41e7adf557a320cd594f",
            "f5dc0ad331fa4d7f80d8b608b60c9e44",
            "f36e66d04b7c48709ae886e78601eaf0",
            "f0e2ae53f45d4f61a28092303f8c2368",
            "ff486779d1754ada97cd7ceb16389967",
            "3eed6282686743aa88d26c7415670198",
            "927c65b5f12340afb35c073a25854efb",
            "18b620a0db8e43db8674d0b7899ea788",
            "ab566bdbbd564393a5355afb61470a2a",
            "391f473a1d3e4e2fbb95a89015e5f7bf",
            "de95f370a2644d79a1b18692393daed9",
            "fd7a614d07bd4c629f419965961730f8",
            "0e4046a1ee004d09a5de6fe25359df9e",
            "8d9c72cd5fba4b359595f609918dd618",
            "c32973a22ccd4f6bb4e54a47a1171065",
            "fca263ee57744f4d8d451715904d9790",
            "7688f0b367484ab8b3e4e7359a5642d5",
            "06ada10b2c264218896da24f6857fecc",
            "4e7672f426674a32adcd749b24d45c6d",
            "065fa85413064f60a8a28894ec3fa759",
            "97a1ba6ceea74b89b6a482d629d8881c",
            "35560bdfb97343759e8b194f343e7377",
            "e253b23702bb498ca25ce8d54a33e795",
            "311ee09963c646f8866fed7251954c10",
            "e0d645e8ccd3452481e7676bf34b06f1",
            "415cbfa6c36d46bc9f269e760c03acb1",
            "3e85b50b62244209af90462431fc32d8",
            "67878ea260a544baa780e44da6616bea",
            "b25775e2ed9142b79e16556dfa8e44b7",
            "2e4be5aa34a84297935fc95f3253b1ff",
            "c0f5db8683a54051ba8e09c18b937735"
          ]
        },
        "id": "vUfaMkSAD4L9",
        "outputId": "49598cd9-b970-46a6-d5f8-e888960a54c4"
      },
      "outputs": [
        {
          "output_type": "stream",
          "name": "stderr",
          "text": [
            "/usr/local/lib/python3.10/dist-packages/ipykernel/ipkernel.py:283: DeprecationWarning: `should_run_async` will not call `transform_cell` automatically in the future. Please pass the result to `transformed_cell` argument and any exception that happen during thetransform in `preprocessing_exc_tuple` in IPython 7.17 and above.\n",
            "  and should_run_async(code)\n",
            "/usr/local/lib/python3.10/dist-packages/stable_baselines3/common/evaluation.py:67: UserWarning: Evaluation environment is not wrapped with a ``Monitor`` wrapper. This may result in reporting modified episode lengths and rewards, if other wrappers happen to modify these. Consider wrapping environment first with ``Monitor`` wrapper.\n",
            "  warnings.warn(\n"
          ]
        },
        {
          "output_type": "stream",
          "name": "stdout",
          "text": [
            "\u001b[38;5;4mℹ This function will save, evaluate, generate a video of your agent,\n",
            "create a model card and push everything to the hub. It might take up to 1min.\n",
            "This is a work in progress: if you encounter a bug, please open an issue.\u001b[0m\n",
            "gymnasium.envs.box2d.lunar_lander:LunarLander\n",
            "Saving video to /tmp/tmpiyajzm0_/-step-0-to-step-1000.mp4\n",
            "Moviepy - Building video /tmp/tmpiyajzm0_/-step-0-to-step-1000.mp4.\n",
            "Moviepy - Writing video /tmp/tmpiyajzm0_/-step-0-to-step-1000.mp4\n",
            "\n"
          ]
        },
        {
          "output_type": "stream",
          "name": "stderr",
          "text": []
        },
        {
          "output_type": "stream",
          "name": "stdout",
          "text": [
            "Moviepy - Done !\n",
            "Moviepy - video ready /tmp/tmpiyajzm0_/-step-0-to-step-1000.mp4\n",
            "\u001b[38;5;4mℹ Pushing repo nsanghi/dqn-LunarLander-v2 to the Hugging Face Hub\u001b[0m\n"
          ]
        },
        {
          "output_type": "display_data",
          "data": {
            "text/plain": [
              "Upload 2 LFS files:   0%|          | 0/2 [00:00<?, ?it/s]"
            ],
            "application/vnd.jupyter.widget-view+json": {
              "version_major": 2,
              "version_minor": 0,
              "model_id": "8c6d30bc5ada4f6a989ec5cd06a152a3"
            }
          },
          "metadata": {}
        },
        {
          "output_type": "display_data",
          "data": {
            "text/plain": [
              "dqn-LunarLander-v2.zip:   0%|          | 0.00/105k [00:00<?, ?B/s]"
            ],
            "application/vnd.jupyter.widget-view+json": {
              "version_major": 2,
              "version_minor": 0,
              "model_id": "391f473a1d3e4e2fbb95a89015e5f7bf"
            }
          },
          "metadata": {}
        },
        {
          "output_type": "display_data",
          "data": {
            "text/plain": [
              "replay.mp4:   0%|          | 0.00/146k [00:00<?, ?B/s]"
            ],
            "application/vnd.jupyter.widget-view+json": {
              "version_major": 2,
              "version_minor": 0,
              "model_id": "97a1ba6ceea74b89b6a482d629d8881c"
            }
          },
          "metadata": {}
        },
        {
          "output_type": "stream",
          "name": "stdout",
          "text": [
            "\u001b[38;5;4mℹ Your model is pushed to the Hub. You can view your model here:\n",
            "https://huggingface.co/nsanghi/dqn-LunarLander-v2/tree/main/\u001b[0m\n"
          ]
        },
        {
          "output_type": "execute_result",
          "data": {
            "text/plain": [
              "'https://huggingface.co/nsanghi/dqn-LunarLander-v2/tree/main/'"
            ],
            "application/vnd.google.colaboratory.intrinsic+json": {
              "type": "string"
            }
          },
          "metadata": {},
          "execution_count": 9
        }
      ],
      "source": [
        "eval_env = gym.make(\"LunarLander-v2\", render_mode='rgb_array')\n",
        "\n",
        "# method save, evaluate, generate a model card and record a replay video of your agent before pushing the repo to the hub\n",
        "\n",
        "# Please note repo_id is of the form <huggingface_id>/<name of repo>\n",
        "# you will need to change this to \"<your_huggingface_id>/dqn-LunarLander-v2\"\n",
        "\n",
        "package_to_hub(model=model, # Our trained model\n",
        "               model_name=\"dqn-LunarLander-v2\", # The name of our trained model\n",
        "               model_architecture=\"DQN\", # The model architecture we used: in our case PPO\n",
        "               env_id=\"LunarLander-v2\", # Name of the environment\n",
        "               eval_env=eval_env, # Evaluation Environment\n",
        "               repo_id=\"nsanghi/dqn-LunarLander-v2\", # id of the model repository from the Hugging Face Hub (repo_id = {organization}/{repo_name} for instance ThomasSimonini/ppo-LunarLander-v2\n",
        "               commit_message=\"Push to Hub\")\n",
        "\n",
        "# Note: if after running the package_to_hub function and it gives an issue of rebasing, please run the following code\n",
        "# cd <path_to_repo> && git add . && git commit -m \"Add message\" && git pull\n",
        "# And don't forget to do a \"git push\" at the end to push the change to the hub."
      ]
    },
    {
      "cell_type": "markdown",
      "metadata": {
        "id": "ShY8CHnLIMJg"
      },
      "source": [
        "## Checking the Results on Huggingface\n",
        "\n",
        "After successful upload, you will see a message at the end of above cell output giving you a link where you can view the model. **It will have a pattern like `https://huggingface.co/<yourusername>/dqn-LunarLander-v2/`**\n",
        "\n",
        "Please click on this link to access the trained agent. You can also share this link with others to show the result of training. Share the url without the ending paths \"tree/main\" so that the link takes them to Model Card tab where they can see the animation. e.g. in my case it will be:<br/>\n",
        "`https://huggingface.co/nsanghi/dqn-LunarLander-v2/`<br/>\n",
        "instead of<br/>\n",
        "`https://huggingface.co/nsanghi/dqn-LunarLander-v2/tree/main/`\n",
        "\n",
        "NOTE: At the time of writing this book, there is a bug in push_to_hub which results in sample video not getting created. You can refer to this bug here - https://github.com/huggingface/huggingface_sb3/issues/33\n"
      ]
    }
  ],
  "metadata": {
    "accelerator": "GPU",
    "colab": {
      "name": "saving_loading_dqn.ipynb",
      "provenance": [],
      "include_colab_link": true
    },
    "kernelspec": {
      "display_name": "Python 3 (ipykernel)",
      "language": "python",
      "name": "python3"
    },
    "language_info": {
      "codemirror_mode": {
        "name": "ipython",
        "version": 3
      },
      "file_extension": ".py",
      "mimetype": "text/x-python",
      "name": "python",
      "nbconvert_exporter": "python",
      "pygments_lexer": "ipython3",
      "version": "3.10.12"
    },
    "vscode": {
      "interpreter": {
        "hash": "3201c96db5836b171d01fee72ea1be894646622d4b41771abf25c98b548a611d"
      }
    },
    "widgets": {
      "application/vnd.jupyter.widget-state+json": {
        "1489b32e36794bb0ad04f8250cba921a": {
          "model_module": "@jupyter-widgets/output",
          "model_name": "OutputModel",
          "model_module_version": "1.0.0",
          "state": {
            "_dom_classes": [],
            "_model_module": "@jupyter-widgets/output",
            "_model_module_version": "1.0.0",
            "_model_name": "OutputModel",
            "_view_count": null,
            "_view_module": "@jupyter-widgets/output",
            "_view_module_version": "1.0.0",
            "_view_name": "OutputView",
            "layout": "IPY_MODEL_060c33f79563429983f38920ea56501d",
            "msg_id": "",
            "outputs": [
              {
                "output_type": "display_data",
                "data": {
                  "text/plain": "\u001b[35m 100%\u001b[0m \u001b[38;2;249;38;114m━━━━━━━━━━━━━━━━━━━━━━━━━━━━━━━━━━━━━━━━━━━━━━━━━━━━━━━━━━━\u001b[0m\u001b[38;2;249;38;114m╸\u001b[0m \u001b[32m99,970/100,000 \u001b[0m [ \u001b[33m0:02:27\u001b[0m < \u001b[36m0:00:01\u001b[0m , \u001b[31m400 it/s\u001b[0m ]\n",
                  "text/html": "<pre style=\"white-space:pre;overflow-x:auto;line-height:normal;font-family:Menlo,'DejaVu Sans Mono',consolas,'Courier New',monospace\"><span style=\"color: #800080; text-decoration-color: #800080\"> 100%</span> <span style=\"color: #f92672; text-decoration-color: #f92672\">━━━━━━━━━━━━━━━━━━━━━━━━━━━━━━━━━━━━━━━━━━━━━━━━━━━━━━━━━━━╸</span> <span style=\"color: #008000; text-decoration-color: #008000\">99,970/100,000 </span> [ <span style=\"color: #808000; text-decoration-color: #808000\">0:02:27</span> &lt; <span style=\"color: #008080; text-decoration-color: #008080\">0:00:01</span> , <span style=\"color: #800000; text-decoration-color: #800000\">400 it/s</span> ]\n</pre>\n"
                },
                "metadata": {}
              }
            ]
          }
        },
        "060c33f79563429983f38920ea56501d": {
          "model_module": "@jupyter-widgets/base",
          "model_name": "LayoutModel",
          "model_module_version": "1.2.0",
          "state": {
            "_model_module": "@jupyter-widgets/base",
            "_model_module_version": "1.2.0",
            "_model_name": "LayoutModel",
            "_view_count": null,
            "_view_module": "@jupyter-widgets/base",
            "_view_module_version": "1.2.0",
            "_view_name": "LayoutView",
            "align_content": null,
            "align_items": null,
            "align_self": null,
            "border": null,
            "bottom": null,
            "display": null,
            "flex": null,
            "flex_flow": null,
            "grid_area": null,
            "grid_auto_columns": null,
            "grid_auto_flow": null,
            "grid_auto_rows": null,
            "grid_column": null,
            "grid_gap": null,
            "grid_row": null,
            "grid_template_areas": null,
            "grid_template_columns": null,
            "grid_template_rows": null,
            "height": null,
            "justify_content": null,
            "justify_items": null,
            "left": null,
            "margin": null,
            "max_height": null,
            "max_width": null,
            "min_height": null,
            "min_width": null,
            "object_fit": null,
            "object_position": null,
            "order": null,
            "overflow": null,
            "overflow_x": null,
            "overflow_y": null,
            "padding": null,
            "right": null,
            "top": null,
            "visibility": null,
            "width": null
          }
        },
        "faedbb1b2bda4fdaaae073b2328b6662": {
          "model_module": "@jupyter-widgets/controls",
          "model_name": "VBoxModel",
          "model_module_version": "1.5.0",
          "state": {
            "_dom_classes": [],
            "_model_module": "@jupyter-widgets/controls",
            "_model_module_version": "1.5.0",
            "_model_name": "VBoxModel",
            "_view_count": null,
            "_view_module": "@jupyter-widgets/controls",
            "_view_module_version": "1.5.0",
            "_view_name": "VBoxView",
            "box_style": "",
            "children": [
              "IPY_MODEL_4bcce309087643a1982cbf898736e842",
              "IPY_MODEL_4a82c737e0984deb9e3bffe62e94d60b",
              "IPY_MODEL_6d2d1b203e3344d88f5134441ec1b567",
              "IPY_MODEL_1d1efa33832e45c98a2c7bcb5e1164eb"
            ],
            "layout": "IPY_MODEL_d37f751babc649bfac92a80d2fef5b87"
          }
        },
        "baea74c5772849778d1d06bb3edc275e": {
          "model_module": "@jupyter-widgets/controls",
          "model_name": "HTMLModel",
          "model_module_version": "1.5.0",
          "state": {
            "_dom_classes": [],
            "_model_module": "@jupyter-widgets/controls",
            "_model_module_version": "1.5.0",
            "_model_name": "HTMLModel",
            "_view_count": null,
            "_view_module": "@jupyter-widgets/controls",
            "_view_module_version": "1.5.0",
            "_view_name": "HTMLView",
            "description": "",
            "description_tooltip": null,
            "layout": "IPY_MODEL_a0c9daf9dad84703bd57e30b02b6c362",
            "placeholder": "​",
            "style": "IPY_MODEL_cb7ec37a494344278e5dcede2409fec8",
            "value": "<center> <img\nsrc=https://huggingface.co/front/assets/huggingface_logo-noborder.svg\nalt='Hugging Face'> <br> Copy a token from <a\nhref=\"https://huggingface.co/settings/tokens\" target=\"_blank\">your Hugging Face\ntokens page</a> and paste it below. <br> Immediately click login after copying\nyour token or it might be stored in plain text in this notebook file. </center>"
          }
        },
        "cbb8e24978294ea0a9ee3e3e637d4c6f": {
          "model_module": "@jupyter-widgets/controls",
          "model_name": "PasswordModel",
          "model_module_version": "1.5.0",
          "state": {
            "_dom_classes": [],
            "_model_module": "@jupyter-widgets/controls",
            "_model_module_version": "1.5.0",
            "_model_name": "PasswordModel",
            "_view_count": null,
            "_view_module": "@jupyter-widgets/controls",
            "_view_module_version": "1.5.0",
            "_view_name": "PasswordView",
            "continuous_update": true,
            "description": "Token:",
            "description_tooltip": null,
            "disabled": false,
            "layout": "IPY_MODEL_0ebe55af4f694e12997eba593291c69d",
            "placeholder": "​",
            "style": "IPY_MODEL_fcf67a330d7f4c03815abb9b50664256",
            "value": ""
          }
        },
        "65ac3f1c152b41c18ef1f95f493b227e": {
          "model_module": "@jupyter-widgets/controls",
          "model_name": "CheckboxModel",
          "model_module_version": "1.5.0",
          "state": {
            "_dom_classes": [],
            "_model_module": "@jupyter-widgets/controls",
            "_model_module_version": "1.5.0",
            "_model_name": "CheckboxModel",
            "_view_count": null,
            "_view_module": "@jupyter-widgets/controls",
            "_view_module_version": "1.5.0",
            "_view_name": "CheckboxView",
            "description": "Add token as git credential?",
            "description_tooltip": null,
            "disabled": false,
            "indent": true,
            "layout": "IPY_MODEL_7d958616100c462b81ba2441e6c9cd16",
            "style": "IPY_MODEL_bc07f5e200c144f0bfc6be1dd67501f6",
            "value": true
          }
        },
        "7617909aea4e45429c7e03f7cca25fd7": {
          "model_module": "@jupyter-widgets/controls",
          "model_name": "ButtonModel",
          "model_module_version": "1.5.0",
          "state": {
            "_dom_classes": [],
            "_model_module": "@jupyter-widgets/controls",
            "_model_module_version": "1.5.0",
            "_model_name": "ButtonModel",
            "_view_count": null,
            "_view_module": "@jupyter-widgets/controls",
            "_view_module_version": "1.5.0",
            "_view_name": "ButtonView",
            "button_style": "",
            "description": "Login",
            "disabled": false,
            "icon": "",
            "layout": "IPY_MODEL_fd40b11f0ba942ae97d4e2ce376b1e3b",
            "style": "IPY_MODEL_a965c6a74a4d4a17bef4ab2e036abaff",
            "tooltip": ""
          }
        },
        "7696f605258941e291fc4b347e796dc3": {
          "model_module": "@jupyter-widgets/controls",
          "model_name": "HTMLModel",
          "model_module_version": "1.5.0",
          "state": {
            "_dom_classes": [],
            "_model_module": "@jupyter-widgets/controls",
            "_model_module_version": "1.5.0",
            "_model_name": "HTMLModel",
            "_view_count": null,
            "_view_module": "@jupyter-widgets/controls",
            "_view_module_version": "1.5.0",
            "_view_name": "HTMLView",
            "description": "",
            "description_tooltip": null,
            "layout": "IPY_MODEL_913b9c9d13394149a5ac2b25714e53ca",
            "placeholder": "​",
            "style": "IPY_MODEL_2792bfde7dec44b7863fb34dcfd76003",
            "value": "\n<b>Pro Tip:</b> If you don't already have one, you can create a dedicated\n'notebooks' token with 'write' access, that you can then easily reuse for all\nnotebooks. </center>"
          }
        },
        "d37f751babc649bfac92a80d2fef5b87": {
          "model_module": "@jupyter-widgets/base",
          "model_name": "LayoutModel",
          "model_module_version": "1.2.0",
          "state": {
            "_model_module": "@jupyter-widgets/base",
            "_model_module_version": "1.2.0",
            "_model_name": "LayoutModel",
            "_view_count": null,
            "_view_module": "@jupyter-widgets/base",
            "_view_module_version": "1.2.0",
            "_view_name": "LayoutView",
            "align_content": null,
            "align_items": "center",
            "align_self": null,
            "border": null,
            "bottom": null,
            "display": "flex",
            "flex": null,
            "flex_flow": "column",
            "grid_area": null,
            "grid_auto_columns": null,
            "grid_auto_flow": null,
            "grid_auto_rows": null,
            "grid_column": null,
            "grid_gap": null,
            "grid_row": null,
            "grid_template_areas": null,
            "grid_template_columns": null,
            "grid_template_rows": null,
            "height": null,
            "justify_content": null,
            "justify_items": null,
            "left": null,
            "margin": null,
            "max_height": null,
            "max_width": null,
            "min_height": null,
            "min_width": null,
            "object_fit": null,
            "object_position": null,
            "order": null,
            "overflow": null,
            "overflow_x": null,
            "overflow_y": null,
            "padding": null,
            "right": null,
            "top": null,
            "visibility": null,
            "width": "50%"
          }
        },
        "a0c9daf9dad84703bd57e30b02b6c362": {
          "model_module": "@jupyter-widgets/base",
          "model_name": "LayoutModel",
          "model_module_version": "1.2.0",
          "state": {
            "_model_module": "@jupyter-widgets/base",
            "_model_module_version": "1.2.0",
            "_model_name": "LayoutModel",
            "_view_count": null,
            "_view_module": "@jupyter-widgets/base",
            "_view_module_version": "1.2.0",
            "_view_name": "LayoutView",
            "align_content": null,
            "align_items": null,
            "align_self": null,
            "border": null,
            "bottom": null,
            "display": null,
            "flex": null,
            "flex_flow": null,
            "grid_area": null,
            "grid_auto_columns": null,
            "grid_auto_flow": null,
            "grid_auto_rows": null,
            "grid_column": null,
            "grid_gap": null,
            "grid_row": null,
            "grid_template_areas": null,
            "grid_template_columns": null,
            "grid_template_rows": null,
            "height": null,
            "justify_content": null,
            "justify_items": null,
            "left": null,
            "margin": null,
            "max_height": null,
            "max_width": null,
            "min_height": null,
            "min_width": null,
            "object_fit": null,
            "object_position": null,
            "order": null,
            "overflow": null,
            "overflow_x": null,
            "overflow_y": null,
            "padding": null,
            "right": null,
            "top": null,
            "visibility": null,
            "width": null
          }
        },
        "cb7ec37a494344278e5dcede2409fec8": {
          "model_module": "@jupyter-widgets/controls",
          "model_name": "DescriptionStyleModel",
          "model_module_version": "1.5.0",
          "state": {
            "_model_module": "@jupyter-widgets/controls",
            "_model_module_version": "1.5.0",
            "_model_name": "DescriptionStyleModel",
            "_view_count": null,
            "_view_module": "@jupyter-widgets/base",
            "_view_module_version": "1.2.0",
            "_view_name": "StyleView",
            "description_width": ""
          }
        },
        "0ebe55af4f694e12997eba593291c69d": {
          "model_module": "@jupyter-widgets/base",
          "model_name": "LayoutModel",
          "model_module_version": "1.2.0",
          "state": {
            "_model_module": "@jupyter-widgets/base",
            "_model_module_version": "1.2.0",
            "_model_name": "LayoutModel",
            "_view_count": null,
            "_view_module": "@jupyter-widgets/base",
            "_view_module_version": "1.2.0",
            "_view_name": "LayoutView",
            "align_content": null,
            "align_items": null,
            "align_self": null,
            "border": null,
            "bottom": null,
            "display": null,
            "flex": null,
            "flex_flow": null,
            "grid_area": null,
            "grid_auto_columns": null,
            "grid_auto_flow": null,
            "grid_auto_rows": null,
            "grid_column": null,
            "grid_gap": null,
            "grid_row": null,
            "grid_template_areas": null,
            "grid_template_columns": null,
            "grid_template_rows": null,
            "height": null,
            "justify_content": null,
            "justify_items": null,
            "left": null,
            "margin": null,
            "max_height": null,
            "max_width": null,
            "min_height": null,
            "min_width": null,
            "object_fit": null,
            "object_position": null,
            "order": null,
            "overflow": null,
            "overflow_x": null,
            "overflow_y": null,
            "padding": null,
            "right": null,
            "top": null,
            "visibility": null,
            "width": null
          }
        },
        "fcf67a330d7f4c03815abb9b50664256": {
          "model_module": "@jupyter-widgets/controls",
          "model_name": "DescriptionStyleModel",
          "model_module_version": "1.5.0",
          "state": {
            "_model_module": "@jupyter-widgets/controls",
            "_model_module_version": "1.5.0",
            "_model_name": "DescriptionStyleModel",
            "_view_count": null,
            "_view_module": "@jupyter-widgets/base",
            "_view_module_version": "1.2.0",
            "_view_name": "StyleView",
            "description_width": ""
          }
        },
        "7d958616100c462b81ba2441e6c9cd16": {
          "model_module": "@jupyter-widgets/base",
          "model_name": "LayoutModel",
          "model_module_version": "1.2.0",
          "state": {
            "_model_module": "@jupyter-widgets/base",
            "_model_module_version": "1.2.0",
            "_model_name": "LayoutModel",
            "_view_count": null,
            "_view_module": "@jupyter-widgets/base",
            "_view_module_version": "1.2.0",
            "_view_name": "LayoutView",
            "align_content": null,
            "align_items": null,
            "align_self": null,
            "border": null,
            "bottom": null,
            "display": null,
            "flex": null,
            "flex_flow": null,
            "grid_area": null,
            "grid_auto_columns": null,
            "grid_auto_flow": null,
            "grid_auto_rows": null,
            "grid_column": null,
            "grid_gap": null,
            "grid_row": null,
            "grid_template_areas": null,
            "grid_template_columns": null,
            "grid_template_rows": null,
            "height": null,
            "justify_content": null,
            "justify_items": null,
            "left": null,
            "margin": null,
            "max_height": null,
            "max_width": null,
            "min_height": null,
            "min_width": null,
            "object_fit": null,
            "object_position": null,
            "order": null,
            "overflow": null,
            "overflow_x": null,
            "overflow_y": null,
            "padding": null,
            "right": null,
            "top": null,
            "visibility": null,
            "width": null
          }
        },
        "bc07f5e200c144f0bfc6be1dd67501f6": {
          "model_module": "@jupyter-widgets/controls",
          "model_name": "DescriptionStyleModel",
          "model_module_version": "1.5.0",
          "state": {
            "_model_module": "@jupyter-widgets/controls",
            "_model_module_version": "1.5.0",
            "_model_name": "DescriptionStyleModel",
            "_view_count": null,
            "_view_module": "@jupyter-widgets/base",
            "_view_module_version": "1.2.0",
            "_view_name": "StyleView",
            "description_width": ""
          }
        },
        "fd40b11f0ba942ae97d4e2ce376b1e3b": {
          "model_module": "@jupyter-widgets/base",
          "model_name": "LayoutModel",
          "model_module_version": "1.2.0",
          "state": {
            "_model_module": "@jupyter-widgets/base",
            "_model_module_version": "1.2.0",
            "_model_name": "LayoutModel",
            "_view_count": null,
            "_view_module": "@jupyter-widgets/base",
            "_view_module_version": "1.2.0",
            "_view_name": "LayoutView",
            "align_content": null,
            "align_items": null,
            "align_self": null,
            "border": null,
            "bottom": null,
            "display": null,
            "flex": null,
            "flex_flow": null,
            "grid_area": null,
            "grid_auto_columns": null,
            "grid_auto_flow": null,
            "grid_auto_rows": null,
            "grid_column": null,
            "grid_gap": null,
            "grid_row": null,
            "grid_template_areas": null,
            "grid_template_columns": null,
            "grid_template_rows": null,
            "height": null,
            "justify_content": null,
            "justify_items": null,
            "left": null,
            "margin": null,
            "max_height": null,
            "max_width": null,
            "min_height": null,
            "min_width": null,
            "object_fit": null,
            "object_position": null,
            "order": null,
            "overflow": null,
            "overflow_x": null,
            "overflow_y": null,
            "padding": null,
            "right": null,
            "top": null,
            "visibility": null,
            "width": null
          }
        },
        "a965c6a74a4d4a17bef4ab2e036abaff": {
          "model_module": "@jupyter-widgets/controls",
          "model_name": "ButtonStyleModel",
          "model_module_version": "1.5.0",
          "state": {
            "_model_module": "@jupyter-widgets/controls",
            "_model_module_version": "1.5.0",
            "_model_name": "ButtonStyleModel",
            "_view_count": null,
            "_view_module": "@jupyter-widgets/base",
            "_view_module_version": "1.2.0",
            "_view_name": "StyleView",
            "button_color": null,
            "font_weight": ""
          }
        },
        "913b9c9d13394149a5ac2b25714e53ca": {
          "model_module": "@jupyter-widgets/base",
          "model_name": "LayoutModel",
          "model_module_version": "1.2.0",
          "state": {
            "_model_module": "@jupyter-widgets/base",
            "_model_module_version": "1.2.0",
            "_model_name": "LayoutModel",
            "_view_count": null,
            "_view_module": "@jupyter-widgets/base",
            "_view_module_version": "1.2.0",
            "_view_name": "LayoutView",
            "align_content": null,
            "align_items": null,
            "align_self": null,
            "border": null,
            "bottom": null,
            "display": null,
            "flex": null,
            "flex_flow": null,
            "grid_area": null,
            "grid_auto_columns": null,
            "grid_auto_flow": null,
            "grid_auto_rows": null,
            "grid_column": null,
            "grid_gap": null,
            "grid_row": null,
            "grid_template_areas": null,
            "grid_template_columns": null,
            "grid_template_rows": null,
            "height": null,
            "justify_content": null,
            "justify_items": null,
            "left": null,
            "margin": null,
            "max_height": null,
            "max_width": null,
            "min_height": null,
            "min_width": null,
            "object_fit": null,
            "object_position": null,
            "order": null,
            "overflow": null,
            "overflow_x": null,
            "overflow_y": null,
            "padding": null,
            "right": null,
            "top": null,
            "visibility": null,
            "width": null
          }
        },
        "2792bfde7dec44b7863fb34dcfd76003": {
          "model_module": "@jupyter-widgets/controls",
          "model_name": "DescriptionStyleModel",
          "model_module_version": "1.5.0",
          "state": {
            "_model_module": "@jupyter-widgets/controls",
            "_model_module_version": "1.5.0",
            "_model_name": "DescriptionStyleModel",
            "_view_count": null,
            "_view_module": "@jupyter-widgets/base",
            "_view_module_version": "1.2.0",
            "_view_name": "StyleView",
            "description_width": ""
          }
        },
        "691c9c940faa4d1c8458cd69d4a6314a": {
          "model_module": "@jupyter-widgets/controls",
          "model_name": "LabelModel",
          "model_module_version": "1.5.0",
          "state": {
            "_dom_classes": [],
            "_model_module": "@jupyter-widgets/controls",
            "_model_module_version": "1.5.0",
            "_model_name": "LabelModel",
            "_view_count": null,
            "_view_module": "@jupyter-widgets/controls",
            "_view_module_version": "1.5.0",
            "_view_name": "LabelView",
            "description": "",
            "description_tooltip": null,
            "layout": "IPY_MODEL_dbc54c1695d149c6ae11fbe20f8652df",
            "placeholder": "​",
            "style": "IPY_MODEL_67c06224c2ab4d299279893dfd9f50c9",
            "value": "Connecting..."
          }
        },
        "dbc54c1695d149c6ae11fbe20f8652df": {
          "model_module": "@jupyter-widgets/base",
          "model_name": "LayoutModel",
          "model_module_version": "1.2.0",
          "state": {
            "_model_module": "@jupyter-widgets/base",
            "_model_module_version": "1.2.0",
            "_model_name": "LayoutModel",
            "_view_count": null,
            "_view_module": "@jupyter-widgets/base",
            "_view_module_version": "1.2.0",
            "_view_name": "LayoutView",
            "align_content": null,
            "align_items": null,
            "align_self": null,
            "border": null,
            "bottom": null,
            "display": null,
            "flex": null,
            "flex_flow": null,
            "grid_area": null,
            "grid_auto_columns": null,
            "grid_auto_flow": null,
            "grid_auto_rows": null,
            "grid_column": null,
            "grid_gap": null,
            "grid_row": null,
            "grid_template_areas": null,
            "grid_template_columns": null,
            "grid_template_rows": null,
            "height": null,
            "justify_content": null,
            "justify_items": null,
            "left": null,
            "margin": null,
            "max_height": null,
            "max_width": null,
            "min_height": null,
            "min_width": null,
            "object_fit": null,
            "object_position": null,
            "order": null,
            "overflow": null,
            "overflow_x": null,
            "overflow_y": null,
            "padding": null,
            "right": null,
            "top": null,
            "visibility": null,
            "width": null
          }
        },
        "67c06224c2ab4d299279893dfd9f50c9": {
          "model_module": "@jupyter-widgets/controls",
          "model_name": "DescriptionStyleModel",
          "model_module_version": "1.5.0",
          "state": {
            "_model_module": "@jupyter-widgets/controls",
            "_model_module_version": "1.5.0",
            "_model_name": "DescriptionStyleModel",
            "_view_count": null,
            "_view_module": "@jupyter-widgets/base",
            "_view_module_version": "1.2.0",
            "_view_name": "StyleView",
            "description_width": ""
          }
        },
        "4bcce309087643a1982cbf898736e842": {
          "model_module": "@jupyter-widgets/controls",
          "model_name": "LabelModel",
          "model_module_version": "1.5.0",
          "state": {
            "_dom_classes": [],
            "_model_module": "@jupyter-widgets/controls",
            "_model_module_version": "1.5.0",
            "_model_name": "LabelModel",
            "_view_count": null,
            "_view_module": "@jupyter-widgets/controls",
            "_view_module_version": "1.5.0",
            "_view_name": "LabelView",
            "description": "",
            "description_tooltip": null,
            "layout": "IPY_MODEL_f12dfb7c74124ddb8c5339756ed5d14c",
            "placeholder": "​",
            "style": "IPY_MODEL_0d65dee0591c421eaade75278e889de4",
            "value": "Token is valid (permission: write)."
          }
        },
        "4a82c737e0984deb9e3bffe62e94d60b": {
          "model_module": "@jupyter-widgets/controls",
          "model_name": "LabelModel",
          "model_module_version": "1.5.0",
          "state": {
            "_dom_classes": [],
            "_model_module": "@jupyter-widgets/controls",
            "_model_module_version": "1.5.0",
            "_model_name": "LabelModel",
            "_view_count": null,
            "_view_module": "@jupyter-widgets/controls",
            "_view_module_version": "1.5.0",
            "_view_name": "LabelView",
            "description": "",
            "description_tooltip": null,
            "layout": "IPY_MODEL_f19dfe5c1b2848de96a3d3601916cc7c",
            "placeholder": "​",
            "style": "IPY_MODEL_6dc937b73756450daec9b3c59e8332b1",
            "value": "Your token has been saved in your configured git credential helpers (store)."
          }
        },
        "6d2d1b203e3344d88f5134441ec1b567": {
          "model_module": "@jupyter-widgets/controls",
          "model_name": "LabelModel",
          "model_module_version": "1.5.0",
          "state": {
            "_dom_classes": [],
            "_model_module": "@jupyter-widgets/controls",
            "_model_module_version": "1.5.0",
            "_model_name": "LabelModel",
            "_view_count": null,
            "_view_module": "@jupyter-widgets/controls",
            "_view_module_version": "1.5.0",
            "_view_name": "LabelView",
            "description": "",
            "description_tooltip": null,
            "layout": "IPY_MODEL_754e0c2a4ecb4de895df76e10cde16ef",
            "placeholder": "​",
            "style": "IPY_MODEL_1c408b269a914663bd8c6c00d3b0ed4a",
            "value": "Your token has been saved to /root/.cache/huggingface/token"
          }
        },
        "1d1efa33832e45c98a2c7bcb5e1164eb": {
          "model_module": "@jupyter-widgets/controls",
          "model_name": "LabelModel",
          "model_module_version": "1.5.0",
          "state": {
            "_dom_classes": [],
            "_model_module": "@jupyter-widgets/controls",
            "_model_module_version": "1.5.0",
            "_model_name": "LabelModel",
            "_view_count": null,
            "_view_module": "@jupyter-widgets/controls",
            "_view_module_version": "1.5.0",
            "_view_name": "LabelView",
            "description": "",
            "description_tooltip": null,
            "layout": "IPY_MODEL_64d2d28c8d294e518d75900b5193cbab",
            "placeholder": "​",
            "style": "IPY_MODEL_0587c605a85b4502936fd1fec25630a7",
            "value": "Login successful"
          }
        },
        "f12dfb7c74124ddb8c5339756ed5d14c": {
          "model_module": "@jupyter-widgets/base",
          "model_name": "LayoutModel",
          "model_module_version": "1.2.0",
          "state": {
            "_model_module": "@jupyter-widgets/base",
            "_model_module_version": "1.2.0",
            "_model_name": "LayoutModel",
            "_view_count": null,
            "_view_module": "@jupyter-widgets/base",
            "_view_module_version": "1.2.0",
            "_view_name": "LayoutView",
            "align_content": null,
            "align_items": null,
            "align_self": null,
            "border": null,
            "bottom": null,
            "display": null,
            "flex": null,
            "flex_flow": null,
            "grid_area": null,
            "grid_auto_columns": null,
            "grid_auto_flow": null,
            "grid_auto_rows": null,
            "grid_column": null,
            "grid_gap": null,
            "grid_row": null,
            "grid_template_areas": null,
            "grid_template_columns": null,
            "grid_template_rows": null,
            "height": null,
            "justify_content": null,
            "justify_items": null,
            "left": null,
            "margin": null,
            "max_height": null,
            "max_width": null,
            "min_height": null,
            "min_width": null,
            "object_fit": null,
            "object_position": null,
            "order": null,
            "overflow": null,
            "overflow_x": null,
            "overflow_y": null,
            "padding": null,
            "right": null,
            "top": null,
            "visibility": null,
            "width": null
          }
        },
        "0d65dee0591c421eaade75278e889de4": {
          "model_module": "@jupyter-widgets/controls",
          "model_name": "DescriptionStyleModel",
          "model_module_version": "1.5.0",
          "state": {
            "_model_module": "@jupyter-widgets/controls",
            "_model_module_version": "1.5.0",
            "_model_name": "DescriptionStyleModel",
            "_view_count": null,
            "_view_module": "@jupyter-widgets/base",
            "_view_module_version": "1.2.0",
            "_view_name": "StyleView",
            "description_width": ""
          }
        },
        "f19dfe5c1b2848de96a3d3601916cc7c": {
          "model_module": "@jupyter-widgets/base",
          "model_name": "LayoutModel",
          "model_module_version": "1.2.0",
          "state": {
            "_model_module": "@jupyter-widgets/base",
            "_model_module_version": "1.2.0",
            "_model_name": "LayoutModel",
            "_view_count": null,
            "_view_module": "@jupyter-widgets/base",
            "_view_module_version": "1.2.0",
            "_view_name": "LayoutView",
            "align_content": null,
            "align_items": null,
            "align_self": null,
            "border": null,
            "bottom": null,
            "display": null,
            "flex": null,
            "flex_flow": null,
            "grid_area": null,
            "grid_auto_columns": null,
            "grid_auto_flow": null,
            "grid_auto_rows": null,
            "grid_column": null,
            "grid_gap": null,
            "grid_row": null,
            "grid_template_areas": null,
            "grid_template_columns": null,
            "grid_template_rows": null,
            "height": null,
            "justify_content": null,
            "justify_items": null,
            "left": null,
            "margin": null,
            "max_height": null,
            "max_width": null,
            "min_height": null,
            "min_width": null,
            "object_fit": null,
            "object_position": null,
            "order": null,
            "overflow": null,
            "overflow_x": null,
            "overflow_y": null,
            "padding": null,
            "right": null,
            "top": null,
            "visibility": null,
            "width": null
          }
        },
        "6dc937b73756450daec9b3c59e8332b1": {
          "model_module": "@jupyter-widgets/controls",
          "model_name": "DescriptionStyleModel",
          "model_module_version": "1.5.0",
          "state": {
            "_model_module": "@jupyter-widgets/controls",
            "_model_module_version": "1.5.0",
            "_model_name": "DescriptionStyleModel",
            "_view_count": null,
            "_view_module": "@jupyter-widgets/base",
            "_view_module_version": "1.2.0",
            "_view_name": "StyleView",
            "description_width": ""
          }
        },
        "754e0c2a4ecb4de895df76e10cde16ef": {
          "model_module": "@jupyter-widgets/base",
          "model_name": "LayoutModel",
          "model_module_version": "1.2.0",
          "state": {
            "_model_module": "@jupyter-widgets/base",
            "_model_module_version": "1.2.0",
            "_model_name": "LayoutModel",
            "_view_count": null,
            "_view_module": "@jupyter-widgets/base",
            "_view_module_version": "1.2.0",
            "_view_name": "LayoutView",
            "align_content": null,
            "align_items": null,
            "align_self": null,
            "border": null,
            "bottom": null,
            "display": null,
            "flex": null,
            "flex_flow": null,
            "grid_area": null,
            "grid_auto_columns": null,
            "grid_auto_flow": null,
            "grid_auto_rows": null,
            "grid_column": null,
            "grid_gap": null,
            "grid_row": null,
            "grid_template_areas": null,
            "grid_template_columns": null,
            "grid_template_rows": null,
            "height": null,
            "justify_content": null,
            "justify_items": null,
            "left": null,
            "margin": null,
            "max_height": null,
            "max_width": null,
            "min_height": null,
            "min_width": null,
            "object_fit": null,
            "object_position": null,
            "order": null,
            "overflow": null,
            "overflow_x": null,
            "overflow_y": null,
            "padding": null,
            "right": null,
            "top": null,
            "visibility": null,
            "width": null
          }
        },
        "1c408b269a914663bd8c6c00d3b0ed4a": {
          "model_module": "@jupyter-widgets/controls",
          "model_name": "DescriptionStyleModel",
          "model_module_version": "1.5.0",
          "state": {
            "_model_module": "@jupyter-widgets/controls",
            "_model_module_version": "1.5.0",
            "_model_name": "DescriptionStyleModel",
            "_view_count": null,
            "_view_module": "@jupyter-widgets/base",
            "_view_module_version": "1.2.0",
            "_view_name": "StyleView",
            "description_width": ""
          }
        },
        "64d2d28c8d294e518d75900b5193cbab": {
          "model_module": "@jupyter-widgets/base",
          "model_name": "LayoutModel",
          "model_module_version": "1.2.0",
          "state": {
            "_model_module": "@jupyter-widgets/base",
            "_model_module_version": "1.2.0",
            "_model_name": "LayoutModel",
            "_view_count": null,
            "_view_module": "@jupyter-widgets/base",
            "_view_module_version": "1.2.0",
            "_view_name": "LayoutView",
            "align_content": null,
            "align_items": null,
            "align_self": null,
            "border": null,
            "bottom": null,
            "display": null,
            "flex": null,
            "flex_flow": null,
            "grid_area": null,
            "grid_auto_columns": null,
            "grid_auto_flow": null,
            "grid_auto_rows": null,
            "grid_column": null,
            "grid_gap": null,
            "grid_row": null,
            "grid_template_areas": null,
            "grid_template_columns": null,
            "grid_template_rows": null,
            "height": null,
            "justify_content": null,
            "justify_items": null,
            "left": null,
            "margin": null,
            "max_height": null,
            "max_width": null,
            "min_height": null,
            "min_width": null,
            "object_fit": null,
            "object_position": null,
            "order": null,
            "overflow": null,
            "overflow_x": null,
            "overflow_y": null,
            "padding": null,
            "right": null,
            "top": null,
            "visibility": null,
            "width": null
          }
        },
        "0587c605a85b4502936fd1fec25630a7": {
          "model_module": "@jupyter-widgets/controls",
          "model_name": "DescriptionStyleModel",
          "model_module_version": "1.5.0",
          "state": {
            "_model_module": "@jupyter-widgets/controls",
            "_model_module_version": "1.5.0",
            "_model_name": "DescriptionStyleModel",
            "_view_count": null,
            "_view_module": "@jupyter-widgets/base",
            "_view_module_version": "1.2.0",
            "_view_name": "StyleView",
            "description_width": ""
          }
        },
        "8c6d30bc5ada4f6a989ec5cd06a152a3": {
          "model_module": "@jupyter-widgets/controls",
          "model_name": "HBoxModel",
          "model_module_version": "1.5.0",
          "state": {
            "_dom_classes": [],
            "_model_module": "@jupyter-widgets/controls",
            "_model_module_version": "1.5.0",
            "_model_name": "HBoxModel",
            "_view_count": null,
            "_view_module": "@jupyter-widgets/controls",
            "_view_module_version": "1.5.0",
            "_view_name": "HBoxView",
            "box_style": "",
            "children": [
              "IPY_MODEL_8cdda61684e34019af451e5e8d0aba5d",
              "IPY_MODEL_67b07c3edb5a41e7adf557a320cd594f",
              "IPY_MODEL_f5dc0ad331fa4d7f80d8b608b60c9e44"
            ],
            "layout": "IPY_MODEL_f36e66d04b7c48709ae886e78601eaf0"
          }
        },
        "8cdda61684e34019af451e5e8d0aba5d": {
          "model_module": "@jupyter-widgets/controls",
          "model_name": "HTMLModel",
          "model_module_version": "1.5.0",
          "state": {
            "_dom_classes": [],
            "_model_module": "@jupyter-widgets/controls",
            "_model_module_version": "1.5.0",
            "_model_name": "HTMLModel",
            "_view_count": null,
            "_view_module": "@jupyter-widgets/controls",
            "_view_module_version": "1.5.0",
            "_view_name": "HTMLView",
            "description": "",
            "description_tooltip": null,
            "layout": "IPY_MODEL_f0e2ae53f45d4f61a28092303f8c2368",
            "placeholder": "​",
            "style": "IPY_MODEL_ff486779d1754ada97cd7ceb16389967",
            "value": "Upload 2 LFS files: 100%"
          }
        },
        "67b07c3edb5a41e7adf557a320cd594f": {
          "model_module": "@jupyter-widgets/controls",
          "model_name": "FloatProgressModel",
          "model_module_version": "1.5.0",
          "state": {
            "_dom_classes": [],
            "_model_module": "@jupyter-widgets/controls",
            "_model_module_version": "1.5.0",
            "_model_name": "FloatProgressModel",
            "_view_count": null,
            "_view_module": "@jupyter-widgets/controls",
            "_view_module_version": "1.5.0",
            "_view_name": "ProgressView",
            "bar_style": "success",
            "description": "",
            "description_tooltip": null,
            "layout": "IPY_MODEL_3eed6282686743aa88d26c7415670198",
            "max": 2,
            "min": 0,
            "orientation": "horizontal",
            "style": "IPY_MODEL_927c65b5f12340afb35c073a25854efb",
            "value": 2
          }
        },
        "f5dc0ad331fa4d7f80d8b608b60c9e44": {
          "model_module": "@jupyter-widgets/controls",
          "model_name": "HTMLModel",
          "model_module_version": "1.5.0",
          "state": {
            "_dom_classes": [],
            "_model_module": "@jupyter-widgets/controls",
            "_model_module_version": "1.5.0",
            "_model_name": "HTMLModel",
            "_view_count": null,
            "_view_module": "@jupyter-widgets/controls",
            "_view_module_version": "1.5.0",
            "_view_name": "HTMLView",
            "description": "",
            "description_tooltip": null,
            "layout": "IPY_MODEL_18b620a0db8e43db8674d0b7899ea788",
            "placeholder": "​",
            "style": "IPY_MODEL_ab566bdbbd564393a5355afb61470a2a",
            "value": " 2/2 [00:00&lt;00:00,  2.41it/s]"
          }
        },
        "f36e66d04b7c48709ae886e78601eaf0": {
          "model_module": "@jupyter-widgets/base",
          "model_name": "LayoutModel",
          "model_module_version": "1.2.0",
          "state": {
            "_model_module": "@jupyter-widgets/base",
            "_model_module_version": "1.2.0",
            "_model_name": "LayoutModel",
            "_view_count": null,
            "_view_module": "@jupyter-widgets/base",
            "_view_module_version": "1.2.0",
            "_view_name": "LayoutView",
            "align_content": null,
            "align_items": null,
            "align_self": null,
            "border": null,
            "bottom": null,
            "display": null,
            "flex": null,
            "flex_flow": null,
            "grid_area": null,
            "grid_auto_columns": null,
            "grid_auto_flow": null,
            "grid_auto_rows": null,
            "grid_column": null,
            "grid_gap": null,
            "grid_row": null,
            "grid_template_areas": null,
            "grid_template_columns": null,
            "grid_template_rows": null,
            "height": null,
            "justify_content": null,
            "justify_items": null,
            "left": null,
            "margin": null,
            "max_height": null,
            "max_width": null,
            "min_height": null,
            "min_width": null,
            "object_fit": null,
            "object_position": null,
            "order": null,
            "overflow": null,
            "overflow_x": null,
            "overflow_y": null,
            "padding": null,
            "right": null,
            "top": null,
            "visibility": null,
            "width": null
          }
        },
        "f0e2ae53f45d4f61a28092303f8c2368": {
          "model_module": "@jupyter-widgets/base",
          "model_name": "LayoutModel",
          "model_module_version": "1.2.0",
          "state": {
            "_model_module": "@jupyter-widgets/base",
            "_model_module_version": "1.2.0",
            "_model_name": "LayoutModel",
            "_view_count": null,
            "_view_module": "@jupyter-widgets/base",
            "_view_module_version": "1.2.0",
            "_view_name": "LayoutView",
            "align_content": null,
            "align_items": null,
            "align_self": null,
            "border": null,
            "bottom": null,
            "display": null,
            "flex": null,
            "flex_flow": null,
            "grid_area": null,
            "grid_auto_columns": null,
            "grid_auto_flow": null,
            "grid_auto_rows": null,
            "grid_column": null,
            "grid_gap": null,
            "grid_row": null,
            "grid_template_areas": null,
            "grid_template_columns": null,
            "grid_template_rows": null,
            "height": null,
            "justify_content": null,
            "justify_items": null,
            "left": null,
            "margin": null,
            "max_height": null,
            "max_width": null,
            "min_height": null,
            "min_width": null,
            "object_fit": null,
            "object_position": null,
            "order": null,
            "overflow": null,
            "overflow_x": null,
            "overflow_y": null,
            "padding": null,
            "right": null,
            "top": null,
            "visibility": null,
            "width": null
          }
        },
        "ff486779d1754ada97cd7ceb16389967": {
          "model_module": "@jupyter-widgets/controls",
          "model_name": "DescriptionStyleModel",
          "model_module_version": "1.5.0",
          "state": {
            "_model_module": "@jupyter-widgets/controls",
            "_model_module_version": "1.5.0",
            "_model_name": "DescriptionStyleModel",
            "_view_count": null,
            "_view_module": "@jupyter-widgets/base",
            "_view_module_version": "1.2.0",
            "_view_name": "StyleView",
            "description_width": ""
          }
        },
        "3eed6282686743aa88d26c7415670198": {
          "model_module": "@jupyter-widgets/base",
          "model_name": "LayoutModel",
          "model_module_version": "1.2.0",
          "state": {
            "_model_module": "@jupyter-widgets/base",
            "_model_module_version": "1.2.0",
            "_model_name": "LayoutModel",
            "_view_count": null,
            "_view_module": "@jupyter-widgets/base",
            "_view_module_version": "1.2.0",
            "_view_name": "LayoutView",
            "align_content": null,
            "align_items": null,
            "align_self": null,
            "border": null,
            "bottom": null,
            "display": null,
            "flex": null,
            "flex_flow": null,
            "grid_area": null,
            "grid_auto_columns": null,
            "grid_auto_flow": null,
            "grid_auto_rows": null,
            "grid_column": null,
            "grid_gap": null,
            "grid_row": null,
            "grid_template_areas": null,
            "grid_template_columns": null,
            "grid_template_rows": null,
            "height": null,
            "justify_content": null,
            "justify_items": null,
            "left": null,
            "margin": null,
            "max_height": null,
            "max_width": null,
            "min_height": null,
            "min_width": null,
            "object_fit": null,
            "object_position": null,
            "order": null,
            "overflow": null,
            "overflow_x": null,
            "overflow_y": null,
            "padding": null,
            "right": null,
            "top": null,
            "visibility": null,
            "width": null
          }
        },
        "927c65b5f12340afb35c073a25854efb": {
          "model_module": "@jupyter-widgets/controls",
          "model_name": "ProgressStyleModel",
          "model_module_version": "1.5.0",
          "state": {
            "_model_module": "@jupyter-widgets/controls",
            "_model_module_version": "1.5.0",
            "_model_name": "ProgressStyleModel",
            "_view_count": null,
            "_view_module": "@jupyter-widgets/base",
            "_view_module_version": "1.2.0",
            "_view_name": "StyleView",
            "bar_color": null,
            "description_width": ""
          }
        },
        "18b620a0db8e43db8674d0b7899ea788": {
          "model_module": "@jupyter-widgets/base",
          "model_name": "LayoutModel",
          "model_module_version": "1.2.0",
          "state": {
            "_model_module": "@jupyter-widgets/base",
            "_model_module_version": "1.2.0",
            "_model_name": "LayoutModel",
            "_view_count": null,
            "_view_module": "@jupyter-widgets/base",
            "_view_module_version": "1.2.0",
            "_view_name": "LayoutView",
            "align_content": null,
            "align_items": null,
            "align_self": null,
            "border": null,
            "bottom": null,
            "display": null,
            "flex": null,
            "flex_flow": null,
            "grid_area": null,
            "grid_auto_columns": null,
            "grid_auto_flow": null,
            "grid_auto_rows": null,
            "grid_column": null,
            "grid_gap": null,
            "grid_row": null,
            "grid_template_areas": null,
            "grid_template_columns": null,
            "grid_template_rows": null,
            "height": null,
            "justify_content": null,
            "justify_items": null,
            "left": null,
            "margin": null,
            "max_height": null,
            "max_width": null,
            "min_height": null,
            "min_width": null,
            "object_fit": null,
            "object_position": null,
            "order": null,
            "overflow": null,
            "overflow_x": null,
            "overflow_y": null,
            "padding": null,
            "right": null,
            "top": null,
            "visibility": null,
            "width": null
          }
        },
        "ab566bdbbd564393a5355afb61470a2a": {
          "model_module": "@jupyter-widgets/controls",
          "model_name": "DescriptionStyleModel",
          "model_module_version": "1.5.0",
          "state": {
            "_model_module": "@jupyter-widgets/controls",
            "_model_module_version": "1.5.0",
            "_model_name": "DescriptionStyleModel",
            "_view_count": null,
            "_view_module": "@jupyter-widgets/base",
            "_view_module_version": "1.2.0",
            "_view_name": "StyleView",
            "description_width": ""
          }
        },
        "391f473a1d3e4e2fbb95a89015e5f7bf": {
          "model_module": "@jupyter-widgets/controls",
          "model_name": "HBoxModel",
          "model_module_version": "1.5.0",
          "state": {
            "_dom_classes": [],
            "_model_module": "@jupyter-widgets/controls",
            "_model_module_version": "1.5.0",
            "_model_name": "HBoxModel",
            "_view_count": null,
            "_view_module": "@jupyter-widgets/controls",
            "_view_module_version": "1.5.0",
            "_view_name": "HBoxView",
            "box_style": "",
            "children": [
              "IPY_MODEL_de95f370a2644d79a1b18692393daed9",
              "IPY_MODEL_fd7a614d07bd4c629f419965961730f8",
              "IPY_MODEL_0e4046a1ee004d09a5de6fe25359df9e"
            ],
            "layout": "IPY_MODEL_8d9c72cd5fba4b359595f609918dd618"
          }
        },
        "de95f370a2644d79a1b18692393daed9": {
          "model_module": "@jupyter-widgets/controls",
          "model_name": "HTMLModel",
          "model_module_version": "1.5.0",
          "state": {
            "_dom_classes": [],
            "_model_module": "@jupyter-widgets/controls",
            "_model_module_version": "1.5.0",
            "_model_name": "HTMLModel",
            "_view_count": null,
            "_view_module": "@jupyter-widgets/controls",
            "_view_module_version": "1.5.0",
            "_view_name": "HTMLView",
            "description": "",
            "description_tooltip": null,
            "layout": "IPY_MODEL_c32973a22ccd4f6bb4e54a47a1171065",
            "placeholder": "​",
            "style": "IPY_MODEL_fca263ee57744f4d8d451715904d9790",
            "value": "dqn-LunarLander-v2.zip: 100%"
          }
        },
        "fd7a614d07bd4c629f419965961730f8": {
          "model_module": "@jupyter-widgets/controls",
          "model_name": "FloatProgressModel",
          "model_module_version": "1.5.0",
          "state": {
            "_dom_classes": [],
            "_model_module": "@jupyter-widgets/controls",
            "_model_module_version": "1.5.0",
            "_model_name": "FloatProgressModel",
            "_view_count": null,
            "_view_module": "@jupyter-widgets/controls",
            "_view_module_version": "1.5.0",
            "_view_name": "ProgressView",
            "bar_style": "success",
            "description": "",
            "description_tooltip": null,
            "layout": "IPY_MODEL_7688f0b367484ab8b3e4e7359a5642d5",
            "max": 105421,
            "min": 0,
            "orientation": "horizontal",
            "style": "IPY_MODEL_06ada10b2c264218896da24f6857fecc",
            "value": 105421
          }
        },
        "0e4046a1ee004d09a5de6fe25359df9e": {
          "model_module": "@jupyter-widgets/controls",
          "model_name": "HTMLModel",
          "model_module_version": "1.5.0",
          "state": {
            "_dom_classes": [],
            "_model_module": "@jupyter-widgets/controls",
            "_model_module_version": "1.5.0",
            "_model_name": "HTMLModel",
            "_view_count": null,
            "_view_module": "@jupyter-widgets/controls",
            "_view_module_version": "1.5.0",
            "_view_name": "HTMLView",
            "description": "",
            "description_tooltip": null,
            "layout": "IPY_MODEL_4e7672f426674a32adcd749b24d45c6d",
            "placeholder": "​",
            "style": "IPY_MODEL_065fa85413064f60a8a28894ec3fa759",
            "value": " 105k/105k [00:00&lt;00:00, 473kB/s]"
          }
        },
        "8d9c72cd5fba4b359595f609918dd618": {
          "model_module": "@jupyter-widgets/base",
          "model_name": "LayoutModel",
          "model_module_version": "1.2.0",
          "state": {
            "_model_module": "@jupyter-widgets/base",
            "_model_module_version": "1.2.0",
            "_model_name": "LayoutModel",
            "_view_count": null,
            "_view_module": "@jupyter-widgets/base",
            "_view_module_version": "1.2.0",
            "_view_name": "LayoutView",
            "align_content": null,
            "align_items": null,
            "align_self": null,
            "border": null,
            "bottom": null,
            "display": null,
            "flex": null,
            "flex_flow": null,
            "grid_area": null,
            "grid_auto_columns": null,
            "grid_auto_flow": null,
            "grid_auto_rows": null,
            "grid_column": null,
            "grid_gap": null,
            "grid_row": null,
            "grid_template_areas": null,
            "grid_template_columns": null,
            "grid_template_rows": null,
            "height": null,
            "justify_content": null,
            "justify_items": null,
            "left": null,
            "margin": null,
            "max_height": null,
            "max_width": null,
            "min_height": null,
            "min_width": null,
            "object_fit": null,
            "object_position": null,
            "order": null,
            "overflow": null,
            "overflow_x": null,
            "overflow_y": null,
            "padding": null,
            "right": null,
            "top": null,
            "visibility": null,
            "width": null
          }
        },
        "c32973a22ccd4f6bb4e54a47a1171065": {
          "model_module": "@jupyter-widgets/base",
          "model_name": "LayoutModel",
          "model_module_version": "1.2.0",
          "state": {
            "_model_module": "@jupyter-widgets/base",
            "_model_module_version": "1.2.0",
            "_model_name": "LayoutModel",
            "_view_count": null,
            "_view_module": "@jupyter-widgets/base",
            "_view_module_version": "1.2.0",
            "_view_name": "LayoutView",
            "align_content": null,
            "align_items": null,
            "align_self": null,
            "border": null,
            "bottom": null,
            "display": null,
            "flex": null,
            "flex_flow": null,
            "grid_area": null,
            "grid_auto_columns": null,
            "grid_auto_flow": null,
            "grid_auto_rows": null,
            "grid_column": null,
            "grid_gap": null,
            "grid_row": null,
            "grid_template_areas": null,
            "grid_template_columns": null,
            "grid_template_rows": null,
            "height": null,
            "justify_content": null,
            "justify_items": null,
            "left": null,
            "margin": null,
            "max_height": null,
            "max_width": null,
            "min_height": null,
            "min_width": null,
            "object_fit": null,
            "object_position": null,
            "order": null,
            "overflow": null,
            "overflow_x": null,
            "overflow_y": null,
            "padding": null,
            "right": null,
            "top": null,
            "visibility": null,
            "width": null
          }
        },
        "fca263ee57744f4d8d451715904d9790": {
          "model_module": "@jupyter-widgets/controls",
          "model_name": "DescriptionStyleModel",
          "model_module_version": "1.5.0",
          "state": {
            "_model_module": "@jupyter-widgets/controls",
            "_model_module_version": "1.5.0",
            "_model_name": "DescriptionStyleModel",
            "_view_count": null,
            "_view_module": "@jupyter-widgets/base",
            "_view_module_version": "1.2.0",
            "_view_name": "StyleView",
            "description_width": ""
          }
        },
        "7688f0b367484ab8b3e4e7359a5642d5": {
          "model_module": "@jupyter-widgets/base",
          "model_name": "LayoutModel",
          "model_module_version": "1.2.0",
          "state": {
            "_model_module": "@jupyter-widgets/base",
            "_model_module_version": "1.2.0",
            "_model_name": "LayoutModel",
            "_view_count": null,
            "_view_module": "@jupyter-widgets/base",
            "_view_module_version": "1.2.0",
            "_view_name": "LayoutView",
            "align_content": null,
            "align_items": null,
            "align_self": null,
            "border": null,
            "bottom": null,
            "display": null,
            "flex": null,
            "flex_flow": null,
            "grid_area": null,
            "grid_auto_columns": null,
            "grid_auto_flow": null,
            "grid_auto_rows": null,
            "grid_column": null,
            "grid_gap": null,
            "grid_row": null,
            "grid_template_areas": null,
            "grid_template_columns": null,
            "grid_template_rows": null,
            "height": null,
            "justify_content": null,
            "justify_items": null,
            "left": null,
            "margin": null,
            "max_height": null,
            "max_width": null,
            "min_height": null,
            "min_width": null,
            "object_fit": null,
            "object_position": null,
            "order": null,
            "overflow": null,
            "overflow_x": null,
            "overflow_y": null,
            "padding": null,
            "right": null,
            "top": null,
            "visibility": null,
            "width": null
          }
        },
        "06ada10b2c264218896da24f6857fecc": {
          "model_module": "@jupyter-widgets/controls",
          "model_name": "ProgressStyleModel",
          "model_module_version": "1.5.0",
          "state": {
            "_model_module": "@jupyter-widgets/controls",
            "_model_module_version": "1.5.0",
            "_model_name": "ProgressStyleModel",
            "_view_count": null,
            "_view_module": "@jupyter-widgets/base",
            "_view_module_version": "1.2.0",
            "_view_name": "StyleView",
            "bar_color": null,
            "description_width": ""
          }
        },
        "4e7672f426674a32adcd749b24d45c6d": {
          "model_module": "@jupyter-widgets/base",
          "model_name": "LayoutModel",
          "model_module_version": "1.2.0",
          "state": {
            "_model_module": "@jupyter-widgets/base",
            "_model_module_version": "1.2.0",
            "_model_name": "LayoutModel",
            "_view_count": null,
            "_view_module": "@jupyter-widgets/base",
            "_view_module_version": "1.2.0",
            "_view_name": "LayoutView",
            "align_content": null,
            "align_items": null,
            "align_self": null,
            "border": null,
            "bottom": null,
            "display": null,
            "flex": null,
            "flex_flow": null,
            "grid_area": null,
            "grid_auto_columns": null,
            "grid_auto_flow": null,
            "grid_auto_rows": null,
            "grid_column": null,
            "grid_gap": null,
            "grid_row": null,
            "grid_template_areas": null,
            "grid_template_columns": null,
            "grid_template_rows": null,
            "height": null,
            "justify_content": null,
            "justify_items": null,
            "left": null,
            "margin": null,
            "max_height": null,
            "max_width": null,
            "min_height": null,
            "min_width": null,
            "object_fit": null,
            "object_position": null,
            "order": null,
            "overflow": null,
            "overflow_x": null,
            "overflow_y": null,
            "padding": null,
            "right": null,
            "top": null,
            "visibility": null,
            "width": null
          }
        },
        "065fa85413064f60a8a28894ec3fa759": {
          "model_module": "@jupyter-widgets/controls",
          "model_name": "DescriptionStyleModel",
          "model_module_version": "1.5.0",
          "state": {
            "_model_module": "@jupyter-widgets/controls",
            "_model_module_version": "1.5.0",
            "_model_name": "DescriptionStyleModel",
            "_view_count": null,
            "_view_module": "@jupyter-widgets/base",
            "_view_module_version": "1.2.0",
            "_view_name": "StyleView",
            "description_width": ""
          }
        },
        "97a1ba6ceea74b89b6a482d629d8881c": {
          "model_module": "@jupyter-widgets/controls",
          "model_name": "HBoxModel",
          "model_module_version": "1.5.0",
          "state": {
            "_dom_classes": [],
            "_model_module": "@jupyter-widgets/controls",
            "_model_module_version": "1.5.0",
            "_model_name": "HBoxModel",
            "_view_count": null,
            "_view_module": "@jupyter-widgets/controls",
            "_view_module_version": "1.5.0",
            "_view_name": "HBoxView",
            "box_style": "",
            "children": [
              "IPY_MODEL_35560bdfb97343759e8b194f343e7377",
              "IPY_MODEL_e253b23702bb498ca25ce8d54a33e795",
              "IPY_MODEL_311ee09963c646f8866fed7251954c10"
            ],
            "layout": "IPY_MODEL_e0d645e8ccd3452481e7676bf34b06f1"
          }
        },
        "35560bdfb97343759e8b194f343e7377": {
          "model_module": "@jupyter-widgets/controls",
          "model_name": "HTMLModel",
          "model_module_version": "1.5.0",
          "state": {
            "_dom_classes": [],
            "_model_module": "@jupyter-widgets/controls",
            "_model_module_version": "1.5.0",
            "_model_name": "HTMLModel",
            "_view_count": null,
            "_view_module": "@jupyter-widgets/controls",
            "_view_module_version": "1.5.0",
            "_view_name": "HTMLView",
            "description": "",
            "description_tooltip": null,
            "layout": "IPY_MODEL_415cbfa6c36d46bc9f269e760c03acb1",
            "placeholder": "​",
            "style": "IPY_MODEL_3e85b50b62244209af90462431fc32d8",
            "value": "replay.mp4: 100%"
          }
        },
        "e253b23702bb498ca25ce8d54a33e795": {
          "model_module": "@jupyter-widgets/controls",
          "model_name": "FloatProgressModel",
          "model_module_version": "1.5.0",
          "state": {
            "_dom_classes": [],
            "_model_module": "@jupyter-widgets/controls",
            "_model_module_version": "1.5.0",
            "_model_name": "FloatProgressModel",
            "_view_count": null,
            "_view_module": "@jupyter-widgets/controls",
            "_view_module_version": "1.5.0",
            "_view_name": "ProgressView",
            "bar_style": "success",
            "description": "",
            "description_tooltip": null,
            "layout": "IPY_MODEL_67878ea260a544baa780e44da6616bea",
            "max": 146324,
            "min": 0,
            "orientation": "horizontal",
            "style": "IPY_MODEL_b25775e2ed9142b79e16556dfa8e44b7",
            "value": 146324
          }
        },
        "311ee09963c646f8866fed7251954c10": {
          "model_module": "@jupyter-widgets/controls",
          "model_name": "HTMLModel",
          "model_module_version": "1.5.0",
          "state": {
            "_dom_classes": [],
            "_model_module": "@jupyter-widgets/controls",
            "_model_module_version": "1.5.0",
            "_model_name": "HTMLModel",
            "_view_count": null,
            "_view_module": "@jupyter-widgets/controls",
            "_view_module_version": "1.5.0",
            "_view_name": "HTMLView",
            "description": "",
            "description_tooltip": null,
            "layout": "IPY_MODEL_2e4be5aa34a84297935fc95f3253b1ff",
            "placeholder": "​",
            "style": "IPY_MODEL_c0f5db8683a54051ba8e09c18b937735",
            "value": " 146k/146k [00:00&lt;00:00, 431kB/s]"
          }
        },
        "e0d645e8ccd3452481e7676bf34b06f1": {
          "model_module": "@jupyter-widgets/base",
          "model_name": "LayoutModel",
          "model_module_version": "1.2.0",
          "state": {
            "_model_module": "@jupyter-widgets/base",
            "_model_module_version": "1.2.0",
            "_model_name": "LayoutModel",
            "_view_count": null,
            "_view_module": "@jupyter-widgets/base",
            "_view_module_version": "1.2.0",
            "_view_name": "LayoutView",
            "align_content": null,
            "align_items": null,
            "align_self": null,
            "border": null,
            "bottom": null,
            "display": null,
            "flex": null,
            "flex_flow": null,
            "grid_area": null,
            "grid_auto_columns": null,
            "grid_auto_flow": null,
            "grid_auto_rows": null,
            "grid_column": null,
            "grid_gap": null,
            "grid_row": null,
            "grid_template_areas": null,
            "grid_template_columns": null,
            "grid_template_rows": null,
            "height": null,
            "justify_content": null,
            "justify_items": null,
            "left": null,
            "margin": null,
            "max_height": null,
            "max_width": null,
            "min_height": null,
            "min_width": null,
            "object_fit": null,
            "object_position": null,
            "order": null,
            "overflow": null,
            "overflow_x": null,
            "overflow_y": null,
            "padding": null,
            "right": null,
            "top": null,
            "visibility": null,
            "width": null
          }
        },
        "415cbfa6c36d46bc9f269e760c03acb1": {
          "model_module": "@jupyter-widgets/base",
          "model_name": "LayoutModel",
          "model_module_version": "1.2.0",
          "state": {
            "_model_module": "@jupyter-widgets/base",
            "_model_module_version": "1.2.0",
            "_model_name": "LayoutModel",
            "_view_count": null,
            "_view_module": "@jupyter-widgets/base",
            "_view_module_version": "1.2.0",
            "_view_name": "LayoutView",
            "align_content": null,
            "align_items": null,
            "align_self": null,
            "border": null,
            "bottom": null,
            "display": null,
            "flex": null,
            "flex_flow": null,
            "grid_area": null,
            "grid_auto_columns": null,
            "grid_auto_flow": null,
            "grid_auto_rows": null,
            "grid_column": null,
            "grid_gap": null,
            "grid_row": null,
            "grid_template_areas": null,
            "grid_template_columns": null,
            "grid_template_rows": null,
            "height": null,
            "justify_content": null,
            "justify_items": null,
            "left": null,
            "margin": null,
            "max_height": null,
            "max_width": null,
            "min_height": null,
            "min_width": null,
            "object_fit": null,
            "object_position": null,
            "order": null,
            "overflow": null,
            "overflow_x": null,
            "overflow_y": null,
            "padding": null,
            "right": null,
            "top": null,
            "visibility": null,
            "width": null
          }
        },
        "3e85b50b62244209af90462431fc32d8": {
          "model_module": "@jupyter-widgets/controls",
          "model_name": "DescriptionStyleModel",
          "model_module_version": "1.5.0",
          "state": {
            "_model_module": "@jupyter-widgets/controls",
            "_model_module_version": "1.5.0",
            "_model_name": "DescriptionStyleModel",
            "_view_count": null,
            "_view_module": "@jupyter-widgets/base",
            "_view_module_version": "1.2.0",
            "_view_name": "StyleView",
            "description_width": ""
          }
        },
        "67878ea260a544baa780e44da6616bea": {
          "model_module": "@jupyter-widgets/base",
          "model_name": "LayoutModel",
          "model_module_version": "1.2.0",
          "state": {
            "_model_module": "@jupyter-widgets/base",
            "_model_module_version": "1.2.0",
            "_model_name": "LayoutModel",
            "_view_count": null,
            "_view_module": "@jupyter-widgets/base",
            "_view_module_version": "1.2.0",
            "_view_name": "LayoutView",
            "align_content": null,
            "align_items": null,
            "align_self": null,
            "border": null,
            "bottom": null,
            "display": null,
            "flex": null,
            "flex_flow": null,
            "grid_area": null,
            "grid_auto_columns": null,
            "grid_auto_flow": null,
            "grid_auto_rows": null,
            "grid_column": null,
            "grid_gap": null,
            "grid_row": null,
            "grid_template_areas": null,
            "grid_template_columns": null,
            "grid_template_rows": null,
            "height": null,
            "justify_content": null,
            "justify_items": null,
            "left": null,
            "margin": null,
            "max_height": null,
            "max_width": null,
            "min_height": null,
            "min_width": null,
            "object_fit": null,
            "object_position": null,
            "order": null,
            "overflow": null,
            "overflow_x": null,
            "overflow_y": null,
            "padding": null,
            "right": null,
            "top": null,
            "visibility": null,
            "width": null
          }
        },
        "b25775e2ed9142b79e16556dfa8e44b7": {
          "model_module": "@jupyter-widgets/controls",
          "model_name": "ProgressStyleModel",
          "model_module_version": "1.5.0",
          "state": {
            "_model_module": "@jupyter-widgets/controls",
            "_model_module_version": "1.5.0",
            "_model_name": "ProgressStyleModel",
            "_view_count": null,
            "_view_module": "@jupyter-widgets/base",
            "_view_module_version": "1.2.0",
            "_view_name": "StyleView",
            "bar_color": null,
            "description_width": ""
          }
        },
        "2e4be5aa34a84297935fc95f3253b1ff": {
          "model_module": "@jupyter-widgets/base",
          "model_name": "LayoutModel",
          "model_module_version": "1.2.0",
          "state": {
            "_model_module": "@jupyter-widgets/base",
            "_model_module_version": "1.2.0",
            "_model_name": "LayoutModel",
            "_view_count": null,
            "_view_module": "@jupyter-widgets/base",
            "_view_module_version": "1.2.0",
            "_view_name": "LayoutView",
            "align_content": null,
            "align_items": null,
            "align_self": null,
            "border": null,
            "bottom": null,
            "display": null,
            "flex": null,
            "flex_flow": null,
            "grid_area": null,
            "grid_auto_columns": null,
            "grid_auto_flow": null,
            "grid_auto_rows": null,
            "grid_column": null,
            "grid_gap": null,
            "grid_row": null,
            "grid_template_areas": null,
            "grid_template_columns": null,
            "grid_template_rows": null,
            "height": null,
            "justify_content": null,
            "justify_items": null,
            "left": null,
            "margin": null,
            "max_height": null,
            "max_width": null,
            "min_height": null,
            "min_width": null,
            "object_fit": null,
            "object_position": null,
            "order": null,
            "overflow": null,
            "overflow_x": null,
            "overflow_y": null,
            "padding": null,
            "right": null,
            "top": null,
            "visibility": null,
            "width": null
          }
        },
        "c0f5db8683a54051ba8e09c18b937735": {
          "model_module": "@jupyter-widgets/controls",
          "model_name": "DescriptionStyleModel",
          "model_module_version": "1.5.0",
          "state": {
            "_model_module": "@jupyter-widgets/controls",
            "_model_module_version": "1.5.0",
            "_model_name": "DescriptionStyleModel",
            "_view_count": null,
            "_view_module": "@jupyter-widgets/base",
            "_view_module_version": "1.2.0",
            "_view_name": "StyleView",
            "description_width": ""
          }
        }
      }
    }
  },
  "nbformat": 4,
  "nbformat_minor": 0
}