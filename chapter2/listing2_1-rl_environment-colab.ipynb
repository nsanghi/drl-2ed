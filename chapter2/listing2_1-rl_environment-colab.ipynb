{
  "cells": [
    {
      "cell_type": "markdown",
      "metadata": {
        "id": "view-in-github",
        "colab_type": "text"
      },
      "source": [
        "<a href=\"https://colab.research.google.com/github/nsanghi/drl-2ed/blob/main/chapter2/listing2_1-rl_environment-colab.ipynb\" target=\"_parent\"><img src=\"https://colab.research.google.com/assets/colab-badge.svg\" alt=\"Open In Colab\"/></a>"
      ]
    },
    {
      "cell_type": "code",
      "execution_count": 3,
      "metadata": {
        "id": "4ZZpmtYLycEd",
        "outputId": "0b44690f-25a1-42eb-fe73-ae334eb44419",
        "colab": {
          "base_uri": "https://localhost:8080/"
        }
      },
      "outputs": [
        {
          "output_type": "stream",
          "name": "stdout",
          "text": [
            "Requirement already satisfied: gymnasium[classic_control] in /usr/local/lib/python3.10/dist-packages (0.28.1)\n",
            "Requirement already satisfied: numpy>=1.21.0 in /usr/local/lib/python3.10/dist-packages (from gymnasium[classic_control]) (1.22.4)\n",
            "Requirement already satisfied: jax-jumpy>=1.0.0 in /usr/local/lib/python3.10/dist-packages (from gymnasium[classic_control]) (1.0.0)\n",
            "Requirement already satisfied: cloudpickle>=1.2.0 in /usr/local/lib/python3.10/dist-packages (from gymnasium[classic_control]) (2.2.1)\n",
            "Requirement already satisfied: typing-extensions>=4.3.0 in /usr/local/lib/python3.10/dist-packages (from gymnasium[classic_control]) (4.6.3)\n",
            "Requirement already satisfied: farama-notifications>=0.0.1 in /usr/local/lib/python3.10/dist-packages (from gymnasium[classic_control]) (0.0.4)\n",
            "Collecting pygame==2.1.3 (from gymnasium[classic_control])\n",
            "  Downloading pygame-2.1.3-cp310-cp310-manylinux_2_17_x86_64.manylinux2014_x86_64.whl (13.7 MB)\n",
            "\u001b[2K     \u001b[90m━━━━━━━━━━━━━━━━━━━━━━━━━━━━━━━━━━━━━━━━\u001b[0m \u001b[32m13.7/13.7 MB\u001b[0m \u001b[31m42.5 MB/s\u001b[0m eta \u001b[36m0:00:00\u001b[0m\n",
            "\u001b[?25hInstalling collected packages: pygame\n",
            "  Attempting uninstall: pygame\n",
            "    Found existing installation: pygame 2.4.0\n",
            "    Uninstalling pygame-2.4.0:\n",
            "      Successfully uninstalled pygame-2.4.0\n",
            "Successfully installed pygame-2.1.3\n"
          ]
        }
      ],
      "source": [
        "!pip install gymnasium[classic_control]\n"
      ]
    },
    {
      "cell_type": "code",
      "source": [
        "import gymnasium as gym\n",
        "from matplotlib import pyplot as plt"
      ],
      "metadata": {
        "id": "waewx-E5ysVn"
      },
      "execution_count": 4,
      "outputs": []
    },
    {
      "cell_type": "code",
      "execution_count": 5,
      "metadata": {
        "id": "gLOKb2WrycEf",
        "outputId": "5cb8fdec-dc22-4f0a-948b-38d6cd171452",
        "colab": {
          "base_uri": "https://localhost:8080/",
          "height": 691
        }
      },
      "outputs": [
        {
          "output_type": "stream",
          "name": "stdout",
          "text": [
            "initial observation: [-0.42823598  0.        ]\n",
            "possible actions: 3\n",
            "\n",
            "taking action: 0\n",
            "got reward: -1.0. New state/observation is: [-0.42994148 -0.0017055 ]\n",
            "\n",
            "taking action: 2\n",
            "got reward: -1.0. New state/observation is: [-0.4313402  -0.00139873]\n",
            "\n",
            "taking action: 0\n",
            "got reward: -1.0. New state/observation is: [-0.43442208 -0.00308187]\n",
            "\n",
            "taking action: 0\n",
            "got reward: -1.0. New state/observation is: [-0.43916482 -0.00474274]\n",
            "\n",
            "taking action: 1\n",
            "got reward: -1.0. New state/observation is: [-0.44453406 -0.00536925]\n"
          ]
        },
        {
          "output_type": "display_data",
          "data": {
            "text/plain": [
              "<Figure size 640x480 with 1 Axes>"
            ],
            "image/png": "[encoded data removed]"
          },
          "metadata": {}
        }
      ],
      "source": [
        "\n",
        "env = gym.make('MountainCar-v0', render_mode=\"rgb_array\")\n",
        "# reset environment and get initial observation/state\n",
        "# Observation/state is a tuple of (position, velocity)\n",
        "obs, info = env.reset()\n",
        "print(\"initial observation:\", obs)\n",
        "\n",
        "# possible 3 actions\n",
        "# {0: \"accelerate to left\", \"1\": \"do nothing\", \"2\": \"accelerate to right\"}\n",
        "print(\"possible actions:\", env.action_space.n)\n",
        "\n",
        "\n",
        "# reinforcement learning is all\n",
        "# about learing to take good actions\n",
        "# from a given state/observation\n",
        "# right now taking a random action\n",
        "def policy(observation):\n",
        "    return env.action_space.sample()\n",
        "\n",
        "\n",
        "# take 5 random actions/steps\n",
        "for _ in range(5):\n",
        "\n",
        "    # to render environment for visual inspection\n",
        "    # when you train, you can skip rendering to speed up\n",
        "    plt.imshow(env.render())\n",
        "\n",
        "    # based on curret policy, use the current observation\n",
        "    # to find the best action to take.\n",
        "    action = policy(obs)\n",
        "    print(\"\\ntaking action:\", action)\n",
        "\n",
        "    # pass the action to env which will return back\n",
        "    # with new state/\"observation\" and \"reward\"\n",
        "    # there is a \"done\" flag which is true when game ends\n",
        "    # \"info\" provides some diagnostic information\n",
        "    obs, reward, terminated, truncated, info = env.step(action)\n",
        "    print(\"got reward: {0}. New state/observation is: {1}\".format(reward, obs))\n",
        "\n",
        "# close the enviroment\n",
        "env.close()"
      ]
    },
    {
      "cell_type": "code",
      "execution_count": null,
      "metadata": {
        "id": "bmJ_FbX5ycEg"
      },
      "outputs": [],
      "source": []
    },
    {
      "cell_type": "code",
      "execution_count": 6,
      "metadata": {
        "id": "GVNZ2YqHycEh",
        "outputId": "9e2bb2e0-3ead-43ed-ce34-58a48fa214ec",
        "colab": {
          "base_uri": "https://localhost:8080/",
          "height": 691
        }
      },
      "outputs": [
        {
          "output_type": "stream",
          "name": "stdout",
          "text": [
            "initial observation: (array([-0.00680157,  0.02110114, -0.04238893,  0.01675848], dtype=float32), {})\n",
            "possible actions: 2\n",
            "\n",
            "taking action: 1\n",
            "got reward: 1.0. New state/observation is: [-0.00637955  0.21680456 -0.04205376 -0.28899157]\n",
            "\n",
            "taking action: 0\n",
            "got reward: 1.0. New state/observation is: [-0.00204346  0.02230674 -0.04783359 -0.00986293]\n",
            "\n",
            "taking action: 0\n",
            "got reward: 1.0. New state/observation is: [-0.00159732 -0.17209774 -0.04803085  0.26735252]\n",
            "\n",
            "taking action: 0\n",
            "got reward: 1.0. New state/observation is: [-0.00503928 -0.36650246 -0.0426838   0.5445077 ]\n",
            "\n",
            "taking action: 1\n",
            "got reward: 1.0. New state/observation is: [-0.01236933 -0.17080754 -0.03179364  0.23868741]\n"
          ]
        },
        {
          "output_type": "display_data",
          "data": {
            "text/plain": [
              "<Figure size 640x480 with 1 Axes>"
            ],
            "image/png": "[encoded data removed]"
          },
          "metadata": {}
        }
      ],
      "source": [
        "env = gym.make('CartPole-v1', render_mode=\"rgb_array\")\n",
        "obs = env.reset()\n",
        "print(\"initial observation:\", obs)\n",
        "print(\"possible actions:\", env.action_space.n)\n",
        "\n",
        "\n",
        "def policy(observation):\n",
        "    return env.action_space.sample()\n",
        "\n",
        "\n",
        "for _ in range(5):\n",
        "    plt.imshow(env.render())\n",
        "\n",
        "    action = policy(obs)\n",
        "    print(\"\\ntaking action:\", action)\n",
        "\n",
        "    obs, reward, terminated, truncated, info = env.step(action)\n",
        "    print(\"got reward: {0}. New state/observation is: {1}\".format(reward, obs))\n",
        "\n",
        "\n",
        "# close the enviroment\n",
        "env.close()"
      ]
    }
  ],
  "metadata": {
    "kernelspec": {
      "display_name": "Python 3 (ipykernel)",
      "language": "python",
      "name": "python3"
    },
    "language_info": {
      "codemirror_mode": {
        "name": "ipython",
        "version": 3
      },
      "file_extension": ".py",
      "mimetype": "text/x-python",
      "name": "python",
      "nbconvert_exporter": "python",
      "pygments_lexer": "ipython3",
      "version": "3.10.11"
    },
    "colab": {
      "provenance": [],
      "include_colab_link": true
    }
  },
  "nbformat": 4,
  "nbformat_minor": 0
}