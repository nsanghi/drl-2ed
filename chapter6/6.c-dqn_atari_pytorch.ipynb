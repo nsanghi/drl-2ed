{
 "cells": [
  {
   "cell_type": "markdown",
   "metadata": {},
   "source": [
    "# DQN - Deep Q-Network  (PyTorch) - Play Atari game.\n",
    "\n",
    "In this notebook, we will use DQN with **experience replay** and **target networks** from `6.a-dqn-pytorch` to train the agent to play Atari game. Most of the implementation will be same as previous one except some pre-processing to make Atari game playing trainable with DQN. \n",
    "\n",
    "The deep learning approach combined with Q-Learning and word `DQN` was coined in this paper. We have tried to broadly follow the steps of the paper in this notebook\n",
    "\n",
    "Paper: [Playing Atari with Deep Reinforcement Learning](https://arxiv.org/pdf/1312.5602.pdf)\n",
    "\n",
    "### Recap from last notebook\n",
    "\n",
    "Q Learning control is carried out by sampling step by step and updating Q values at each step. We use $\\epsilon$-greedy policy to explore and generate samples. However, the policy learnt is a deterministic greedy policy with no exploration. We can carryout updates online i.e. we take a step and use `(current state, action, reward and next_state)` tuple to update. \n",
    "\n",
    "In case of function approximation using neural network, the input to the network is the state and output is the q(s,a) for all the actions in the state `s`. It is denoted as $ \\hat{q}(s_t,a; w_t) $, where $w_t$ is the weights of the neural network that we learn as part of DQN learning. \n",
    "\n",
    "We use two networks, one target network to get the max q-value of next state denoted by $ \\max\\limits_a \\hat {q}(s_{t+1},a; w^-_t) $ and the primary network with weights $w_t$ which we are updated based on back propagation of the TD error through the network.\n",
    "\n",
    "The Update equation is given below. This is the online version:\n",
    "$$ w_{t+1} \\leftarrow w_t + \\alpha [ R_{t+1} + \\gamma . \\max_{a} \\hat{q}(S_{t+1},a,w^{-}_{t}) – \\hat{q}(S_t,A_t,w_t)] \\nabla \\hat{q}(S_t,A_t,w_t)$$\n",
    "\n",
    "Online update with neural network with millions of weights does not work well. Accordingly, We use experience replay (aka Replay Buffer).  We use a behavior policy to explore the environment and store the samples `(s, a, r, s', done)` in a buffer. The samples are generated using an exploratory behavior policy while we improve a deterministic target policy using q-values.\n",
    "\n",
    "Therefore, we can always use older samples from behavior policy and apply them again and again. We can keep the buffer size fixed to some pre-determined size and keep deleting the older samples as we collect new ones. This process makes learning sample efficient by reusing a sample multiple times and also removing temporal dependence of the samples we would otherwise see while following a trajectory.\n",
    "\n",
    "The update equation with batch update with minor modifications is given below. We collect samples of transitions `(current state, action, reward, next state)` in a buffer, where each sample is denoted as a tuple:\n",
    "\n",
    "$$ (s_{i}, a_{i}, r_{i}, s'_{i}, done_{i})$$\n",
    "\n",
    "Subscript ($i$) denotes ith sample. We take $N$ samples from experience replay selecting randomly and update the weights. Subscript ($t$) denotes the index of weight updates. If the current state is done, as denoted by `done` flag, the target is just the reward as terminal states have zero value. The final update equation is as given below:\n",
    "\n",
    "$$w_{t+1} \\leftarrow w_t + \\alpha \\frac{1}{N} \\sum_{i=1}^{N} \\left[ r_i + \\left( (1-done_i) . \\gamma .  \\max_{a'} \\hat{q}(s'_{i},a'_{i};w^{-}_{t}) \\right) – \\hat{q}(s_i,a_i;w_t) \\right] \\nabla \\hat{q}(s_i,a_i;w_t)$$\n",
    "\n",
    "\n",
    "\n",
    "Online update with neural network with millions of weights does not work well. Accordingly, We use experience replay (aka Replay Buffer).  We use a behavior policy to explore the environment and store the samples `(s, a, r, s', done)` in a buffer. The samples are generated using an exploratory behavior policy while we improve a deterministic target policy using q-values. \n",
    "\n",
    "Therefore, we can always use older samples from behavior policy and apply them again and again. We can keep the buffer size fixed to some pre-determined size and keep deleting the older samples as we collect new ones. This process makes learning sample efficient by reusing a sample multiple times and also removing temporal dependence of the samples we would otherwise see while following a trajectory.\n",
    "\n",
    "The update equation with batch update with minor modifications is given below. We collect samples of transitions (current state, action, reward, next state) in a buffer. Where each sample is denoted as a tuple: \n",
    "\n",
    "$$ (s_{i}, a_{i}, r_{i}, s^{'}_{i}, done_{i})$$\n",
    "\n",
    "Subscript (i) denotes ith sample. We take N samples from experience replay selecting randomly and update the weights. Subscript (t) denotes the index of weight updates. If the current state is done, as denoted by `done` flag, the target is just the reward as terminal states have zero value. The final update equation is as given below:\n",
    "\n",
    "$$w_{t+1} \\leftarrow w_t + \\alpha \\frac{1}{N} \\sum_{i=1}^{N} \\left[ r_i + \\left( (1-done_i) . \\gamma .  \\max_{a^{'}} \\hat{q}(s_{i}^{'},a^{'};w^{-}_{t}) \\right) – \\hat{q}(s_i,a_i;w_t) \\right] \\nabla \\hat{q}(s_i,a_i;w_t)$$\n",
    "\n"
   ]
  },
  {
   "cell_type": "markdown",
   "metadata": {},
   "source": [
    "### Colab Installs"
   ]
  },
  {
   "cell_type": "code",
   "execution_count": null,
   "metadata": {},
   "outputs": [],
   "source": [
    "#uncomment and execute this cell to install all the the dependencies if running in Google Colab\n",
    "\n",
    "# !apt-get update && apt-get install swig cmake ffmpeg freeglut3-dev xvfb\n",
    "# !pip install box2d-py\n",
    "# !pip install \"stable-baselines3[extra]>=2.1\"\n",
    "# !pip install \"huggingface_sb3>=3.0\"\n",
    "\n",
    "# !pip install git+https://github.com/DLR-RM/rl-baselines3-zoo@update/hf\n",
    "# !git clone https://github.com/DLR-RM/rl-baselines3-zoo\n",
    "# %cd /content/rl-baselines3-zoo/\n",
    "# !pip install -r requirements.txt\n",
    "# %cd ..\n",
    "# !apt-get install dvipng texlive-latex-extra texlive-fonts-recommended cm-super -y\n"
   ]
  },
  {
   "cell_type": "code",
   "execution_count": 1,
   "metadata": {},
   "outputs": [
    {
     "name": "stderr",
     "output_type": "stream",
     "text": [
      "2023-11-05 09:18:37.251529: I tensorflow/core/util/port.cc:111] oneDNN custom operations are on. You may see slightly different numerical results due to floating-point round-off errors from different computation orders. To turn them off, set the environment variable `TF_ENABLE_ONEDNN_OPTS=0`.\n",
      "2023-11-05 09:18:37.374504: E tensorflow/compiler/xla/stream_executor/cuda/cuda_dnn.cc:9342] Unable to register cuDNN factory: Attempting to register factory for plugin cuDNN when one has already been registered\n",
      "2023-11-05 09:18:37.374573: E tensorflow/compiler/xla/stream_executor/cuda/cuda_fft.cc:609] Unable to register cuFFT factory: Attempting to register factory for plugin cuFFT when one has already been registered\n",
      "2023-11-05 09:18:37.374743: E tensorflow/compiler/xla/stream_executor/cuda/cuda_blas.cc:1518] Unable to register cuBLAS factory: Attempting to register factory for plugin cuBLAS when one has already been registered\n",
      "2023-11-05 09:18:37.428763: I tensorflow/core/platform/cpu_feature_guard.cc:182] This TensorFlow binary is optimized to use available CPU instructions in performance-critical operations.\n",
      "To enable the following instructions: AVX2 AVX_VNNI FMA, in other operations, rebuild TensorFlow with the appropriate compiler flags.\n",
      "2023-11-05 09:18:39.128731: W tensorflow/compiler/tf2tensorrt/utils/py_utils.cc:38] TF-TRT Warning: Could not find TensorRT\n"
     ]
    }
   ],
   "source": [
    "import random\n",
    "import numpy as np\n",
    "import torch\n",
    "import torch.nn as nn\n",
    "import gymnasium as gym\n",
    "import numpy as np\n",
    "import matplotlib.pyplot as plt\n",
    "from scipy.signal import convolve, gaussian\n",
    "from stable_baselines3.common.vec_env import VecVideoRecorder, DummyVecEnv\n",
    "from base64 import b64encode\n",
    "\n",
    "\n",
    "from IPython.display import HTML\n",
    "\n",
    "%matplotlib inline\n"
   ]
  },
  {
   "cell_type": "markdown",
   "metadata": {},
   "source": [
    "### Environment - Atari Breakout \n",
    "\n",
    "We can use the setup here to run on any environment which has state as a single vector and actions are discrete. We will build it on Atari Breakout.\n"
   ]
  },
  {
   "cell_type": "code",
   "execution_count": 2,
   "metadata": {},
   "outputs": [],
   "source": [
    "def make_env(env_name, seed=None, frameskip=5, repeat_action_probability=0.25, render_mode='rgb_array', mode=0, difficulty=0):\n",
    "    # remove time limit wrapper from environment\n",
    "    env = gym.make(env_name, \n",
    "                   render_mode=render_mode, \n",
    "                   frameskip=frameskip, \n",
    "                   repeat_action_probability=repeat_action_probability,\n",
    "                   mode=mode, \n",
    "                   difficulty=difficulty\n",
    "                  ).unwrapped\n",
    "    if seed is not None:\n",
    "        env.seed(seed)\n",
    "    return env"
   ]
  },
  {
   "cell_type": "code",
   "execution_count": 3,
   "metadata": {},
   "outputs": [
    {
     "name": "stderr",
     "output_type": "stream",
     "text": [
      "A.L.E: Arcade Learning Environment (version 0.8.1+53f58b7)\n",
      "[Powered by Stella]\n"
     ]
    },
    {
     "data": {
      "image/png": "[encoded data removed]",
      "text/plain": [
       "<Figure size 1600x900 with 8 Axes>"
      ]
     },
     "metadata": {},
     "output_type": "display_data"
    }
   ],
   "source": [
    "env_name = \"ALE/Breakout-v5\"\n",
    "\n",
    "env = make_env(env_name, seed=127, frameskip=5)\n",
    "env.reset()\n",
    "\n",
    "n_cols = 4\n",
    "n_rows = 2\n",
    "fig = plt.figure(figsize=(16, 9))\n",
    "\n",
    "for row in range(n_rows):\n",
    "    for col in range(n_cols):\n",
    "        ax = fig.add_subplot(n_rows, n_cols, row * n_cols + col + 1)\n",
    "        ax.imshow(env.render())\n",
    "        env.step(env.action_space.sample())\n",
    "plt.show()"
   ]
  },
  {
   "cell_type": "markdown",
   "metadata": {},
   "source": [
    "#### We can play the game\n",
    "\n",
    "use `A` and `D` on keyboard to move the bat and `Space-bar` to start. use `Esc` to kill the game. \n",
    "\n",
    "**NOTE: Running the cell below may crash your kernel in Mac. If you face that problem, please comment the cell below or do not run it**."
   ]
  },
  {
   "cell_type": "code",
   "execution_count": 4,
   "metadata": {},
   "outputs": [
    {
     "name": "stderr",
     "output_type": "stream",
     "text": [
      "/home/nsanghi/sandbox/apress/drl-2ed/venv/lib/python3.10/site-packages/gymnasium/utils/play.py:29: UserWarning: \u001b[33mWARN: matplotlib is not installed, run `pip install gymnasium[other]`\u001b[0m\n",
      "  logger.warn(\"matplotlib is not installed, run `pip install gymnasium[other]`\")\n",
      "/home/nsanghi/sandbox/apress/drl-2ed/venv/lib/python3.10/site-packages/gymnasium/utils/passive_env_checker.py:364: UserWarning: \u001b[33mWARN: No render fps was declared in the environment (env.metadata['render_fps'] is None or not defined), rendering may occur at inconsistent fps.\u001b[0m\n",
      "  logger.warn(\n"
     ]
    }
   ],
   "source": [
    "from gymnasium.utils.play import play\n",
    "\n",
    "play(env=gym.make(env_name, \n",
    "                  render_mode='rgb_array', \n",
    "                  frameskip=1, \n",
    "                  repeat_action_probability=0.0,\n",
    "                  mode=0, \n",
    "                  difficulty=0\n",
    "                 ), zoom=3.5, fps=30)"
   ]
  },
  {
   "cell_type": "markdown",
   "metadata": {},
   "source": [
    "### Pre processing\n",
    "\n",
    "Atari images are 210x160x3 pixels but we will scale it down and also convert to gray-scale to reduce the size and make the game learn faster from smaller image sizes. We will also stack 4 last frames as input observation. This is done to capture the motion of the ball and bat which would not be visible in a single frame of game. OpenAI Gym library has ObservationWrappers to provide all these pre-processing out of the box. We will also be clipping rewards with just the sign of rewards. This is following the approach outlined in original paper. Let us build our preprocessor below"
   ]
  },
  {
   "cell_type": "code",
   "execution_count": 5,
   "metadata": {},
   "outputs": [],
   "source": [
    "from gymnasium.wrappers import AtariPreprocessing\n",
    "from gymnasium.wrappers import FrameStack\n",
    "from gymnasium.wrappers import TransformReward\n",
    "\n",
    "# def make_env(env_name, seed=None, frameskip=5, repeat_action_probability=0.25, render_mode='rgb_array', mode=0, difficulty=0):\n",
    "#     # remove time limit wrapper from environment\n",
    "#     env = gym.make(env_name, \n",
    "#                    render_mode=render_mode, \n",
    "#                    frameskip=frameskip, \n",
    "#                    repeat_action_probability=repeat_action_probability,\n",
    "#                    mode=mode, \n",
    "#                    difficulty=difficulty\n",
    "#                   ).unwrapped\n",
    "#     if seed is not None:\n",
    "#         env.seed(seed)\n",
    "#     return env\n",
    "\n",
    "def make_env(env_name, \n",
    "             clip_rewards=True,\n",
    "             seed=None):\n",
    "\n",
    "    env = gym.make(env_name, \n",
    "                   render_mode='rgb_array',\n",
    "                   frameskip=1\n",
    "              )\n",
    "    if seed is not None:\n",
    "        env.seed(seed)\n",
    "    env = AtariPreprocessing(env, screen_size=84, scale_obs=True)\n",
    "    env = FrameStack(env, num_stack=4)\n",
    "    if clip_rewards:\n",
    "        env = TransformReward(env, lambda r: np.sign(r))\n",
    "    return env\n",
    "\n",
    "env = make_env(env_name)\n",
    "env.reset()\n",
    "n_actions = env.action_space.n\n",
    "state_shape = env.observation_space.shape"
   ]
  },
  {
   "cell_type": "code",
   "execution_count": 6,
   "metadata": {},
   "outputs": [
    {
     "data": {
      "text/plain": [
       "['NOOP', 'FIRE', 'RIGHT', 'LEFT']"
      ]
     },
     "execution_count": 6,
     "metadata": {},
     "output_type": "execute_result"
    }
   ],
   "source": [
    "n_actions\n",
    "env.get_action_meanings()"
   ]
  },
  {
   "cell_type": "code",
   "execution_count": 7,
   "metadata": {},
   "outputs": [
    {
     "data": {
      "image/png": "[encoded data removed]",
      "text/plain": [
       "<Figure size 1200x1000 with 1 Axes>"
      ]
     },
     "metadata": {},
     "output_type": "display_data"
    },
    {
     "data": {
      "image/png": "[encoded data removed]",
      "text/plain": [
       "<Figure size 1500x1500 with 1 Axes>"
      ]
     },
     "metadata": {},
     "output_type": "display_data"
    }
   ],
   "source": [
    "for _ in range(12):\n",
    "    obs, _, _, _, _ = env.step(env.action_space.sample())\n",
    "\n",
    "plt.figure(figsize=[12,10])\n",
    "plt.title(\"Game image\")\n",
    "plt.imshow(env.render())\n",
    "plt.show()\n",
    "\n",
    "obs = obs[:] #unpack lazyframe\n",
    "obs = np.transpose(obs,[1,0,2]) #move axes\n",
    "obs = obs.reshape((obs.shape[0], -1))\n",
    "\n",
    "\n",
    "plt.figure(figsize=[15,15])\n",
    "plt.title(\"Agent observation (4 frames left to right)\")\n",
    "plt.imshow(obs, cmap='gray')\n",
    "plt.show()"
   ]
  },
  {
   "cell_type": "markdown",
   "metadata": {},
   "source": [
    "### Building a network using pytorch"
   ]
  },
  {
   "cell_type": "markdown",
   "metadata": {},
   "source": [
    "Let us build a DQN agent using the architecture suggested in paper.\n",
    "\n",
    "    Observation:\n",
    "        pytorch 4x84x84 pytroch has channels in the first dimension\n",
    "        input: [batch_size, 4, 84, 84]\n",
    "        1st hidden layer: 16 8x8 filters with stride 4 and RelU activation\n",
    "        2nd hidden layer: 32 4x4 filters with stride of 2 and RelU activation\n",
    "        3nd hidden layer: Linear layer with 256 outputs and RelU activatrion\n",
    "        output layer: Linear with n_actions units with no activation\n",
    "\n",
    "To build this network, after 2 layers of convolution, we will flatten the layers. To connect this to Dense(Linear) layer, we need to calculate the number of units entering dense layer. We do so using the formula for Conv2D output.\n",
    "\n",
    "`out_dim = (in_dim - (kernel_size - 1) - 1) // stride  + 1`"
   ]
  },
  {
   "cell_type": "code",
   "execution_count": 8,
   "metadata": {},
   "outputs": [],
   "source": [
    "def conv2d_size_out(size, kernel_size, stride):\n",
    "    return (size - (kernel_size - 1) - 1) // stride  + 1"
   ]
  },
  {
   "cell_type": "code",
   "execution_count": 32,
   "metadata": {},
   "outputs": [
    {
     "name": "stdout",
     "output_type": "stream",
     "text": [
      "Conv1:  20\n",
      "Conv1:  9\n",
      "Input to Dense layer: 2592\n"
     ]
    }
   ],
   "source": [
    "# for the network above\n",
    "# 1st Conv layer output size\n",
    "conv1 = conv2d_size_out(84, 8, 4)\n",
    "print('Conv1: ', conv1)\n",
    "conv2 = conv2d_size_out(conv1, 4, 2)\n",
    "print('Conv1: ', conv2)\n",
    "\n",
    "#number of units entering dense layer would be\n",
    "print(\"Input to Dense layer:\", conv2*conv2*32) #32 is number of filters coming out in 2nd conv layer"
   ]
  },
  {
   "cell_type": "code",
   "execution_count": 9,
   "metadata": {},
   "outputs": [
    {
     "data": {
      "text/plain": [
       "device(type='cpu')"
      ]
     },
     "execution_count": 9,
     "metadata": {},
     "output_type": "execute_result"
    }
   ],
   "source": [
    "device = torch.device('cuda' if torch.cuda.is_available() else 'cpu')\n",
    "device"
   ]
  },
  {
   "cell_type": "code",
   "execution_count": 10,
   "metadata": {},
   "outputs": [],
   "source": [
    "class DQNAgent(nn.Module):\n",
    "    def __init__(self, state_shape, n_actions, epsilon=0):\n",
    "\n",
    "        super().__init__()\n",
    "        self.epsilon = epsilon\n",
    "        self.n_actions = n_actions\n",
    "        self.state_shape = state_shape\n",
    "        \n",
    "        state_dim = state_shape[0]\n",
    "        # a simple NN with state_dim as input vector (inout is state s)\n",
    "        # and self.n_actions as output vector of logits of q(s, a)\n",
    "        self.network = nn.Sequential()\n",
    "        self.network.add_module('conv1', nn.Conv2d(4,16,kernel_size=8, stride=4))\n",
    "        self.network.add_module('relu1', nn.ReLU())\n",
    "        self.network.add_module('conv2', nn.Conv2d(16,32,kernel_size=4, stride=2))\n",
    "        self.network.add_module('relu2', nn.ReLU())\n",
    "        self.network.add_module('flatten', nn.Flatten())\n",
    "        self.network.add_module('linear3', nn.Linear(2592, 256)) #2592 calculated above\n",
    "        self.network.add_module('relu3', nn.ReLU())\n",
    "        self.network.add_module('linear4', nn.Linear(256, n_actions))\n",
    "        \n",
    "        self.parameters = self.network.parameters\n",
    "        \n",
    "    def forward(self, state_t):\n",
    "        # pass the state at time t through the newrok to get Q(s,a)\n",
    "        qvalues = self.network(state_t)\n",
    "        return qvalues\n",
    "\n",
    "    def get_qvalues(self, states):\n",
    "        # input is an array of states in numpy and outout is Qvals as numpy array\n",
    "        states = torch.tensor(states, device=device, dtype=torch.float32)\n",
    "        qvalues = self.forward(states)\n",
    "        return qvalues.data.cpu().numpy()\n",
    "\n",
    "    def sample_actions(self, qvalues):\n",
    "        # sample actions from a batch of q_values using epsilon greedy policy\n",
    "        epsilon = self.epsilon\n",
    "        batch_size, n_actions = qvalues.shape\n",
    "        random_actions = np.random.choice(n_actions, size=batch_size)\n",
    "        best_actions = qvalues.argmax(axis=-1)\n",
    "        should_explore = np.random.choice(\n",
    "            [0, 1], batch_size, p=[1-epsilon, epsilon])\n",
    "        return np.where(should_explore, random_actions, best_actions)"
   ]
  },
  {
   "cell_type": "code",
   "execution_count": 11,
   "metadata": {},
   "outputs": [],
   "source": [
    "agent = DQNAgent(state_shape, n_actions, epsilon=0.5).to(device)"
   ]
  },
  {
   "cell_type": "code",
   "execution_count": 12,
   "metadata": {},
   "outputs": [],
   "source": [
    "def evaluate(env, agent, n_games=1, greedy=False, t_max=10000):\n",
    "    rewards = []\n",
    "    for _ in range(n_games):\n",
    "        s, _ = env.reset()\n",
    "        reward = 0\n",
    "        for _ in range(t_max):\n",
    "            qvalues = agent.get_qvalues([s])\n",
    "            action = qvalues.argmax(axis=-1)[0] if greedy else agent.sample_actions(qvalues)[0]\n",
    "            s, r, terminated, truncated, _ = env.step(action)\n",
    "            reward += r\n",
    "            if terminated:\n",
    "                break\n",
    "\n",
    "        rewards.append(reward)\n",
    "    return np.mean(rewards)"
   ]
  },
  {
   "cell_type": "code",
   "execution_count": 13,
   "metadata": {},
   "outputs": [
    {
     "name": "stderr",
     "output_type": "stream",
     "text": [
      "/tmp/ipykernel_32563/3610406254.py:31: UserWarning: Creating a tensor from a list of numpy.ndarrays is extremely slow. Please consider converting the list to a single numpy.ndarray with numpy.array() before converting to a tensor. (Triggered internally at ../torch/csrc/utils/tensor_new.cpp:245.)\n",
      "  states = torch.tensor(states, device=device, dtype=torch.float32)\n"
     ]
    },
    {
     "data": {
      "text/plain": [
       "1.0"
      ]
     },
     "execution_count": 13,
     "metadata": {},
     "output_type": "execute_result"
    }
   ],
   "source": [
    "evaluate(env, agent, n_games=1)"
   ]
  },
  {
   "cell_type": "code",
   "execution_count": 14,
   "metadata": {},
   "outputs": [],
   "source": [
    "env.close()"
   ]
  },
  {
   "cell_type": "markdown",
   "metadata": {},
   "source": [
    "### Experience replay\n",
    "\n",
    "We will use the replay buffer we saw in chapter 4 listings. Replay buffer is very important in DQN to break the correlation between samples. We use a behavior policy ($\\epsilon$-greedy) to sample from the environment and store the transitions (s,a,r,s',done) into a buffer. These samples are used multiple times in a learning making the process sample efficient. \n",
    "\n",
    "The interface to ReplayBuffer is:\n",
    "* `exp_replay.add(state, action, reward, next_state, done)` - saves (s,a,r,s',done) tuple into the buffer\n",
    "* `exp_replay.sample(batch_size)` - returns states, actions, rewards, next_states and done_flags for `batch_size` random samples.\n",
    "* `len(exp_replay)` - returns number of elements stored in replay buffer.\n",
    "\n",
    "We have modified the implementation a bit to make it more efficient"
   ]
  },
  {
   "cell_type": "code",
   "execution_count": 15,
   "metadata": {},
   "outputs": [],
   "source": [
    "class ReplayBuffer:\n",
    "    def __init__(self, size):\n",
    "        self.size = size #max number of items in buffer\n",
    "        self.buffer =[] #array to hold buffer\n",
    "        self.next_id = 0\n",
    "    \n",
    "    def __len__(self):\n",
    "        return len(self.buffer)\n",
    "    \n",
    "    def add(self, state, action, reward, next_state, done):\n",
    "        item = (state, action, reward, next_state, done)\n",
    "        if len(self.buffer) < self.size:\n",
    "           self.buffer.append(item)\n",
    "        else:\n",
    "            self.buffer[self.next_id] = item\n",
    "        self.next_id = (self.next_id + 1) % self.size\n",
    "        \n",
    "    def sample(self, batch_size):\n",
    "        idxs = np.random.choice(len(self.buffer), batch_size)\n",
    "        samples = [self.buffer[i] for i in idxs]\n",
    "        states, actions, rewards, next_states, done_flags = list(zip(*samples))\n",
    "        return np.array(states), np.array(actions), np.array(rewards), np.array(next_states), np.array(done_flags)"
   ]
  },
  {
   "cell_type": "code",
   "execution_count": 16,
   "metadata": {},
   "outputs": [],
   "source": [
    "def play_and_record(start_state, agent, env, exp_replay, n_steps=1):\n",
    "\n",
    "    s = start_state\n",
    "    sum_rewards = 0\n",
    "\n",
    "    # Play the game for n_steps and record transitions in buffer\n",
    "    for _ in range(n_steps):\n",
    "        qvalues = agent.get_qvalues([s])\n",
    "        a = agent.sample_actions(qvalues)[0]        \n",
    "        next_s, r, terminated, truncated, _ = env.step(a)\n",
    "        sum_rewards += r\n",
    "        done = terminated or truncated\n",
    "        exp_replay.add(s, a, r, next_s, done)\n",
    "        if terminated:\n",
    "            s, _ = env.reset()\n",
    "        else:\n",
    "            s = next_s\n",
    "        \n",
    "    return sum_rewards, s"
   ]
  },
  {
   "cell_type": "markdown",
   "metadata": {},
   "source": [
    "### Target network\n"
   ]
  },
  {
   "cell_type": "code",
   "execution_count": 17,
   "metadata": {},
   "outputs": [
    {
     "data": {
      "text/plain": [
       "<All keys matched successfully>"
      ]
     },
     "execution_count": 17,
     "metadata": {},
     "output_type": "execute_result"
    }
   ],
   "source": [
    "target_network = DQNAgent(agent.state_shape, agent.n_actions, epsilon=0.5).to(device)\n",
    "target_network.load_state_dict(agent.state_dict())"
   ]
  },
  {
   "cell_type": "markdown",
   "metadata": {},
   "source": [
    "### Learning with DQN\n",
    "Here we write a function similar to tabular q-learning. We will calculate average TD error per batch using the equation:\n",
    "\n",
    "$$ L =  \\frac{1}{N} \\sum_{i=1}^{N} \\left[ r_i + \\left( (1-done_i) . \\gamma .  \\max_{a'} \\hat{q}(s'_i,a'_i;w^-_t) \\right) – \\hat{q}(s_i,a_i;w_t) \\right]^2$$\n",
    "\n",
    "\n",
    "$$ \\nabla_w L =   - \\frac{1}{N} \\sum_{i=1}^{N} \\left[ r_i + \\left( (1-done_i) . \\gamma .  \\max_{a'} \\hat{q}(s'_i,a'_i;w^-_t) \\right) – \\hat{q}(s_i,a_i;w_t) \\right] \\nabla \\hat{q}(s_i,a_i;w_t)$$\n",
    "\n",
    "\n",
    "$\\hat{q}(s',A;w^{-})$ is calculated using target network whose weights are held constant and refreshed periodically from the agent learning network.\n",
    "\n",
    "Target is given by following:\n",
    "* non terminal state: $r_i +  \\gamma .  \\max_{a'} \\hat{q}(s'_i,a'_i;w^-_t)$\n",
    "* terminal state: $ r_i $\n",
    "\n",
    "We then carryout back propagation through the agent network to update the weights using equation below:\n",
    "\n",
    "\n",
    "$$\n",
    "\\DeclareMathOperator*{\\max}{max} w_{t+1} \\leftarrow w_t - \\alpha \\nabla_{w}L$$"
   ]
  },
  {
   "cell_type": "code",
   "execution_count": 18,
   "metadata": {},
   "outputs": [],
   "source": [
    "def compute_td_loss(agent, target_network, states, actions, rewards, next_states, done_flags,\n",
    "                    gamma=0.99, device=device):\n",
    "\n",
    "    # convert numpy array to torch tensors\n",
    "    states = torch.tensor(states, device=device, dtype=torch.float)\n",
    "    actions = torch.tensor(actions, device=device, dtype=torch.long)\n",
    "    rewards = torch.tensor(rewards, device=device, dtype=torch.float)\n",
    "    next_states = torch.tensor(next_states, device=device, dtype=torch.float)\n",
    "    done_flags = torch.tensor(done_flags.astype('float32'),device=device,dtype=torch.float)\n",
    "\n",
    "    # get q-values for all actions in current states\n",
    "    # use agent network\n",
    "    predicted_qvalues = agent(states)\n",
    "\n",
    "    # compute q-values for all actions in next states\n",
    "    # use target network\n",
    "    predicted_next_qvalues = target_network(next_states)\n",
    "    \n",
    "    # select q-values for chosen actions\n",
    "    predicted_qvalues_for_actions = predicted_qvalues[range(\n",
    "        len(actions)), actions]\n",
    "\n",
    "    # compute Qmax(next_states, actions) using predicted next q-values\n",
    "    next_state_values,_ = torch.max(predicted_next_qvalues, dim=1)\n",
    "\n",
    "    # compute \"target q-values\" \n",
    "    target_qvalues_for_actions = rewards + gamma * next_state_values * (1-done_flags)\n",
    "\n",
    "    # mean squared error loss to minimize\n",
    "    loss = torch.mean((predicted_qvalues_for_actions -\n",
    "                       target_qvalues_for_actions.detach()) ** 2)\n",
    "\n",
    "    return loss"
   ]
  },
  {
   "cell_type": "markdown",
   "metadata": {},
   "source": [
    "### Main loop\n",
    "\n",
    "We now carryout the training on DQN setup above."
   ]
  },
  {
   "cell_type": "code",
   "execution_count": 19,
   "metadata": {},
   "outputs": [],
   "source": [
    "from tqdm import trange\n",
    "from IPython.display import clear_output\n",
    "import matplotlib.pyplot as plt"
   ]
  },
  {
   "cell_type": "code",
   "execution_count": 20,
   "metadata": {},
   "outputs": [
    {
     "data": {
      "text/plain": [
       "<torch._C.Generator at 0x7ff0fc3b7050>"
      ]
     },
     "execution_count": 20,
     "metadata": {},
     "output_type": "execute_result"
    }
   ],
   "source": [
    "# set a seed\n",
    "seed = 13\n",
    "random.seed(seed)\n",
    "np.random.seed(seed)\n",
    "torch.manual_seed(seed)"
   ]
  },
  {
   "cell_type": "code",
   "execution_count": 21,
   "metadata": {},
   "outputs": [
    {
     "data": {
      "text/plain": [
       "<All keys matched successfully>"
      ]
     },
     "execution_count": 21,
     "metadata": {},
     "output_type": "execute_result"
    }
   ],
   "source": [
    "#setup env and agent and target networks\n",
    "env = make_env(env_name, seed)\n",
    "state_dim = env.observation_space.shape\n",
    "n_actions = env.action_space.n\n",
    "state, _ = env.reset()\n",
    "\n",
    "agent = DQNAgent(state_dim, n_actions, epsilon=1).to(device)\n",
    "target_network = DQNAgent(state_dim, n_actions, epsilon=1).to(device)\n",
    "target_network.load_state_dict(agent.state_dict())"
   ]
  },
  {
   "cell_type": "code",
   "execution_count": 22,
   "metadata": {},
   "outputs": [
    {
     "name": "stdout",
     "output_type": "stream",
     "text": [
      "10000\n"
     ]
    }
   ],
   "source": [
    "# let us fill experience replay with some samples using full random policy\n",
    "exp_replay = ReplayBuffer(10**4)\n",
    "for i in range(100):\n",
    "    play_and_record(state, agent, env, exp_replay, n_steps=10**2)\n",
    "    if len(exp_replay) == 10**4:\n",
    "        break\n",
    "print(len(exp_replay))"
   ]
  },
  {
   "cell_type": "code",
   "execution_count": 23,
   "metadata": {},
   "outputs": [],
   "source": [
    "#setup some parameters for training\n",
    "timesteps_per_epoch = 1\n",
    "batch_size = 32\n",
    "\n",
    "total_steps = 100\n",
    "# total_steps = 3 * 10**6\n",
    "# We will train only for a sample of 100 steps\n",
    "# To train the full network on a CPU will take hours.\n",
    "# infact even GPU training will be fairly long\n",
    "# Those who have access to powerful machines with GPU could \n",
    "# try training it over 3-5 million steps or so\n",
    "\n",
    "\n",
    "#init Optimizer\n",
    "opt = torch.optim.Adam(agent.parameters(), lr=1e-4)\n",
    "\n",
    "# set exploration epsilon \n",
    "start_epsilon = 1\n",
    "end_epsilon = 0.05\n",
    "eps_decay_final_step = 1 * 10**6\n",
    "\n",
    "# setup some frequency for logging and updating target network\n",
    "loss_freq = 20\n",
    "refresh_target_network_freq = 100\n",
    "eval_freq = 1000\n",
    "\n",
    "# to clip the gradients\n",
    "max_grad_norm = 5000"
   ]
  },
  {
   "cell_type": "code",
   "execution_count": 24,
   "metadata": {},
   "outputs": [],
   "source": [
    "mean_rw_history = []\n",
    "td_loss_history = []"
   ]
  },
  {
   "cell_type": "code",
   "execution_count": 25,
   "metadata": {},
   "outputs": [],
   "source": [
    "def epsilon_schedule(start_eps, end_eps, step, final_step):\n",
    "    return start_eps + (end_eps-start_eps)*min(step, final_step)/final_step\n",
    "\n",
    "def smoothen(values):\n",
    "    kernel = gaussian(100, std=100)\n",
    "    kernel = kernel / np.sum(kernel)\n",
    "    return convolve(values, kernel, 'valid')"
   ]
  },
  {
   "cell_type": "code",
   "execution_count": 26,
   "metadata": {},
   "outputs": [
    {
     "name": "stdout",
     "output_type": "stream",
     "text": [
      "buffer size = 10000, epsilon = 1.00000\n"
     ]
    },
    {
     "name": "stderr",
     "output_type": "stream",
     "text": [
      "/tmp/ipykernel_32563/3695454871.py:5: DeprecationWarning: Importing gaussian from 'scipy.signal' is deprecated and will raise an error in SciPy 1.13.0. Please use 'scipy.signal.windows.gaussian' or the convenience function 'scipy.signal.get_window' instead.\n",
      "  kernel = gaussian(100, std=100)\n"
     ]
    },
    {
     "data": {
      "image/png": "[encoded data removed]",
      "text/plain": [
       "<Figure size 1600x500 with 2 Axes>"
      ]
     },
     "metadata": {},
     "output_type": "display_data"
    },
    {
     "name": "stderr",
     "output_type": "stream",
     "text": [
      "100%|█████████████████████████████████████████████████████████████████████████████████| 101/101 [00:26<00:00,  3.86it/s]\n"
     ]
    }
   ],
   "source": [
    "state, _ = env.reset()\n",
    "for step in trange(total_steps + 1):\n",
    "    \n",
    "    # reduce exploration as we progress\n",
    "    agent.epsilon = epsilon_schedule(start_epsilon, end_epsilon, step, eps_decay_final_step)\n",
    "\n",
    "    # take timesteps_per_epoch and update experience replay buffer\n",
    "    _, state = play_and_record(state, agent, env, exp_replay, timesteps_per_epoch)\n",
    "\n",
    "    # train by sampling batch_size of data from experience replay\n",
    "    states, actions, rewards, next_states, done_flags = exp_replay.sample(batch_size)\n",
    "    \n",
    "\n",
    "    # loss = <compute TD loss>\n",
    "    loss = compute_td_loss(agent, target_network, \n",
    "                           states, actions, rewards, next_states, done_flags,                  \n",
    "                           gamma=0.99,\n",
    "                           device=device)\n",
    "\n",
    "    loss.backward()\n",
    "    grad_norm = nn.utils.clip_grad_norm_(agent.parameters(), max_grad_norm)\n",
    "    opt.step()\n",
    "    opt.zero_grad()\n",
    "\n",
    "    if step % loss_freq == 0:\n",
    "        td_loss_history.append(loss.data.cpu().item())\n",
    "\n",
    "    if step % refresh_target_network_freq == 0:\n",
    "        # Load agent weights into target_network\n",
    "        target_network.load_state_dict(agent.state_dict())\n",
    "\n",
    "    if step % eval_freq == 0:\n",
    "        # eval the agent\n",
    "        mean_rw_history.append(evaluate(\n",
    "            make_env(env_name, seed=step), agent, n_games=3, greedy=True, t_max=1000)\n",
    "        )\n",
    "\n",
    "        clear_output(True)\n",
    "        print(\"buffer size = %i, epsilon = %.5f\" %\n",
    "              (len(exp_replay), agent.epsilon))\n",
    "\n",
    "        plt.figure(figsize=[16, 5])\n",
    "        plt.subplot(1, 2, 1)\n",
    "        plt.title(\"Mean return per episode\")\n",
    "        plt.plot(mean_rw_history)\n",
    "        plt.grid()\n",
    "\n",
    "        assert not np.isnan(td_loss_history[-1])\n",
    "        plt.subplot(1, 2, 2)\n",
    "        plt.title(\"TD loss history (smoothened)\")\n",
    "        plt.plot(smoothen(td_loss_history))\n",
    "        plt.grid()\n",
    "\n",
    "        plt.show()"
   ]
  },
  {
   "cell_type": "code",
   "execution_count": 27,
   "metadata": {},
   "outputs": [
    {
     "name": "stdout",
     "output_type": "stream",
     "text": [
      "final score: 0.0\n"
     ]
    }
   ],
   "source": [
    "final_score = evaluate(\n",
    "  make_env(env_name),\n",
    "  agent, n_games=1, greedy=True, t_max=1000\n",
    ")\n",
    "print('final score:', final_score)\n"
   ]
  },
  {
   "cell_type": "markdown",
   "metadata": {},
   "source": [
    "The training for 100 steps will not produce any result. It may be close to 100,000 steps or so before you see any semblance of learning by agent. Do not worry about the exceptions above. That is because the first graph has no data point for 100 steps. First data point for the left graph is generated only at 1000th step."
   ]
  },
  {
   "cell_type": "markdown",
   "metadata": {},
   "source": [
    "**Let us record a video of trained agent**"
   ]
  },
  {
   "cell_type": "code",
   "execution_count": 40,
   "metadata": {},
   "outputs": [],
   "source": [
    "# Helper function to record videos\n",
    "def record_video(env_id, make_env, video_folder, video_length, agent):\n",
    "\n",
    "    vec_env = DummyVecEnv([lambda: make_env(env_id, clip_rewards=False)])\n",
    "    env_id_suffix = env_id.split(\"/\")[-1]\n",
    "    # Record the video starting at the first step\n",
    "    vec_env = VecVideoRecorder(vec_env, video_folder,\n",
    "                           record_video_trigger=lambda x: x == 0, video_length=video_length,\n",
    "                           name_prefix=f\"{type(agent).__name__}-{env_id_suffix}\")\n",
    "\n",
    "    obs = vec_env.reset()\n",
    "    print(obs.shape)\n",
    "    for _ in range(video_length + 1):\n",
    "        qvalues = agent.get_qvalues(obs)\n",
    "        action = qvalues.argmax(axis=-1)\n",
    "        obs, _, _, _ = vec_env.step(action)\n",
    "    # video filename\n",
    "    file_path = \"./\"+video_folder+vec_env.video_recorder.path.split(\"/\")[-1]   \n",
    "    # Save the video\n",
    "    vec_env.close()\n",
    "    return file_path\n",
    "\n",
    "def play_video(file_path):\n",
    "    mp4 = open(file_path, 'rb').read()\n",
    "    data_url = \"data:video/mp4;base64,\" + b64encode(mp4).decode()\n",
    "    return HTML(\"\"\"\n",
    "        <video width=400 controls>\n",
    "              <source src=\"%s\" type=\"video/mp4\">\n",
    "        </video>\n",
    "        \"\"\" % data_url)"
   ]
  },
  {
   "cell_type": "code",
   "execution_count": 41,
   "metadata": {},
   "outputs": [
    {
     "name": "stderr",
     "output_type": "stream",
     "text": [
      "/home/nsanghi/sandbox/apress/drl-2ed/venv/lib/python3.10/site-packages/gymnasium/utils/passive_env_checker.py:364: UserWarning: \u001b[33mWARN: No render fps was declared in the environment (env.metadata['render_fps'] is None or not defined), rendering may occur at inconsistent fps.\u001b[0m\n",
      "  logger.warn(\n"
     ]
    },
    {
     "name": "stdout",
     "output_type": "stream",
     "text": [
      "(1, 4, 84, 84)\n",
      "Saving video to /home/nsanghi/sandbox/apress/drl-2ed/chapter6/logs/videos/pytorch/6_b/DQNAgent-Breakout-v5-step-0-to-step-500.mp4\n",
      "Moviepy - Building video /home/nsanghi/sandbox/apress/drl-2ed/chapter6/logs/videos/pytorch/6_b/DQNAgent-Breakout-v5-step-0-to-step-500.mp4.\n",
      "Moviepy - Writing video /home/nsanghi/sandbox/apress/drl-2ed/chapter6/logs/videos/pytorch/6_b/DQNAgent-Breakout-v5-step-0-to-step-500.mp4\n",
      "\n"
     ]
    },
    {
     "name": "stderr",
     "output_type": "stream",
     "text": [
      "                                                                                                                        \r"
     ]
    },
    {
     "name": "stdout",
     "output_type": "stream",
     "text": [
      "Moviepy - Done !\n",
      "Moviepy - video ready /home/nsanghi/sandbox/apress/drl-2ed/chapter6/logs/videos/pytorch/6_b/DQNAgent-Breakout-v5-step-0-to-step-500.mp4\n"
     ]
    },
    {
     "data": {
      "text/html": [
       "\n",
       "        <video width=400 controls>\n",
       "              <source src=\"data:video/mp4;base64,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\" type=\"video/mp4\">\n",
       "        </video>\n",
       "        "
      ],
      "text/plain": [
       "<IPython.core.display.HTML object>"
      ]
     },
     "execution_count": 41,
     "metadata": {},
     "output_type": "execute_result"
    }
   ],
   "source": [
    "video_folder = \"logs/videos/pytorch/6_b/\"\n",
    "video_length = 500\n",
    "\n",
    "video_file = record_video(env_name, make_env, video_folder, video_length, agent)\n",
    "play_video(video_file)"
   ]
  },
  {
   "cell_type": "markdown",
   "metadata": {},
   "source": [
    "### Train using RL_Zoo3\n",
    "We will also be using Weights and Biases to records the run and other experiment details. For this we need to login using the wandb api key"
   ]
  },
  {
   "cell_type": "code",
   "execution_count": null,
   "metadata": {},
   "outputs": [],
   "source": [
    "import wandb\n",
    "wandb.login()"
   ]
  },
  {
   "cell_type": "markdown",
   "metadata": {},
   "source": [
    "#### Train agent\n",
    "\n",
    "We will use DQN. Earlier we had defined env_name as `env_name = \"ALE/Breakout-v5\"`. However for the current version we will use the same environment from Version 4. You can read more about the available environments [here](https://gymnasium.farama.org/environments/atari/breakout/) and [here](https://gymnasium.farama.org/environments/atari/). The difference is in terms of default values of `repeat_action_probability` and `frameskip`. For RL ZOO 3 we will use `BreakoutNoFrameskip-v4` "
   ]
  },
  {
   "cell_type": "markdown",
   "metadata": {},
   "source": [
    "#### Sample run with CPU\n",
    "To keep run time within bounds you can use this script where the number of training steps have been kept small\n"
   ]
  },
  {
   "cell_type": "code",
   "execution_count": 36,
   "metadata": {},
   "outputs": [
    {
     "name": "stdout",
     "output_type": "stream",
     "text": [
      "2023-11-05 11:16:51.770121: I tensorflow/core/util/port.cc:111] oneDNN custom operations are on. You may see slightly different numerical results due to floating-point round-off errors from different computation orders. To turn them off, set the environment variable `TF_ENABLE_ONEDNN_OPTS=0`.\n",
      "2023-11-05 11:16:51.817146: E tensorflow/compiler/xla/stream_executor/cuda/cuda_dnn.cc:9342] Unable to register cuDNN factory: Attempting to register factory for plugin cuDNN when one has already been registered\n",
      "2023-11-05 11:16:51.817264: E tensorflow/compiler/xla/stream_executor/cuda/cuda_fft.cc:609] Unable to register cuFFT factory: Attempting to register factory for plugin cuFFT when one has already been registered\n",
      "2023-11-05 11:16:51.817297: E tensorflow/compiler/xla/stream_executor/cuda/cuda_blas.cc:1518] Unable to register cuBLAS factory: Attempting to register factory for plugin cuBLAS when one has already been registered\n",
      "2023-11-05 11:16:51.827151: I tensorflow/core/platform/cpu_feature_guard.cc:182] This TensorFlow binary is optimized to use available CPU instructions in performance-critical operations.\n",
      "To enable the following instructions: AVX2 AVX_VNNI FMA, in other operations, rebuild TensorFlow with the appropriate compiler flags.\n",
      "2023-11-05 11:16:52.843308: W tensorflow/compiler/tf2tensorrt/utils/py_utils.cc:38] TF-TRT Warning: Could not find TensorRT\n",
      "========== BreakoutNoFrameskip-v4 ==========\n",
      "Seed: 2804278444\n",
      "\u001b[34m\u001b[1mwandb\u001b[0m: Currently logged in as: \u001b[33mnsanghi\u001b[0m. Use \u001b[1m`wandb login --relogin`\u001b[0m to force relogin\n",
      "\u001b[34m\u001b[1mwandb\u001b[0m: Tracking run with wandb version 0.15.12\n",
      "\u001b[34m\u001b[1mwandb\u001b[0m: Run data is saved locally in \u001b[35m\u001b[1m/home/nsanghi/sandbox/apress/drl-2ed/chapter6/wandb/run-20231105_111658-oin92fk9\u001b[0m\n",
      "\u001b[34m\u001b[1mwandb\u001b[0m: Run \u001b[1m`wandb offline`\u001b[0m to turn off syncing.\n",
      "\u001b[34m\u001b[1mwandb\u001b[0m: Syncing run \u001b[33mBreakoutNoFrameskip-v4__dqn__2804278444__1699163215\u001b[0m\n",
      "\u001b[34m\u001b[1mwandb\u001b[0m: ⭐️ View project at \u001b[34m\u001b[4mhttps://wandb.ai/nsanghi/dqn-breakout\u001b[0m\n",
      "\u001b[34m\u001b[1mwandb\u001b[0m: 🚀 View run at \u001b[34m\u001b[4mhttps://wandb.ai/nsanghi/dqn-breakout/runs/oin92fk9\u001b[0m\n",
      "Loading hyperparameters from: /home/nsanghi/sandbox/apress/drl-2ed/venv/lib/python3.10/site-packages/rl_zoo3/hyperparams/dqn.yml\n",
      "Default hyperparameters for environment (ones being tuned will be overridden):\n",
      "OrderedDict([('batch_size', 32),\n",
      "             ('buffer_size', 100000),\n",
      "             ('env_wrapper',\n",
      "              ['stable_baselines3.common.atari_wrappers.AtariWrapper']),\n",
      "             ('exploration_final_eps', 0.01),\n",
      "             ('exploration_fraction', 0.1),\n",
      "             ('frame_stack', 4),\n",
      "             ('gradient_steps', 1),\n",
      "             ('learning_rate', 0.0001),\n",
      "             ('learning_starts', 100000),\n",
      "             ('n_timesteps', 10000000.0),\n",
      "             ('optimize_memory_usage', False),\n",
      "             ('policy', 'CnnPolicy'),\n",
      "             ('target_update_interval', 1000),\n",
      "             ('train_freq', 4)])\n",
      "Using 1 environments\n",
      "Overwriting n_timesteps with n=500000\n",
      "Creating test environment\n",
      "A.L.E: Arcade Learning Environment (version 0.8.1+53f58b7)\n",
      "[Powered by Stella]\n",
      "Stacking 4 frames\n",
      "Wrapping the env in a VecTransposeImage.\n",
      "Stacking 4 frames\n",
      "Wrapping the env in a VecTransposeImage.\n",
      "Using cpu device\n",
      "Log path: logs/6_c/rlzoo3//dqn/BreakoutNoFrameskip-v4_3\n",
      "Logging to runs/BreakoutNoFrameskip-v4__dqn__2804278444__1699163215/BreakoutNoFrameskip-v4/DQN_1\n",
      "\u001b[2K\u001b[35m   0%\u001b[0m \u001b[90m━━━━━━━━━━━━━━━━━━━━━━━━━━━━━━━\u001b[0m \u001b[32m72/500,000 \u001b[0m [ \u001b[33m0:00:00\u001b[0m < \u001b[36m-:--:--\u001b[0m , \u001b[31m? it/s\u001b[0m ]2023-11-05 11:17:00.690228: I tensorflow/core/util/port.cc:111] oneDNN custom operations are on. You may see slightly different numerical results due to floating-point round-off errors from different computation orders. To turn them off, set the environment variable `TF_ENABLE_ONEDNN_OPTS=0`.\n",
      "2023-11-05 11:17:00.738210: E tensorflow/compiler/xla/stream_executor/cuda/cuda_dnn.cc:9342] Unable to register cuDNN factory: Attempting to register factory for plugin cuDNN when one has already been registered\n",
      "2023-11-05 11:17:00.738311: E tensorflow/compiler/xla/stream_executor/cuda/cuda_fft.cc:609] Unable to register cuFFT factory: Attempting to register factory for plugin cuFFT when one has already been registered\n",
      "2023-11-05 11:17:00.738339: E tensorflow/compiler/xla/stream_executor/cuda/cuda_blas.cc:1518] Unable to register cuBLAS factory: Attempting to register factory for plugin cuBLAS when one has already been registered\n",
      "2023-11-05 11:17:00.748843: I tensorflow/core/platform/cpu_feature_guard.cc:182] This TensorFlow binary is optimized to use available CPU instructions in performance-critical operations.\n",
      "To enable the following instructions: AVX2 AVX_VNNI FMA, in other operations, rebuild TensorFlow with the appropriate compiler flags.\n",
      "\u001b[2K\u001b[35m   0%\u001b[0m \u001b[90m━━━━━━━━━━━━━━━━━━━━━━━━━━━━\u001b[0m \u001b[32m808/500,000 \u001b[0m [ \u001b[33m0:00:01\u001b[0m < \u001b[36m0:12:07\u001b[0m , \u001b[31m687 it/s\u001b[0m ]2023-11-05 11:17:01.787204: W tensorflow/compiler/tf2tensorrt/utils/py_utils.cc:38] TF-TRT Warning: Could not find TensorRT\n",
      "\u001b[2KEval num_timesteps=10000, episode_reward=0.80 +/- 0.75━\u001b[0m \u001b[32m9,948/500,000 \u001b[0m [ \u001b[33m0:00:19\u001b[0m < \u001b[36m0:13:11\u001b[0m , \u001b[31m620 it/s\u001b[0m ]\n",
      "\u001b[2KEpisode length: 657.00 +/- 111.50━━━━━━━━━━━━━━━━━━\u001b[0m \u001b[32m9,948/500,000 \u001b[0m [ \u001b[33m0:00:19\u001b[0m < \u001b[36m0:13:11\u001b[0m , \u001b[31m620 it/s\u001b[0m ]\n",
      "\u001b[2K----------------------------------━━━━━━━━━━━━━━━━━\u001b[0m \u001b[32m9,948/500,000 \u001b[0m [ \u001b[33m0:00:19\u001b[0m < \u001b[36m0:13:11\u001b[0m , \u001b[31m620 it/s\u001b[0m ]\n",
      "| eval/               |          |\n",
      "|    mean_ep_length   | 657      |\n",
      "|    mean_reward      | 0.8      |\n",
      "| rollout/            |          |\n",
      "|    exploration_rate | 0.802    |\n",
      "| time/               |          |\n",
      "|    total_timesteps  | 10000    |\n",
      "----------------------------------\n",
      "\u001b[2KNew best mean reward!\u001b[90m━━━━━━━━━━━━━━━━━━━━━━━━━\u001b[0m \u001b[32m9,948/500,000 \u001b[0m [ \u001b[33m0:00:19\u001b[0m < \u001b[36m0:13:11\u001b[0m , \u001b[31m620 it/s\u001b[0m ]\n",
      "\u001b[2K----------------------------------━━━━━━━━━━━━━━━━━━━━\u001b[0m \u001b[32m13,315/500,000 \u001b[0m [ \u001b[33m0:00:25\u001b[0m < \u001b[36m0:15:25\u001b[0m , \u001b[31m526 it/s\u001b[0m ]\n",
      "| rollout/            |          |\n",
      "|    ep_len_mean      | 739      |\n",
      "|    ep_rew_mean      | 1.36     |\n",
      "|    exploration_rate | 0.735    |\n",
      "| time/               |          |\n",
      "|    episodes         | 400      |\n",
      "|    fps              | 524      |\n",
      "|    time_elapsed     | 25       |\n",
      "|    total_timesteps  | 13393    |\n",
      "----------------------------------\n",
      "\u001b[2KEval num_timesteps=20000, episode_reward=1.00 +/- 1.41\u001b[0m \u001b[32m19,989/500,000 \u001b[0m [ \u001b[33m0:00:40\u001b[0m < \u001b[36m0:14:48\u001b[0m , \u001b[31m541 it/s\u001b[0m ]\n",
      "\u001b[2KEpisode length: 691.90 +/- 223.71━━━━━━━━━━━━━━━━━━━━━\u001b[0m \u001b[32m19,989/500,000 \u001b[0m [ \u001b[33m0:00:40\u001b[0m < \u001b[36m0:14:48\u001b[0m , \u001b[31m541 it/s\u001b[0m ]\n",
      "\u001b[2K----------------------------------━━━━━━━━━━━━━━━━\u001b[0m \u001b[32m19,989/500,000 \u001b[0m [ \u001b[33m0:00:40\u001b[0m < \u001b[36m0:14:48\u001b[0m , \u001b[31m541 it/s\u001b[0m ]\n",
      "| eval/               |          |\n",
      "|    mean_ep_length   | 692      |\n",
      "|    mean_reward      | 1        |\n",
      "| rollout/            |          |\n",
      "|    exploration_rate | 0.604    |\n",
      "| time/               |          |\n",
      "|    total_timesteps  | 20000    |\n",
      "----------------------------------\n",
      "\u001b[2KNew best mean reward!\u001b[90m━━━━━━━━━━━━━━━━━━━━━━━━\u001b[0m \u001b[32m19,989/500,000 \u001b[0m [ \u001b[33m0:00:40\u001b[0m < \u001b[36m0:14:48\u001b[0m , \u001b[31m541 it/s\u001b[0m ]\n",
      "\u001b[2K----------------------------------m\u001b[90m━━━━━━━━━━━━━━━━━━━━━━━\u001b[0m \u001b[32m26,308/500,000 \u001b[0m [ \u001b[33m0:00:50\u001b[0m < \u001b[36m0:15:09\u001b[0m , \u001b[31m521 it/s\u001b[0m ]\n",
      "| rollout/            |          |\n",
      "|    ep_len_mean      | 719      |\n",
      "|    ep_rew_mean      | 1.24     |\n",
      "|    exploration_rate | 0.477    |\n",
      "| time/               |          |\n",
      "|    episodes         | 800      |\n",
      "|    fps              | 515      |\n",
      "|    time_elapsed     | 51       |\n",
      "|    total_timesteps  | 26406    |\n",
      "----------------------------------\n",
      "\u001b[2KEval num_timesteps=30000, episode_reward=0.20 +/- 0.40━━━━━━━━━\u001b[0m \u001b[32m29,946/500,000 \u001b[0m [ \u001b[33m0:01:00\u001b[0m < \u001b[36m0:14:49\u001b[0m , \u001b[31m529 it/s\u001b[0m ]\n",
      "\u001b[2KEpisode length: 555.10 +/- 65.54[90m━━━━━━━━━━━━━━━━━━━━━━━\u001b[0m \u001b[32m29,946/500,000 \u001b[0m [ \u001b[33m0:01:00\u001b[0m < \u001b[36m0:14:49\u001b[0m , \u001b[31m529 it/s\u001b[0m ]\n",
      "\u001b[2K----------------------------------0m━━━━━━━━━━━━━━━━━━━━━━━\u001b[0m \u001b[32m29,946/500,000 \u001b[0m [ \u001b[33m0:01:00\u001b[0m < \u001b[36m0:14:49\u001b[0m , \u001b[31m529 it/s\u001b[0m ]\n",
      "| eval/               |          |\n",
      "|    mean_ep_length   | 555      |\n",
      "|    mean_reward      | 0.2      |\n",
      "| rollout/            |          |\n",
      "|    exploration_rate | 0.406    |\n",
      "| time/               |          |\n",
      "|    total_timesteps  | 30000    |\n",
      "----------------------------------\n",
      "\u001b[2K----------------------------------m\u001b[90m━━━━━━━━━━━━━━━━━━━━━━━\u001b[0m \u001b[32m39,538/500,000 \u001b[0m [ \u001b[33m0:01:16\u001b[0m < \u001b[36m0:14:29\u001b[0m , \u001b[31m530 it/s\u001b[0m ]\n",
      "| rollout/            |          |\n",
      "|    ep_len_mean      | 728      |\n",
      "|    ep_rew_mean      | 1.24     |\n",
      "|    exploration_rate | 0.216    |\n",
      "| time/               |          |\n",
      "|    episodes         | 1200     |\n",
      "|    fps              | 516      |\n",
      "|    time_elapsed     | 76       |\n",
      "|    total_timesteps  | 39593    |\n",
      "----------------------------------\n",
      "\u001b[2KEval num_timesteps=40000, episode_reward=1.50 +/- 2.38━━━━━━━━━\u001b[0m \u001b[32m39,967/500,000 \u001b[0m [ \u001b[33m0:01:23\u001b[0m < \u001b[36m0:14:23\u001b[0m , \u001b[31m534 it/s\u001b[0m ]\n",
      "\u001b[2KEpisode length: 724.10 +/- 309.2090m━━━━━━━━━━━━━━━━━━━━━━━\u001b[0m \u001b[32m39,967/500,000 \u001b[0m [ \u001b[33m0:01:23\u001b[0m < \u001b[36m0:14:23\u001b[0m , \u001b[31m534 it/s\u001b[0m ]\n",
      "\u001b[2K----------------------------------0m━━━━━━━━━━━━━━━━━━━━━━━\u001b[0m \u001b[32m39,967/500,000 \u001b[0m [ \u001b[33m0:01:23\u001b[0m < \u001b[36m0:14:23\u001b[0m , \u001b[31m534 it/s\u001b[0m ]\n",
      "| eval/               |          |\n",
      "|    mean_ep_length   | 724      |\n",
      "|    mean_reward      | 1.5      |\n",
      "| rollout/            |          |\n",
      "|    exploration_rate | 0.208    |\n",
      "| time/               |          |\n",
      "|    total_timesteps  | 40000    |\n",
      "----------------------------------\n",
      "\u001b[2KNew best mean reward!\u001b[91m╸\u001b[0m\u001b[90m━━━━━━━━━━━━━━━━━━━━━━━\u001b[0m \u001b[32m39,967/500,000 \u001b[0m [ \u001b[33m0:01:23\u001b[0m < \u001b[36m0:14:23\u001b[0m , \u001b[31m534 it/s\u001b[0m ]\n",
      "\u001b[2KEval num_timesteps=50000, episode_reward=2.80 +/- 2.32━━━━━━━━━\u001b[0m \u001b[32m49,945/500,000 \u001b[0m [ \u001b[33m0:01:50\u001b[0m < \u001b[36m0:16:12\u001b[0m , \u001b[31m463 it/s\u001b[0m ]\n",
      "\u001b[2KEpisode length: 1031.70 +/- 416.4390m━━━━━━━━━━━━━━━━━━━━━━\u001b[0m \u001b[32m49,945/500,000 \u001b[0m [ \u001b[33m0:01:50\u001b[0m < \u001b[36m0:16:12\u001b[0m , \u001b[31m463 it/s\u001b[0m ]\n",
      "\u001b[2K----------------------------------0m\u001b[90m━━━━━━━━━━━━━━━━━━━━━━\u001b[0m \u001b[32m49,945/500,000 \u001b[0m [ \u001b[33m0:01:50\u001b[0m < \u001b[36m0:16:12\u001b[0m , \u001b[31m463 it/s\u001b[0m ]\n",
      "| eval/               |          |\n",
      "|    mean_ep_length   | 1.03e+03 |\n",
      "|    mean_reward      | 2.8      |\n",
      "| rollout/            |          |\n",
      "|    exploration_rate | 0.01     |\n",
      "| time/               |          |\n",
      "|    total_timesteps  | 50000    |\n",
      "----------------------------------\n",
      "\u001b[2KNew best mean reward!m\u001b[90m╺\u001b[0m\u001b[90m━━━━━━━━━━━━━━━━━━━━━━\u001b[0m \u001b[32m49,945/500,000 \u001b[0m [ \u001b[33m0:01:50\u001b[0m < \u001b[36m0:16:12\u001b[0m , \u001b[31m463 it/s\u001b[0m ]\n",
      "\u001b[2K----------------------------------0m\u001b[90m━━━━━━━━━━━━━━━━━━━━━━\u001b[0m \u001b[32m52,413/500,000 \u001b[0m [ \u001b[33m0:01:54\u001b[0m < \u001b[36m0:18:34\u001b[0m , \u001b[31m402 it/s\u001b[0m ]\n",
      "| rollout/            |          |\n",
      "|    ep_len_mean      | 696      |\n",
      "|    ep_rew_mean      | 1.11     |\n",
      "|    exploration_rate | 0.01     |\n",
      "| time/               |          |\n",
      "|    episodes         | 1600     |\n",
      "|    fps              | 456      |\n",
      "|    time_elapsed     | 114      |\n",
      "|    total_timesteps  | 52431    |\n",
      "----------------------------------\n",
      "\u001b[2KEval num_timesteps=60000, episode_reward=3.40 +/- 3.04━━━━━━━━━\u001b[0m \u001b[32m59,996/500,000 \u001b[0m [ \u001b[33m0:02:17\u001b[0m < \u001b[36m0:18:22\u001b[0m , \u001b[31m400 it/s\u001b[0m ]\n",
      "\u001b[2KEpisode length: 1075.90 +/- 464.3390m━━━━━━━━━━━━━━━━━━━━━━\u001b[0m \u001b[32m59,996/500,000 \u001b[0m [ \u001b[33m0:02:17\u001b[0m < \u001b[36m0:18:22\u001b[0m , \u001b[31m400 it/s\u001b[0m ]\n",
      "\u001b[2K----------------------------------90m━━━━━━━━━━━━━━━━━━━━━━\u001b[0m \u001b[32m59,996/500,000 \u001b[0m [ \u001b[33m0:02:17\u001b[0m < \u001b[36m0:18:22\u001b[0m , \u001b[31m400 it/s\u001b[0m ]\n",
      "| eval/               |          |\n",
      "|    mean_ep_length   | 1.08e+03 |\n",
      "|    mean_reward      | 3.4      |\n",
      "| rollout/            |          |\n",
      "|    exploration_rate | 0.01     |\n",
      "| time/               |          |\n",
      "|    total_timesteps  | 60000    |\n",
      "----------------------------------\n",
      "\u001b[2KNew best mean reward!m\u001b[91m╸\u001b[0m\u001b[90m━━━━━━━━━━━━━━━━━━━━━━\u001b[0m \u001b[32m59,996/500,000 \u001b[0m [ \u001b[33m0:02:17\u001b[0m < \u001b[36m0:18:22\u001b[0m , \u001b[31m400 it/s\u001b[0m ]\n",
      "\u001b[2K----------------------------------[0m\u001b[90m━━━━━━━━━━━━━━━━━━━━━\u001b[0m \u001b[32m66,251/500,000 \u001b[0m [ \u001b[33m0:02:28\u001b[0m < \u001b[36m0:18:29\u001b[0m , \u001b[31m391 it/s\u001b[0m ]\n",
      "| rollout/            |          |\n",
      "|    ep_len_mean      | 744      |\n",
      "|    ep_rew_mean      | 1.44     |\n",
      "|    exploration_rate | 0.01     |\n",
      "| time/               |          |\n",
      "|    episodes         | 2000     |\n",
      "|    fps              | 446      |\n",
      "|    time_elapsed     | 148      |\n",
      "|    total_timesteps  | 66313    |\n",
      "----------------------------------\n",
      "\u001b[2KEval num_timesteps=70000, episode_reward=1.00 +/- 2.00━━━━━━━━━\u001b[0m \u001b[32m69,955/500,000 \u001b[0m [ \u001b[33m0:02:41\u001b[0m < \u001b[36m0:18:29\u001b[0m , \u001b[31m388 it/s\u001b[0m ]\n",
      "\u001b[2KEpisode length: 707.70 +/- 356.27\u001b[90m━━━━━━━━━━━━━━━━━━━━━\u001b[0m \u001b[32m69,955/500,000 \u001b[0m [ \u001b[33m0:02:41\u001b[0m < \u001b[36m0:18:29\u001b[0m , \u001b[31m388 it/s\u001b[0m ]\n",
      "\u001b[2K----------------------------------[90m━━━━━━━━━━━━━━━━━━━━━\u001b[0m \u001b[32m69,955/500,000 \u001b[0m [ \u001b[33m0:02:41\u001b[0m < \u001b[36m0:18:29\u001b[0m , \u001b[31m388 it/s\u001b[0m ]\n",
      "| eval/               |          |\n",
      "|    mean_ep_length   | 708      |\n",
      "|    mean_reward      | 1        |\n",
      "| rollout/            |          |\n",
      "|    exploration_rate | 0.01     |\n",
      "| time/               |          |\n",
      "|    total_timesteps  | 70000    |\n",
      "----------------------------------\n",
      "\u001b[2K----------------------------------[0m\u001b[90m━━━━━━━━━━━━━━━━━━━━━\u001b[0m \u001b[32m79,881/500,000 \u001b[0m [ \u001b[33m0:02:58\u001b[0m < \u001b[36m0:15:19\u001b[0m , \u001b[31m457 it/s\u001b[0m ]\n",
      "| rollout/            |          |\n",
      "|    ep_len_mean      | 765      |\n",
      "|    ep_rew_mean      | 1.48     |\n",
      "|    exploration_rate | 0.01     |\n",
      "| time/               |          |\n",
      "|    episodes         | 2400     |\n",
      "|    fps              | 447      |\n",
      "|    time_elapsed     | 178      |\n",
      "|    total_timesteps  | 79953    |\n",
      "----------------------------------\n",
      "\u001b[2KEval num_timesteps=80000, episode_reward=1.10 +/- 1.81━━━━━━━━━\u001b[0m \u001b[32m79,952/500,000 \u001b[0m [ \u001b[33m0:03:05\u001b[0m < \u001b[36m0:15:19\u001b[0m , \u001b[31m457 it/s\u001b[0m ]\n",
      "\u001b[2KEpisode length: 719.70 +/- 324.65\u001b[90m━━━━━━━━━━━━━━━━━━━━━\u001b[0m \u001b[32m79,952/500,000 \u001b[0m [ \u001b[33m0:03:05\u001b[0m < \u001b[36m0:15:19\u001b[0m , \u001b[31m457 it/s\u001b[0m ]\n",
      "\u001b[2K----------------------------------[90m━━━━━━━━━━━━━━━━━━━━━\u001b[0m \u001b[32m79,952/500,000 \u001b[0m [ \u001b[33m0:03:05\u001b[0m < \u001b[36m0:15:19\u001b[0m , \u001b[31m457 it/s\u001b[0m ]\n",
      "| eval/               |          |\n",
      "|    mean_ep_length   | 720      |\n",
      "|    mean_reward      | 1.1      |\n",
      "| rollout/            |          |\n",
      "|    exploration_rate | 0.01     |\n",
      "| time/               |          |\n",
      "|    total_timesteps  | 80000    |\n",
      "----------------------------------\n",
      "\u001b[2KEval num_timesteps=90000, episode_reward=0.50 +/- 1.50━━━━━━━━━\u001b[0m \u001b[32m89,957/500,000 \u001b[0m [ \u001b[33m0:03:28\u001b[0m < \u001b[36m0:14:42\u001b[0m , \u001b[31m465 it/s\u001b[0m ]\n",
      "\u001b[2KEpisode length: 613.90 +/- 273.45m\u001b[90m━━━━━━━━━━━━━━━━━━━━\u001b[0m \u001b[32m89,957/500,000 \u001b[0m [ \u001b[33m0:03:28\u001b[0m < \u001b[36m0:14:42\u001b[0m , \u001b[31m465 it/s\u001b[0m ]\n",
      "\u001b[2K----------------------------------\u001b[90m━━━━━━━━━━━━━━━━━━━━\u001b[0m \u001b[32m89,957/500,000 \u001b[0m [ \u001b[33m0:03:28\u001b[0m < \u001b[36m0:14:42\u001b[0m , \u001b[31m465 it/s\u001b[0m ]\n",
      "| eval/               |          |\n",
      "|    mean_ep_length   | 614      |\n",
      "|    mean_reward      | 0.5      |\n",
      "| rollout/            |          |\n",
      "|    exploration_rate | 0.01     |\n",
      "| time/               |          |\n",
      "|    total_timesteps  | 90000    |\n",
      "----------------------------------\n",
      "\u001b[2K----------------------------------\u001b[0m\u001b[90m━━━━━━━━━━━━━━━━━━━━\u001b[0m \u001b[32m92,620/500,000 \u001b[0m [ \u001b[33m0:03:33\u001b[0m < \u001b[36m0:15:01\u001b[0m , \u001b[31m452 it/s\u001b[0m ]\n",
      "| rollout/            |          |\n",
      "|    ep_len_mean      | 720      |\n",
      "|    ep_rew_mean      | 1.2      |\n",
      "|    exploration_rate | 0.01     |\n",
      "| time/               |          |\n",
      "|    episodes         | 2800     |\n",
      "|    fps              | 434      |\n",
      "|    time_elapsed     | 213      |\n",
      "|    total_timesteps  | 92682    |\n",
      "----------------------------------\n",
      "\u001b[2KEval num_timesteps=100000, episode_reward=1.30 +/- 2.83━━━━━━━━\u001b[0m \u001b[32m99,941/500,000 \u001b[0m [ \u001b[33m0:03:54\u001b[0m < \u001b[36m0:15:28\u001b[0m , \u001b[31m431 it/s\u001b[0m ]\n",
      "\u001b[2KEpisode length: 716.30 +/- 391.95m\u001b[90m━━━━━━━━━━━━━━━━━━━━\u001b[0m \u001b[32m99,941/500,000 \u001b[0m [ \u001b[33m0:03:54\u001b[0m < \u001b[36m0:15:28\u001b[0m , \u001b[31m431 it/s\u001b[0m ]\n",
      "\u001b[2K----------------------------------\u001b[90m━━━━━━━━━━━━━━━━━━━━\u001b[0m \u001b[32m99,941/500,000 \u001b[0m [ \u001b[33m0:03:54\u001b[0m < \u001b[36m0:15:28\u001b[0m , \u001b[31m431 it/s\u001b[0m ]\n",
      "| eval/               |          |\n",
      "|    mean_ep_length   | 716      |\n",
      "|    mean_reward      | 1.3      |\n",
      "| rollout/            |          |\n",
      "|    exploration_rate | 0.01     |\n",
      "| time/               |          |\n",
      "|    total_timesteps  | 100000   |\n",
      "----------------------------------\n",
      "\u001b[2K----------------------------------╺\u001b[0m\u001b[90m━━━━━━━━━━━━━━━━━━━\u001b[0m \u001b[32m105,897/500,000 \u001b[0m [ \u001b[33m0:05:47\u001b[0m < \u001b[36m2:12:08\u001b[0m , \u001b[31m50 it/s\u001b[0m ]\n",
      "| rollout/            |          |\n",
      "|    ep_len_mean      | 725      |\n",
      "|    ep_rew_mean      | 1.28     |\n",
      "|    exploration_rate | 0.01     |\n",
      "| time/               |          |\n",
      "|    episodes         | 3200     |\n",
      "|    fps              | 304      |\n",
      "|    time_elapsed     | 347      |\n",
      "|    total_timesteps  | 105899   |\n",
      "| train/              |          |\n",
      "|    learning_rate    | 0.0001   |\n",
      "|    loss             | 0.0153   |\n",
      "|    n_updates        | 1474     |\n",
      "----------------------------------\n",
      "\u001b[2KEval num_timesteps=110000, episode_reward=1.90 +/- 0.70━━━━━━━━\u001b[0m \u001b[32m109,998/500,000 \u001b[0m [ \u001b[33m0:07:38\u001b[0m < \u001b[36m2:52:27\u001b[0m , \u001b[31m38 it/s\u001b[0m ]\n",
      "\u001b[2KEpisode length: 793.00 +/- 109.100m\u001b[90m━━━━━━━━━━━━━━━━━━━\u001b[0m \u001b[32m109,998/500,000 \u001b[0m [ \u001b[33m0:07:38\u001b[0m < \u001b[36m2:52:27\u001b[0m , \u001b[31m38 it/s\u001b[0m ]\n",
      "\u001b[2K----------------------------------m\u001b[90m━━━━━━━━━━━━━━━━━━━\u001b[0m \u001b[32m109,998/500,000 \u001b[0m [ \u001b[33m0:07:38\u001b[0m < \u001b[36m2:52:27\u001b[0m , \u001b[31m38 it/s\u001b[0m ]\n",
      "| eval/               |          |\n",
      "|    mean_ep_length   | 793      |\n",
      "|    mean_reward      | 1.9      |\n",
      "| rollout/            |          |\n",
      "|    exploration_rate | 0.01     |\n",
      "| time/               |          |\n",
      "|    total_timesteps  | 110000   |\n",
      "| train/              |          |\n",
      "|    learning_rate    | 0.0001   |\n",
      "|    loss             | 0.000339 |\n",
      "|    n_updates        | 2499     |\n",
      "----------------------------------\n",
      "\u001b[2K\u001b[35m  22%\u001b[0m \u001b[91m━━━━━\u001b[0m\u001b[91m╸\u001b[0m\u001b[90m━━━━━━━━━━━━━━━━━━━\u001b[0m \u001b[32m110,373/500,000 \u001b[0m [ \u001b[33m0:07:46\u001b[0m < \u001b[36m3:37:23\u001b[0m , \u001b[31m30 it/s\u001b[0m ]^C\n",
      "\u001b[2K\u001b[35m  22%\u001b[0m \u001b[91m━━━━━\u001b[0m\u001b[91m╸\u001b[0m\u001b[90m━━━━━━━━━━━━━━━━━━━\u001b[0m \u001b[32m110,380/500,000 \u001b[0m [ \u001b[33m0:07:46\u001b[0m < \u001b[36m3:36:44\u001b[0m , \u001b[31m30 it/s\u001b[0m ]\n",
      "\u001b[?25hSaving to logs/6_c/rlzoo3//dqn/BreakoutNoFrameskip-v4_3\n",
      "\u001b[34m\u001b[1mwandb\u001b[0m: Waiting for W&B process to finish... \u001b[32m(success).\u001b[0m\n"
     ]
    }
   ],
   "source": [
    "# CPU version where `n-timesteps` value has been scaled down. \n",
    "# For a good run esp if you have GPU, change it to 10 million i.e. 10000000\n",
    "\n",
    "!python -m rl_zoo3.train --algo dqn --env BreakoutNoFrameskip-v4 --n-timesteps 500000 --save-freq 10000 \\\n",
    "--eval-freq 10000 --eval-episodes 10 --log-interval 400 --progress \\\n",
    "--track --wandb-project-name dqn-breakout -f logs/6_c/rlzoo3/\n",
    "\n",
    "\n",
    "# example GPU script\n",
    "\n",
    "# !python -m rl_zoo3.train --algo dqn --env BreakoutNoFrameskip-v4 --n-timesteps 10000000 --save-freq 100000 \\\n",
    "# --eval-freq 25000 --eval-episodes 10 --progress \\\n",
    "# --track --wandb-project-name dqn-breakout-gpu -f logs/6_c/rlzoo3/"
   ]
  },
  {
   "cell_type": "code",
   "execution_count": 37,
   "metadata": {},
   "outputs": [
    {
     "name": "stdout",
     "output_type": "stream",
     "text": [
      "2023-11-05 11:26:25.440964: I tensorflow/core/util/port.cc:111] oneDNN custom operations are on. You may see slightly different numerical results due to floating-point round-off errors from different computation orders. To turn them off, set the environment variable `TF_ENABLE_ONEDNN_OPTS=0`.\n",
      "2023-11-05 11:26:25.500916: E tensorflow/compiler/xla/stream_executor/cuda/cuda_dnn.cc:9342] Unable to register cuDNN factory: Attempting to register factory for plugin cuDNN when one has already been registered\n",
      "2023-11-05 11:26:25.501083: E tensorflow/compiler/xla/stream_executor/cuda/cuda_fft.cc:609] Unable to register cuFFT factory: Attempting to register factory for plugin cuFFT when one has already been registered\n",
      "2023-11-05 11:26:25.501463: E tensorflow/compiler/xla/stream_executor/cuda/cuda_blas.cc:1518] Unable to register cuBLAS factory: Attempting to register factory for plugin cuBLAS when one has already been registered\n",
      "2023-11-05 11:26:25.518227: I tensorflow/core/platform/cpu_feature_guard.cc:182] This TensorFlow binary is optimized to use available CPU instructions in performance-critical operations.\n",
      "To enable the following instructions: AVX2 AVX_VNNI FMA, in other operations, rebuild TensorFlow with the appropriate compiler flags.\n",
      "2023-11-05 11:26:27.075868: W tensorflow/compiler/tf2tensorrt/utils/py_utils.cc:38] TF-TRT Warning: Could not find TensorRT\n",
      "Loading latest experiment, id=3\n",
      "Loading logs/6_c/rlzoo3/dqn/BreakoutNoFrameskip-v4_3/BreakoutNoFrameskip-v4.zip\n",
      "A.L.E: Arcade Learning Environment (version 0.8.1+53f58b7)\n",
      "[Powered by Stella]\n",
      "Stacking 4 frames\n",
      "Atari Episode Score: 2.00\n",
      "Atari Episode Length 811\n",
      "Atari Episode Score: 3.00\n",
      "Atari Episode Length 984\n",
      "Atari Episode Score: 3.00\n",
      "Atari Episode Length 984\n",
      "Atari Episode Score: 2.00\n",
      "Atari Episode Length 819\n",
      "Atari Episode Score: 2.00\n",
      "Atari Episode Length 801\n",
      "Atari Episode Score: 2.00\n",
      "Atari Episode Length 813\n",
      "Atari Episode Score: 2.00\n",
      "Atari Episode Length 792\n",
      "Atari Episode Score: 2.00\n",
      "Atari Episode Length 792\n",
      "Atari Episode Score: 2.00\n",
      "Atari Episode Length 809\n",
      "Atari Episode Score: 3.00\n",
      "Atari Episode Length 992\n",
      "Atari Episode Score: 3.00\n",
      "Atari Episode Length 1012\n",
      "Atari Episode Score: 3.00\n",
      "Atari Episode Length 996\n",
      "Atari Episode Score: 2.00\n",
      "Atari Episode Length 796\n",
      "Atari Episode Score: 2.00\n",
      "Atari Episode Length 800\n",
      "Atari Episode Score: 2.00\n",
      "Atari Episode Length 799\n",
      "Atari Episode Score: 2.00\n",
      "Atari Episode Length 807\n",
      "Atari Episode Score: 2.00\n",
      "Atari Episode Length 813\n",
      "Atari Episode Score: 2.00\n",
      "Atari Episode Length 793\n",
      "Atari Episode Score: 2.00\n",
      "Atari Episode Length 808\n",
      "Atari Episode Score: 3.00\n",
      "Atari Episode Length 1000\n",
      "Atari Episode Score: 2.00\n",
      "Atari Episode Length 803\n",
      "Atari Episode Score: 2.00\n",
      "Atari Episode Length 805\n",
      "Atari Episode Score: 2.00\n",
      "Atari Episode Length 812\n",
      "Atari Episode Score: 2.00\n",
      "Atari Episode Length 796\n",
      "Atari Episode Score: 2.00\n",
      "Atari Episode Length 804\n"
     ]
    }
   ],
   "source": [
    "#### Evaluate Trained Agent\n",
    "\n",
    "!python -m rl_zoo3.enjoy --algo dqn --env BreakoutNoFrameskip-v4 --no-render --n-timesteps 5000 --folder logs/6_c/rlzoo3"
   ]
  },
  {
   "cell_type": "markdown",
   "metadata": {},
   "source": [
    "#### Record a video"
   ]
  },
  {
   "cell_type": "code",
   "execution_count": 38,
   "metadata": {},
   "outputs": [
    {
     "name": "stdout",
     "output_type": "stream",
     "text": [
      "2023-11-05 11:28:00.968414: I tensorflow/core/util/port.cc:111] oneDNN custom operations are on. You may see slightly different numerical results due to floating-point round-off errors from different computation orders. To turn them off, set the environment variable `TF_ENABLE_ONEDNN_OPTS=0`.\n",
      "2023-11-05 11:28:01.018154: E tensorflow/compiler/xla/stream_executor/cuda/cuda_dnn.cc:9342] Unable to register cuDNN factory: Attempting to register factory for plugin cuDNN when one has already been registered\n",
      "2023-11-05 11:28:01.018676: E tensorflow/compiler/xla/stream_executor/cuda/cuda_fft.cc:609] Unable to register cuFFT factory: Attempting to register factory for plugin cuFFT when one has already been registered\n",
      "2023-11-05 11:28:01.018719: E tensorflow/compiler/xla/stream_executor/cuda/cuda_blas.cc:1518] Unable to register cuBLAS factory: Attempting to register factory for plugin cuBLAS when one has already been registered\n",
      "2023-11-05 11:28:01.028966: I tensorflow/core/platform/cpu_feature_guard.cc:182] This TensorFlow binary is optimized to use available CPU instructions in performance-critical operations.\n",
      "To enable the following instructions: AVX2 AVX_VNNI FMA, in other operations, rebuild TensorFlow with the appropriate compiler flags.\n",
      "2023-11-05 11:28:02.054547: W tensorflow/compiler/tf2tensorrt/utils/py_utils.cc:38] TF-TRT Warning: Could not find TensorRT\n",
      "Loading latest experiment, id=3\n",
      "Loading logs/6_c/rlzoo3/dqn/BreakoutNoFrameskip-v4_3/BreakoutNoFrameskip-v4.zip\n",
      "A.L.E: Arcade Learning Environment (version 0.8.1+53f58b7)\n",
      "[Powered by Stella]\n",
      "Stacking 4 frames\n",
      "Loading logs/6_c/rlzoo3/dqn/BreakoutNoFrameskip-v4_3/BreakoutNoFrameskip-v4.zip\n",
      "Wrapping the env in a VecTransposeImage.\n",
      "/home/nsanghi/sandbox/apress/drl-2ed/venv/lib/python3.10/site-packages/gymnasium/utils/passive_env_checker.py:364: UserWarning: \u001b[33mWARN: No render fps was declared in the environment (env.metadata['render_fps'] is None or not defined), rendering may occur at inconsistent fps.\u001b[0m\n",
      "  logger.warn(\n",
      "Saving video to /home/nsanghi/sandbox/apress/drl-2ed/chapter6/logs/6_c/rlzoo3/dqn/BreakoutNoFrameskip-v4_3/videos/final-model-dqn-BreakoutNoFrameskip-v4-step-0-to-step-1000.mp4\n",
      "Moviepy - Building video /home/nsanghi/sandbox/apress/drl-2ed/chapter6/logs/6_c/rlzoo3/dqn/BreakoutNoFrameskip-v4_3/videos/final-model-dqn-BreakoutNoFrameskip-v4-step-0-to-step-1000.mp4.\n",
      "Moviepy - Writing video /home/nsanghi/sandbox/apress/drl-2ed/chapter6/logs/6_c/rlzoo3/dqn/BreakoutNoFrameskip-v4_3/videos/final-model-dqn-BreakoutNoFrameskip-v4-step-0-to-step-1000.mp4\n",
      "\n",
      "Moviepy - Done !                                                                \n",
      "Moviepy - video ready /home/nsanghi/sandbox/apress/drl-2ed/chapter6/logs/6_c/rlzoo3/dqn/BreakoutNoFrameskip-v4_3/videos/final-model-dqn-BreakoutNoFrameskip-v4-step-0-to-step-1000.mp4\n"
     ]
    }
   ],
   "source": [
    "!python -m rl_zoo3.record_video --algo dqn --env BreakoutNoFrameskip-v4 --exp-id 0 -f logs/6_c/rlzoo3/ -n 1000"
   ]
  },
  {
   "cell_type": "code",
   "execution_count": 42,
   "metadata": {},
   "outputs": [
    {
     "data": {
      "text/html": [
       "\n",
       "        <video width=400 controls>\n",
       "              <source src=\"data:video/mp4;base64,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\" type=\"video/mp4\">\n",
       "        </video>\n",
       "        "
      ],
      "text/plain": [
       "<IPython.core.display.HTML object>"
      ]
     },
     "execution_count": 42,
     "metadata": {},
     "output_type": "execute_result"
    }
   ],
   "source": [
    "video_file_rlzoo = \"logs/6_c/rlzoo3/dqn/BreakoutNoFrameskip-v4_3/videos/final-model-dqn-BreakoutNoFrameskip-v4-step-0-to-step-1000.mp4\"\n",
    "play_video(video_file_rlzoo)"
   ]
  },
  {
   "cell_type": "code",
   "execution_count": 43,
   "metadata": {},
   "outputs": [
    {
     "name": "stdout",
     "output_type": "stream",
     "text": [
      "2023-11-05 11:32:33.004189: I tensorflow/core/util/port.cc:111] oneDNN custom operations are on. You may see slightly different numerical results due to floating-point round-off errors from different computation orders. To turn them off, set the environment variable `TF_ENABLE_ONEDNN_OPTS=0`.\n",
      "2023-11-05 11:32:33.052926: E tensorflow/compiler/xla/stream_executor/cuda/cuda_dnn.cc:9342] Unable to register cuDNN factory: Attempting to register factory for plugin cuDNN when one has already been registered\n",
      "2023-11-05 11:32:33.053033: E tensorflow/compiler/xla/stream_executor/cuda/cuda_fft.cc:609] Unable to register cuFFT factory: Attempting to register factory for plugin cuFFT when one has already been registered\n",
      "2023-11-05 11:32:33.053069: E tensorflow/compiler/xla/stream_executor/cuda/cuda_blas.cc:1518] Unable to register cuBLAS factory: Attempting to register factory for plugin cuBLAS when one has already been registered\n",
      "2023-11-05 11:32:33.063419: I tensorflow/core/platform/cpu_feature_guard.cc:182] This TensorFlow binary is optimized to use available CPU instructions in performance-critical operations.\n",
      "To enable the following instructions: AVX2 AVX_VNNI FMA, in other operations, rebuild TensorFlow with the appropriate compiler flags.\n",
      "2023-11-05 11:32:34.082576: W tensorflow/compiler/tf2tensorrt/utils/py_utils.cc:38] TF-TRT Warning: Could not find TensorRT\n",
      "Loading latest experiment, id=3\n",
      "Loading logs/6_c/rlzoo3/dqn/BreakoutNoFrameskip-v4_3/best_model.zip\n",
      "A.L.E: Arcade Learning Environment (version 0.8.1+53f58b7)\n",
      "[Powered by Stella]\n",
      "Stacking 4 frames\n",
      "Wrapping the env in a VecTransposeImage.\n",
      "Uploading to nsanghi/dqn-atari-breakout-rlzoo, make sure to have the rights\n",
      "\u001b[38;5;4mℹ This function will save, evaluate, generate a video of your agent,\n",
      "create a model card and push everything to the hub. It might take up to some\n",
      "minutes if video generation is activated. This is a work in progress: if you\n",
      "encounter a bug, please open an issue.\u001b[0m\n",
      "Cloning https://huggingface.co/nsanghi/dqn-atari-breakout-rlzoo into local empty directory.\n",
      "WARNING:huggingface_hub.repository:Cloning https://huggingface.co/nsanghi/dqn-atari-breakout-rlzoo into local empty directory.\n",
      "Saving model to: hub/dqn-atari-breakout-rlzoo/dqn-BreakoutNoFrameskip-v4\n",
      "/home/nsanghi/sandbox/apress/drl-2ed/venv/lib/python3.10/site-packages/gymnasium/utils/passive_env_checker.py:364: UserWarning: \u001b[33mWARN: No render fps was declared in the environment (env.metadata['render_fps'] is None or not defined), rendering may occur at inconsistent fps.\u001b[0m\n",
      "  logger.warn(\n",
      "Saving video to /tmp/tmpau8xtty1/-step-0-to-step-1000.mp4\n",
      "Moviepy - Building video /tmp/tmpau8xtty1/-step-0-to-step-1000.mp4.\n",
      "Moviepy - Writing video /tmp/tmpau8xtty1/-step-0-to-step-1000.mp4\n",
      "\n",
      "Moviepy - Done !                                                                \n",
      "Moviepy - video ready /tmp/tmpau8xtty1/-step-0-to-step-1000.mp4\n",
      "ffmpeg version 4.4.2-0ubuntu0.22.04.1 Copyright (c) 2000-2021 the FFmpeg developers\n",
      "  built with gcc 11 (Ubuntu 11.2.0-19ubuntu1)\n",
      "  configuration: --prefix=/usr --extra-version=0ubuntu0.22.04.1 --toolchain=hardened --libdir=/usr/lib/x86_64-linux-gnu --incdir=/usr/include/x86_64-linux-gnu --arch=amd64 --enable-gpl --disable-stripping --enable-gnutls --enable-ladspa --enable-libaom --enable-libass --enable-libbluray --enable-libbs2b --enable-libcaca --enable-libcdio --enable-libcodec2 --enable-libdav1d --enable-libflite --enable-libfontconfig --enable-libfreetype --enable-libfribidi --enable-libgme --enable-libgsm --enable-libjack --enable-libmp3lame --enable-libmysofa --enable-libopenjpeg --enable-libopenmpt --enable-libopus --enable-libpulse --enable-librabbitmq --enable-librubberband --enable-libshine --enable-libsnappy --enable-libsoxr --enable-libspeex --enable-libsrt --enable-libssh --enable-libtheora --enable-libtwolame --enable-libvidstab --enable-libvorbis --enable-libvpx --enable-libwebp --enable-libx265 --enable-libxml2 --enable-libxvid --enable-libzimg --enable-libzmq --enable-libzvbi --enable-lv2 --enable-omx --enable-openal --enable-opencl --enable-opengl --enable-sdl2 --enable-pocketsphinx --enable-librsvg --enable-libmfx --enable-libdc1394 --enable-libdrm --enable-libiec61883 --enable-chromaprint --enable-frei0r --enable-libx264 --enable-shared\n",
      "  libavutil      56. 70.100 / 56. 70.100\n",
      "  libavcodec     58.134.100 / 58.134.100\n",
      "  libavformat    58. 76.100 / 58. 76.100\n",
      "  libavdevice    58. 13.100 / 58. 13.100\n",
      "  libavfilter     7.110.100 /  7.110.100\n",
      "  libswscale      5.  9.100 /  5.  9.100\n",
      "  libswresample   3.  9.100 /  3.  9.100\n",
      "  libpostproc    55.  9.100 / 55.  9.100\n",
      "Input #0, mov,mp4,m4a,3gp,3g2,mj2, from '/tmp/tmpau8xtty1/-step-0-to-step-1000.mp4':\n",
      "  Metadata:\n",
      "    major_brand     : isom\n",
      "    minor_version   : 512\n",
      "    compatible_brands: isomiso2avc1mp41\n",
      "    encoder         : Lavf58.29.100\n",
      "  Duration: 00:00:33.40, start: 0.000000, bitrate: 13 kb/s\n",
      "  Stream #0:0(und): Video: h264 (High) (avc1 / 0x31637661), yuv420p, 160x210, 10 kb/s, 30 fps, 30 tbr, 15360 tbn, 60 tbc (default)\n",
      "    Metadata:\n",
      "      handler_name    : VideoHandler\n",
      "      vendor_id       : [0][0][0][0]\n",
      "Stream mapping:\n",
      "  Stream #0:0 -> #0:0 (h264 (native) -> h264 (libx264))\n",
      "Press [q] to stop, [?] for help\n",
      "\u001b[1;36m[libx264 @ 0x565533a19600] \u001b[0musing cpu capabilities: MMX2 SSE2Fast SSSE3 SSE4.2 AVX FMA3 BMI2 AVX2\n",
      "\u001b[1;36m[libx264 @ 0x565533a19600] \u001b[0mprofile High, level 1.2, 4:2:0, 8-bit\n",
      "\u001b[1;36m[libx264 @ 0x565533a19600] \u001b[0m264 - core 163 r3060 5db6aa6 - H.264/MPEG-4 AVC codec - Copyleft 2003-2021 - http://www.videolan.org/x264.html - options: cabac=1 ref=3 deblock=1:0:0 analyse=0x3:0x113 me=hex subme=7 psy=1 psy_rd=1.00:0.00 mixed_ref=1 me_range=16 chroma_me=1 trellis=1 8x8dct=1 cqm=0 deadzone=21,11 fast_pskip=1 chroma_qp_offset=-2 threads=7 lookahead_threads=1 sliced_threads=0 nr=0 decimate=1 interlaced=0 bluray_compat=0 constrained_intra=0 bframes=3 b_pyramid=2 b_adapt=1 b_bias=0 direct=1 weightb=1 open_gop=0 weightp=2 keyint=250 keyint_min=25 scenecut=40 intra_refresh=0 rc_lookahead=40 rc=crf mbtree=1 crf=23.0 qcomp=0.60 qpmin=0 qpmax=69 qpstep=4 ip_ratio=1.40 aq=1:1.00\n",
      "Output #0, mp4, to 'hub/dqn-atari-breakout-rlzoo/replay.mp4':\n",
      "  Metadata:\n",
      "    major_brand     : isom\n",
      "    minor_version   : 512\n",
      "    compatible_brands: isomiso2avc1mp41\n",
      "    encoder         : Lavf58.76.100\n",
      "  Stream #0:0(und): Video: h264 (avc1 / 0x31637661), yuv420p(progressive), 160x210, q=2-31, 30 fps, 15360 tbn (default)\n",
      "    Metadata:\n",
      "      handler_name    : VideoHandler\n",
      "      vendor_id       : [0][0][0][0]\n",
      "      encoder         : Lavc58.134.100 libx264\n",
      "    Side data:\n",
      "      cpb: bitrate max/min/avg: 0/0/0 buffer size: 0 vbv_delay: N/A\n",
      "frame= 1002 fps=0.0 q=-1.0 Lsize=      52kB time=00:00:33.30 bitrate=  12.9kbits/s speed= 117x    \n",
      "video:41kB audio:0kB subtitle:0kB other streams:0kB global headers:0kB muxing overhead: 28.490656%\n",
      "\u001b[1;36m[libx264 @ 0x565533a19600] \u001b[0mframe I:7     Avg QP:13.40  size:   597\n",
      "\u001b[1;36m[libx264 @ 0x565533a19600] \u001b[0mframe P:380   Avg QP:15.62  size:    50\n",
      "\u001b[1;36m[libx264 @ 0x565533a19600] \u001b[0mframe B:615   Avg QP:16.04  size:    29\n",
      "\u001b[1;36m[libx264 @ 0x565533a19600] \u001b[0mconsecutive B-frames: 11.3% 10.0% 32.0% 46.7%\n",
      "\u001b[1;36m[libx264 @ 0x565533a19600] \u001b[0mmb I  I16..4: 81.2%  1.1% 17.7%\n",
      "\u001b[1;36m[libx264 @ 0x565533a19600] \u001b[0mmb P  I16..4:  0.5%  0.2%  0.3%  P16..4:  1.2%  0.2%  0.0%  0.0%  0.0%    skip:97.6%\n",
      "\u001b[1;36m[libx264 @ 0x565533a19600] \u001b[0mmb B  I16..4:  0.0%  0.0%  0.1%  B16..8:  2.3%  0.1%  0.0%  direct: 0.1%  skip:97.3%  L0:60.5% L1:39.4% BI: 0.0%\n",
      "\u001b[1;36m[libx264 @ 0x565533a19600] \u001b[0m8x8 transform intra:8.5% inter:14.5%\n",
      "\u001b[1;36m[libx264 @ 0x565533a19600] \u001b[0mcoded y,uvDC,uvAC intra: 9.2% 20.4% 19.1% inter: 0.1% 0.2% 0.2%\n",
      "\u001b[1;36m[libx264 @ 0x565533a19600] \u001b[0mi16 v,h,dc,p: 65% 33%  2%  0%\n",
      "\u001b[1;36m[libx264 @ 0x565533a19600] \u001b[0mi8 v,h,dc,ddl,ddr,vr,hd,vl,hu:  5%  2% 92%  0%  0%  0%  0%  0%  0%\n",
      "\u001b[1;36m[libx264 @ 0x565533a19600] \u001b[0mi4 v,h,dc,ddl,ddr,vr,hd,vl,hu: 23% 16% 56%  0%  1%  1%  1%  1%  0%\n",
      "\u001b[1;36m[libx264 @ 0x565533a19600] \u001b[0mi8c dc,h,v,p: 75% 20%  5%  0%\n",
      "\u001b[1;36m[libx264 @ 0x565533a19600] \u001b[0mWeighted P-Frames: Y:0.0% UV:0.0%\n",
      "\u001b[1;36m[libx264 @ 0x565533a19600] \u001b[0mref P L0: 58.0%  0.4% 31.8%  9.8%\n",
      "\u001b[1;36m[libx264 @ 0x565533a19600] \u001b[0mref B L0: 73.8% 17.3%  8.8%\n",
      "\u001b[1;36m[libx264 @ 0x565533a19600] \u001b[0mref B L1: 97.8%  2.2%\n",
      "\u001b[1;36m[libx264 @ 0x565533a19600] \u001b[0mkb/s:9.83\n",
      "\u001b[38;5;4mℹ Pushing repo dqn-atari-breakout-rlzoo to the Hugging Face Hub\u001b[0m\n",
      "Upload file dqn-BreakoutNoFrameskip-v4.zip:   0%|  | 32.0k/13.1M [00:00<?, ?B/s]\n",
      "Upload file dqn-BreakoutNoFrameskip-v4/policy.optimizer.pth: 100%|█| 687/687 [00\u001b[A\n",
      "\n",
      "Upload file dqn-BreakoutNoFrameskip-v4/policy.pth:   0%| | 32.0k/12.9M [00:00<?,\u001b[A\u001b[A\n",
      "\n",
      "\n",
      "Upload file dqn-BreakoutNoFrameskip-v4/pytorch_variables.pth: 100%|█| 431/431 [0\u001b[A\u001b[A\u001b[A\n",
      "\n",
      "\n",
      "\n",
      "Upload file train_eval_metrics.zip: 100%|██████████| 15.6k/15.6k [00:00<?, ?B/s]\u001b[A\u001b[A\u001b[A\u001b[A\n",
      "\n",
      "\n",
      "\n",
      "\n",
      "Upload file replay.mp4:  61%|█████████████▍        | 32.0k/52.4k [00:00<?, ?B/s]\u001b[A\u001b[A\u001b[A\u001b[A\u001b[A\n",
      "\n",
      "Upload file dqn-BreakoutNoFrameskip-v4.zip:  38%|▍| 5.00M/13.1M [00:02<00:03, 2.\u001b[A\u001b[A\n",
      "\n",
      "Upload file dqn-BreakoutNoFrameskip-v4/policy.pth:  38%|▍| 4.91M/12.9M [00:02<00\u001b[A\u001b[A\n",
      "\n",
      "Upload file dqn-BreakoutNoFrameskip-v4.zip:  59%|▌| 7.66M/13.1M [00:03<00:02, 2.\u001b[A\u001b[A\n",
      "\n",
      "Upload file dqn-BreakoutNoFrameskip-v4.zip:  99%|▉| 12.9M/13.1M [00:05<00:00, 2.\u001b[A\u001b[A\n",
      "\n",
      "Upload file dqn-BreakoutNoFrameskip-v4/policy.pth:  96%|▉| 12.3M/12.9M [00:05<00\u001b[A\u001b[ATo https://huggingface.co/nsanghi/dqn-atari-breakout-rlzoo\n",
      "   039d763..6ffd05e  main -> main\n",
      "\n",
      "WARNING:huggingface_hub.repository:To https://huggingface.co/nsanghi/dqn-atari-breakout-rlzoo\n",
      "   039d763..6ffd05e  main -> main\n",
      "\n",
      "Upload file dqn-BreakoutNoFrameskip-v4.zip: 100%|█| 13.1M/13.1M [00:07<00:00, 1.\n",
      "\n",
      "Upload file dqn-BreakoutNoFrameskip-v4/policy.optimizer.pth: 100%|█| 687/687 [00\u001b[A\n",
      "Upload file dqn-BreakoutNoFrameskip-v4/policy.optimizer.pth: 100%|█| 687/687 [00\u001b[A\n",
      "\n",
      "\n",
      "Upload file dqn-BreakoutNoFrameskip-v4/policy.pth: 100%|█| 12.9M/12.9M [00:07<00\u001b[A\u001b[A\n",
      "\n",
      "Upload file dqn-BreakoutNoFrameskip-v4/policy.pth: 100%|█| 12.9M/12.9M [00:07<00\u001b[A\u001b[A\n",
      "\n",
      "\n",
      "\n",
      "Upload file dqn-BreakoutNoFrameskip-v4/pytorch_variables.pth: 100%|█| 431/431 [0\u001b[A\u001b[A\u001b[A\n",
      "\n",
      "\n",
      "Upload file dqn-BreakoutNoFrameskip-v4/pytorch_variables.pth: 100%|█| 431/431 [0\u001b[A\u001b[A\u001b[A\n",
      "\n",
      "\n",
      "\n",
      "\n",
      "Upload file train_eval_metrics.zip: 100%|██████████| 15.6k/15.6k [00:07<?, ?B/s]\u001b[A\u001b[A\u001b[A\u001b[A\n",
      "\n",
      "\n",
      "\n",
      "Upload file train_eval_metrics.zip: 100%|██████████| 15.6k/15.6k [00:07<?, ?B/s]\u001b[A\u001b[A\u001b[A\u001b[A\n",
      "\n",
      "\n",
      "\n",
      "\n",
      "\n",
      "Upload file replay.mp4: 100%|██████████████| 52.4k/52.4k [00:07<00:00, 2.97kB/s]\u001b[A\u001b[A\u001b[A\u001b[A\u001b[A\n",
      "\n",
      "\n",
      "\n",
      "\n",
      "Upload file replay.mp4: 100%|██████████████| 52.4k/52.4k [00:07<00:00, 2.97kB/s]\u001b[A\u001b[A\u001b[A\u001b[A\u001b[A\n",
      "\u001b[38;5;4mℹ Your model is pushed to the hub. You can view your model here:\n",
      "https://huggingface.co/nsanghi/dqn-atari-breakout-rlzoo\u001b[0m\n"
     ]
    }
   ],
   "source": [
    "#### Share on Huggingface\n",
    "\n",
    "!python -m rl_zoo3.push_to_hub --algo dqn --env BreakoutNoFrameskip-v4 --exp-id 0 \\\n",
    "--folder logs/6_c/rlzoo3 --n-timesteps 1000 --verbose 1 --load-best  \\\n",
    "--organization nsanghi --repo-name dqn-atari-breakout-rlzoo -m \"Push to Hub\""
   ]
  },
  {
   "cell_type": "markdown",
   "metadata": {},
   "source": [
    "### Summary\n",
    "\n",
    "In this notebook we saw how to train a DQN agent with experience replay and target networks to play Atari game. If you have access to a GPU, try to train the agent and see how well it plays. We can improve the agent further with many tricks and there are many more papers detailing such attempts. As we go along, we will be implementing many of these variants."
   ]
  }
 ],
 "metadata": {
  "kernelspec": {
   "display_name": "Python 3 (ipykernel)",
   "language": "python",
   "name": "python3"
  },
  "language_info": {
   "codemirror_mode": {
    "name": "ipython",
    "version": 3
   },
   "file_extension": ".py",
   "mimetype": "text/x-python",
   "name": "python",
   "nbconvert_exporter": "python",
   "pygments_lexer": "ipython3",
   "version": "3.10.6"
  }
 },
 "nbformat": 4,
 "nbformat_minor": 4
}
