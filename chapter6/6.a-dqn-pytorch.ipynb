{
 "cells": [
  {
   "cell_type": "markdown",
   "metadata": {},
   "source": [
    "# Deep Q-Network implementation (PyTorch).\n",
    "\n",
    "In this notebook, we will implement DQN with **experience replay** and **target networks**.\n",
    "\n",
    "$$ \n",
    "\\DeclareMathOperator*{\\max}{max}$$\n",
    "\n",
    "Q Learning control is carried out by sampling step by step and updating Q values at each step. We use $\\epsilon$-greedy policy to explore and generate samples. However, the policy learnt is a deterministic greedy policy with no exploration. We can carryout updates online i.e. we take a step and use `(current state, action, reward and next_state)` tuple to update. \n",
    "\n",
    "In case of function approximation using neural network, the input to the network is the state and output is the $q(s,a)$ for all the actions in the state $s$. It is denoted as $ \\hat{q}(s_t,a; w_{t}) $, where $w_{t}$ is the weigths of the neural network that we learn as part of DQN learning. \n",
    "\n",
    "We use two networks, one target networkwirh weight $w^-_t$ to get the max $q$-value of next state denoted by $ \\max\\limits_a \\hat {q}(s_{t+1},a; w^{-}_{t}) $ and the primary network with weights $w_{t}$ which we are updated based on back propagation of the TD error through the network.\n",
    "\n",
    "The Update equation is given below. This is the online version:\n",
    "$$ w_{t+1} \\leftarrow w_t + \\alpha [ R_{t+1} + \\gamma . \\max_{a} \\hat{q}(S_{t+1},a,w^{-}_{t}) – \\hat{q}(S_t,A_t,w_t)] \\nabla \\hat{q}(S_t,A_t,w_t)$$\n",
    "\n",
    "Online update with neural network with millions of weights does not work well. Accordingly, We use experience replay (aka Replay Buffer).  We use a behavior policy to explore the environment and store the samples `(s, a, r, s', done)` in a buffer. The samples are generated using an exploratory behavior policy while we improve a deterministic target policy using q-values. \n",
    "\n",
    "Therefore, we can always use older samples from behavior policy and apply them again and again. We can keep the buffer size fixed to some pre-determined size and keep deleting the older samples as we collect new ones. This process makes learning sample efficient by reusing a sample multiple times and also removing temporal dependence of the samples we would otherwise see while following a trajectory.\n",
    "\n",
    "The update equation with batch update with minor modifications is given below. We collect samples of transitions `(current state, action, reward, next state)` in a buffer, where each sample is denoted as a tuple: \n",
    "\n",
    "$$ (s_{i}, a_{i}, r_{i}, s'_{i}, done_{i})$$\n",
    "\n",
    "Subscript ($i$) denotes ith sample. We take $N$ samples from experience replay selecting randomly and update the weights. Subscript ($t$) denotes the index of weight updates. If the current state is done, as denoted by `done` flag, the target is just the reward as terminal states have zero value. The final update equation is as given below:\n",
    "\n",
    "$$w_{t+1} \\leftarrow w_t + \\alpha \\frac{1}{N} \\sum_{i=1}^{N} \\left[ r_i + \\left( (1-done_i) . \\gamma .  \\max_{a'} \\hat{q}(s'_{i},a'_{i};w^{-}_{t}) \\right) – \\hat{q}(s_i,a_i;w_t) \\right] \\nabla \\hat{q}(s_i,a_i;w_t)$$\n"
   ]
  },
  {
   "cell_type": "markdown",
   "metadata": {},
   "source": [
    "### Colab Installs"
   ]
  },
  {
   "cell_type": "code",
   "execution_count": null,
   "metadata": {},
   "outputs": [],
   "source": [
    "#uncomment and execute this cell to install all the the dependencies if running in Google Colab\n",
    "\n",
    "\n",
    "# !apt-get update && apt-get install swig cmake ffmpeg freeglut3-dev xvfb\n",
    "# !pip install box2d-py\n",
    "# !pip install \"stable-baselines3[extra]>=2.1\"\n",
    "# !pip install \"huggingface_sb3>=3.0\"\n",
    "\n",
    "# !pip install git+https://github.com/DLR-RM/rl-baselines3-zoo@update/hf\n",
    "# !git clone https://github.com/DLR-RM/rl-baselines3-zoo\n",
    "# %cd /content/rl-baselines3-zoo/\n",
    "# !pip install -r requirements.txt"
   ]
  },
  {
   "cell_type": "markdown",
   "metadata": {},
   "source": [
    "### Imports"
   ]
  },
  {
   "cell_type": "code",
   "execution_count": 1,
   "metadata": {},
   "outputs": [
    {
     "name": "stderr",
     "output_type": "stream",
     "text": [
      "2023-10-26 13:24:27.563133: I tensorflow/core/util/port.cc:111] oneDNN custom operations are on. You may see slightly different numerical results due to floating-point round-off errors from different computation orders. To turn them off, set the environment variable `TF_ENABLE_ONEDNN_OPTS=0`.\n",
      "2023-10-26 13:24:27.996843: E tensorflow/compiler/xla/stream_executor/cuda/cuda_dnn.cc:9342] Unable to register cuDNN factory: Attempting to register factory for plugin cuDNN when one has already been registered\n",
      "2023-10-26 13:24:27.996900: E tensorflow/compiler/xla/stream_executor/cuda/cuda_fft.cc:609] Unable to register cuFFT factory: Attempting to register factory for plugin cuFFT when one has already been registered\n",
      "2023-10-26 13:24:27.999953: E tensorflow/compiler/xla/stream_executor/cuda/cuda_blas.cc:1518] Unable to register cuBLAS factory: Attempting to register factory for plugin cuBLAS when one has already been registered\n",
      "2023-10-26 13:24:28.196311: I tensorflow/core/platform/cpu_feature_guard.cc:182] This TensorFlow binary is optimized to use available CPU instructions in performance-critical operations.\n",
      "To enable the following instructions: AVX2 AVX_VNNI FMA, in other operations, rebuild TensorFlow with the appropriate compiler flags.\n",
      "2023-10-26 13:24:30.054125: W tensorflow/compiler/tf2tensorrt/utils/py_utils.cc:38] TF-TRT Warning: Could not find TensorRT\n"
     ]
    }
   ],
   "source": [
    "import random\n",
    "import numpy as np\n",
    "import torch\n",
    "import torch.nn as nn\n",
    "import gymnasium as gym\n",
    "import numpy as np\n",
    "import matplotlib.pyplot as plt\n",
    "from scipy.signal import convolve, gaussian\n",
    "from stable_baselines3.common.vec_env import VecVideoRecorder, DummyVecEnv\n",
    "from base64 import b64encode\n",
    "\n",
    "\n",
    "from IPython.display import HTML\n",
    "\n",
    "%matplotlib inline\n"
   ]
  },
  {
   "cell_type": "markdown",
   "metadata": {},
   "source": [
    "### Environment - CartPole \n",
    "\n",
    "We can use the setup here to run on any environment which has state as a single vector and actions are discrete. We will build it on Cart Pole. In another notebook we will run this on many other environments like Atari games and others.\n"
   ]
  },
  {
   "cell_type": "code",
   "execution_count": 2,
   "metadata": {},
   "outputs": [],
   "source": [
    "def make_env(env_name):\n",
    "    # increase time limit from 200/500 to 4000 \n",
    "    env = gym.make(env_name, render_mode=\"rgb_array\", max_episode_steps=4000)\n",
    "    return env"
   ]
  },
  {
   "cell_type": "code",
   "execution_count": 3,
   "metadata": {},
   "outputs": [
    {
     "name": "stdout",
     "output_type": "stream",
     "text": [
      "state shape:(4,)\n",
      "Number of Actions:2\n"
     ]
    },
    {
     "data": {
      "image/png": "[encoded data removed]",
      "text/plain": [
       "<Figure size 640x480 with 1 Axes>"
      ]
     },
     "metadata": {},
     "output_type": "display_data"
    }
   ],
   "source": [
    "env_name = 'CartPole-v1'\n",
    "seed=123\n",
    "\n",
    "env = make_env(env_name)\n",
    "env.reset(seed=seed)\n",
    "plt.imshow(env.render())\n",
    "state_shape, n_actions = env.observation_space.shape, env.action_space.n\n",
    "print(f\"state shape:{state_shape}\\nNumber of Actions:{n_actions}\")"
   ]
  },
  {
   "cell_type": "markdown",
   "metadata": {},
   "source": [
    "### Building a network using pytorch"
   ]
  },
  {
   "cell_type": "markdown",
   "metadata": {},
   "source": [
    "Let us build a DQN agent using a simple network. We now need to build a neural network that can map states/observations to state q-values. The observation space and action space is as given below for CartPole\n",
    "\n",
    "    Observation:\n",
    "        Type: Box(4)\n",
    "        Num     Observation               Min                     Max\n",
    "        0       Cart Position             -4.8                    4.8\n",
    "        1       Cart Velocity             -Inf                    Inf\n",
    "        2       Pole Angle                -0.418 rad (-24 deg)    0.418 rad (24 deg)\n",
    "        3       Pole Angular Velocity     -Inf                    Inf\n",
    "    Actions:\n",
    "        Type: Discrete(2)\n",
    "        Num   Action\n",
    "        0     Push cart to the left\n",
    "        1     Push cart to the right\n",
    "        \n",
    "\n",
    "The model will be a simple one with 2 hidden layers with Relu activation and final layer being logits with dimension equal to number of actions. "
   ]
  },
  {
   "cell_type": "code",
   "execution_count": 4,
   "metadata": {},
   "outputs": [
    {
     "data": {
      "text/plain": [
       "device(type='cpu')"
      ]
     },
     "execution_count": 4,
     "metadata": {},
     "output_type": "execute_result"
    }
   ],
   "source": [
    "device = torch.device('cuda' if torch.cuda.is_available() else 'cpu')\n",
    "device"
   ]
  },
  {
   "cell_type": "code",
   "execution_count": 5,
   "metadata": {},
   "outputs": [],
   "source": [
    "class DQNAgent(nn.Module):\n",
    "    def __init__(self, state_shape, n_actions, epsilon=0):\n",
    "\n",
    "        super().__init__()\n",
    "        self.epsilon = epsilon\n",
    "        self.n_actions = n_actions\n",
    "        self.state_shape = state_shape\n",
    "        \n",
    "        state_dim = state_shape[0]\n",
    "        # a simple NN with state_dim as input vector (input is state s)\n",
    "        # and self.n_actions as output vector of logits of q(s, a)\n",
    "        self.network = nn.Sequential()\n",
    "        self.network.add_module('layer1', nn.Linear(state_dim, 256))\n",
    "        self.network.add_module('relu1', nn.ReLU())\n",
    "        self.network.add_module('layer2', nn.Linear(256, n_actions))\n",
    "        # \n",
    "        self.parameters = self.network.parameters\n",
    "        \n",
    "    def forward(self, state_t):\n",
    "        # pass the state at time t through the network to get Q(s,a)\n",
    "        qvalues = self.network(state_t)\n",
    "        return qvalues\n",
    "\n",
    "    def get_qvalues(self, states):\n",
    "        # input is an array of states in numpy and output is Qvals as numpy array\n",
    "        states = torch.tensor(np.array(states), device=device, dtype=torch.float32)\n",
    "        qvalues = self.forward(states)\n",
    "        return qvalues.data.cpu().numpy()\n",
    "\n",
    "    def get_action(self, states):\n",
    "        states = torch.tensor(np.array(states), device=device, dtype=torch.float32)\n",
    "        qvalues = self.forward(states)\n",
    "        best_actions = qvalues.argmax(axis=-1)\n",
    "        return best_actions \n",
    "    \n",
    "    def sample_actions(self, qvalues):\n",
    "        # sample actions from a batch of q_values using epsilon greedy policy\n",
    "        epsilon = self.epsilon\n",
    "        batch_size, n_actions = qvalues.shape\n",
    "        random_actions = np.random.choice(n_actions, size=batch_size)\n",
    "        best_actions = qvalues.argmax(axis=-1)\n",
    "        should_explore = np.random.choice(\n",
    "            [0, 1], batch_size, p=[1-epsilon, epsilon])\n",
    "        return np.where(should_explore, random_actions, best_actions)\n",
    "\n",
    "    def save(self, path):\n",
    "        print(\"path:\",path)\n",
    "        torch.save(self.network.state_dict(), f\"{path}.zip\")\n"
   ]
  },
  {
   "cell_type": "code",
   "execution_count": 6,
   "metadata": {},
   "outputs": [],
   "source": [
    "agent = DQNAgent(state_shape, n_actions, epsilon=0.5).to(device)"
   ]
  },
  {
   "cell_type": "code",
   "execution_count": 7,
   "metadata": {},
   "outputs": [],
   "source": [
    "def evaluate(env, agent, n_games=1, greedy=False, t_max=10000):\n",
    "    rewards = []\n",
    "    for _ in range(n_games):\n",
    "        s,_ = env.reset()\n",
    "        reward = 0\n",
    "        for _ in range(t_max):\n",
    "            qvalues = agent.get_qvalues([s])\n",
    "            action = qvalues.argmax(axis=-1)[0] if greedy else agent.sample_actions(qvalues)[0]\n",
    "            s, r, termiated, truncated,_ = env.step(action)\n",
    "            reward += r\n",
    "            if termiated:\n",
    "                break\n",
    "\n",
    "        rewards.append(reward)\n",
    "    return np.mean(rewards)"
   ]
  },
  {
   "cell_type": "code",
   "execution_count": 8,
   "metadata": {},
   "outputs": [
    {
     "name": "stdout",
     "output_type": "stream",
     "text": [
      "14.0\n"
     ]
    }
   ],
   "source": [
    "print(evaluate(env, agent, n_games=1))\n",
    "env.close()"
   ]
  },
  {
   "cell_type": "markdown",
   "metadata": {},
   "source": [
    "### Experience replay\n",
    "\n",
    "We will use the replay buffer we saw in chapter 4 listings. Replay buffer is very important in DQN to break the correlation between samples. We use a behavior policy ($\\epsilon$-greedy) to sample from the environment and store the transitions `(s,a,r,s',done)` into a buffer. These samples are used multiple times in a learning making the process sample efficient. \n",
    "\n",
    "The interface to ReplayBuffer is:\n",
    "* `exp_replay.add(state, action, reward, next_state, done)` - saves (s,a,r,s',done) tuple into the buffer\n",
    "* `exp_replay.sample(batch_size)` - returns states, actions, rewards, next_states and done_flags for `batch_size` random samples.\n",
    "* `len(exp_replay)` - returns number of elements stored in replay buffer.\n",
    "\n",
    "We have modified the implementation a bit to make it more efficient"
   ]
  },
  {
   "cell_type": "code",
   "execution_count": 9,
   "metadata": {},
   "outputs": [],
   "source": [
    "class ReplayBuffer:\n",
    "    def __init__(self, size):\n",
    "        self.size = size #max number of items in buffer\n",
    "        self.buffer =[] #array to hold buffer\n",
    "        self.next_id = 0\n",
    "    \n",
    "    def __len__(self):\n",
    "        return len(self.buffer)\n",
    "    \n",
    "    def add(self, state, action, reward, next_state, done):\n",
    "        item = (state, action, reward, next_state, done)\n",
    "        if len(self.buffer) < self.size:\n",
    "           self.buffer.append(item)\n",
    "        else:\n",
    "            self.buffer[self.next_id] = item\n",
    "        self.next_id = (self.next_id + 1) % self.size\n",
    "        \n",
    "    def sample(self, batch_size):\n",
    "        idxs = np.random.choice(len(self.buffer), batch_size)\n",
    "        samples = [self.buffer[i] for i in idxs]\n",
    "        states, actions, rewards, next_states, done_flags = list(zip(*samples))\n",
    "        return np.array(states), np.array(actions), np.array(rewards), np.array(next_states), np.array(done_flags)"
   ]
  },
  {
   "cell_type": "code",
   "execution_count": 10,
   "metadata": {},
   "outputs": [],
   "source": [
    "def play_and_record(start_state, agent, env, exp_replay, n_steps=1):\n",
    "\n",
    "    s = start_state\n",
    "    sum_rewards = 0\n",
    "\n",
    "    # Play the game for n_steps and record transitions in buffer\n",
    "    for _ in range(n_steps):\n",
    "        qvalues = agent.get_qvalues([s])\n",
    "        a = agent.sample_actions(qvalues)[0]        \n",
    "        next_s, r, terminated, truncated, _ = env.step(a)\n",
    "        sum_rewards += r\n",
    "        done = terminated or truncated\n",
    "        exp_replay.add(s, a, r, next_s, done)\n",
    "        if done:\n",
    "            s,_ = env.reset()\n",
    "        else:\n",
    "            s = next_s\n",
    "        \n",
    "    return sum_rewards, s"
   ]
  },
  {
   "cell_type": "markdown",
   "metadata": {},
   "source": [
    "#### Target network\n"
   ]
  },
  {
   "cell_type": "code",
   "execution_count": 11,
   "metadata": {},
   "outputs": [
    {
     "data": {
      "text/plain": [
       "<All keys matched successfully>"
      ]
     },
     "execution_count": 11,
     "metadata": {},
     "output_type": "execute_result"
    }
   ],
   "source": [
    "target_network = DQNAgent(agent.state_shape, agent.n_actions, epsilon=0.5).to(device)\n",
    "target_network.load_state_dict(agent.state_dict())"
   ]
  },
  {
   "cell_type": "markdown",
   "metadata": {},
   "source": [
    "### Learning with DQN\n",
    "Here we write a function similar to tabular q-learning. We will calculate average TD error per batch using the equation: \n",
    "\n",
    "$$ L =  \\frac{1}{N} \\sum_{i=1}^{N} \\left[ r_i + \\left( (1-done_i) . \\gamma .  \\max_{a'} \\hat{q}(s'_i,a'_i;w^-_t) \\right) – \\hat{q}(s_i,a_i;w_t) \\right]^2$$\n",
    "\n",
    "\n",
    "$$ \\nabla_w L =   - \\frac{1}{N} \\sum_{i=1}^{N} \\left[ r_i + \\left( (1-done_i) . \\gamma .  \\max_{a'} \\hat{q}(s'_i,a'_i;w^-_t) \\right) – \\hat{q}(s_i,a_i;w_t) \\right] \\nabla \\hat{q}(s_i,a_i;w_t)$$\n",
    "\n",
    "\n",
    "$\\hat{q}(s',A;w^{-})$ is calculated using target network whose weights are held constant and refreshed periodically from the agent learning network. \n",
    "\n",
    "Target is given by following:\n",
    "* non terminal state: $r_i +  \\gamma .  \\max_{a'} \\hat{q}(s'_i,a'_i;w^-_t)$\n",
    "* terminal state: $ r_i $\n",
    "\n",
    "We then carryout back propagation through the agent network to update the weights using equation below:\n",
    "\n",
    "\n",
    "$$ \n",
    "\\DeclareMathOperator*{\\max}{max} w_{t+1} \\leftarrow w_t - \\alpha \\nabla_{w}L$$"
   ]
  },
  {
   "cell_type": "code",
   "execution_count": 12,
   "metadata": {},
   "outputs": [],
   "source": [
    "def compute_td_loss(agent, target_network, states, actions, rewards, next_states, done_flags,\n",
    "                    gamma=0.99, device=device):\n",
    "\n",
    "    # convert numpy array to torch tensors\n",
    "    states = torch.tensor(states, device=device, dtype=torch.float)\n",
    "    actions = torch.tensor(actions, device=device, dtype=torch.long)\n",
    "    rewards = torch.tensor(rewards, device=device, dtype=torch.float)\n",
    "    next_states = torch.tensor(next_states, device=device, dtype=torch.float)\n",
    "    done_flags = torch.tensor(done_flags.astype('float32'),device=device,dtype=torch.float)\n",
    "\n",
    "    # get q-values for all actions in current states\n",
    "    # use agent network\n",
    "    predicted_qvalues = agent(states)\n",
    "\n",
    "    # compute q-values for all actions in next states\n",
    "    # use target network\n",
    "    predicted_next_qvalues = target_network(next_states)\n",
    "    \n",
    "    # select q-values for chosen actions\n",
    "    predicted_qvalues_for_actions = predicted_qvalues[range(\n",
    "        len(actions)), actions]\n",
    "\n",
    "    # compute Qmax(next_states, actions) using predicted next q-values\n",
    "    next_state_values,_ = torch.max(predicted_next_qvalues, dim=1)\n",
    "\n",
    "    # compute \"target q-values\" \n",
    "    target_qvalues_for_actions = rewards + gamma * next_state_values * (1-done_flags)\n",
    "\n",
    "    # mean squared error loss to minimize\n",
    "    loss = torch.mean((predicted_qvalues_for_actions -\n",
    "                       target_qvalues_for_actions.detach()) ** 2)\n",
    "\n",
    "    return loss"
   ]
  },
  {
   "cell_type": "markdown",
   "metadata": {},
   "source": [
    "### Main training Loop\n",
    "\n",
    "We now carryout the training on DQN setup above."
   ]
  },
  {
   "cell_type": "code",
   "execution_count": 13,
   "metadata": {},
   "outputs": [],
   "source": [
    "from tqdm import trange\n",
    "from IPython.display import clear_output\n",
    "import matplotlib.pyplot as plt"
   ]
  },
  {
   "cell_type": "code",
   "execution_count": 14,
   "metadata": {},
   "outputs": [
    {
     "data": {
      "text/plain": [
       "<torch._C.Generator at 0x7fd1dc7def90>"
      ]
     },
     "execution_count": 14,
     "metadata": {},
     "output_type": "execute_result"
    }
   ],
   "source": [
    "# set a seed\n",
    "seed = 132\n",
    "random.seed(seed)\n",
    "np.random.seed(seed)\n",
    "torch.manual_seed(seed)"
   ]
  },
  {
   "cell_type": "markdown",
   "metadata": {},
   "source": [
    "#### Set up Enviroment and Policy "
   ]
  },
  {
   "cell_type": "code",
   "execution_count": 15,
   "metadata": {},
   "outputs": [
    {
     "data": {
      "text/plain": [
       "<All keys matched successfully>"
      ]
     },
     "execution_count": 15,
     "metadata": {},
     "output_type": "execute_result"
    }
   ],
   "source": [
    "#setup env and agent and target networks\n",
    "env_name = 'CartPole-v1'\n",
    "env = make_env(env_name)\n",
    "state_dim = env.observation_space.shape\n",
    "n_actions = env.action_space.n\n",
    "state,_ = env.reset(seed=seed)\n",
    "\n",
    "agent = DQNAgent(state_dim, n_actions, epsilon=1).to(device)\n",
    "target_network = DQNAgent(state_dim, n_actions, epsilon=1).to(device)\n",
    "target_network.load_state_dict(agent.state_dict())"
   ]
  },
  {
   "cell_type": "markdown",
   "metadata": {},
   "source": [
    "#### Populate Experience Replay"
   ]
  },
  {
   "cell_type": "code",
   "execution_count": 16,
   "metadata": {},
   "outputs": [
    {
     "name": "stdout",
     "output_type": "stream",
     "text": [
      "10000\n"
     ]
    }
   ],
   "source": [
    "# let us fill experience replay with some samples using full random policy\n",
    "exp_replay = ReplayBuffer(10**4)\n",
    "for i in range(100):\n",
    "    play_and_record(state, agent, env, exp_replay, n_steps=10**2)\n",
    "    if len(exp_replay) == 10**4:\n",
    "        break\n",
    "print(len(exp_replay))"
   ]
  },
  {
   "cell_type": "markdown",
   "metadata": {},
   "source": [
    "#### Setup Training Paramaters"
   ]
  },
  {
   "cell_type": "code",
   "execution_count": 17,
   "metadata": {},
   "outputs": [],
   "source": [
    "#setup some parameters for training\n",
    "timesteps_per_epoch = 1\n",
    "batch_size = 32\n",
    "total_steps = 50000\n",
    "\n",
    "#init Optimizer\n",
    "opt = torch.optim.Adam(agent.parameters(), lr=1e-4)\n",
    "\n",
    "# set exploration epsilon \n",
    "start_epsilon = 1\n",
    "end_epsilon = 0.05\n",
    "eps_decay_final_step = 2 * 10**4\n",
    "\n",
    "# setup some frequency for logging and updating target network\n",
    "loss_freq = 20\n",
    "refresh_target_network_freq = 100\n",
    "eval_freq = 1000\n",
    "\n",
    "# to clip the gradients\n",
    "max_grad_norm = 5000"
   ]
  },
  {
   "cell_type": "code",
   "execution_count": 18,
   "metadata": {},
   "outputs": [],
   "source": [
    "mean_rw_history = []\n",
    "td_loss_history = []\n"
   ]
  },
  {
   "cell_type": "code",
   "execution_count": 19,
   "metadata": {},
   "outputs": [],
   "source": [
    "def epsilon_schedule(start_eps, end_eps, step, final_step):\n",
    "    return start_eps + (end_eps-start_eps)*min(step, final_step)/final_step\n",
    "\n",
    "def smoothen(values):\n",
    "    kernel = gaussian(100, std=100)\n",
    "    kernel = kernel / np.sum(kernel)\n",
    "    return convolve(values, kernel, 'valid')"
   ]
  },
  {
   "cell_type": "markdown",
   "metadata": {},
   "source": [
    "#### Run Training"
   ]
  },
  {
   "cell_type": "code",
   "execution_count": 20,
   "metadata": {},
   "outputs": [
    {
     "name": "stdout",
     "output_type": "stream",
     "text": [
      "buffer size = 10000, epsilon = 0.05000\n"
     ]
    },
    {
     "data": {
      "image/png": "[encoded data removed]",
      "text/plain": [
       "<Figure size 1600x500 with 2 Axes>"
      ]
     },
     "metadata": {},
     "output_type": "display_data"
    },
    {
     "name": "stderr",
     "output_type": "stream",
     "text": [
      "100%|████████████████████████████████████████████████████████████████████████████| 50001/50001 [02:12<00:00, 376.96it/s]\n"
     ]
    }
   ],
   "source": [
    "state,_ = env.reset()\n",
    "\n",
    "for step in trange(total_steps + 1):\n",
    "    \n",
    "    # reduce exploration as we progress\n",
    "    agent.epsilon = epsilon_schedule(start_epsilon, end_epsilon, step, eps_decay_final_step)\n",
    "\n",
    "    # take timesteps_per_epoch and update experience replay buffer\n",
    "    _, state = play_and_record(state, agent, env, exp_replay, timesteps_per_epoch)\n",
    "\n",
    "    # train by sampling batch_size of data from experience replay\n",
    "    states, actions, rewards, next_states, done_flags = exp_replay.sample(batch_size)\n",
    "    \n",
    "\n",
    "    # loss = <compute TD loss>\n",
    "    loss = compute_td_loss(agent, target_network, \n",
    "                           states, actions, rewards, next_states, done_flags,                  \n",
    "                           gamma=0.99,\n",
    "                           device=device)\n",
    "\n",
    "    loss.backward()\n",
    "    grad_norm = nn.utils.clip_grad_norm_(agent.parameters(), max_grad_norm)\n",
    "    opt.step()\n",
    "    opt.zero_grad()\n",
    "\n",
    "    if step % loss_freq == 0:\n",
    "        td_loss_history.append(loss.data.cpu().item())\n",
    "\n",
    "    if step % refresh_target_network_freq == 0:\n",
    "        # Load agent weights into target_network\n",
    "        target_network.load_state_dict(agent.state_dict())\n",
    "\n",
    "    if step % eval_freq == 0:\n",
    "        # eval the agent\n",
    "        mean_rw_history.append(evaluate(\n",
    "            make_env(env_name), agent, n_games=3, greedy=True, t_max=1000)\n",
    "        )\n",
    "\n",
    "        clear_output(True)\n",
    "        print(\"buffer size = %i, epsilon = %.5f\" %\n",
    "              (len(exp_replay), agent.epsilon))\n",
    "\n",
    "        plt.figure(figsize=[16, 5])\n",
    "        plt.subplot(1, 2, 1)\n",
    "        plt.title(\"Mean return per episode\")\n",
    "        plt.plot(mean_rw_history)\n",
    "        plt.grid()\n",
    "\n",
    "        assert not np.isnan(td_loss_history[-1])\n",
    "        plt.subplot(1, 2, 2)\n",
    "        plt.title(\"TD loss history (smoothened)\")\n",
    "        plt.plot(smoothen(td_loss_history))\n",
    "        plt.grid()\n",
    "\n",
    "        plt.show()"
   ]
  },
  {
   "cell_type": "code",
   "execution_count": 21,
   "metadata": {},
   "outputs": [
    {
     "name": "stdout",
     "output_type": "stream",
     "text": [
      "final score: 326.6666666666667\n",
      "Well done\n"
     ]
    }
   ],
   "source": [
    "final_score = evaluate(\n",
    "  make_env(env_name),\n",
    "  agent, n_games=30, greedy=True, t_max=1000\n",
    ")\n",
    "print('final score:', final_score)\n",
    "print('Well done')"
   ]
  },
  {
   "cell_type": "markdown",
   "metadata": {},
   "source": [
    "#### Record and Play a video of trained agent"
   ]
  },
  {
   "cell_type": "code",
   "execution_count": 22,
   "metadata": {},
   "outputs": [],
   "source": [
    "# Helper function to record videos\n",
    "def record_video(env_id, video_folder, video_length, agent):\n",
    "\n",
    "    vec_env = DummyVecEnv([lambda: gym.make(env_id, render_mode=\"rgb_array\")])    \n",
    "    # Record the video starting at the first step\n",
    "    vec_env = VecVideoRecorder(vec_env, video_folder,\n",
    "                           record_video_trigger=lambda x: x == 0, video_length=video_length,\n",
    "                           name_prefix=f\"{type(agent).__name__}-{env_id}\")\n",
    "\n",
    "    obs = vec_env.reset()\n",
    "    for _ in range(video_length + 1):\n",
    "        action = agent.get_action(obs).detach().cpu().numpy()\n",
    "        obs, _, _, _ = vec_env.step(action)\n",
    "    # video filename\n",
    "    file_path = \"./\"+video_folder+vec_env.video_recorder.path.split(\"/\")[-1]   \n",
    "    # Save the video\n",
    "    vec_env.close()\n",
    "    return file_path\n",
    "\n",
    "def play_video(file_path):\n",
    "    mp4 = open(file_path, 'rb').read()\n",
    "    data_url = \"data:video/mp4;base64,\" + b64encode(mp4).decode()\n",
    "    return HTML(\"\"\"\n",
    "        <video width=400 controls>\n",
    "              <source src=\"%s\" type=\"video/mp4\">\n",
    "        </video>\n",
    "        \"\"\" % data_url)\n"
   ]
  },
  {
   "cell_type": "code",
   "execution_count": 23,
   "metadata": {},
   "outputs": [
    {
     "name": "stdout",
     "output_type": "stream",
     "text": [
      "Saving video to /home/nsanghi/sandbox/apress/drl-2ed/chapter6/logs/6_a/vanilla/videos/DQNAgent-CartPole-v1-step-0-to-step-500.mp4\n",
      "Moviepy - Building video /home/nsanghi/sandbox/apress/drl-2ed/chapter6/logs/6_a/vanilla/videos/DQNAgent-CartPole-v1-step-0-to-step-500.mp4.\n",
      "Moviepy - Writing video /home/nsanghi/sandbox/apress/drl-2ed/chapter6/logs/6_a/vanilla/videos/DQNAgent-CartPole-v1-step-0-to-step-500.mp4\n",
      "\n"
     ]
    },
    {
     "name": "stderr",
     "output_type": "stream",
     "text": [
      "                                                                                                                        \r"
     ]
    },
    {
     "name": "stdout",
     "output_type": "stream",
     "text": [
      "Moviepy - Done !\n",
      "Moviepy - video ready /home/nsanghi/sandbox/apress/drl-2ed/chapter6/logs/6_a/vanilla/videos/DQNAgent-CartPole-v1-step-0-to-step-500.mp4\n"
     ]
    },
    {
     "data": {
      "text/html": [
       "\n",
       "        <video width=400 controls>\n",
       "              <source src=\"data:video/mp4;base64,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\" type=\"video/mp4\">\n",
       "        </video>\n",
       "        "
      ],
      "text/plain": [
       "<IPython.core.display.HTML object>"
      ]
     },
     "execution_count": 23,
     "metadata": {},
     "output_type": "execute_result"
    }
   ],
   "source": [
    "video_folder = \"logs/6_a/vanilla/videos/\"\n",
    "video_length = 500\n",
    "\n",
    "video_file = record_video(env_name, video_folder, video_length, agent)\n",
    "\n",
    "play_video(video_file)"
   ]
  },
  {
   "cell_type": "markdown",
   "metadata": {},
   "source": [
    "### Train DQN using SB3"
   ]
  },
  {
   "cell_type": "markdown",
   "metadata": {},
   "source": [
    "You can package the video generated to huggingface manually and share. However to share the trained model parameters and replay video, it involves more work which requires you to save the model weight and upload. \n",
    "Instead we will retrain the model using stablebaseline3 (sb3) and upload the model to hugging face using utilities provided in sb3.\n",
    "\n",
    "#### Create DQN Agent\n",
    "We will create a DQN agent with same architecture as before i.e. with two Fully COnnected Linear layers of size 256"
   ]
  },
  {
   "cell_type": "code",
   "execution_count": 24,
   "metadata": {},
   "outputs": [
    {
     "name": "stdout",
     "output_type": "stream",
     "text": [
      "Using cpu device\n",
      "Wrapping the env with a `Monitor` wrapper\n",
      "Wrapping the env in a DummyVecEnv.\n"
     ]
    }
   ],
   "source": [
    "# create the DQN agent\n",
    "from stable_baselines3 import DQN\n",
    "\n",
    "#define a policy matching ours\n",
    "#define the activation function and the network layers size\n",
    "policy_kwargs = dict(activation_fn=torch.nn.ReLU,\n",
    "                     net_arch=[256, 256])\n",
    "\n",
    "\n",
    "env = gym.make(env_name, render_mode=\"rgb_array\")\n",
    "model = DQN(\"MlpPolicy\", env, policy_kwargs=policy_kwargs, verbose=1)"
   ]
  },
  {
   "cell_type": "markdown",
   "metadata": {},
   "source": [
    "#### Print the Policy Network"
   ]
  },
  {
   "cell_type": "code",
   "execution_count": 25,
   "metadata": {},
   "outputs": [
    {
     "data": {
      "text/plain": [
       "DQNPolicy(\n",
       "  (q_net): QNetwork(\n",
       "    (features_extractor): FlattenExtractor(\n",
       "      (flatten): Flatten(start_dim=1, end_dim=-1)\n",
       "    )\n",
       "    (q_net): Sequential(\n",
       "      (0): Linear(in_features=4, out_features=256, bias=True)\n",
       "      (1): ReLU()\n",
       "      (2): Linear(in_features=256, out_features=256, bias=True)\n",
       "      (3): ReLU()\n",
       "      (4): Linear(in_features=256, out_features=2, bias=True)\n",
       "    )\n",
       "  )\n",
       "  (q_net_target): QNetwork(\n",
       "    (features_extractor): FlattenExtractor(\n",
       "      (flatten): Flatten(start_dim=1, end_dim=-1)\n",
       "    )\n",
       "    (q_net): Sequential(\n",
       "      (0): Linear(in_features=4, out_features=256, bias=True)\n",
       "      (1): ReLU()\n",
       "      (2): Linear(in_features=256, out_features=256, bias=True)\n",
       "      (3): ReLU()\n",
       "      (4): Linear(in_features=256, out_features=2, bias=True)\n",
       "    )\n",
       "  )\n",
       ")"
      ]
     },
     "execution_count": 25,
     "metadata": {},
     "output_type": "execute_result"
    }
   ],
   "source": [
    "model.policy"
   ]
  },
  {
   "cell_type": "markdown",
   "metadata": {},
   "source": [
    "#### Train the model "
   ]
  },
  {
   "cell_type": "code",
   "execution_count": 26,
   "metadata": {},
   "outputs": [
    {
     "data": {
      "application/vnd.jupyter.widget-view+json": {
       "model_id": "98110e99bd8e4b088ff61d550b8f564c",
       "version_major": 2,
       "version_minor": 0
      },
      "text/plain": [
       "Output()"
      ]
     },
     "metadata": {},
     "output_type": "display_data"
    },
    {
     "name": "stdout",
     "output_type": "stream",
     "text": [
      "----------------------------------\n",
      "| rollout/            |          |\n",
      "|    ep_len_mean      | 21.6     |\n",
      "|    ep_rew_mean      | 21.6     |\n",
      "|    exploration_rate | 0.05     |\n",
      "| time/               |          |\n",
      "|    episodes         | 500      |\n",
      "|    fps              | 13514    |\n",
      "|    time_elapsed     | 0        |\n",
      "|    total_timesteps  | 11364    |\n",
      "----------------------------------\n",
      "----------------------------------\n",
      "| rollout/            |          |\n",
      "|    ep_len_mean      | 21.7     |\n",
      "|    ep_rew_mean      | 21.7     |\n",
      "|    exploration_rate | 0.05     |\n",
      "| time/               |          |\n",
      "|    episodes         | 1000     |\n",
      "|    fps              | 13726    |\n",
      "|    time_elapsed     | 1        |\n",
      "|    total_timesteps  | 21886    |\n",
      "----------------------------------\n",
      "----------------------------------\n",
      "| rollout/            |          |\n",
      "|    ep_len_mean      | 22       |\n",
      "|    ep_rew_mean      | 22       |\n",
      "|    exploration_rate | 0.05     |\n",
      "| time/               |          |\n",
      "|    episodes         | 1500     |\n",
      "|    fps              | 13851    |\n",
      "|    time_elapsed     | 2        |\n",
      "|    total_timesteps  | 33241    |\n",
      "----------------------------------\n",
      "----------------------------------\n",
      "| rollout/            |          |\n",
      "|    ep_len_mean      | 21.6     |\n",
      "|    ep_rew_mean      | 21.6     |\n",
      "|    exploration_rate | 0.05     |\n",
      "| time/               |          |\n",
      "|    episodes         | 2000     |\n",
      "|    fps              | 13894    |\n",
      "|    time_elapsed     | 3        |\n",
      "|    total_timesteps  | 44416    |\n",
      "----------------------------------\n",
      "----------------------------------\n",
      "| rollout/            |          |\n",
      "|    ep_len_mean      | 20.9     |\n",
      "|    ep_rew_mean      | 20.9     |\n",
      "|    exploration_rate | 0.05     |\n",
      "| time/               |          |\n",
      "|    episodes         | 2500     |\n",
      "|    fps              | 4346     |\n",
      "|    time_elapsed     | 12       |\n",
      "|    total_timesteps  | 55429    |\n",
      "| train/              |          |\n",
      "|    learning_rate    | 0.0001   |\n",
      "|    loss             | 7.29e-05 |\n",
      "|    n_updates        | 1357     |\n",
      "----------------------------------\n",
      "----------------------------------\n",
      "| rollout/            |          |\n",
      "|    ep_len_mean      | 18.8     |\n",
      "|    ep_rew_mean      | 18.8     |\n",
      "|    exploration_rate | 0.05     |\n",
      "| time/               |          |\n",
      "|    episodes         | 3000     |\n",
      "|    fps              | 2312     |\n",
      "|    time_elapsed     | 28       |\n",
      "|    total_timesteps  | 64826    |\n",
      "| train/              |          |\n",
      "|    learning_rate    | 0.0001   |\n",
      "|    loss             | 0.018    |\n",
      "|    n_updates        | 3706     |\n",
      "----------------------------------\n",
      "----------------------------------\n",
      "| rollout/            |          |\n",
      "|    ep_len_mean      | 32.5     |\n",
      "|    ep_rew_mean      | 32.5     |\n",
      "|    exploration_rate | 0.05     |\n",
      "| time/               |          |\n",
      "|    episodes         | 3500     |\n",
      "|    fps              | 1459     |\n",
      "|    time_elapsed     | 53       |\n",
      "|    total_timesteps  | 78082    |\n",
      "| train/              |          |\n",
      "|    learning_rate    | 0.0001   |\n",
      "|    loss             | 0.00465  |\n",
      "|    n_updates        | 7020     |\n",
      "----------------------------------\n"
     ]
    },
    {
     "data": {
      "text/html": [
       "<pre style=\"white-space:pre;overflow-x:auto;line-height:normal;font-family:Menlo,'DejaVu Sans Mono',consolas,'Courier New',monospace\"></pre>\n"
      ],
      "text/plain": []
     },
     "metadata": {},
     "output_type": "display_data"
    },
    {
     "data": {
      "text/html": [
       "<pre style=\"white-space:pre;overflow-x:auto;line-height:normal;font-family:Menlo,'DejaVu Sans Mono',consolas,'Courier New',monospace\">\n",
       "</pre>\n"
      ],
      "text/plain": [
       "\n"
      ]
     },
     "metadata": {},
     "output_type": "display_data"
    },
    {
     "name": "stderr",
     "output_type": "stream",
     "text": [
      "/home/nsanghi/sandbox/apress/drl-2ed/venv/lib/python3.10/site-packages/stable_baselines3/common/save_util.py:278: UserWarning: Path 'logs/6_a/sb3' does not exist. Will create it.\n",
      "  warnings.warn(f\"Path '{path.parent}' does not exist. Will create it.\")\n"
     ]
    }
   ],
   "source": [
    "model.learn(total_timesteps=1e5, log_interval=500, progress_bar=True)\n",
    "model.save(\"logs/6_a/sb3/dqn_cartpole\")"
   ]
  },
  {
   "cell_type": "markdown",
   "metadata": {},
   "source": [
    "#### Record Video for sb3"
   ]
  },
  {
   "cell_type": "code",
   "execution_count": 27,
   "metadata": {},
   "outputs": [
    {
     "name": "stdout",
     "output_type": "stream",
     "text": [
      "Saving video to /home/nsanghi/sandbox/apress/drl-2ed/chapter6/logs/6_a/sb3/videos/DQNAgent-CartPole-v1-step-0-to-step-500.mp4\n",
      "Moviepy - Building video /home/nsanghi/sandbox/apress/drl-2ed/chapter6/logs/6_a/sb3/videos/DQNAgent-CartPole-v1-step-0-to-step-500.mp4.\n",
      "Moviepy - Writing video /home/nsanghi/sandbox/apress/drl-2ed/chapter6/logs/6_a/sb3/videos/DQNAgent-CartPole-v1-step-0-to-step-500.mp4\n",
      "\n"
     ]
    },
    {
     "name": "stderr",
     "output_type": "stream",
     "text": [
      "                                                                                                                        "
     ]
    },
    {
     "name": "stdout",
     "output_type": "stream",
     "text": [
      "Moviepy - Done !\n",
      "Moviepy - video ready /home/nsanghi/sandbox/apress/drl-2ed/chapter6/logs/6_a/sb3/videos/DQNAgent-CartPole-v1-step-0-to-step-500.mp4\n"
     ]
    },
    {
     "name": "stderr",
     "output_type": "stream",
     "text": [
      "\r"
     ]
    },
    {
     "data": {
      "text/html": [
       "\n",
       "        <video width=400 controls>\n",
       "              <source src=\"data:video/mp4;base64,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\" type=\"video/mp4\">\n",
       "        </video>\n",
       "        "
      ],
      "text/plain": [
       "<IPython.core.display.HTML object>"
      ]
     },
     "execution_count": 27,
     "metadata": {},
     "output_type": "execute_result"
    }
   ],
   "source": [
    "# Helper function to record videos for sb3 model\n",
    "def record_video_sb3(env_id, video_folder, video_length, model):\n",
    "\n",
    "    vec_env = DummyVecEnv([lambda: gym.make(env_id, render_mode=\"rgb_array\")])    \n",
    "    # Record the video starting at the first step\n",
    "    vec_env = VecVideoRecorder(vec_env, video_folder,\n",
    "                           record_video_trigger=lambda x: x == 0, video_length=video_length,\n",
    "                           name_prefix=f\"{type(agent).__name__}-{env_id}\")\n",
    "\n",
    "    obs = vec_env.reset()\n",
    "    for _ in range(video_length + 1):\n",
    "        action, _state = model.predict(obs)\n",
    "        obs, _, _, _ = vec_env.step(action)\n",
    "    # video filename\n",
    "    file_path = \"./\"+video_folder+vec_env.video_recorder.path.split(\"/\")[-1]   \n",
    "    # Save the video\n",
    "    vec_env.close()\n",
    "    return file_path\n",
    "\n",
    "\n",
    "video_folder = \"logs/6_a/sb3/videos/\"\n",
    "video_length = 500\n",
    "\n",
    "video_file_sb3 = record_video_sb3(env_name, video_folder, video_length, model)\n",
    "play_video(video_file_sb3)"
   ]
  },
  {
   "cell_type": "markdown",
   "metadata": {},
   "source": [
    "#### Share the agent using HuggingFace"
   ]
  },
  {
   "cell_type": "markdown",
   "metadata": {},
   "source": [
    "Get your Hugging Face token ready as we will need in next code cell to be able to login into your hugging face account\n",
    "\n",
    "**Enter your Token**"
   ]
  },
  {
   "cell_type": "code",
   "execution_count": 28,
   "metadata": {},
   "outputs": [
    {
     "data": {
      "application/vnd.jupyter.widget-view+json": {
       "model_id": "4b5582ba304a445f85521b724b823149",
       "version_major": 2,
       "version_minor": 0
      },
      "text/plain": [
       "VBox(children=(HTML(value='<center> <img\\nsrc=https://huggingface.co/front/assets/huggingface_logo-noborder.sv…"
      ]
     },
     "metadata": {},
     "output_type": "display_data"
    }
   ],
   "source": [
    "from huggingface_sb3 import load_from_hub, package_to_hub, push_to_hub\n",
    "from huggingface_hub import notebook_login # To log to our Hugging Face account to be able to upload models to the Hub.\n",
    "\n",
    "notebook_login()\n",
    "!git config --global credential.helper store"
   ]
  },
  {
   "cell_type": "code",
   "execution_count": 29,
   "metadata": {},
   "outputs": [
    {
     "name": "stdout",
     "output_type": "stream",
     "text": [
      "\u001b[38;5;4mℹ This function will save, evaluate, generate a video of your agent,\n",
      "create a model card and push everything to the hub. It might take up to 1min.\n",
      "This is a work in progress: if you encounter a bug, please open an issue.\u001b[0m\n"
     ]
    },
    {
     "name": "stderr",
     "output_type": "stream",
     "text": [
      "/home/nsanghi/sandbox/apress/drl-2ed/venv/lib/python3.10/site-packages/stable_baselines3/common/evaluation.py:67: UserWarning: Evaluation environment is not wrapped with a ``Monitor`` wrapper. This may result in reporting modified episode lengths and rewards, if other wrappers happen to modify these. Consider wrapping environment first with ``Monitor`` wrapper.\n",
      "  warnings.warn(\n"
     ]
    },
    {
     "name": "stdout",
     "output_type": "stream",
     "text": [
      "Saving video to /tmp/tmp6zp9_aa3/-step-0-to-step-1000.mp4\n",
      "Moviepy - Building video /tmp/tmp6zp9_aa3/-step-0-to-step-1000.mp4.\n",
      "Moviepy - Writing video /tmp/tmp6zp9_aa3/-step-0-to-step-1000.mp4\n",
      "\n"
     ]
    },
    {
     "name": "stderr",
     "output_type": "stream",
     "text": [
      "                                                                                                                        \r"
     ]
    },
    {
     "name": "stdout",
     "output_type": "stream",
     "text": [
      "Moviepy - Done !\n",
      "Moviepy - video ready /tmp/tmp6zp9_aa3/-step-0-to-step-1000.mp4\n"
     ]
    },
    {
     "name": "stderr",
     "output_type": "stream",
     "text": [
      "ffmpeg version 4.4.2-0ubuntu0.22.04.1 Copyright (c) 2000-2021 the FFmpeg developers\n",
      "  built with gcc 11 (Ubuntu 11.2.0-19ubuntu1)\n",
      "  configuration: --prefix=/usr --extra-version=0ubuntu0.22.04.1 --toolchain=hardened --libdir=/usr/lib/x86_64-linux-gnu --incdir=/usr/include/x86_64-linux-gnu --arch=amd64 --enable-gpl --disable-stripping --enable-gnutls --enable-ladspa --enable-libaom --enable-libass --enable-libbluray --enable-libbs2b --enable-libcaca --enable-libcdio --enable-libcodec2 --enable-libdav1d --enable-libflite --enable-libfontconfig --enable-libfreetype --enable-libfribidi --enable-libgme --enable-libgsm --enable-libjack --enable-libmp3lame --enable-libmysofa --enable-libopenjpeg --enable-libopenmpt --enable-libopus --enable-libpulse --enable-librabbitmq --enable-librubberband --enable-libshine --enable-libsnappy --enable-libsoxr --enable-libspeex --enable-libsrt --enable-libssh --enable-libtheora --enable-libtwolame --enable-libvidstab --enable-libvorbis --enable-libvpx --enable-libwebp --enable-libx265 --enable-libxml2 --enable-libxvid --enable-libzimg --enable-libzmq --enable-libzvbi --enable-lv2 --enable-omx --enable-openal --enable-opencl --enable-opengl --enable-sdl2 --enable-pocketsphinx --enable-librsvg --enable-libmfx --enable-libdc1394 --enable-libdrm --enable-libiec61883 --enable-chromaprint --enable-frei0r --enable-libx264 --enable-shared\n",
      "  libavutil      56. 70.100 / 56. 70.100\n",
      "  libavcodec     58.134.100 / 58.134.100\n",
      "  libavformat    58. 76.100 / 58. 76.100\n",
      "  libavdevice    58. 13.100 / 58. 13.100\n",
      "  libavfilter     7.110.100 /  7.110.100\n",
      "  libswscale      5.  9.100 /  5.  9.100\n",
      "  libswresample   3.  9.100 /  3.  9.100\n",
      "  libpostproc    55.  9.100 / 55.  9.100\n",
      "Input #0, mov,mp4,m4a,3gp,3g2,mj2, from '/tmp/tmp6zp9_aa3/-step-0-to-step-1000.mp4':\n",
      "  Metadata:\n",
      "    major_brand     : isom\n",
      "    minor_version   : 512\n",
      "    compatible_brands: isomiso2avc1mp41\n",
      "    encoder         : Lavf58.29.100\n",
      "  Duration: 00:00:20.02, start: 0.000000, bitrate: 33 kb/s\n",
      "  Stream #0:0(und): Video: h264 (High) (avc1 / 0x31637661), yuv420p, 600x400, 28 kb/s, 50 fps, 50 tbr, 12800 tbn, 100 tbc (default)\n",
      "    Metadata:\n",
      "      handler_name    : VideoHandler\n",
      "      vendor_id       : [0][0][0][0]\n",
      "Stream mapping:\n",
      "  Stream #0:0 -> #0:0 (h264 (native) -> h264 (libx264))\n",
      "Press [q] to stop, [?] for help\n",
      "[libx264 @ 0x5619f062b980] using cpu capabilities: MMX2 SSE2Fast SSSE3 SSE4.2 AVX FMA3 BMI2 AVX2\n",
      "[libx264 @ 0x5619f062b980] profile High, level 3.1, 4:2:0, 8-bit\n",
      "[libx264 @ 0x5619f062b980] 264 - core 163 r3060 5db6aa6 - H.264/MPEG-4 AVC codec - Copyleft 2003-2021 - http://www.videolan.org/x264.html - options: cabac=1 ref=3 deblock=1:0:0 analyse=0x3:0x113 me=hex subme=7 psy=1 psy_rd=1.00:0.00 mixed_ref=1 me_range=16 chroma_me=1 trellis=1 8x8dct=1 cqm=0 deadzone=21,11 fast_pskip=1 chroma_qp_offset=-2 threads=12 lookahead_threads=2 sliced_threads=0 nr=0 decimate=1 interlaced=0 bluray_compat=0 constrained_intra=0 bframes=3 b_pyramid=2 b_adapt=1 b_bias=0 direct=1 weightb=1 open_gop=0 weightp=2 keyint=250 keyint_min=25 scenecut=40 intra_refresh=0 rc_lookahead=40 rc=crf mbtree=1 crf=23.0 qcomp=0.60 qpmin=0 qpmax=69 qpstep=4 ip_ratio=1.40 aq=1:1.00\n",
      "Output #0, mp4, to '/tmp/tmp2a1d_ybu/replay.mp4':\n",
      "  Metadata:\n",
      "    major_brand     : isom\n",
      "    minor_version   : 512\n",
      "    compatible_brands: isomiso2avc1mp41\n",
      "    encoder         : Lavf58.76.100\n",
      "  Stream #0:0(und): Video: h264 (avc1 / 0x31637661), yuv420p(progressive), 600x400, q=2-31, 50 fps, 12800 tbn (default)\n",
      "    Metadata:\n",
      "      handler_name    : VideoHandler\n",
      "      vendor_id       : [0][0][0][0]\n",
      "      encoder         : Lavc58.134.100 libx264\n",
      "    Side data:\n",
      "      cpb: bitrate max/min/avg: 0/0/0 buffer size: 0 vbv_delay: N/A\n",
      "frame= 1001 fps=645 q=-1.0 Lsize=      82kB time=00:00:19.96 bitrate=  33.7kbits/s speed=12.9x    \n",
      "video:70kB audio:0kB subtitle:0kB other streams:0kB global headers:0kB muxing overhead: 17.512087%\n",
      "[libx264 @ 0x5619f062b980] frame I:6     Avg QP:11.94  size:   556\n",
      "[libx264 @ 0x5619f062b980] frame P:295   Avg QP:18.48  size:   105\n",
      "[libx264 @ 0x5619f062b980] frame B:700   Avg QP:18.20  size:    52\n",
      "[libx264 @ 0x5619f062b980] consecutive B-frames:  3.2%  7.4%  9.9% 79.5%\n",
      "[libx264 @ 0x5619f062b980] mb I  I16..4: 79.4% 18.4%  2.3%\n",
      "[libx264 @ 0x5619f062b980] mb P  I16..4:  0.2%  0.2%  0.0%  P16..4:  1.8%  0.4%  0.2%  0.0%  0.0%    skip:97.2%\n",
      "[libx264 @ 0x5619f062b980] mb B  I16..4:  0.0%  0.0%  0.0%  B16..8:  2.1%  0.3%  0.0%  direct: 0.0%  skip:97.5%  L0:52.4% L1:47.1% BI: 0.6%\n",
      "[libx264 @ 0x5619f062b980] 8x8 transform intra:23.3% inter:13.8%\n",
      "[libx264 @ 0x5619f062b980] coded y,uvDC,uvAC intra: 1.7% 3.6% 2.6% inter: 0.0% 0.1% 0.0%\n",
      "[libx264 @ 0x5619f062b980] i16 v,h,dc,p: 89%  7%  5%  0%\n",
      "[libx264 @ 0x5619f062b980] i8 v,h,dc,ddl,ddr,vr,hd,vl,hu: 37% 11% 51%  0%  0%  0%  0%  0%  0%\n",
      "[libx264 @ 0x5619f062b980] i4 v,h,dc,ddl,ddr,vr,hd,vl,hu: 53% 16% 29%  1%  0%  1%  0%  0%  1%\n",
      "[libx264 @ 0x5619f062b980] i8c dc,h,v,p: 85%  1% 14%  0%\n",
      "[libx264 @ 0x5619f062b980] Weighted P-Frames: Y:0.0% UV:0.0%\n",
      "[libx264 @ 0x5619f062b980] ref P L0: 75.1%  1.4% 14.7%  8.8%\n",
      "[libx264 @ 0x5619f062b980] ref B L0: 74.0% 22.0%  4.0%\n",
      "[libx264 @ 0x5619f062b980] ref B L1: 95.3%  4.7%\n",
      "[libx264 @ 0x5619f062b980] kb/s:28.32\n"
     ]
    },
    {
     "name": "stdout",
     "output_type": "stream",
     "text": [
      "\u001b[38;5;4mℹ Pushing repo nsanghi/dqn-cart-pole-sb3 to the Hugging Face Hub\u001b[0m\n"
     ]
    },
    {
     "data": {
      "application/vnd.jupyter.widget-view+json": {
       "model_id": "2cf74d2389fd40478659da237419b843",
       "version_major": 2,
       "version_minor": 0
      },
      "text/plain": [
       "policy.pth:   0%|          | 0.00/545k [00:00<?, ?B/s]"
      ]
     },
     "metadata": {},
     "output_type": "display_data"
    },
    {
     "data": {
      "application/vnd.jupyter.widget-view+json": {
       "model_id": "251916f9526344538083ae62f31d5402",
       "version_major": 2,
       "version_minor": 0
      },
      "text/plain": [
       "Upload 3 LFS files:   0%|          | 0/3 [00:00<?, ?it/s]"
      ]
     },
     "metadata": {},
     "output_type": "display_data"
    },
    {
     "data": {
      "application/vnd.jupyter.widget-view+json": {
       "model_id": "c4d0e8c34d1f4e60ac3bf0432709dca8",
       "version_major": 2,
       "version_minor": 0
      },
      "text/plain": [
       "DQN-CartPole-v1.zip:   0%|          | 0.00/1.11M [00:00<?, ?B/s]"
      ]
     },
     "metadata": {},
     "output_type": "display_data"
    },
    {
     "data": {
      "application/vnd.jupyter.widget-view+json": {
       "model_id": "50856d927cda4f278e0cd70ae07db24f",
       "version_major": 2,
       "version_minor": 0
      },
      "text/plain": [
       "policy.optimizer.pth:   0%|          | 0.00/546k [00:00<?, ?B/s]"
      ]
     },
     "metadata": {},
     "output_type": "display_data"
    },
    {
     "name": "stdout",
     "output_type": "stream",
     "text": [
      "\u001b[38;5;4mℹ Your model is pushed to the Hub. You can view your model here:\n",
      "https://huggingface.co/nsanghi/dqn-cart-pole-sb3/tree/main/\u001b[0m\n"
     ]
    },
    {
     "data": {
      "text/plain": [
       "'https://huggingface.co/nsanghi/dqn-cart-pole-sb3/tree/main/'"
      ]
     },
     "execution_count": 29,
     "metadata": {},
     "output_type": "execute_result"
    }
   ],
   "source": [
    "eval_env = DummyVecEnv([lambda: gym.make(env_name, render_mode=\"rgb_array\")])  \n",
    "obs = eval_env.reset()\n",
    "\n",
    "# method save, evaluate, generate a model card and record a replay video of your agent before pushing the repo to the hub\n",
    "\n",
    "# Please note repo_id is of the form <huggingface_id>/<name of repo>\n",
    "# you will need to change this to \"<your_huggingface_id>/dqn-cart-pole-v1\"\n",
    "\n",
    "package_to_hub(model=model, # Our trained model\n",
    "               model_name= \"DQN-\" + env_name, # The name of our trained model\n",
    "               model_architecture=\"DQN\", # The model architecture we used: in our case PPO\n",
    "               env_id=env_name, # Name of the environment\n",
    "               eval_env=eval_env, # Evaluation Environment\n",
    "               repo_id=\"nsanghi/dqn-cart-pole-sb3\", # id of the model repository from the Hugging Face Hub (repo_id = {organization}/{repo_name}\n",
    "               commit_message=\"Push to Hub\")"
   ]
  },
  {
   "cell_type": "markdown",
   "metadata": {},
   "source": [
    "### Train using RL_Zoo3 \n",
    "We will also be using Weights and Biases to records the run and other experiment details. For thsis we need to login using the wandb api key"
   ]
  },
  {
   "cell_type": "code",
   "execution_count": 30,
   "metadata": {},
   "outputs": [
    {
     "name": "stderr",
     "output_type": "stream",
     "text": [
      "\u001b[34m\u001b[1mwandb\u001b[0m: Currently logged in as: \u001b[33mnsanghi\u001b[0m. Use \u001b[1m`wandb login --relogin`\u001b[0m to force relogin\n"
     ]
    },
    {
     "data": {
      "text/plain": [
       "True"
      ]
     },
     "execution_count": 30,
     "metadata": {},
     "output_type": "execute_result"
    }
   ],
   "source": [
    "import wandb\n",
    "wandb.login()"
   ]
  },
  {
   "cell_type": "markdown",
   "metadata": {},
   "source": [
    "#### Train agent"
   ]
  },
  {
   "cell_type": "code",
   "execution_count": 56,
   "metadata": {},
   "outputs": [
    {
     "name": "stdout",
     "output_type": "stream",
     "text": [
      "2023-10-26 14:51:32.344755: I tensorflow/core/util/port.cc:111] oneDNN custom operations are on. You may see slightly different numerical results due to floating-point round-off errors from different computation orders. To turn them off, set the environment variable `TF_ENABLE_ONEDNN_OPTS=0`.\n",
      "2023-10-26 14:51:32.379211: E tensorflow/compiler/xla/stream_executor/cuda/cuda_dnn.cc:9342] Unable to register cuDNN factory: Attempting to register factory for plugin cuDNN when one has already been registered\n",
      "2023-10-26 14:51:32.379292: E tensorflow/compiler/xla/stream_executor/cuda/cuda_fft.cc:609] Unable to register cuFFT factory: Attempting to register factory for plugin cuFFT when one has already been registered\n",
      "2023-10-26 14:51:32.379315: E tensorflow/compiler/xla/stream_executor/cuda/cuda_blas.cc:1518] Unable to register cuBLAS factory: Attempting to register factory for plugin cuBLAS when one has already been registered\n",
      "2023-10-26 14:51:32.385735: I tensorflow/core/platform/cpu_feature_guard.cc:182] This TensorFlow binary is optimized to use available CPU instructions in performance-critical operations.\n",
      "To enable the following instructions: AVX2 AVX_VNNI FMA, in other operations, rebuild TensorFlow with the appropriate compiler flags.\n",
      "2023-10-26 14:51:33.020096: W tensorflow/compiler/tf2tensorrt/utils/py_utils.cc:38] TF-TRT Warning: Could not find TensorRT\n",
      "========== CartPole-v1 ==========\n",
      "Seed: 4003740759\n",
      "\u001b[34m\u001b[1mwandb\u001b[0m: Currently logged in as: \u001b[33mnsanghi\u001b[0m. Use \u001b[1m`wandb login --relogin`\u001b[0m to force relogin\n",
      "\u001b[34m\u001b[1mwandb\u001b[0m: Tracking run with wandb version 0.15.12\n",
      "\u001b[34m\u001b[1mwandb\u001b[0m: Run data is saved locally in \u001b[35m\u001b[1m/home/nsanghi/sandbox/apress/drl-2ed/chapter6/wandb/run-20231026_145136-b3dptpeg\u001b[0m\n",
      "\u001b[34m\u001b[1mwandb\u001b[0m: Run \u001b[1m`wandb offline`\u001b[0m to turn off syncing.\n",
      "\u001b[34m\u001b[1mwandb\u001b[0m: Syncing run \u001b[33mCartPole-v1__dqn__4003740759__1698312095\u001b[0m\n",
      "\u001b[34m\u001b[1mwandb\u001b[0m: ⭐️ View project at \u001b[34m\u001b[4mhttps://wandb.ai/nsanghi/dqn-cartpole\u001b[0m\n",
      "\u001b[34m\u001b[1mwandb\u001b[0m: 🚀 View run at \u001b[34m\u001b[4mhttps://wandb.ai/nsanghi/dqn-cartpole/runs/b3dptpeg\u001b[0m\n",
      "Loading hyperparameters from: /home/nsanghi/sandbox/apress/drl-2ed/venv/lib/python3.10/site-packages/rl_zoo3/hyperparams/dqn.yml\n",
      "Default hyperparameters for environment (ones being tuned will be overridden):\n",
      "OrderedDict([('batch_size', 64),\n",
      "             ('buffer_size', 100000),\n",
      "             ('exploration_final_eps', 0.04),\n",
      "             ('exploration_fraction', 0.16),\n",
      "             ('gamma', 0.99),\n",
      "             ('gradient_steps', 128),\n",
      "             ('learning_rate', 0.0023),\n",
      "             ('learning_starts', 1000),\n",
      "             ('n_timesteps', 50000.0),\n",
      "             ('policy', 'MlpPolicy'),\n",
      "             ('policy_kwargs', 'dict(net_arch=[256, 256])'),\n",
      "             ('target_update_interval', 10),\n",
      "             ('train_freq', 256)])\n",
      "Using 1 environments\n",
      "Creating test environment\n",
      "Using cpu device\n",
      "Log path: logs/6_a/rlzoo3//dqn/CartPole-v1_1\n",
      "Logging to runs/CartPole-v1__dqn__4003740759__1698312095/CartPole-v1/DQN_1\n",
      "\u001b[2KEval num_timesteps=10000, episode_reward=118.20 +/- 1.54━━━━━━━━━\u001b[0m \u001b[32m9,985/50,000 \u001b[0m [ \u001b[33m0:00:29\u001b[0m < \u001b[36m0:02:11\u001b[0m , \u001b[31m306 it/s\u001b[0m ]\n",
      "\u001b[2KEpisode length: 118.20 +/- 1.54\u001b[0m\u001b[90m━━━━━━━━━━━━━━━━━━━━━\u001b[0m \u001b[32m9,985/50,000 \u001b[0m [ \u001b[33m0:00:29\u001b[0m < \u001b[36m0:02:11\u001b[0m , \u001b[31m306 it/s\u001b[0m ]\n",
      "\u001b[2K----------------------------------m\u001b[90m━━━━━━━━━━━━━━━━━━━━━\u001b[0m \u001b[32m9,985/50,000 \u001b[0m [ \u001b[33m0:00:29\u001b[0m < \u001b[36m0:02:11\u001b[0m , \u001b[31m306 it/s\u001b[0m ]\n",
      "| eval/               |          |\n",
      "|    mean_ep_length   | 118      |\n",
      "|    mean_reward      | 118      |\n",
      "| rollout/            |          |\n",
      "|    exploration_rate | 0.04     |\n",
      "| time/               |          |\n",
      "|    total_timesteps  | 10000    |\n",
      "| train/              |          |\n",
      "|    learning_rate    | 0.0023   |\n",
      "|    loss             | 0.288    |\n",
      "|    n_updates        | 4608     |\n",
      "----------------------------------\n",
      "\u001b[2KNew best mean reward!\u001b[0m\u001b[90m╺\u001b[0m\u001b[90m━━━━━━━━━━━━━━━━━━━━━\u001b[0m \u001b[32m9,985/50,000 \u001b[0m [ \u001b[33m0:00:29\u001b[0m < \u001b[36m0:02:11\u001b[0m , \u001b[31m306 it/s\u001b[0m ]\n",
      "\u001b[2KEval num_timesteps=20000, episode_reward=215.30 +/- 65.00━━━━━━━\u001b[0m \u001b[32m19,903/50,000 \u001b[0m [ \u001b[33m0:00:57\u001b[0m < \u001b[36m0:01:19\u001b[0m , \u001b[31m383 it/s\u001b[0m ]\n",
      "\u001b[2KEpisode length: 215.30 +/- 65.0090m╺\u001b[0m\u001b[90m━━━━━━━━━━━━━━━\u001b[0m \u001b[32m19,903/50,000 \u001b[0m [ \u001b[33m0:00:57\u001b[0m < \u001b[36m0:01:19\u001b[0m , \u001b[31m383 it/s\u001b[0m ]\n",
      "\u001b[2K----------------------------------m╺\u001b[0m\u001b[90m━━━━━━━━━━━━━━━\u001b[0m \u001b[32m19,903/50,000 \u001b[0m [ \u001b[33m0:00:57\u001b[0m < \u001b[36m0:01:19\u001b[0m , \u001b[31m383 it/s\u001b[0m ]\n",
      "| eval/               |          |\n",
      "|    mean_ep_length   | 215      |\n",
      "|    mean_reward      | 215      |\n",
      "| rollout/            |          |\n",
      "|    exploration_rate | 0.04     |\n",
      "| time/               |          |\n",
      "|    total_timesteps  | 20000    |\n",
      "| train/              |          |\n",
      "|    learning_rate    | 0.0023   |\n",
      "|    loss             | 0.352    |\n",
      "|    n_updates        | 9600     |\n",
      "----------------------------------\n",
      "\u001b[2KNew best mean reward!━━━━━\u001b[0m\u001b[90m╺\u001b[0m\u001b[90m━━━━━━━━━━━━━━━\u001b[0m \u001b[32m19,903/50,000 \u001b[0m [ \u001b[33m0:00:57\u001b[0m < \u001b[36m0:01:19\u001b[0m , \u001b[31m383 it/s\u001b[0m ]\n",
      "\u001b[2KEval num_timesteps=30000, episode_reward=171.00 +/- 7.10━━━━━━━━\u001b[0m \u001b[32m29,911/50,000 \u001b[0m [ \u001b[33m0:01:33\u001b[0m < \u001b[36m0:01:14\u001b[0m , \u001b[31m273 it/s\u001b[0m ]\n",
      "\u001b[2KEpisode length: 171.00 +/- 7.10\u001b[0m\u001b[91m╸\u001b[0m\u001b[90m━━━━━━━━━━\u001b[0m \u001b[32m29,911/50,000 \u001b[0m [ \u001b[33m0:01:33\u001b[0m < \u001b[36m0:01:14\u001b[0m , \u001b[31m273 it/s\u001b[0m ]\n",
      "\u001b[2K----------------------------------m\u001b[91m╸\u001b[0m\u001b[90m━━━━━━━━━━\u001b[0m \u001b[32m29,911/50,000 \u001b[0m [ \u001b[33m0:01:33\u001b[0m < \u001b[36m0:01:14\u001b[0m , \u001b[31m273 it/s\u001b[0m ]\n",
      "| eval/               |          |\n",
      "|    mean_ep_length   | 171      |\n",
      "|    mean_reward      | 171      |\n",
      "| rollout/            |          |\n",
      "|    exploration_rate | 0.04     |\n",
      "| time/               |          |\n",
      "|    total_timesteps  | 30000    |\n",
      "| train/              |          |\n",
      "|    learning_rate    | 0.0023   |\n",
      "|    loss             | 0.222    |\n",
      "|    n_updates        | 14592    |\n",
      "----------------------------------\n",
      "\u001b[2K----------------------------------━━━━\u001b[0m\u001b[90m╺\u001b[0m\u001b[90m━━━━━━━\u001b[0m \u001b[32m35,384/50,000 \u001b[0m [ \u001b[33m0:01:53\u001b[0m < \u001b[36m0:00:54\u001b[0m , \u001b[31m273 it/s\u001b[0m ]\n",
      "| rollout/            |          |\n",
      "|    ep_len_mean      | 185      |\n",
      "|    ep_rew_mean      | 185      |\n",
      "|    exploration_rate | 0.04     |\n",
      "| time/               |          |\n",
      "|    episodes         | 400      |\n",
      "|    fps              | 313      |\n",
      "|    time_elapsed     | 113      |\n",
      "|    total_timesteps  | 35677    |\n",
      "| train/              |          |\n",
      "|    learning_rate    | 0.0023   |\n",
      "|    loss             | 0.31     |\n",
      "|    n_updates        | 17408    |\n",
      "----------------------------------\n",
      "\u001b[2KEval num_timesteps=40000, episode_reward=500.00 +/- 0.0090m━━━━━\u001b[0m \u001b[32m39,937/50,000 \u001b[0m [ \u001b[33m0:02:11\u001b[0m < \u001b[36m0:00:41\u001b[0m , \u001b[31m249 it/s\u001b[0m ]\n",
      "\u001b[2KEpisode length: 500.00 +/- 0.00━━━━━\u001b[0m\u001b[91m╸\u001b[0m\u001b[90m━━━━━\u001b[0m \u001b[32m39,937/50,000 \u001b[0m [ \u001b[33m0:02:11\u001b[0m < \u001b[36m0:00:41\u001b[0m , \u001b[31m249 it/s\u001b[0m ]\n",
      "\u001b[2K----------------------------------━━\u001b[0m\u001b[91m╸\u001b[0m\u001b[90m━━━━━\u001b[0m \u001b[32m39,937/50,000 \u001b[0m [ \u001b[33m0:02:11\u001b[0m < \u001b[36m0:00:41\u001b[0m , \u001b[31m249 it/s\u001b[0m ]\n",
      "| eval/               |          |\n",
      "|    mean_ep_length   | 500      |\n",
      "|    mean_reward      | 500      |\n",
      "| rollout/            |          |\n",
      "|    exploration_rate | 0.04     |\n",
      "| time/               |          |\n",
      "|    total_timesteps  | 40000    |\n",
      "| train/              |          |\n",
      "|    learning_rate    | 0.0023   |\n",
      "|    loss             | 0.21     |\n",
      "|    n_updates        | 19584    |\n",
      "----------------------------------\n",
      "\u001b[2KNew best mean reward!━━━━━━━━━━━━━━━\u001b[0m\u001b[91m╸\u001b[0m\u001b[90m━━━━━\u001b[0m \u001b[32m39,937/50,000 \u001b[0m [ \u001b[33m0:02:11\u001b[0m < \u001b[36m0:00:41\u001b[0m , \u001b[31m249 it/s\u001b[0m ]\n",
      "\u001b[2KEval num_timesteps=50000, episode_reward=500.00 +/- 0.00[0m \u001b[32m49,981/50,000 \u001b[0m [ \u001b[33m0:02:48\u001b[0m < \u001b[36m0:00:01\u001b[0m , \u001b[31m278 it/s\u001b[0m ]t/s\u001b[0m ]\n",
      "\u001b[2KEpisode length: 500.00 +/- 0.00━━━━━━━━━━\u001b[0m\u001b[91m╸\u001b[0m \u001b[32m49,981/50,000 \u001b[0m [ \u001b[33m0:02:48\u001b[0m < \u001b[36m0:00:01\u001b[0m , \u001b[31m278 it/s\u001b[0m ]\n",
      "\u001b[2K----------------------------------━━━━━━━\u001b[0m\u001b[91m╸\u001b[0m \u001b[32m49,981/50,000 \u001b[0m [ \u001b[33m0:02:48\u001b[0m < \u001b[36m0:00:01\u001b[0m , \u001b[31m278 it/s\u001b[0m ]\n",
      "| eval/               |          |\n",
      "|    mean_ep_length   | 500      |\n",
      "|    mean_reward      | 500      |\n",
      "| rollout/            |          |\n",
      "|    exploration_rate | 0.04     |\n",
      "| time/               |          |\n",
      "|    total_timesteps  | 50000    |\n",
      "| train/              |          |\n",
      "|    learning_rate    | 0.0023   |\n",
      "|    loss             | 0.263    |\n",
      "|    n_updates        | 24576    |\n",
      "----------------------------------\n",
      "\u001b[2K\u001b[35m 100%\u001b[0m \u001b[90m━━━━━━━━━━━━━━━━━━━━━━━━━━\u001b[0m \u001b[32m50,176/50,000 \u001b[0m [ \u001b[33m0:02:48\u001b[0m < \u001b[36m0:00:00\u001b[0m , \u001b[31m248 it/s\u001b[0m ][0m ]\n",
      "\u001b[?25hSaving to logs/6_a/rlzoo3//dqn/CartPole-v1_1\n"
     ]
    }
   ],
   "source": [
    "!python -m rl_zoo3.train --algo dqn --env CartPole-v1 --save-freq 10000 \\\n",
    "--eval-freq 10000 --eval-episodes 10 --log-interval 400 --progress \\\n",
    "--track --wandb-project-name dqn-cartpole -f logs/6_a/rlzoo3/ "
   ]
  },
  {
   "cell_type": "markdown",
   "metadata": {},
   "source": [
    "#### Evaluate Trained agent\n",
    "Print the performance of the trained agent"
   ]
  },
  {
   "cell_type": "code",
   "execution_count": 57,
   "metadata": {},
   "outputs": [
    {
     "name": "stdout",
     "output_type": "stream",
     "text": [
      "2023-10-26 14:54:31.811450: I tensorflow/core/util/port.cc:111] oneDNN custom operations are on. You may see slightly different numerical results due to floating-point round-off errors from different computation orders. To turn them off, set the environment variable `TF_ENABLE_ONEDNN_OPTS=0`.\n",
      "2023-10-26 14:54:31.843949: E tensorflow/compiler/xla/stream_executor/cuda/cuda_dnn.cc:9342] Unable to register cuDNN factory: Attempting to register factory for plugin cuDNN when one has already been registered\n",
      "2023-10-26 14:54:31.844011: E tensorflow/compiler/xla/stream_executor/cuda/cuda_fft.cc:609] Unable to register cuFFT factory: Attempting to register factory for plugin cuFFT when one has already been registered\n",
      "2023-10-26 14:54:31.844032: E tensorflow/compiler/xla/stream_executor/cuda/cuda_blas.cc:1518] Unable to register cuBLAS factory: Attempting to register factory for plugin cuBLAS when one has already been registered\n",
      "2023-10-26 14:54:31.849839: I tensorflow/core/platform/cpu_feature_guard.cc:182] This TensorFlow binary is optimized to use available CPU instructions in performance-critical operations.\n",
      "To enable the following instructions: AVX2 AVX_VNNI FMA, in other operations, rebuild TensorFlow with the appropriate compiler flags.\n",
      "2023-10-26 14:54:32.839593: W tensorflow/compiler/tf2tensorrt/utils/py_utils.cc:38] TF-TRT Warning: Could not find TensorRT\n",
      "Loading latest experiment, id=1\n",
      "Loading logs/6_a/rlzoo3/dqn/CartPole-v1_1/CartPole-v1.zip\n",
      "Episode Reward: 500.00\n",
      "Episode Length 500\n",
      "Episode Reward: 500.00\n",
      "Episode Length 500\n",
      "Episode Reward: 500.00\n",
      "Episode Length 500\n",
      "Episode Reward: 500.00\n",
      "Episode Length 500\n",
      "Episode Reward: 500.00\n",
      "Episode Length 500\n",
      "Episode Reward: 500.00\n",
      "Episode Length 500\n",
      "Episode Reward: 500.00\n",
      "Episode Length 500\n",
      "Episode Reward: 500.00\n",
      "Episode Length 500\n",
      "Episode Reward: 500.00\n",
      "Episode Length 500\n",
      "Episode Reward: 500.00\n",
      "Episode Length 500\n",
      "10 Episodes\n",
      "Mean reward: 500.00 +/- 0.00\n",
      "Mean episode length: 500.00 +/- 0.00\n"
     ]
    }
   ],
   "source": [
    "!python -m rl_zoo3.enjoy --algo dqn --env CartPole-v1 --no-render --n-timesteps 5000 --folder logs/6_a/rlzoo3"
   ]
  },
  {
   "cell_type": "markdown",
   "metadata": {},
   "source": [
    "#### Record a video\n",
    "Let us now record and play a video of a trained agent. We use rl_zoo for generating the video and then use our custom function to play the video"
   ]
  },
  {
   "cell_type": "code",
   "execution_count": 58,
   "metadata": {},
   "outputs": [
    {
     "name": "stdout",
     "output_type": "stream",
     "text": [
      "2023-10-26 14:54:42.525472: I tensorflow/core/util/port.cc:111] oneDNN custom operations are on. You may see slightly different numerical results due to floating-point round-off errors from different computation orders. To turn them off, set the environment variable `TF_ENABLE_ONEDNN_OPTS=0`.\n",
      "2023-10-26 14:54:42.559476: E tensorflow/compiler/xla/stream_executor/cuda/cuda_dnn.cc:9342] Unable to register cuDNN factory: Attempting to register factory for plugin cuDNN when one has already been registered\n",
      "2023-10-26 14:54:42.559544: E tensorflow/compiler/xla/stream_executor/cuda/cuda_fft.cc:609] Unable to register cuFFT factory: Attempting to register factory for plugin cuFFT when one has already been registered\n",
      "2023-10-26 14:54:42.559565: E tensorflow/compiler/xla/stream_executor/cuda/cuda_blas.cc:1518] Unable to register cuBLAS factory: Attempting to register factory for plugin cuBLAS when one has already been registered\n",
      "2023-10-26 14:54:42.565165: I tensorflow/core/platform/cpu_feature_guard.cc:182] This TensorFlow binary is optimized to use available CPU instructions in performance-critical operations.\n",
      "To enable the following instructions: AVX2 AVX_VNNI FMA, in other operations, rebuild TensorFlow with the appropriate compiler flags.\n",
      "2023-10-26 14:54:43.211729: W tensorflow/compiler/tf2tensorrt/utils/py_utils.cc:38] TF-TRT Warning: Could not find TensorRT\n",
      "Loading latest experiment, id=1\n",
      "Loading logs/6_a/rlzoo3/dqn/CartPole-v1_1/CartPole-v1.zip\n",
      "Loading logs/6_a/rlzoo3/dqn/CartPole-v1_1/CartPole-v1.zip\n",
      "Saving video to /home/nsanghi/sandbox/apress/drl-2ed/chapter6/logs/6_a/rlzoo3/dqn/CartPole-v1_1/videos/final-model-dqn-CartPole-v1-step-0-to-step-1000.mp4\n",
      "Moviepy - Building video /home/nsanghi/sandbox/apress/drl-2ed/chapter6/logs/6_a/rlzoo3/dqn/CartPole-v1_1/videos/final-model-dqn-CartPole-v1-step-0-to-step-1000.mp4.\n",
      "Moviepy - Writing video /home/nsanghi/sandbox/apress/drl-2ed/chapter6/logs/6_a/rlzoo3/dqn/CartPole-v1_1/videos/final-model-dqn-CartPole-v1-step-0-to-step-1000.mp4\n",
      "\n",
      "Moviepy - Done !                                                                \n",
      "Moviepy - video ready /home/nsanghi/sandbox/apress/drl-2ed/chapter6/logs/6_a/rlzoo3/dqn/CartPole-v1_1/videos/final-model-dqn-CartPole-v1-step-0-to-step-1000.mp4\n"
     ]
    }
   ],
   "source": [
    "!python -m rl_zoo3.record_video --algo dqn --env CartPole-v1 --exp-id 0 -f logs/6_a/rlzoo3/ -n 1000"
   ]
  },
  {
   "cell_type": "code",
   "execution_count": 59,
   "metadata": {},
   "outputs": [
    {
     "data": {
      "text/html": [
       "\n",
       "        <video width=400 controls>\n",
       "              <source src=\"data:video/mp4;base64,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\" type=\"video/mp4\">\n",
       "        </video>\n",
       "        "
      ],
      "text/plain": [
       "<IPython.core.display.HTML object>"
      ]
     },
     "execution_count": 59,
     "metadata": {},
     "output_type": "execute_result"
    }
   ],
   "source": [
    "video_file_rlzoo = \"logs/6_a/rlzoo3/dqn/CartPole-v1_1/videos/final-model-dqn-CartPole-v1-step-0-to-step-1000.mp4\"\n",
    "play_video(video_file_rlzoo)"
   ]
  },
  {
   "cell_type": "markdown",
   "metadata": {},
   "source": [
    "#### Share on HuggingFace\n",
    "This time we will use the `pust_to_hub` function from `rl_zoo3` to push the trained agent to Huggingface Hub. When you run, the `organization` name has to point to your own huggingface user name.  "
   ]
  },
  {
   "cell_type": "code",
   "execution_count": 60,
   "metadata": {},
   "outputs": [
    {
     "name": "stdout",
     "output_type": "stream",
     "text": [
      "2023-10-26 14:55:09.444665: I tensorflow/core/util/port.cc:111] oneDNN custom operations are on. You may see slightly different numerical results due to floating-point round-off errors from different computation orders. To turn them off, set the environment variable `TF_ENABLE_ONEDNN_OPTS=0`.\n",
      "2023-10-26 14:55:09.476278: E tensorflow/compiler/xla/stream_executor/cuda/cuda_dnn.cc:9342] Unable to register cuDNN factory: Attempting to register factory for plugin cuDNN when one has already been registered\n",
      "2023-10-26 14:55:09.476334: E tensorflow/compiler/xla/stream_executor/cuda/cuda_fft.cc:609] Unable to register cuFFT factory: Attempting to register factory for plugin cuFFT when one has already been registered\n",
      "2023-10-26 14:55:09.476354: E tensorflow/compiler/xla/stream_executor/cuda/cuda_blas.cc:1518] Unable to register cuBLAS factory: Attempting to register factory for plugin cuBLAS when one has already been registered\n",
      "2023-10-26 14:55:09.481832: I tensorflow/core/platform/cpu_feature_guard.cc:182] This TensorFlow binary is optimized to use available CPU instructions in performance-critical operations.\n",
      "To enable the following instructions: AVX2 AVX_VNNI FMA, in other operations, rebuild TensorFlow with the appropriate compiler flags.\n",
      "2023-10-26 14:55:10.097988: W tensorflow/compiler/tf2tensorrt/utils/py_utils.cc:38] TF-TRT Warning: Could not find TensorRT\n",
      "Loading latest experiment, id=1\n",
      "Loading logs/6_a/rlzoo3/dqn/CartPole-v1_1/best_model.zip\n",
      "Uploading to nsanghi/dqn-cart-pole-rlzoo, make sure to have the rights\n",
      "\u001b[38;5;4mℹ This function will save, evaluate, generate a video of your agent,\n",
      "create a model card and push everything to the hub. It might take up to some\n",
      "minutes if video generation is activated. This is a work in progress: if you\n",
      "encounter a bug, please open an issue.\u001b[0m\n",
      "/home/nsanghi/sandbox/apress/drl-2ed/chapter6/hub/dqn-cart-pole-rlzoo is already a clone of https://huggingface.co/nsanghi/dqn-cart-pole-rlzoo. Make sure you pull the latest changes with `repo.git_pull()`.\n",
      "Saving model to: hub/dqn-cart-pole-rlzoo/dqn-CartPole-v1\n",
      "Saving video to /tmp/tmptamj059d/-step-0-to-step-1000.mp4\n",
      "Moviepy - Building video /tmp/tmptamj059d/-step-0-to-step-1000.mp4.\n",
      "Moviepy - Writing video /tmp/tmptamj059d/-step-0-to-step-1000.mp4\n",
      "\n",
      "Moviepy - Done !                                                                \n",
      "Moviepy - video ready /tmp/tmptamj059d/-step-0-to-step-1000.mp4\n",
      "ffmpeg version 4.4.2-0ubuntu0.22.04.1 Copyright (c) 2000-2021 the FFmpeg developers\n",
      "  built with gcc 11 (Ubuntu 11.2.0-19ubuntu1)\n",
      "  configuration: --prefix=/usr --extra-version=0ubuntu0.22.04.1 --toolchain=hardened --libdir=/usr/lib/x86_64-linux-gnu --incdir=/usr/include/x86_64-linux-gnu --arch=amd64 --enable-gpl --disable-stripping --enable-gnutls --enable-ladspa --enable-libaom --enable-libass --enable-libbluray --enable-libbs2b --enable-libcaca --enable-libcdio --enable-libcodec2 --enable-libdav1d --enable-libflite --enable-libfontconfig --enable-libfreetype --enable-libfribidi --enable-libgme --enable-libgsm --enable-libjack --enable-libmp3lame --enable-libmysofa --enable-libopenjpeg --enable-libopenmpt --enable-libopus --enable-libpulse --enable-librabbitmq --enable-librubberband --enable-libshine --enable-libsnappy --enable-libsoxr --enable-libspeex --enable-libsrt --enable-libssh --enable-libtheora --enable-libtwolame --enable-libvidstab --enable-libvorbis --enable-libvpx --enable-libwebp --enable-libx265 --enable-libxml2 --enable-libxvid --enable-libzimg --enable-libzmq --enable-libzvbi --enable-lv2 --enable-omx --enable-openal --enable-opencl --enable-opengl --enable-sdl2 --enable-pocketsphinx --enable-librsvg --enable-libmfx --enable-libdc1394 --enable-libdrm --enable-libiec61883 --enable-chromaprint --enable-frei0r --enable-libx264 --enable-shared\n",
      "  libavutil      56. 70.100 / 56. 70.100\n",
      "  libavcodec     58.134.100 / 58.134.100\n",
      "  libavformat    58. 76.100 / 58. 76.100\n",
      "  libavdevice    58. 13.100 / 58. 13.100\n",
      "  libavfilter     7.110.100 /  7.110.100\n",
      "  libswscale      5.  9.100 /  5.  9.100\n",
      "  libswresample   3.  9.100 /  3.  9.100\n",
      "  libpostproc    55.  9.100 / 55.  9.100\n",
      "Input #0, mov,mp4,m4a,3gp,3g2,mj2, from '/tmp/tmptamj059d/-step-0-to-step-1000.mp4':\n",
      "  Metadata:\n",
      "    major_brand     : isom\n",
      "    minor_version   : 512\n",
      "    compatible_brands: isomiso2avc1mp41\n",
      "    encoder         : Lavf58.29.100\n",
      "  Duration: 00:00:20.02, start: 0.000000, bitrate: 23 kb/s\n",
      "  Stream #0:0(und): Video: h264 (High) (avc1 / 0x31637661), yuv420p, 600x400, 18 kb/s, 50 fps, 50 tbr, 12800 tbn, 100 tbc (default)\n",
      "    Metadata:\n",
      "      handler_name    : VideoHandler\n",
      "      vendor_id       : [0][0][0][0]\n",
      "Stream mapping:\n",
      "  Stream #0:0 -> #0:0 (h264 (native) -> h264 (libx264))\n",
      "Press [q] to stop, [?] for help\n",
      "\u001b[1;36m[libx264 @ 0x55dbe3082340] \u001b[0musing cpu capabilities: MMX2 SSE2Fast SSSE3 SSE4.2 AVX FMA3 BMI2 AVX2\n",
      "\u001b[1;36m[libx264 @ 0x55dbe3082340] \u001b[0mprofile High, level 3.1, 4:2:0, 8-bit\n",
      "\u001b[1;36m[libx264 @ 0x55dbe3082340] \u001b[0m264 - core 163 r3060 5db6aa6 - H.264/MPEG-4 AVC codec - Copyleft 2003-2021 - http://www.videolan.org/x264.html - options: cabac=1 ref=3 deblock=1:0:0 analyse=0x3:0x113 me=hex subme=7 psy=1 psy_rd=1.00:0.00 mixed_ref=1 me_range=16 chroma_me=1 trellis=1 8x8dct=1 cqm=0 deadzone=21,11 fast_pskip=1 chroma_qp_offset=-2 threads=12 lookahead_threads=2 sliced_threads=0 nr=0 decimate=1 interlaced=0 bluray_compat=0 constrained_intra=0 bframes=3 b_pyramid=2 b_adapt=1 b_bias=0 direct=1 weightb=1 open_gop=0 weightp=2 keyint=250 keyint_min=25 scenecut=40 intra_refresh=0 rc_lookahead=40 rc=crf mbtree=1 crf=23.0 qcomp=0.60 qpmin=0 qpmax=69 qpstep=4 ip_ratio=1.40 aq=1:1.00\n",
      "Output #0, mp4, to 'hub/dqn-cart-pole-rlzoo/replay.mp4':\n",
      "  Metadata:\n",
      "    major_brand     : isom\n",
      "    minor_version   : 512\n",
      "    compatible_brands: isomiso2avc1mp41\n",
      "    encoder         : Lavf58.76.100\n",
      "  Stream #0:0(und): Video: h264 (avc1 / 0x31637661), yuv420p(progressive), 600x400, q=2-31, 50 fps, 12800 tbn (default)\n",
      "    Metadata:\n",
      "      handler_name    : VideoHandler\n",
      "      vendor_id       : [0][0][0][0]\n",
      "      encoder         : Lavc58.134.100 libx264\n",
      "    Side data:\n",
      "      cpb: bitrate max/min/avg: 0/0/0 buffer size: 0 vbv_delay: N/A\n",
      "frame= 1001 fps=704 q=-1.0 Lsize=      57kB time=00:00:19.96 bitrate=  23.3kbits/s speed=  14x    \n",
      "video:44kB audio:0kB subtitle:0kB other streams:0kB global headers:0kB muxing overhead: 28.327335%\n",
      "\u001b[1;36m[libx264 @ 0x55dbe3082340] \u001b[0mframe I:5     Avg QP:10.25  size:   452\n",
      "\u001b[1;36m[libx264 @ 0x55dbe3082340] \u001b[0mframe P:256   Avg QP:15.06  size:    68\n",
      "\u001b[1;36m[libx264 @ 0x55dbe3082340] \u001b[0mframe B:740   Avg QP:16.37  size:    34\n",
      "\u001b[1;36m[libx264 @ 0x55dbe3082340] \u001b[0mconsecutive B-frames:  0.8%  1.4%  1.5% 96.3%\n",
      "\u001b[1;36m[libx264 @ 0x55dbe3082340] \u001b[0mmb I  I16..4: 89.1%  9.2%  1.7%\n",
      "\u001b[1;36m[libx264 @ 0x55dbe3082340] \u001b[0mmb P  I16..4:  0.1%  0.0%  0.0%  P16..4:  1.0%  0.2%  0.1%  0.0%  0.0%    skip:98.5%\n",
      "\u001b[1;36m[libx264 @ 0x55dbe3082340] \u001b[0mmb B  I16..4:  0.0%  0.0%  0.0%  B16..8:  1.1%  0.1%  0.0%  direct: 0.0%  skip:98.8%  L0:57.5% L1:41.4% BI: 1.1%\n",
      "\u001b[1;36m[libx264 @ 0x55dbe3082340] \u001b[0m8x8 transform intra:9.8% inter:13.4%\n",
      "\u001b[1;36m[libx264 @ 0x55dbe3082340] \u001b[0mcoded y,uvDC,uvAC intra: 1.7% 2.5% 1.8% inter: 0.0% 0.0% 0.0%\n",
      "\u001b[1;36m[libx264 @ 0x55dbe3082340] \u001b[0mi16 v,h,dc,p: 89%  7%  4%  0%\n",
      "\u001b[1;36m[libx264 @ 0x55dbe3082340] \u001b[0mi8 v,h,dc,ddl,ddr,vr,hd,vl,hu: 43%  5% 51%  0%  0%  0%  0%  0%  0%\n",
      "\u001b[1;36m[libx264 @ 0x55dbe3082340] \u001b[0mi4 v,h,dc,ddl,ddr,vr,hd,vl,hu: 57% 14% 27%  1%  0%  1%  0%  1%  0%\n",
      "\u001b[1;36m[libx264 @ 0x55dbe3082340] \u001b[0mi8c dc,h,v,p: 90%  1%  9%  0%\n",
      "\u001b[1;36m[libx264 @ 0x55dbe3082340] \u001b[0mWeighted P-Frames: Y:0.0% UV:0.0%\n",
      "\u001b[1;36m[libx264 @ 0x55dbe3082340] \u001b[0mref P L0: 51.1%  1.3% 32.9% 14.7%\n",
      "\u001b[1;36m[libx264 @ 0x55dbe3082340] \u001b[0mref B L0: 87.0%  7.7%  5.3%\n",
      "\u001b[1;36m[libx264 @ 0x55dbe3082340] \u001b[0mref B L1: 95.8%  4.2%\n",
      "\u001b[1;36m[libx264 @ 0x55dbe3082340] \u001b[0mkb/s:17.83\n",
      "\u001b[38;5;4mℹ Pushing repo dqn-cart-pole-rlzoo to the Hugging Face Hub\u001b[0m\n",
      "Upload file dqn-CartPole-v1.zip:   3%|▍            | 32.0k/1.06M [00:00<?, ?B/s]\n",
      "Upload file train_eval_metrics.zip: 100%|██████████| 10.2k/10.2k [00:00<?, ?B/s]\u001b[A\n",
      "\n",
      "Upload file replay.mp4:  56%|████████████▍         | 32.0k/56.8k [00:00<?, ?B/s]\u001b[A\u001b[A\n",
      "\n",
      "\n",
      "Upload file dqn-CartPole-v1/policy.pth:   6%|▍      | 32.0k/532k [00:00<?, ?B/s]\u001b[A\u001b[A\u001b[A\n",
      "\n",
      "\n",
      "\n",
      "Upload file dqn-CartPole-v1/policy.optimizer.pth:   6%| | 32.0k/533k [00:00<?, ?\u001b[A\u001b[A\u001b[A\u001b[A\n",
      "\n",
      "\n",
      "Upload file dqn-CartPole-v1/policy.pth:   0%| | 0.00/532k [00:30<04:09, 2.18kB/s\u001b[A\u001b[A\u001b[A\n",
      "\n",
      "\n",
      "\n",
      "Upload file dqn-CartPole-v1/policy.optimizer.pth:   0%| | 0.00/533k [00:30<02:46\u001b[A\u001b[A\u001b[A\u001b[A\n",
      "\n",
      "\n",
      "Upload file dqn-CartPole-v1/policy.pth:   6%| | 32.0k/532k [00:31<02:23, 3.57kB/\u001b[A\u001b[A\u001b[A\n",
      "\n",
      "\n",
      "\n",
      "Upload file dqn-CartPole-v1/policy.optimizer.pth:   6%| | 32.0k/533k [00:32<01:5\u001b[A\u001b[A\u001b[A\u001b[ATo https://huggingface.co/nsanghi/dqn-cart-pole-rlzoo\n",
      "   efdc54f..cdf26f4  main -> main\n",
      "\n",
      "Upload file dqn-CartPole-v1.zip: 100%|█████| 1.06M/1.06M [00:35<00:00, 30.7kB/s]\n",
      "\n",
      "Upload file train_eval_metrics.zip: 100%|██████████| 10.2k/10.2k [00:35<?, ?B/s]\u001b[A\n",
      "Upload file train_eval_metrics.zip: 100%|██████████| 10.2k/10.2k [00:35<?, ?B/s]\u001b[A\n",
      "\n",
      "\n",
      "Upload file replay.mp4: 100%|████████████████| 56.8k/56.8k [00:35<00:00, 724B/s]\u001b[A\u001b[A\n",
      "\n",
      "Upload file replay.mp4: 100%|████████████████| 56.8k/56.8k [00:35<00:00, 724B/s]\u001b[A\u001b[A\n",
      "\n",
      "\n",
      "\n",
      "Upload file dqn-CartPole-v1/policy.pth: 100%|█| 532k/532k [00:35<00:00, 29.2kB/s\u001b[A\u001b[A\u001b[A\n",
      "\n",
      "\n",
      "Upload file dqn-CartPole-v1/policy.pth: 100%|█| 532k/532k [00:35<00:00, 14.6kB/s\u001b[A\u001b[A\u001b[A\n",
      "\n",
      "\n",
      "\n",
      "\n",
      "Upload file dqn-CartPole-v1/policy.optimizer.pth: 100%|█| 533k/533k [00:34<00:00\u001b[A\u001b[A\u001b[A\u001b[A\n",
      "\n",
      "\n",
      "\n",
      "Upload file dqn-CartPole-v1/policy.optimizer.pth: 100%|█| 533k/533k [00:34<00:00\u001b[A\u001b[A\u001b[A\u001b[A\n",
      "\u001b[38;5;4mℹ Your model is pushed to the hub. You can view your model here:\n",
      "https://huggingface.co/nsanghi/dqn-cart-pole-rlzoo\u001b[0m\n"
     ]
    }
   ],
   "source": [
    "!python -m rl_zoo3.push_to_hub --algo dqn --env CartPole-v1 --exp-id 0 \\\n",
    "--folder logs/6_a/rlzoo3 --n-timesteps 1000 --verbose 1 --load-best  \\\n",
    "--organization nsanghi --repo-name dqn-cart-pole-rlzoo -m \"Push to Hub\""
   ]
  },
  {
   "cell_type": "markdown",
   "metadata": {},
   "source": [
    "#### HyperParameter Optimization\n",
    "In case you want to further optimize the hyperparameters of the model, you can run something like this. It uses the values as defined in [`hyperparams_opt.py`](https://github.com/DLR-RM/rl-baselines3-zoo/blob/master/rl_zoo3/hyperparams_opt.py#L386) to carry out search over a wide range of hyperparameters using [Optuna](https://optuna.org/). You can follow these links and rl_zoo3 documentation for more details.\n",
    "\n",
    "Do not run the below cell unless you have a GPU and even then it will take substantial time. with `max-totl-trials=25` it takes about an hour on a cpu. This number needs to be increased to 100-300 for a decent search of the parameter space."
   ]
  },
  {
   "cell_type": "code",
   "execution_count": null,
   "metadata": {},
   "outputs": [],
   "source": [
    "# !python -m rl_zoo3.train --algo dqn --env CartPole-v1 --save-freq 10000 \\\n",
    "# --eval-episodes 10 --log-interval 100 --progress --track \\\n",
    "# --wandb-project-name dqn-cartpole \\\n",
    "# --optimization-log-path logs/optimization/ --log-folder logs --optimize-hyperparameters --n-jobs 2 \\\n",
    "# --study-name dqn-test --max-total-trials 25 "
   ]
  },
  {
   "cell_type": "markdown",
   "metadata": {},
   "source": [
    "**For doing a parsing of optimization study**\n",
    "\n",
    "Please refer to RL Zoo3 documentation for further details. "
   ]
  },
  {
   "cell_type": "code",
   "execution_count": null,
   "metadata": {},
   "outputs": [],
   "source": [
    "# !python -m rl_z003.plots.parse_study -i ./logs/dqn/report_CartPole-v1_500-trials-50000-tpe-median_1698290229.pkl --print-n-best-trials 10 \\\n",
    "# --save-n-best-hyperparameters 10 --folder ./logs/dqn/6.a/best-params/"
   ]
  },
  {
   "cell_type": "markdown",
   "metadata": {},
   "source": [
    "#### Plotting the charts\n",
    "We need to have multiple training run outputs. So we run it once more"
   ]
  },
  {
   "cell_type": "code",
   "execution_count": 61,
   "metadata": {},
   "outputs": [
    {
     "name": "stdout",
     "output_type": "stream",
     "text": [
      "2023-10-26 14:56:10.463679: I tensorflow/core/util/port.cc:111] oneDNN custom operations are on. You may see slightly different numerical results due to floating-point round-off errors from different computation orders. To turn them off, set the environment variable `TF_ENABLE_ONEDNN_OPTS=0`.\n",
      "2023-10-26 14:56:10.496409: E tensorflow/compiler/xla/stream_executor/cuda/cuda_dnn.cc:9342] Unable to register cuDNN factory: Attempting to register factory for plugin cuDNN when one has already been registered\n",
      "2023-10-26 14:56:10.496476: E tensorflow/compiler/xla/stream_executor/cuda/cuda_fft.cc:609] Unable to register cuFFT factory: Attempting to register factory for plugin cuFFT when one has already been registered\n",
      "2023-10-26 14:56:10.496498: E tensorflow/compiler/xla/stream_executor/cuda/cuda_blas.cc:1518] Unable to register cuBLAS factory: Attempting to register factory for plugin cuBLAS when one has already been registered\n",
      "2023-10-26 14:56:10.502577: I tensorflow/core/platform/cpu_feature_guard.cc:182] This TensorFlow binary is optimized to use available CPU instructions in performance-critical operations.\n",
      "To enable the following instructions: AVX2 AVX_VNNI FMA, in other operations, rebuild TensorFlow with the appropriate compiler flags.\n",
      "2023-10-26 14:56:11.120181: W tensorflow/compiler/tf2tensorrt/utils/py_utils.cc:38] TF-TRT Warning: Could not find TensorRT\n",
      "========== CartPole-v1 ==========\n",
      "Seed: 3796036760\n",
      "\u001b[34m\u001b[1mwandb\u001b[0m: Currently logged in as: \u001b[33mnsanghi\u001b[0m. Use \u001b[1m`wandb login --relogin`\u001b[0m to force relogin\n",
      "\u001b[34m\u001b[1mwandb\u001b[0m: Tracking run with wandb version 0.15.12\n",
      "\u001b[34m\u001b[1mwandb\u001b[0m: Run data is saved locally in \u001b[35m\u001b[1m/home/nsanghi/sandbox/apress/drl-2ed/chapter6/wandb/run-20231026_145614-yhn7mdva\u001b[0m\n",
      "\u001b[34m\u001b[1mwandb\u001b[0m: Run \u001b[1m`wandb offline`\u001b[0m to turn off syncing.\n",
      "\u001b[34m\u001b[1mwandb\u001b[0m: Syncing run \u001b[33mCartPole-v1__dqn__3796036760__1698312373\u001b[0m\n",
      "\u001b[34m\u001b[1mwandb\u001b[0m: ⭐️ View project at \u001b[34m\u001b[4mhttps://wandb.ai/nsanghi/dqn-cartpole\u001b[0m\n",
      "\u001b[34m\u001b[1mwandb\u001b[0m: 🚀 View run at \u001b[34m\u001b[4mhttps://wandb.ai/nsanghi/dqn-cartpole/runs/yhn7mdva\u001b[0m\n",
      "Loading hyperparameters from: /home/nsanghi/sandbox/apress/drl-2ed/venv/lib/python3.10/site-packages/rl_zoo3/hyperparams/dqn.yml\n",
      "Default hyperparameters for environment (ones being tuned will be overridden):\n",
      "OrderedDict([('batch_size', 64),\n",
      "             ('buffer_size', 100000),\n",
      "             ('exploration_final_eps', 0.04),\n",
      "             ('exploration_fraction', 0.16),\n",
      "             ('gamma', 0.99),\n",
      "             ('gradient_steps', 128),\n",
      "             ('learning_rate', 0.0023),\n",
      "             ('learning_starts', 1000),\n",
      "             ('n_timesteps', 50000.0),\n",
      "             ('policy', 'MlpPolicy'),\n",
      "             ('policy_kwargs', 'dict(net_arch=[256, 256])'),\n",
      "             ('target_update_interval', 10),\n",
      "             ('train_freq', 256)])\n",
      "Using 1 environments\n",
      "Creating test environment\n",
      "Using cpu device\n",
      "Log path: logs/6_a/rlzoo3//dqn/CartPole-v1_2\n",
      "Logging to runs/CartPole-v1__dqn__3796036760__1698312373/CartPole-v1/DQN_1\n",
      "\u001b[2KEval num_timesteps=10000, episode_reward=308.90 +/- 125.92━━━━━━━\u001b[0m \u001b[32m9,985/50,000 \u001b[0m [ \u001b[33m0:00:24\u001b[0m < \u001b[36m0:01:43\u001b[0m , \u001b[31m389 it/s\u001b[0m ]\n",
      "\u001b[2KEpisode length: 308.90 +/- 125.920m\u001b[90m━━━━━━━━━━━━━━━━━━━━━\u001b[0m \u001b[32m9,985/50,000 \u001b[0m [ \u001b[33m0:00:24\u001b[0m < \u001b[36m0:01:43\u001b[0m , \u001b[31m389 it/s\u001b[0m ]\n",
      "\u001b[2K----------------------------------m\u001b[90m━━━━━━━━━━━━━━━━━━━━━\u001b[0m \u001b[32m9,985/50,000 \u001b[0m [ \u001b[33m0:00:24\u001b[0m < \u001b[36m0:01:43\u001b[0m , \u001b[31m389 it/s\u001b[0m ]\n",
      "| eval/               |          |\n",
      "|    mean_ep_length   | 309      |\n",
      "|    mean_reward      | 309      |\n",
      "| rollout/            |          |\n",
      "|    exploration_rate | 0.04     |\n",
      "| time/               |          |\n",
      "|    total_timesteps  | 10000    |\n",
      "| train/              |          |\n",
      "|    learning_rate    | 0.0023   |\n",
      "|    loss             | 0.24     |\n",
      "|    n_updates        | 4608     |\n",
      "----------------------------------\n",
      "\u001b[2KNew best mean reward!\u001b[0m\u001b[90m╺\u001b[0m\u001b[90m━━━━━━━━━━━━━━━━━━━━━\u001b[0m \u001b[32m9,985/50,000 \u001b[0m [ \u001b[33m0:00:24\u001b[0m < \u001b[36m0:01:43\u001b[0m , \u001b[31m389 it/s\u001b[0m ]\n",
      "\u001b[2KEval num_timesteps=20000, episode_reward=19.90 +/- 2.55━━━━━━━━━\u001b[0m \u001b[32m19,969/50,000 \u001b[0m [ \u001b[33m0:00:53\u001b[0m < \u001b[36m0:01:30\u001b[0m , \u001b[31m337 it/s\u001b[0m ]\n",
      "\u001b[2KEpisode length: 19.90 +/- 2.55\u001b[90m╺\u001b[0m\u001b[90m━━━━━━━━━━━━━━━\u001b[0m \u001b[32m19,969/50,000 \u001b[0m [ \u001b[33m0:00:53\u001b[0m < \u001b[36m0:01:30\u001b[0m , \u001b[31m337 it/s\u001b[0m ]\n",
      "\u001b[2K----------------------------------m╺\u001b[0m\u001b[90m━━━━━━━━━━━━━━━\u001b[0m \u001b[32m19,969/50,000 \u001b[0m [ \u001b[33m0:00:53\u001b[0m < \u001b[36m0:01:30\u001b[0m , \u001b[31m337 it/s\u001b[0m ]\n",
      "| eval/               |          |\n",
      "|    mean_ep_length   | 19.9     |\n",
      "|    mean_reward      | 19.9     |\n",
      "| rollout/            |          |\n",
      "|    exploration_rate | 0.04     |\n",
      "| time/               |          |\n",
      "|    total_timesteps  | 20000    |\n",
      "| train/              |          |\n",
      "|    learning_rate    | 0.0023   |\n",
      "|    loss             | 0.407    |\n",
      "|    n_updates        | 9600     |\n",
      "----------------------------------\n",
      "\u001b[2KEval num_timesteps=30000, episode_reward=500.00 +/- 0.00━━━━━━━━\u001b[0m \u001b[32m29,951/50,000 \u001b[0m [ \u001b[33m0:01:20\u001b[0m < \u001b[36m0:00:53\u001b[0m , \u001b[31m381 it/s\u001b[0m ]\n",
      "\u001b[2KEpisode length: 500.00 +/- 0.00\u001b[0m\u001b[91m╸\u001b[0m\u001b[90m━━━━━━━━━━\u001b[0m \u001b[32m29,951/50,000 \u001b[0m [ \u001b[33m0:01:20\u001b[0m < \u001b[36m0:00:53\u001b[0m , \u001b[31m381 it/s\u001b[0m ]\n",
      "\u001b[2K----------------------------------m\u001b[91m╸\u001b[0m\u001b[90m━━━━━━━━━━\u001b[0m \u001b[32m29,951/50,000 \u001b[0m [ \u001b[33m0:01:20\u001b[0m < \u001b[36m0:00:53\u001b[0m , \u001b[31m381 it/s\u001b[0m ]\n",
      "| eval/               |          |\n",
      "|    mean_ep_length   | 500      |\n",
      "|    mean_reward      | 500      |\n",
      "| rollout/            |          |\n",
      "|    exploration_rate | 0.04     |\n",
      "| time/               |          |\n",
      "|    total_timesteps  | 30000    |\n",
      "| train/              |          |\n",
      "|    learning_rate    | 0.0023   |\n",
      "|    loss             | 0.377    |\n",
      "|    n_updates        | 14592    |\n",
      "----------------------------------\n",
      "\u001b[2KNew best mean reward!━━━━━━━━━━\u001b[0m\u001b[91m╸\u001b[0m\u001b[90m━━━━━━━━━━\u001b[0m \u001b[32m29,951/50,000 \u001b[0m [ \u001b[33m0:01:20\u001b[0m < \u001b[36m0:00:53\u001b[0m , \u001b[31m381 it/s\u001b[0m ]\n",
      "\u001b[2K----------------------------------━━\u001b[0m\u001b[91m╸\u001b[0m\u001b[90m━━━━━━━━━\u001b[0m \u001b[32m31,830/50,000 \u001b[0m [ \u001b[33m0:01:27\u001b[0m < \u001b[36m0:00:52\u001b[0m , \u001b[31m351 it/s\u001b[0m ]\n",
      "| rollout/            |          |\n",
      "|    ep_len_mean      | 132      |\n",
      "|    ep_rew_mean      | 132      |\n",
      "|    exploration_rate | 0.04     |\n",
      "| time/               |          |\n",
      "|    episodes         | 400      |\n",
      "|    fps              | 365      |\n",
      "|    time_elapsed     | 87       |\n",
      "|    total_timesteps  | 32040    |\n",
      "| train/              |          |\n",
      "|    learning_rate    | 0.0023   |\n",
      "|    loss             | 0.46     |\n",
      "|    n_updates        | 15616    |\n",
      "----------------------------------\n",
      "\u001b[2KEval num_timesteps=40000, episode_reward=271.30 +/- 21.120m━━━━━\u001b[0m \u001b[32m39,937/50,000 \u001b[0m [ \u001b[33m0:01:52\u001b[0m < \u001b[36m0:00:32\u001b[0m , \u001b[31m316 it/s\u001b[0m ]\n",
      "\u001b[2KEpisode length: 271.30 +/- 21.12━━━━\u001b[0m\u001b[91m╸\u001b[0m\u001b[90m━━━━━\u001b[0m \u001b[32m39,937/50,000 \u001b[0m [ \u001b[33m0:01:52\u001b[0m < \u001b[36m0:00:32\u001b[0m , \u001b[31m316 it/s\u001b[0m ]\n",
      "\u001b[2K----------------------------------━━\u001b[0m\u001b[91m╸\u001b[0m\u001b[90m━━━━━\u001b[0m \u001b[32m39,937/50,000 \u001b[0m [ \u001b[33m0:01:52\u001b[0m < \u001b[36m0:00:32\u001b[0m , \u001b[31m316 it/s\u001b[0m ]\n",
      "| eval/               |          |\n",
      "|    mean_ep_length   | 271      |\n",
      "|    mean_reward      | 271      |\n",
      "| rollout/            |          |\n",
      "|    exploration_rate | 0.04     |\n",
      "| time/               |          |\n",
      "|    total_timesteps  | 40000    |\n",
      "| train/              |          |\n",
      "|    learning_rate    | 0.0023   |\n",
      "|    loss             | 0.414    |\n",
      "|    n_updates        | 19584    |\n",
      "----------------------------------\n",
      "\u001b[2KEval num_timesteps=50000, episode_reward=500.00 +/- 0.00[0m \u001b[32m49,921/50,000 \u001b[0m [ \u001b[33m0:02:23\u001b[0m < \u001b[36m0:00:01\u001b[0m , \u001b[31m338 it/s\u001b[0m ]t/s\u001b[0m ]\n",
      "\u001b[2KEpisode length: 500.00 +/- 0.00━━━━━━━━━━\u001b[0m\u001b[91m╸\u001b[0m \u001b[32m49,921/50,000 \u001b[0m [ \u001b[33m0:02:23\u001b[0m < \u001b[36m0:00:01\u001b[0m , \u001b[31m338 it/s\u001b[0m ]\n",
      "\u001b[2K----------------------------------━━━━━━━\u001b[0m\u001b[91m╸\u001b[0m \u001b[32m49,921/50,000 \u001b[0m [ \u001b[33m0:02:23\u001b[0m < \u001b[36m0:00:01\u001b[0m , \u001b[31m338 it/s\u001b[0m ]\n",
      "| eval/               |          |\n",
      "|    mean_ep_length   | 500      |\n",
      "|    mean_reward      | 500      |\n",
      "| rollout/            |          |\n",
      "|    exploration_rate | 0.04     |\n",
      "| time/               |          |\n",
      "|    total_timesteps  | 50000    |\n",
      "| train/              |          |\n",
      "|    learning_rate    | 0.0023   |\n",
      "|    loss             | 0.46     |\n",
      "|    n_updates        | 24576    |\n",
      "----------------------------------\n",
      "\u001b[2K\u001b[35m 100%\u001b[0m \u001b[90m━━━━━━━━━━━━━━━━━━━━━━━━━━\u001b[0m \u001b[32m50,176/50,000 \u001b[0m [ \u001b[33m0:02:23\u001b[0m < \u001b[36m0:00:00\u001b[0m , \u001b[31m312 it/s\u001b[0m ][0m ]\n",
      "\u001b[?25hSaving to logs/6_a/rlzoo3//dqn/CartPole-v1_2\n"
     ]
    }
   ],
   "source": [
    "!python -m rl_zoo3.train --algo dqn --env CartPole-v1 --save-freq 10000 \\\n",
    "--eval-freq 10000 --eval-episodes 10 --log-interval 400 --progress \\\n",
    "--track --wandb-project-name dqn-cartpole -f logs/6_a/rlzoo3/ "
   ]
  },
  {
   "cell_type": "markdown",
   "metadata": {},
   "source": [
    "#### Prepare the results File\n",
    "Here we have done only two runs and therefore the results will not be anything great. In a real use case you will have multiple runs ans then you will plot the performance charts. You can refer to the code file and documentation for more details"
   ]
  },
  {
   "cell_type": "code",
   "execution_count": 62,
   "metadata": {},
   "outputs": [
    {
     "name": "stdout",
     "output_type": "stream",
     "text": [
      "2023-10-26 14:59:43.468633: I tensorflow/core/util/port.cc:111] oneDNN custom operations are on. You may see slightly different numerical results due to floating-point round-off errors from different computation orders. To turn them off, set the environment variable `TF_ENABLE_ONEDNN_OPTS=0`.\n",
      "2023-10-26 14:59:43.499233: E tensorflow/compiler/xla/stream_executor/cuda/cuda_dnn.cc:9342] Unable to register cuDNN factory: Attempting to register factory for plugin cuDNN when one has already been registered\n",
      "2023-10-26 14:59:43.499301: E tensorflow/compiler/xla/stream_executor/cuda/cuda_fft.cc:609] Unable to register cuFFT factory: Attempting to register factory for plugin cuFFT when one has already been registered\n",
      "2023-10-26 14:59:43.499320: E tensorflow/compiler/xla/stream_executor/cuda/cuda_blas.cc:1518] Unable to register cuBLAS factory: Attempting to register factory for plugin cuBLAS when one has already been registered\n",
      "2023-10-26 14:59:43.504545: I tensorflow/core/platform/cpu_feature_guard.cc:182] This TensorFlow binary is optimized to use available CPU instructions in performance-critical operations.\n",
      "To enable the following instructions: AVX2 AVX_VNNI FMA, in other operations, rebuild TensorFlow with the appropriate compiler flags.\n",
      "2023-10-26 14:59:44.099529: W tensorflow/compiler/tf2tensorrt/utils/py_utils.cc:38] TF-TRT Warning: Could not find TensorRT\n",
      "/usr/lib/python3.10/runpy.py:126: RuntimeWarning: 'rl_zoo3.plots.all_plots' found in sys.modules after import of package 'rl_zoo3.plots', but prior to execution of 'rl_zoo3.plots.all_plots'; this may result in unpredictable behaviour\n",
      "  warn(RuntimeWarning(msg))\n",
      "# results_table\n",
      "|Environments|      DQN       |\n",
      "|------------|----------------|\n",
      "|            |logs/6_a/rlzoo3/|\n",
      "|CartPole-v1 |500 +/- 0       |\n",
      "Saving to logs/6_a/rlzoo3/dqn_results.pkl\n",
      "Figure(640x480)\n"
     ]
    }
   ],
   "source": [
    "!python -m rl_zoo3.plots.all_plots --algo dqn --env CartPole-v1 \\\n",
    "-f logs/6_a/rlzoo3/ -o logs/6_a/rlzoo3/dqn_results"
   ]
  },
  {
   "cell_type": "markdown",
   "metadata": {},
   "source": [
    "#### Plot the results in a svg file\n",
    "Open the svg file after you run the command below. Path of the svg file is given in the command"
   ]
  },
  {
   "cell_type": "code",
   "execution_count": 69,
   "metadata": {},
   "outputs": [
    {
     "name": "stdout",
     "output_type": "stream",
     "text": [
      "2023-10-26 15:09:46.264360: I tensorflow/core/util/port.cc:111] oneDNN custom operations are on. You may see slightly different numerical results due to floating-point round-off errors from different computation orders. To turn them off, set the environment variable `TF_ENABLE_ONEDNN_OPTS=0`.\n",
      "2023-10-26 15:09:46.295540: E tensorflow/compiler/xla/stream_executor/cuda/cuda_dnn.cc:9342] Unable to register cuDNN factory: Attempting to register factory for plugin cuDNN when one has already been registered\n",
      "2023-10-26 15:09:46.295603: E tensorflow/compiler/xla/stream_executor/cuda/cuda_fft.cc:609] Unable to register cuFFT factory: Attempting to register factory for plugin cuFFT when one has already been registered\n",
      "2023-10-26 15:09:46.295623: E tensorflow/compiler/xla/stream_executor/cuda/cuda_blas.cc:1518] Unable to register cuBLAS factory: Attempting to register factory for plugin cuBLAS when one has already been registered\n",
      "2023-10-26 15:09:46.301025: I tensorflow/core/platform/cpu_feature_guard.cc:182] This TensorFlow binary is optimized to use available CPU instructions in performance-critical operations.\n",
      "To enable the following instructions: AVX2 AVX_VNNI FMA, in other operations, rebuild TensorFlow with the appropriate compiler flags.\n",
      "2023-10-26 15:09:46.966702: W tensorflow/compiler/tf2tensorrt/utils/py_utils.cc:38] TF-TRT Warning: Could not find TensorRT\n",
      "/usr/lib/python3.10/runpy.py:126: RuntimeWarning: 'rl_zoo3.plots.plot_from_file' found in sys.modules after import of package 'rl_zoo3.plots', but prior to execution of 'rl_zoo3.plots.plot_from_file'; this may result in unpredictable behaviour\n",
      "  warn(RuntimeWarning(msg))\n",
      "# results_table\n",
      "|Environments|      DQN       |\n",
      "|------------|----------------|\n",
      "|            |logs/6_a/rlzoo3/|\n",
      "|CartPole-v1 |500 +/- 0       |\n",
      "keys: ['DQN-logs/6_a/rlzoo3/']\n",
      "Figure(640x480)\n",
      "Figure(640x480)\n"
     ]
    }
   ],
   "source": [
    "!python -m rl_zoo3.plots.plot_from_file -i logs/6_a/rlzoo3/dqn_results.pkl \\\n",
    "-latex -l DQN --output logs/6_a/rlzoo3/dqn_test_plot.svg"
   ]
  },
  {
   "cell_type": "markdown",
   "metadata": {},
   "source": [
    "#### Rliable plot\n",
    "When you rin this you will see error like:\n",
    "```\n",
    "CartPole-v1 not found for normalizing scores, you should update `env_key_to_env_id`\n",
    "  warnings.warn(f\"{env} not found for normalizing scores, you should update `env_key_to_env_id`\")\n",
    "```\n",
    "To fix this you can refer to the instructions towards the end of the page at [this link](https://rl-baselines3-zoo.readthedocs.io/en/master/guide/plot.html)\n",
    "\n",
    "The provided in its current form is meant for a few PyBullet environments  "
   ]
  },
  {
   "cell_type": "code",
   "execution_count": 76,
   "metadata": {},
   "outputs": [
    {
     "name": "stdout",
     "output_type": "stream",
     "text": [
      "2023-10-26 15:19:42.659313: I tensorflow/core/util/port.cc:111] oneDNN custom operations are on. You may see slightly different numerical results due to floating-point round-off errors from different computation orders. To turn them off, set the environment variable `TF_ENABLE_ONEDNN_OPTS=0`.\n",
      "2023-10-26 15:19:42.695186: E tensorflow/compiler/xla/stream_executor/cuda/cuda_dnn.cc:9342] Unable to register cuDNN factory: Attempting to register factory for plugin cuDNN when one has already been registered\n",
      "2023-10-26 15:19:42.695270: E tensorflow/compiler/xla/stream_executor/cuda/cuda_fft.cc:609] Unable to register cuFFT factory: Attempting to register factory for plugin cuFFT when one has already been registered\n",
      "2023-10-26 15:19:42.695294: E tensorflow/compiler/xla/stream_executor/cuda/cuda_blas.cc:1518] Unable to register cuBLAS factory: Attempting to register factory for plugin cuBLAS when one has already been registered\n",
      "2023-10-26 15:19:42.701812: I tensorflow/core/platform/cpu_feature_guard.cc:182] This TensorFlow binary is optimized to use available CPU instructions in performance-critical operations.\n",
      "To enable the following instructions: AVX2 AVX_VNNI FMA, in other operations, rebuild TensorFlow with the appropriate compiler flags.\n",
      "2023-10-26 15:19:43.374096: W tensorflow/compiler/tf2tensorrt/utils/py_utils.cc:38] TF-TRT Warning: Could not find TensorRT\n",
      "/usr/lib/python3.10/runpy.py:126: RuntimeWarning: 'rl_zoo3.plots.plot_from_file' found in sys.modules after import of package 'rl_zoo3.plots', but prior to execution of 'rl_zoo3.plots.plot_from_file'; this may result in unpredictable behaviour\n",
      "  warn(RuntimeWarning(msg))\n",
      "# results_table\n",
      "|Environments|      DQN       |\n",
      "|------------|----------------|\n",
      "|            |logs/6_a/rlzoo3/|\n",
      "|CartPole-v1 |500 +/- 0       |\n",
      "keys: ['DQN-logs/6_a/rlzoo3/']\n",
      "/home/nsanghi/sandbox/apress/drl-2ed/venv/lib/python3.10/site-packages/rl_zoo3/plots/plot_from_file.py:192: UserWarning: CartPole-v1 not found for normalizing scores, you should update `env_key_to_env_id`\n",
      "  warnings.warn(f\"{env} not found for normalizing scores, you should update `env_key_to_env_id`\")\n",
      "Computing bootstrap CI ...\n",
      "/home/nsanghi/sandbox/apress/drl-2ed/venv/lib/python3.10/site-packages/rl_zoo3/plots/plot_from_file.py:249: UserWarning: Tight layout not applied. The bottom and top margins cannot be made large enough to accommodate all axes decorations.\n",
      "  plt.tight_layout()\n",
      "Figure(640x480)\n",
      "Figure(2000x100)\n",
      "Figure(700x500)\n",
      "Figure(1000x800)\n",
      "Figure(700x500)\n",
      "Figure(640x480)\n",
      "Figure(640x480)\n"
     ]
    }
   ],
   "source": [
    "!python -m rl_zoo3.plots.plot_from_file -i logs/6_a/rlzoo3/dqn_results.pkl \\\n",
    "--rliable --versus --iqm --boxplot \\\n",
    "-latex -l DQN --output logs/6_a/rlzoo3/dqn_test1_plot.svg"
   ]
  },
  {
   "cell_type": "markdown",
   "metadata": {},
   "source": [
    "### Summary\n",
    "\n",
    "In this notebook we saw how to train a DQN agent with experience replay and target networks. We can improve this agent with many tricks. As we go along, we will be implementing many of these variants."
   ]
  }
 ],
 "metadata": {
  "kernelspec": {
   "display_name": "Python 3 (ipykernel)",
   "language": "python",
   "name": "python3"
  },
  "language_info": {
   "codemirror_mode": {
    "name": "ipython",
    "version": 3
   },
   "file_extension": ".py",
   "mimetype": "text/x-python",
   "name": "python",
   "nbconvert_exporter": "python",
   "pygments_lexer": "ipython3",
   "version": "3.10.6"
  }
 },
 "nbformat": 4,
 "nbformat_minor": 4
}
