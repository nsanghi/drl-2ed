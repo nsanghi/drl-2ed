{
 "cells": [
  {
   "cell_type": "markdown",
   "metadata": {},
   "source": [
    "# Introduction to Deep Learning with PyTorch\n",
    "\n",
    "In this notebook, we will go over the basics of Deep Learning using Pytorch. Pytorch is a framework which allows manipulations of tensors using constructs similar to numpy. In addition it has modules to allow auto differentiation to carryout back-propagation which forms the backbone of training a neural network\n",
    "\n",
    "## What are Neural Networks\n",
    "\n",
    "Deep learning is based on Artificial Neural networks which are made up of neurons. A neuron takes inputs, calculates the weighted sum and then passes the sum through some kind of non-linear function (called activation function) as shown below:\n",
    "\n",
    "![Neuron](./images/neuron.png \"Neuron\")\n",
    "\n",
    "<br/>\n",
    "<br/>\n",
    "\n",
    "We stack these neurons to make a neural network as shown below:\n",
    "![Neuron](./images/nn.svg \"Neuron\")\n",
    "\n",
    "Let us now create a neural network in PyTorch. We will use this network to train a model to take MNIST data as input and produce the class it belongs to.\n"
   ]
  },
  {
   "cell_type": "code",
   "execution_count": 1,
   "metadata": {},
   "outputs": [],
   "source": [
    "import numpy as np\n",
    "import torch\n",
    "import torch.nn as nn\n",
    "import torch.nn.functional as F\n",
    "import torch.optim as optim\n",
    "from torchvision import datasets, transforms\n",
    "from torch.optim.lr_scheduler import StepLR\n",
    "import matplotlib.pyplot as plt\n",
    "\n",
    "%matplotlib inline"
   ]
  },
  {
   "cell_type": "markdown",
   "metadata": {},
   "source": [
    "### MNIST \n",
    "\n",
    "MNIST dataset has images 28x28 pixels  = 784 pixels. \n",
    "\n",
    "We will have 10 units at the output layer to signify the digit (0-9) the image belongs to.\n",
    "\n",
    "Let us first load the data and print some images"
   ]
  },
  {
   "cell_type": "code",
   "execution_count": 2,
   "metadata": {},
   "outputs": [
    {
     "name": "stdout",
     "output_type": "stream",
     "text": [
      "Downloading http://yann.lecun.com/exdb/mnist/train-images-idx3-ubyte.gz\n",
      "Downloading http://yann.lecun.com/exdb/mnist/train-images-idx3-ubyte.gz to MNIST_data/MNIST/raw/train-images-idx3-ubyte.gz\n"
     ]
    },
    {
     "name": "stderr",
     "output_type": "stream",
     "text": [
      "100%|█████████████████████████████████████████████████████████████████████| 9912422/9912422 [00:27<00:00, 358731.07it/s]\n"
     ]
    },
    {
     "name": "stdout",
     "output_type": "stream",
     "text": [
      "Extracting MNIST_data/MNIST/raw/train-images-idx3-ubyte.gz to MNIST_data/MNIST/raw\n",
      "\n",
      "Downloading http://yann.lecun.com/exdb/mnist/train-labels-idx1-ubyte.gz\n",
      "Downloading http://yann.lecun.com/exdb/mnist/train-labels-idx1-ubyte.gz to MNIST_data/MNIST/raw/train-labels-idx1-ubyte.gz\n"
     ]
    },
    {
     "name": "stderr",
     "output_type": "stream",
     "text": [
      "100%|███████████████████████████████████████████████████████████████████████| 28881/28881 [00:00<00:00, 10731369.05it/s]"
     ]
    },
    {
     "name": "stdout",
     "output_type": "stream",
     "text": [
      "Extracting MNIST_data/MNIST/raw/train-labels-idx1-ubyte.gz to MNIST_data/MNIST/raw\n",
      "\n",
      "Downloading http://yann.lecun.com/exdb/mnist/t10k-images-idx3-ubyte.gz\n"
     ]
    },
    {
     "name": "stderr",
     "output_type": "stream",
     "text": [
      "\n"
     ]
    },
    {
     "name": "stdout",
     "output_type": "stream",
     "text": [
      "Downloading http://yann.lecun.com/exdb/mnist/t10k-images-idx3-ubyte.gz to MNIST_data/MNIST/raw/t10k-images-idx3-ubyte.gz\n"
     ]
    },
    {
     "name": "stderr",
     "output_type": "stream",
     "text": [
      "100%|█████████████████████████████████████████████████████████████████████| 1648877/1648877 [00:04<00:00, 355053.84it/s]\n"
     ]
    },
    {
     "name": "stdout",
     "output_type": "stream",
     "text": [
      "Extracting MNIST_data/MNIST/raw/t10k-images-idx3-ubyte.gz to MNIST_data/MNIST/raw\n",
      "\n",
      "Downloading http://yann.lecun.com/exdb/mnist/t10k-labels-idx1-ubyte.gz\n",
      "Downloading http://yann.lecun.com/exdb/mnist/t10k-labels-idx1-ubyte.gz to MNIST_data/MNIST/raw/t10k-labels-idx1-ubyte.gz\n"
     ]
    },
    {
     "name": "stderr",
     "output_type": "stream",
     "text": [
      "100%|█████████████████████████████████████████████████████████████████████████| 4542/4542 [00:00<00:00, 14132439.74it/s]"
     ]
    },
    {
     "name": "stdout",
     "output_type": "stream",
     "text": [
      "Extracting MNIST_data/MNIST/raw/t10k-labels-idx1-ubyte.gz to MNIST_data/MNIST/raw\n",
      "\n"
     ]
    },
    {
     "name": "stderr",
     "output_type": "stream",
     "text": [
      "\n"
     ]
    }
   ],
   "source": [
    "# Define a transform to normalize the data\n",
    "transform = transforms.Compose([transforms.ToTensor(),\n",
    "                              transforms.Normalize(0.5, 0.5),\n",
    "                             ])\n",
    "# Download and load the training data\n",
    "trainset = datasets.MNIST('MNIST_data/', download=True, train=True, transform=transform)\n",
    "trainloader = torch.utils.data.DataLoader(trainset, batch_size=128, shuffle=True)\n",
    "\n",
    "# Download and load the test data\n",
    "testset = datasets.MNIST('MNIST_data/', download=True, train=False, transform=transform)\n",
    "testloader = torch.utils.data.DataLoader(testset, batch_size=128, shuffle=True)"
   ]
  },
  {
   "cell_type": "code",
   "execution_count": 4,
   "metadata": {},
   "outputs": [],
   "source": [
    "# let us load a batch of training data and checkout its shape\n",
    "dataiter = iter(trainloader)\n",
    "images, labels = next(dataiter)"
   ]
  },
  {
   "cell_type": "code",
   "execution_count": 5,
   "metadata": {},
   "outputs": [
    {
     "data": {
      "text/plain": [
       "torch.Size([128, 1, 28, 28])"
      ]
     },
     "execution_count": 5,
     "metadata": {},
     "output_type": "execute_result"
    }
   ],
   "source": [
    "images.size()"
   ]
  },
  {
   "cell_type": "markdown",
   "metadata": {},
   "source": [
    "image size of `(32,1,28,28)` means that we have 32 images, with each image of size (1x28x28) (channels x height x width)"
   ]
  },
  {
   "cell_type": "code",
   "execution_count": 6,
   "metadata": {},
   "outputs": [
    {
     "data": {
      "text/plain": [
       "<matplotlib.image.AxesImage at 0x7f26144a86a0>"
      ]
     },
     "execution_count": 6,
     "metadata": {},
     "output_type": "execute_result"
    },
    {
     "data": {
      "image/png": "[encoded data removed]",
      "text/plain": [
       "<Figure size 640x480 with 1 Axes>"
      ]
     },
     "metadata": {},
     "output_type": "display_data"
    }
   ],
   "source": [
    "# Let us plot one image\n",
    "plt.imshow(images[10].numpy().squeeze(), cmap='Greys_r')"
   ]
  },
  {
   "cell_type": "markdown",
   "metadata": {},
   "source": [
    "### Build Network"
   ]
  },
  {
   "cell_type": "code",
   "execution_count": 7,
   "metadata": {},
   "outputs": [
    {
     "data": {
      "text/plain": [
       "NN(\n",
       "  (fc1): Linear(in_features=784, out_features=192, bias=True)\n",
       "  (fc2): Linear(in_features=192, out_features=128, bias=True)\n",
       "  (fc3): Linear(in_features=128, out_features=10, bias=True)\n",
       ")"
      ]
     },
     "execution_count": 7,
     "metadata": {},
     "output_type": "execute_result"
    }
   ],
   "source": [
    "class NN(nn.Module):\n",
    "    def __init__(self):\n",
    "        super().__init__()\n",
    "        self.fc1 = nn.Linear(784, 192)\n",
    "        self.fc2 = nn.Linear(192, 128)\n",
    "        self.fc3 = nn.Linear(128, 10)\n",
    "        \n",
    "    def forward(self, x):\n",
    "        ''' Forward pass through the network, returns the output logits '''        \n",
    "        x = self.fc1(x)\n",
    "        x = F.relu(x)\n",
    "        x = self.fc2(x)\n",
    "        x = F.relu(x)\n",
    "        x = self.fc3(x)\n",
    "        \n",
    "        return x\n",
    "    \n",
    "    def predict(self, x):\n",
    "        ''' To predict classes by calculating the softmax '''\n",
    "        logits = self.forward(x)\n",
    "        return F.softmax(logits, dim=1)\n",
    "\n",
    "model = NN()\n",
    "model"
   ]
  },
  {
   "cell_type": "markdown",
   "metadata": {},
   "source": [
    "### Forward pass and Calculate Cross Entropy Loss"
   ]
  },
  {
   "cell_type": "code",
   "execution_count": 8,
   "metadata": {},
   "outputs": [],
   "source": [
    "# function to view the probability of classification of digit\n",
    "def view_classification(img, probs):\n",
    "    probs = probs.data.numpy().squeeze()\n",
    "    fig, (ax1, ax2) = plt.subplots(figsize=(6,7), ncols=2)\n",
    "    ax1.imshow(img.numpy().squeeze())\n",
    "    ax1.axis('off')\n",
    "    ax2.barh(np.arange(10), probs)\n",
    "    ax2.set_aspect(0.1)\n",
    "    ax2.set_yticks(np.arange(10))\n",
    "    ax2.set_yticklabels(np.arange(10).astype(int), size='large');\n",
    "    ax2.set_title('Probability')\n",
    "    ax2.set_xlim(0, 1.1)\n",
    "    "
   ]
  },
  {
   "cell_type": "code",
   "execution_count": 10,
   "metadata": {},
   "outputs": [
    {
     "data": {
      "image/png": "[encoded data removed]",
      "text/plain": [
       "<Figure size 600x700 with 2 Axes>"
      ]
     },
     "metadata": {},
     "output_type": "display_data"
    }
   ],
   "source": [
    "dataiter = iter(trainloader)\n",
    "images, labels = next(dataiter)\n",
    "images.resize_(128, 784)\n",
    "\n",
    "# Forward pass through the network\n",
    "img_idx = 0\n",
    "logits = model.forward(images)\n",
    "\n",
    "# Predict the class from the network output\n",
    "prediction = F.softmax(logits, dim=1)\n",
    "\n",
    "img = images[0].data\n",
    "view_classification(img.reshape(1, 28, 28), prediction[0])"
   ]
  },
  {
   "cell_type": "code",
   "execution_count": 11,
   "metadata": {},
   "outputs": [
    {
     "data": {
      "text/plain": [
       "Dataset MNIST\n",
       "    Number of datapoints: 60000\n",
       "    Root location: MNIST_data/\n",
       "    Split: Train\n",
       "    StandardTransform\n",
       "Transform: Compose(\n",
       "               ToTensor()\n",
       "               Normalize(mean=0.5, std=0.5)\n",
       "           )"
      ]
     },
     "execution_count": 11,
     "metadata": {},
     "output_type": "execute_result"
    }
   ],
   "source": [
    "trainloader.dataset"
   ]
  },
  {
   "cell_type": "markdown",
   "metadata": {},
   "source": [
    "### Back Propagation\n",
    "We need to now train the network to adjust its weights by first calculating Cross Entropy Loss and then back propagating the error to adjust weights"
   ]
  },
  {
   "cell_type": "code",
   "execution_count": 12,
   "metadata": {},
   "outputs": [],
   "source": [
    "# Create an optimizer to train the network by carrying out back propagation\n",
    "model = NN()\n",
    "optimizer = optim.Adam(model.parameters(), lr=0.001)\n",
    "loss_fn = nn.CrossEntropyLoss()"
   ]
  },
  {
   "cell_type": "code",
   "execution_count": 13,
   "metadata": {},
   "outputs": [
    {
     "name": "stdout",
     "output_type": "stream",
     "text": [
      "Epoch: 1/1 Loss: 2.0813 Test accuracy: 0.5551\n",
      "Epoch: 1/1 Loss: 1.3786 Test accuracy: 0.7554\n",
      "Epoch: 1/1 Loss: 0.9131 Test accuracy: 0.7983\n",
      "Epoch: 1/1 Loss: 0.6753 Test accuracy: 0.8289\n",
      "Epoch: 1/1 Loss: 0.5366 Test accuracy: 0.8488\n",
      "Epoch: 1/1 Loss: 0.4925 Test accuracy: 0.8752\n",
      "Epoch: 1/1 Loss: 0.4639 Test accuracy: 0.8801\n",
      "Epoch: 1/1 Loss: 0.4541 Test accuracy: 0.8820\n",
      "Epoch: 1/1 Loss: 0.4749 Test accuracy: 0.8747\n",
      "Epoch: 1/1 Loss: 0.4425 Test accuracy: 0.8836\n",
      "Epoch: 1/1 Loss: 0.3790 Test accuracy: 0.8923\n",
      "Epoch: 1/1 Loss: 0.4062 Test accuracy: 0.8931\n",
      "Epoch: 1/1 Loss: 0.4082 Test accuracy: 0.8946\n",
      "Epoch: 1/1 Loss: 0.4347 Test accuracy: 0.8961\n",
      "Epoch: 1/1 Loss: 0.3525 Test accuracy: 0.8996\n",
      "Epoch: 1/1 Loss: 0.3392 Test accuracy: 0.8975\n",
      "Epoch: 1/1 Loss: 0.4329 Test accuracy: 0.8942\n",
      "Epoch: 1/1 Loss: 0.3343 Test accuracy: 0.9047\n",
      "Epoch: 1/1 Loss: 0.3213 Test accuracy: 0.9066\n",
      "Epoch: 1/1 Loss: 0.3106 Test accuracy: 0.9104\n",
      "Epoch: 1/1 Loss: 0.3017 Test accuracy: 0.9100\n",
      "Epoch: 1/1 Loss: 0.3440 Test accuracy: 0.9128\n",
      "Epoch: 1/1 Loss: 0.2754 Test accuracy: 0.9121\n",
      "Epoch: 1/1 Loss: 0.2564 Test accuracy: 0.9172\n",
      "Epoch: 1/1 Loss: 0.3250 Test accuracy: 0.9049\n",
      "Epoch: 1/1 Loss: 0.3349 Test accuracy: 0.9168\n",
      "Epoch: 1/1 Loss: 0.3286 Test accuracy: 0.9204\n",
      "Epoch: 1/1 Loss: 0.2686 Test accuracy: 0.9186\n",
      "Epoch: 1/1 Loss: 0.2902 Test accuracy: 0.9173\n",
      "Epoch: 1/1 Loss: 0.2794 Test accuracy: 0.9169\n",
      "Epoch: 1/1 Loss: 0.2815 Test accuracy: 0.9238\n",
      "Epoch: 1/1 Loss: 0.2592 Test accuracy: 0.9231\n",
      "Epoch: 1/1 Loss: 0.3014 Test accuracy: 0.9189\n",
      "Epoch: 1/1 Loss: 0.3307 Test accuracy: 0.9251\n",
      "Epoch: 1/1 Loss: 0.2621 Test accuracy: 0.9208\n",
      "Epoch: 1/1 Loss: 0.2689 Test accuracy: 0.9164\n",
      "Epoch: 1/1 Loss: 0.3315 Test accuracy: 0.9224\n",
      "Epoch: 1/1 Loss: 0.3005 Test accuracy: 0.9241\n",
      "Epoch: 1/1 Loss: 0.2722 Test accuracy: 0.9125\n",
      "Epoch: 1/1 Loss: 0.2624 Test accuracy: 0.9203\n",
      "Epoch: 1/1 Loss: 0.2679 Test accuracy: 0.9235\n",
      "Epoch: 1/1 Loss: 0.2257 Test accuracy: 0.9260\n",
      "Epoch: 1/1 Loss: 0.2882 Test accuracy: 0.9193\n",
      "Epoch: 1/1 Loss: 0.2745 Test accuracy: 0.9321\n",
      "Epoch: 1/1 Loss: 0.2696 Test accuracy: 0.9277\n",
      "Epoch: 1/1 Loss: 0.2370 Test accuracy: 0.9334\n"
     ]
    }
   ],
   "source": [
    "# Train network\n",
    "\n",
    "epochs = 1\n",
    "steps = 0\n",
    "running_loss = 0\n",
    "eval_freq = 10\n",
    "for e in range(epochs):\n",
    "    for images, labels in iter(trainloader):\n",
    "        steps += 1\n",
    "        images.resize_(images.size()[0], 784)\n",
    "\n",
    "        optimizer.zero_grad()\n",
    "        \n",
    "        output = model.forward(images)\n",
    "        loss = loss_fn(output, labels)\n",
    "        loss.backward()\n",
    "        optimizer.step()\n",
    "        \n",
    "        running_loss += loss.item()\n",
    "        \n",
    "        if steps % eval_freq == 0:\n",
    "            # Test accuracy\n",
    "            accuracy = 0\n",
    "            for ii, (images, labels) in enumerate(testloader):\n",
    "                \n",
    "                images = images.resize_(images.size()[0], 784)                \n",
    "                predicted = model.predict(images).data\n",
    "                equality = (labels == predicted.max(1)[1])\n",
    "                accuracy += equality.type_as(torch.FloatTensor()).mean()\n",
    "            \n",
    "            print(\"Epoch: {}/{}\".format(e+1, epochs),\n",
    "                  \"Loss: {:.4f}\".format(running_loss/eval_freq),\n",
    "                  \"Test accuracy: {:.4f}\".format(accuracy/(ii+1)))\n",
    "            running_loss = 0"
   ]
  },
  {
   "cell_type": "code",
   "execution_count": 11,
   "metadata": {},
   "outputs": [
    {
     "data": {
      "image/png": "[encoded data removed]",
      "text/plain": [
       "<Figure size 432x504 with 2 Axes>"
      ]
     },
     "metadata": {
      "needs_background": "light"
     },
     "output_type": "display_data"
    }
   ],
   "source": [
    "\n",
    "logits = model.forward(img[None,])\n",
    "\n",
    "# Predict the class from the network output\n",
    "prediction = F.softmax(logits, dim=1)\n",
    "\n",
    "view_classification(img.reshape(1, 28, 28), prediction[0])"
   ]
  },
  {
   "cell_type": "markdown",
   "metadata": {},
   "source": [
    "We can see that model is able to correctly predict the digit after training while before training it predicting all digits with almost equal probability i.e. it was randomly predicting the digit."
   ]
  }
 ],
 "metadata": {
  "kernelspec": {
   "display_name": "Python 3 (ipykernel)",
   "language": "python",
   "name": "python3"
  },
  "language_info": {
   "codemirror_mode": {
    "name": "ipython",
    "version": 3
   },
   "file_extension": ".py",
   "mimetype": "text/x-python",
   "name": "python",
   "nbconvert_exporter": "python",
   "pygments_lexer": "ipython3",
   "version": "3.10.6"
  }
 },
 "nbformat": 4,
 "nbformat_minor": 4
}
